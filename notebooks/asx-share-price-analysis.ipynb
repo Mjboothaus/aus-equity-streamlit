{
  "cells": [
    {
      "cell_type": "markdown",
      "metadata": {
        "id": "1JiIo-fkpZUY"
      },
      "source": [
        "# ASX Share Price Analysis\n",
        "\n",
        "Prototyping for Streamlit app\n"
      ]
    },
    {
      "cell_type": "markdown",
      "metadata": {
        "id": "MIrS3xUGpg7W"
      },
      "source": [
        "## 1. Setup notebook"
      ]
    },
    {
      "cell_type": "code",
      "execution_count": 37,
      "metadata": {
        "id": "wV5ZgBF0K_Yk"
      },
      "outputs": [
        {
          "name": "stdout",
          "output_type": "stream",
          "text": [
            "created `./.pd_cache/ dir\n"
          ]
        }
      ],
      "source": [
        "import altair as alt      # charting\n",
        "import pandas as pd       # 2-d arrays of data\n",
        "import requests           # making http (web) requests   \n",
        "import json               # working with JSON formatted data\n",
        "from pathlib import Path  # working with files/paths nicely\n",
        "from pandas_cache import pd_cache, timeit"
      ]
    },
    {
      "cell_type": "code",
      "execution_count": 3,
      "metadata": {
        "id": "pOQuwY92qox6"
      },
      "outputs": [],
      "source": [
        "from yahooquery import Ticker\n",
        "\n",
        "# Documentation: https://yahooquery.dpguthrie.com/guide/ticker/historical/\n",
        "\n",
        "import mplfinance as mpf\n",
        "\n",
        "# Documentation: https://github.com/matplotlib/mplfinance"
      ]
    },
    {
      "cell_type": "markdown",
      "metadata": {
        "id": "yA8dVqjjpnGK"
      },
      "source": [
        "## 2. Get and verify data "
      ]
    },
    {
      "cell_type": "markdown",
      "metadata": {
        "id": "AZQj2T-raFyM"
      },
      "source": [
        "We need to establish:\n",
        "* what data we need to solve the problem\n",
        "* where we can source the data from\n",
        "* what (if any) are the terms of use (for each data source)\n",
        "* have we obtained the data correctly (\"reasonableness testing\")"
      ]
    },
    {
      "cell_type": "markdown",
      "metadata": {
        "id": "-uLp042HcQ1o"
      },
      "source": [
        "### What data do we need?\n",
        "\n",
        "A list of companies in the [ASX 200](https://en.wikipedia.org/wiki/S%26P/ASX_200) index and their corresponding symbol (code/ticker); this includes their market capitalisation (i.e. how much they are worth) which defines which companies are in the index. While this can and does change through time, changes to the composition of the index are typically slow.\n",
        "\n",
        "We also what market data and Yahoo Finance seeems to provide this information for free - someone has developed the `yahooquery` package that seems reasonable to use - but we should try and verify this!"
      ]
    },
    {
      "cell_type": "markdown",
      "metadata": {
        "id": "I4lmoHur72Zs"
      },
      "source": [
        "#### ASX 200 - Index composition data\n",
        "\n",
        "This data set provided by the ASX is updated daily (or maybe the day following trading days)."
      ]
    },
    {
      "cell_type": "code",
      "execution_count": 4,
      "metadata": {
        "id": "wcTyTucN138R"
      },
      "outputs": [],
      "source": [
        "ASX_TICKERS_URL = \"https://www.asx.com.au/asx/research/ASXListedCompanies.csv\""
      ]
    },
    {
      "cell_type": "markdown",
      "metadata": {
        "id": "GGC38Egpopik"
      },
      "source": [
        "We can look at the first $n$ lines of the file using the `curl` and `head` commands in Unix (command line). Remember that the `!` character tells the notebook to execute the command \"externally\".\n",
        "\n",
        "_To read about the \"Unix command line\" often also called the shell - see this [Intro to Bash](https://programminghistorian.org/en/lessons/intro-to-bash)._"
      ]
    },
    {
      "cell_type": "code",
      "execution_count": 6,
      "metadata": {
        "colab": {
          "base_uri": "https://localhost:8080/"
        },
        "id": "zE3xtSdDocR2",
        "outputId": "d18e375a-9a0d-41db-fb2f-1d07774b8d09"
      },
      "outputs": [
        {
          "name": "stdout",
          "output_type": "stream",
          "text": [
            "ASX listed companies as at Thu Jul 14 21:31:33 AEST 2022\n",
            "\n",
            "Company name,ASX code,GICS industry group\n",
            "\"MOQ LIMITED\",\"MOQ\",\"Software & Services\"\n",
            "\"1414 DEGREES LIMITED\",\"14D\",\"Capital Goods\"\n",
            "\"1ST GROUP LIMITED\",\"1ST\",\"Health Care Equipment & Services\"\n",
            "\"29METALS LIMITED\",\"29M\",\"Materials\"\n",
            "\"333D LIMITED\",\"T3D\",\"Commercial & Professional Services\"\n",
            "\"360 CAPITAL ENHANCED INCOME FUND\",\"TCF\",\"Not Applic\"\n",
            "\"360 CAPITAL GROUP\",\"TGP\",\"Real Estate\"\n"
          ]
        }
      ],
      "source": [
        "!curl -s \"$ASX_TICKERS_URL\" | head -n 10"
      ]
    },
    {
      "cell_type": "markdown",
      "metadata": {
        "id": "nRAm7yx-pAsl"
      },
      "source": [
        "We can see that this file has a header line i.e. \"ASX listed companies as at...\" so we need to skip this row. We also observe that the fields provided in this file are: `Company name`, three letter `ASX code` and the [`GICS industry group`](https://www.msci.com/our-solutions/indexes/gics) classification."
      ]
    },
    {
      "cell_type": "code",
      "execution_count": 7,
      "metadata": {
        "id": "ytbcOCuV1_V8"
      },
      "outputs": [],
      "source": [
        "asx_tickers_df = pd.read_csv(ASX_TICKERS_URL, skiprows=1)"
      ]
    },
    {
      "cell_type": "code",
      "execution_count": 8,
      "metadata": {
        "colab": {
          "base_uri": "https://localhost:8080/",
          "height": 637
        },
        "id": "-36O1Fch45vr",
        "outputId": "3c293208-acdb-4990-8e7d-59a23f49a23b"
      },
      "outputs": [
        {
          "data": {
            "text/html": [
              "<div>\n",
              "<style scoped>\n",
              "    .dataframe tbody tr th:only-of-type {\n",
              "        vertical-align: middle;\n",
              "    }\n",
              "\n",
              "    .dataframe tbody tr th {\n",
              "        vertical-align: top;\n",
              "    }\n",
              "\n",
              "    .dataframe thead th {\n",
              "        text-align: right;\n",
              "    }\n",
              "</style>\n",
              "<table border=\"1\" class=\"dataframe\">\n",
              "  <thead>\n",
              "    <tr style=\"text-align: right;\">\n",
              "      <th></th>\n",
              "      <th>Company name</th>\n",
              "      <th>ASX code</th>\n",
              "      <th>GICS industry group</th>\n",
              "    </tr>\n",
              "  </thead>\n",
              "  <tbody>\n",
              "    <tr>\n",
              "      <th>0</th>\n",
              "      <td>MOQ LIMITED</td>\n",
              "      <td>MOQ</td>\n",
              "      <td>Software &amp; Services</td>\n",
              "    </tr>\n",
              "    <tr>\n",
              "      <th>1</th>\n",
              "      <td>1414 DEGREES LIMITED</td>\n",
              "      <td>14D</td>\n",
              "      <td>Capital Goods</td>\n",
              "    </tr>\n",
              "    <tr>\n",
              "      <th>2</th>\n",
              "      <td>1ST GROUP LIMITED</td>\n",
              "      <td>1ST</td>\n",
              "      <td>Health Care Equipment &amp; Services</td>\n",
              "    </tr>\n",
              "    <tr>\n",
              "      <th>3</th>\n",
              "      <td>29METALS LIMITED</td>\n",
              "      <td>29M</td>\n",
              "      <td>Materials</td>\n",
              "    </tr>\n",
              "    <tr>\n",
              "      <th>4</th>\n",
              "      <td>333D LIMITED</td>\n",
              "      <td>T3D</td>\n",
              "      <td>Commercial &amp; Professional Services</td>\n",
              "    </tr>\n",
              "    <tr>\n",
              "      <th>...</th>\n",
              "      <td>...</td>\n",
              "      <td>...</td>\n",
              "      <td>...</td>\n",
              "    </tr>\n",
              "    <tr>\n",
              "      <th>2264</th>\n",
              "      <td>ZINC OF IRELAND NL</td>\n",
              "      <td>ZMI</td>\n",
              "      <td>Materials</td>\n",
              "    </tr>\n",
              "    <tr>\n",
              "      <th>2265</th>\n",
              "      <td>ZIP CO LIMITED..</td>\n",
              "      <td>ZIP</td>\n",
              "      <td>Diversified Financials</td>\n",
              "    </tr>\n",
              "    <tr>\n",
              "      <th>2266</th>\n",
              "      <td>ZOOM2U TECHNOLOGIES LIMITED</td>\n",
              "      <td>Z2U</td>\n",
              "      <td>Software &amp; Services</td>\n",
              "    </tr>\n",
              "    <tr>\n",
              "      <th>2267</th>\n",
              "      <td>ZOONO GROUP LIMITED</td>\n",
              "      <td>ZNO</td>\n",
              "      <td>Materials</td>\n",
              "    </tr>\n",
              "    <tr>\n",
              "      <th>2268</th>\n",
              "      <td>ZULEIKA GOLD LIMITED</td>\n",
              "      <td>ZAG</td>\n",
              "      <td>Materials</td>\n",
              "    </tr>\n",
              "  </tbody>\n",
              "</table>\n",
              "<p>2269 rows × 3 columns</p>\n",
              "</div>"
            ],
            "text/plain": [
              "                     Company name ASX code                 GICS industry group\n",
              "0                     MOQ LIMITED      MOQ                 Software & Services\n",
              "1            1414 DEGREES LIMITED      14D                       Capital Goods\n",
              "2               1ST GROUP LIMITED      1ST    Health Care Equipment & Services\n",
              "3                29METALS LIMITED      29M                           Materials\n",
              "4                    333D LIMITED      T3D  Commercial & Professional Services\n",
              "...                           ...      ...                                 ...\n",
              "2264           ZINC OF IRELAND NL      ZMI                           Materials\n",
              "2265             ZIP CO LIMITED..      ZIP              Diversified Financials\n",
              "2266  ZOOM2U TECHNOLOGIES LIMITED      Z2U                 Software & Services\n",
              "2267          ZOONO GROUP LIMITED      ZNO                           Materials\n",
              "2268         ZULEIKA GOLD LIMITED      ZAG                           Materials\n",
              "\n",
              "[2269 rows x 3 columns]"
            ]
          },
          "execution_count": 8,
          "metadata": {},
          "output_type": "execute_result"
        }
      ],
      "source": [
        "asx_tickers_df"
      ]
    },
    {
      "cell_type": "markdown",
      "metadata": {
        "id": "0DN6WWb7fkjE"
      },
      "source": [
        "Let's also look at the end (`tail`) of the file to see that it looks reasonable (i.e. is not obviously corrupt)."
      ]
    },
    {
      "cell_type": "code",
      "execution_count": 9,
      "metadata": {
        "colab": {
          "base_uri": "https://localhost:8080/"
        },
        "id": "lLcE7CU-ffbS",
        "outputId": "89ffb04b-92ac-4db4-fe2b-daf9a6cd2bc5"
      },
      "outputs": [
        {
          "name": "stdout",
          "output_type": "stream",
          "text": [
            "\"ZETA RESOURCES LIMITED\",\"ZER\",\"Not Applic\"\n",
            "\"ZEUS RESOURCES LIMITED\",\"ZEU\",\"Energy\"\n",
            "\"ZICOM GROUP LIMITED\",\"ZGL\",\"Capital Goods\"\n",
            "\"ZIMI LIMITED\",\"ZMM\",\"Technology Hardware & Equipment\"\n",
            "\"ZIMPLATS HOLDINGS LIMITED\",\"ZIM\",\"Materials\"\n",
            "\"ZINC OF IRELAND NL\",\"ZMI\",\"Materials\"\n",
            "\"ZIP CO LIMITED..\",\"ZIP\",\"Diversified Financials\"\n",
            "\"ZOOM2U TECHNOLOGIES LIMITED\",\"Z2U\",\"Software & Services\"\n",
            "\"ZOONO GROUP LIMITED\",\"ZNO\",\"Materials\"\n",
            "\"ZULEIKA GOLD LIMITED\",\"ZAG\",\"Materials\"\n"
          ]
        }
      ],
      "source": [
        "!curl -s \"$ASX_TICKERS_URL\" | tail -n 10"
      ]
    },
    {
      "cell_type": "markdown",
      "metadata": {
        "id": "W60MXOf6ry92"
      },
      "source": [
        "Utility functions\n",
        "\n",
        "We try and create (define) functions that will be useful and get re-used throughout the code to make it more readable.\n",
        "\n",
        "For example, the following function is designed to lookup the full company name from the ASX code."
      ]
    },
    {
      "cell_type": "code",
      "execution_count": 10,
      "metadata": {
        "colab": {
          "base_uri": "https://localhost:8080/"
        },
        "id": "JHSwJlSheqlK",
        "outputId": "4efa1a20-64c8-4030-a047-42472222350e"
      },
      "outputs": [
        {
          "data": {
            "text/plain": [
              "0       MOQ\n",
              "1       14D\n",
              "2       1ST\n",
              "3       29M\n",
              "4       T3D\n",
              "       ... \n",
              "2264    ZMI\n",
              "2265    ZIP\n",
              "2266    Z2U\n",
              "2267    ZNO\n",
              "2268    ZAG\n",
              "Name: ASX code, Length: 2269, dtype: object"
            ]
          },
          "execution_count": 10,
          "metadata": {},
          "output_type": "execute_result"
        }
      ],
      "source": [
        "asx_tickers_df[\"ASX code\"]"
      ]
    },
    {
      "cell_type": "code",
      "execution_count": 22,
      "metadata": {
        "id": "zKG5BtG32i3y"
      },
      "outputs": [],
      "source": [
        "def lookup_company_name_from_code(asx_code):\n",
        "  asx_code = asx_code.replace(\".AX\", \"\")\n",
        "  try:\n",
        "    return asx_tickers_df[asx_tickers_df[\"ASX code\"] == asx_code][\"Company name\"].to_list()[0].title().replace(\".\", \"\")\n",
        "  except Exception:\n",
        "    return \"Code not found\""
      ]
    },
    {
      "cell_type": "code",
      "execution_count": 23,
      "metadata": {
        "id": "Rk6kxnMF28ty"
      },
      "outputs": [],
      "source": [
        "company_name = lookup_company_name_from_code(\"CBA.AX\")"
      ]
    },
    {
      "cell_type": "code",
      "execution_count": 24,
      "metadata": {
        "colab": {
          "base_uri": "https://localhost:8080/",
          "height": 35
        },
        "id": "6smAqkMJ3Rc2",
        "outputId": "d866b148-8160-48f3-c7b6-49340fc66447"
      },
      "outputs": [
        {
          "data": {
            "text/plain": [
              "'Commonwealth Bank Of Australia'"
            ]
          },
          "execution_count": 24,
          "metadata": {},
          "output_type": "execute_result"
        }
      ],
      "source": [
        "company_name"
      ]
    },
    {
      "cell_type": "code",
      "execution_count": 25,
      "metadata": {
        "colab": {
          "base_uri": "https://localhost:8080/",
          "height": 35
        },
        "id": "u6LzxEr-sUif",
        "outputId": "d9c5f566-070b-4946-de01-f996a1e5308f"
      },
      "outputs": [
        {
          "data": {
            "text/plain": [
              "'Insurance Australia Group Limited'"
            ]
          },
          "execution_count": 25,
          "metadata": {},
          "output_type": "execute_result"
        }
      ],
      "source": [
        "lookup_company_name_from_code(\"IAG\")"
      ]
    },
    {
      "cell_type": "code",
      "execution_count": 26,
      "metadata": {},
      "outputs": [
        {
          "data": {
            "text/plain": [
              "'Code not found'"
            ]
          },
          "execution_count": 26,
          "metadata": {},
          "output_type": "execute_result"
        }
      ],
      "source": [
        "lookup_company_name_from_code(\"YYY\")"
      ]
    },
    {
      "cell_type": "markdown",
      "metadata": {
        "id": "9OoJhVWwDOCF"
      },
      "source": [
        "See also: https://asxportfolio.com/shares-python-for-finance-getting-stock-data\n",
        "\n",
        "Example ASX API to get latest data -  e.g. CBA: https://www.asx.com.au/asx/1/share/CBA"
      ]
    },
    {
      "cell_type": "code",
      "execution_count": 27,
      "metadata": {
        "id": "nnMbbJsu7X6E"
      },
      "outputs": [],
      "source": [
        "ASX_DATA_URL = \"https://www.asx.com.au/asx/1/share/\""
      ]
    },
    {
      "cell_type": "markdown",
      "metadata": {
        "id": "54gZAqp6sejr"
      },
      "source": [
        "Here is another utility function that we are defining to get/extract the latest market capitalisation information using the [API](https://www.mulesoft.com/resources/api/what-is-an-api) provided by the ASX. We are also returning the date associated with this information. Note that APIs often return information in particular formats. In this case the returned information is formatted as [JSON](https://www.json.org/json-en.html) and we have to parse it appropriately to get the precise details we are after."
      ]
    },
    {
      "cell_type": "code",
      "execution_count": 29,
      "metadata": {
        "id": "HyDNys6M7fex"
      },
      "outputs": [],
      "source": [
        "def get_market_cap_from_code(asx_code):\n",
        "  asx_code = asx_code.replace(\".AX\", \"\")\n",
        "  r = requests.get(ASX_DATA_URL + asx_code)\n",
        "  data = json.loads(r.text)\n",
        "  try:\n",
        "    return data[\"market_cap\"], data[\"last_trade_date\"]\n",
        "  except Exception:\n",
        "    return None, None"
      ]
    },
    {
      "cell_type": "code",
      "execution_count": 31,
      "metadata": {
        "colab": {
          "base_uri": "https://localhost:8080/"
        },
        "id": "8RZPxVKO7vx4",
        "outputId": "4c71266e-61c2-4667-e57c-ca5865bc5ef9"
      },
      "outputs": [
        {
          "data": {
            "text/plain": [
              "(10747836898, '2022-07-14T00:00:00+1000')"
            ]
          },
          "execution_count": 31,
          "metadata": {},
          "output_type": "execute_result"
        }
      ],
      "source": [
        "get_market_cap_from_code(\"IAG\")"
      ]
    },
    {
      "cell_type": "code",
      "execution_count": 33,
      "metadata": {},
      "outputs": [
        {
          "data": {
            "text/plain": [
              "(None, None)"
            ]
          },
          "execution_count": 33,
          "metadata": {},
          "output_type": "execute_result"
        }
      ],
      "source": [
        "get_market_cap_from_code(\"YYY\")"
      ]
    },
    {
      "cell_type": "code",
      "execution_count": 38,
      "metadata": {
        "colab": {
          "base_uri": "https://localhost:8080/",
          "height": 90,
          "resources": {
            "http://localhost:8080/nbextensions/google.colab/files.js": {
              "data": "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",
              "headers": [
                [
                  "content-type",
                  "application/javascript"
                ]
              ],
              "ok": true,
              "status": 200,
              "status_text": ""
            }
          }
        },
        "id": "bHa7mJx-zTqt",
        "outputId": "94119a11-4629-44a4-b32a-b89a5a115041"
      },
      "outputs": [],
      "source": [
        "@timeit\n",
        "@pd_cache\n",
        "def calculate_market_cap(asx_tickers_df):\n",
        "  asx_tickers_df[\"market_cap\"] = asx_tickers_df[\"ASX code\"].apply(lambda _: get_market_cap_from_code(_)[0])\n",
        "  return asx_tickers_df"
      ]
    },
    {
      "cell_type": "markdown",
      "metadata": {},
      "source": [
        "Cache the tickers file with the market capitalisation information as it takes a few minutes to complete - see `pd_cache` decorator. i.e. tmp directory `.pd_cache` directory."
      ]
    },
    {
      "cell_type": "code",
      "execution_count": 43,
      "metadata": {
        "colab": {
          "base_uri": "https://localhost:8080/",
          "height": 637
        },
        "id": "TdHY0xIxEpHe",
        "outputId": "c9ce989e-ad24-4baf-db91-7ca156825a14"
      },
      "outputs": [
        {
          "name": "stdout",
          "output_type": "stream",
          "text": [
            "\t | read .pd_cache/calculate_market_cap_8eca4e.pkl\n",
            "\t > function calculate_market_cap time: 14.4 ms\n"
          ]
        }
      ],
      "source": [
        "asx_tickers_df = calculate_market_cap(asx_tickers_df)"
      ]
    },
    {
      "cell_type": "code",
      "execution_count": 45,
      "metadata": {
        "id": "sOjWinvgiU51"
      },
      "outputs": [],
      "source": [
        "asx_200_df = asx_tickers_df.sort_values(by='market_cap', ascending=False).reset_index()[0:200]"
      ]
    },
    {
      "cell_type": "code",
      "execution_count": 47,
      "metadata": {
        "colab": {
          "base_uri": "https://localhost:8080/",
          "height": 348
        },
        "id": "wWOv7rDujXa6",
        "outputId": "3e281963-d066-44e2-df88-4b205bb789a7"
      },
      "outputs": [],
      "source": [
        "asx_200_df;"
      ]
    },
    {
      "cell_type": "markdown",
      "metadata": {
        "id": "Z3Rupuec8HBx"
      },
      "source": [
        "#### Historical Market data - Yahoo Finance"
      ]
    },
    {
      "cell_type": "markdown",
      "metadata": {
        "id": "VbOoMr32Oj1D"
      },
      "source": [
        "See `yahooquery` documentation for details - https://yahooquery.dpguthrie.com/"
      ]
    },
    {
      "cell_type": "code",
      "execution_count": 48,
      "metadata": {
        "id": "_iZLHnXkFJ9x"
      },
      "outputs": [],
      "source": [
        "ticker_list = \"CBA.AX WBC.AX IAG.AX\""
      ]
    },
    {
      "cell_type": "code",
      "execution_count": 49,
      "metadata": {
        "id": "NFzUUKyvJ9sz"
      },
      "outputs": [],
      "source": [
        "start_date = \"2021-01-01\"\n",
        "end_date = \"2021-12-31\""
      ]
    },
    {
      "cell_type": "code",
      "execution_count": 50,
      "metadata": {
        "id": "vj8cPh60IwcX"
      },
      "outputs": [],
      "source": [
        "tickers = Ticker(ticker_list)"
      ]
    },
    {
      "cell_type": "code",
      "execution_count": 51,
      "metadata": {
        "id": "gJd4TqAwIzKY"
      },
      "outputs": [],
      "source": [
        "#price_data_df = tickers.history(period='1y', interval='1d')\n",
        "\n",
        "price_data_df = tickers.history(start=start_date, end=end_date)"
      ]
    },
    {
      "cell_type": "code",
      "execution_count": 52,
      "metadata": {
        "colab": {
          "base_uri": "https://localhost:8080/",
          "height": 375
        },
        "id": "UF1Vg8Qlkigk",
        "outputId": "13bd7023-f44a-49ba-b699-8e597d37dc40"
      },
      "outputs": [
        {
          "data": {
            "text/html": [
              "<div>\n",
              "<style scoped>\n",
              "    .dataframe tbody tr th:only-of-type {\n",
              "        vertical-align: middle;\n",
              "    }\n",
              "\n",
              "    .dataframe tbody tr th {\n",
              "        vertical-align: top;\n",
              "    }\n",
              "\n",
              "    .dataframe thead th {\n",
              "        text-align: right;\n",
              "    }\n",
              "</style>\n",
              "<table border=\"1\" class=\"dataframe\">\n",
              "  <thead>\n",
              "    <tr style=\"text-align: right;\">\n",
              "      <th></th>\n",
              "      <th></th>\n",
              "      <th>open</th>\n",
              "      <th>volume</th>\n",
              "      <th>low</th>\n",
              "      <th>high</th>\n",
              "      <th>close</th>\n",
              "      <th>adjclose</th>\n",
              "      <th>dividends</th>\n",
              "    </tr>\n",
              "    <tr>\n",
              "      <th>symbol</th>\n",
              "      <th>date</th>\n",
              "      <th></th>\n",
              "      <th></th>\n",
              "      <th></th>\n",
              "      <th></th>\n",
              "      <th></th>\n",
              "      <th></th>\n",
              "      <th></th>\n",
              "    </tr>\n",
              "  </thead>\n",
              "  <tbody>\n",
              "    <tr>\n",
              "      <th rowspan=\"5\" valign=\"top\">CBA.AX</th>\n",
              "      <th>2021-01-04</th>\n",
              "      <td>82.230003</td>\n",
              "      <td>1414844</td>\n",
              "      <td>82.169998</td>\n",
              "      <td>83.919998</td>\n",
              "      <td>83.750000</td>\n",
              "      <td>79.270065</td>\n",
              "      <td>0.0</td>\n",
              "    </tr>\n",
              "    <tr>\n",
              "      <th>2021-01-05</th>\n",
              "      <td>83.000000</td>\n",
              "      <td>1809541</td>\n",
              "      <td>82.485001</td>\n",
              "      <td>83.260002</td>\n",
              "      <td>83.230003</td>\n",
              "      <td>78.777893</td>\n",
              "      <td>0.0</td>\n",
              "    </tr>\n",
              "    <tr>\n",
              "      <th>2021-01-06</th>\n",
              "      <td>82.690002</td>\n",
              "      <td>2252786</td>\n",
              "      <td>82.279999</td>\n",
              "      <td>83.349998</td>\n",
              "      <td>82.900002</td>\n",
              "      <td>78.465538</td>\n",
              "      <td>0.0</td>\n",
              "    </tr>\n",
              "    <tr>\n",
              "      <th>2021-01-07</th>\n",
              "      <td>84.379997</td>\n",
              "      <td>3011086</td>\n",
              "      <td>83.699997</td>\n",
              "      <td>85.180000</td>\n",
              "      <td>84.580002</td>\n",
              "      <td>80.055672</td>\n",
              "      <td>0.0</td>\n",
              "    </tr>\n",
              "    <tr>\n",
              "      <th>2021-01-08</th>\n",
              "      <td>84.989998</td>\n",
              "      <td>2446079</td>\n",
              "      <td>84.794998</td>\n",
              "      <td>85.629997</td>\n",
              "      <td>85.629997</td>\n",
              "      <td>81.049500</td>\n",
              "      <td>0.0</td>\n",
              "    </tr>\n",
              "    <tr>\n",
              "      <th>...</th>\n",
              "      <th>...</th>\n",
              "      <td>...</td>\n",
              "      <td>...</td>\n",
              "      <td>...</td>\n",
              "      <td>...</td>\n",
              "      <td>...</td>\n",
              "      <td>...</td>\n",
              "      <td>...</td>\n",
              "    </tr>\n",
              "    <tr>\n",
              "      <th rowspan=\"5\" valign=\"top\">IAG.AX</th>\n",
              "      <th>2021-12-22</th>\n",
              "      <td>4.230000</td>\n",
              "      <td>3183974</td>\n",
              "      <td>4.190000</td>\n",
              "      <td>4.240000</td>\n",
              "      <td>4.230000</td>\n",
              "      <td>4.176455</td>\n",
              "      <td>0.0</td>\n",
              "    </tr>\n",
              "    <tr>\n",
              "      <th>2021-12-23</th>\n",
              "      <td>4.240000</td>\n",
              "      <td>2486709</td>\n",
              "      <td>4.210000</td>\n",
              "      <td>4.260000</td>\n",
              "      <td>4.260000</td>\n",
              "      <td>4.206076</td>\n",
              "      <td>0.0</td>\n",
              "    </tr>\n",
              "    <tr>\n",
              "      <th>2021-12-24</th>\n",
              "      <td>4.290000</td>\n",
              "      <td>1706534</td>\n",
              "      <td>4.270000</td>\n",
              "      <td>4.340000</td>\n",
              "      <td>4.270000</td>\n",
              "      <td>4.215950</td>\n",
              "      <td>0.0</td>\n",
              "    </tr>\n",
              "    <tr>\n",
              "      <th>2021-12-29</th>\n",
              "      <td>4.320000</td>\n",
              "      <td>3017851</td>\n",
              "      <td>4.310000</td>\n",
              "      <td>4.360000</td>\n",
              "      <td>4.330000</td>\n",
              "      <td>4.275190</td>\n",
              "      <td>0.0</td>\n",
              "    </tr>\n",
              "    <tr>\n",
              "      <th>2021-12-30</th>\n",
              "      <td>4.350000</td>\n",
              "      <td>2980401</td>\n",
              "      <td>4.300000</td>\n",
              "      <td>4.365000</td>\n",
              "      <td>4.320000</td>\n",
              "      <td>4.265316</td>\n",
              "      <td>0.0</td>\n",
              "    </tr>\n",
              "  </tbody>\n",
              "</table>\n",
              "<p>759 rows × 7 columns</p>\n",
              "</div>"
            ],
            "text/plain": [
              "                        open   volume        low       high      close  \\\n",
              "symbol date                                                              \n",
              "CBA.AX 2021-01-04  82.230003  1414844  82.169998  83.919998  83.750000   \n",
              "       2021-01-05  83.000000  1809541  82.485001  83.260002  83.230003   \n",
              "       2021-01-06  82.690002  2252786  82.279999  83.349998  82.900002   \n",
              "       2021-01-07  84.379997  3011086  83.699997  85.180000  84.580002   \n",
              "       2021-01-08  84.989998  2446079  84.794998  85.629997  85.629997   \n",
              "...                      ...      ...        ...        ...        ...   \n",
              "IAG.AX 2021-12-22   4.230000  3183974   4.190000   4.240000   4.230000   \n",
              "       2021-12-23   4.240000  2486709   4.210000   4.260000   4.260000   \n",
              "       2021-12-24   4.290000  1706534   4.270000   4.340000   4.270000   \n",
              "       2021-12-29   4.320000  3017851   4.310000   4.360000   4.330000   \n",
              "       2021-12-30   4.350000  2980401   4.300000   4.365000   4.320000   \n",
              "\n",
              "                    adjclose  dividends  \n",
              "symbol date                              \n",
              "CBA.AX 2021-01-04  79.270065        0.0  \n",
              "       2021-01-05  78.777893        0.0  \n",
              "       2021-01-06  78.465538        0.0  \n",
              "       2021-01-07  80.055672        0.0  \n",
              "       2021-01-08  81.049500        0.0  \n",
              "...                      ...        ...  \n",
              "IAG.AX 2021-12-22   4.176455        0.0  \n",
              "       2021-12-23   4.206076        0.0  \n",
              "       2021-12-24   4.215950        0.0  \n",
              "       2021-12-29   4.275190        0.0  \n",
              "       2021-12-30   4.265316        0.0  \n",
              "\n",
              "[759 rows x 7 columns]"
            ]
          },
          "execution_count": 52,
          "metadata": {},
          "output_type": "execute_result"
        }
      ],
      "source": [
        "price_data_df"
      ]
    },
    {
      "cell_type": "code",
      "execution_count": 54,
      "metadata": {
        "id": "CwieBXSBx18h"
      },
      "outputs": [],
      "source": [
        "tickers.key_stats;"
      ]
    },
    {
      "cell_type": "code",
      "execution_count": 56,
      "metadata": {
        "id": "C8Fk0ZpzySAW"
      },
      "outputs": [],
      "source": [
        "tickers.summary_detail;"
      ]
    },
    {
      "cell_type": "code",
      "execution_count": 57,
      "metadata": {
        "id": "FKqoeevVwEU_"
      },
      "outputs": [],
      "source": [
        "profile = tickers.asset_profile"
      ]
    },
    {
      "cell_type": "code",
      "execution_count": 58,
      "metadata": {
        "colab": {
          "base_uri": "https://localhost:8080/",
          "height": 35
        },
        "id": "4YrZfA5-xAru",
        "outputId": "7993d080-a67b-4419-df80-f14b6d506d6d"
      },
      "outputs": [
        {
          "data": {
            "text/plain": [
              "'https://www.commbank.com.au'"
            ]
          },
          "execution_count": 58,
          "metadata": {},
          "output_type": "execute_result"
        }
      ],
      "source": [
        "profile['CBA.AX']['website']"
      ]
    },
    {
      "cell_type": "code",
      "execution_count": 59,
      "metadata": {
        "id": "92PPL9ZWxvZf"
      },
      "outputs": [
        {
          "data": {
            "text/plain": [
              "'https://www.westpac.com.au'"
            ]
          },
          "execution_count": 59,
          "metadata": {},
          "output_type": "execute_result"
        }
      ],
      "source": [
        "profile['WBC.AX']['website']"
      ]
    },
    {
      "cell_type": "code",
      "execution_count": 60,
      "metadata": {
        "colab": {
          "base_uri": "https://localhost:8080/"
        },
        "id": "Z3eBgv0FT2lR",
        "outputId": "8a208ecd-bb27-4446-e1ba-e6aaec560f90"
      },
      "outputs": [
        {
          "data": {
            "text/plain": [
              "FrozenList(['symbol', 'date'])"
            ]
          },
          "execution_count": 60,
          "metadata": {},
          "output_type": "execute_result"
        }
      ],
      "source": [
        "price_data_df.index.names"
      ]
    },
    {
      "cell_type": "code",
      "execution_count": 61,
      "metadata": {
        "colab": {
          "base_uri": "https://localhost:8080/",
          "height": 238
        },
        "id": "Qwm8ZZWQI12y",
        "outputId": "030dbe9f-979b-4e08-90b6-f04854b0b735"
      },
      "outputs": [
        {
          "data": {
            "text/html": [
              "<div>\n",
              "<style scoped>\n",
              "    .dataframe tbody tr th:only-of-type {\n",
              "        vertical-align: middle;\n",
              "    }\n",
              "\n",
              "    .dataframe tbody tr th {\n",
              "        vertical-align: top;\n",
              "    }\n",
              "\n",
              "    .dataframe thead th {\n",
              "        text-align: right;\n",
              "    }\n",
              "</style>\n",
              "<table border=\"1\" class=\"dataframe\">\n",
              "  <thead>\n",
              "    <tr style=\"text-align: right;\">\n",
              "      <th></th>\n",
              "      <th></th>\n",
              "      <th>open</th>\n",
              "      <th>volume</th>\n",
              "      <th>low</th>\n",
              "      <th>high</th>\n",
              "      <th>close</th>\n",
              "      <th>adjclose</th>\n",
              "      <th>dividends</th>\n",
              "    </tr>\n",
              "    <tr>\n",
              "      <th>symbol</th>\n",
              "      <th>date</th>\n",
              "      <th></th>\n",
              "      <th></th>\n",
              "      <th></th>\n",
              "      <th></th>\n",
              "      <th></th>\n",
              "      <th></th>\n",
              "      <th></th>\n",
              "    </tr>\n",
              "  </thead>\n",
              "  <tbody>\n",
              "    <tr>\n",
              "      <th rowspan=\"5\" valign=\"top\">CBA.AX</th>\n",
              "      <th>2021-01-04</th>\n",
              "      <td>82.230003</td>\n",
              "      <td>1414844</td>\n",
              "      <td>82.169998</td>\n",
              "      <td>83.919998</td>\n",
              "      <td>83.750000</td>\n",
              "      <td>79.270065</td>\n",
              "      <td>0.0</td>\n",
              "    </tr>\n",
              "    <tr>\n",
              "      <th>2021-01-05</th>\n",
              "      <td>83.000000</td>\n",
              "      <td>1809541</td>\n",
              "      <td>82.485001</td>\n",
              "      <td>83.260002</td>\n",
              "      <td>83.230003</td>\n",
              "      <td>78.777893</td>\n",
              "      <td>0.0</td>\n",
              "    </tr>\n",
              "    <tr>\n",
              "      <th>2021-01-06</th>\n",
              "      <td>82.690002</td>\n",
              "      <td>2252786</td>\n",
              "      <td>82.279999</td>\n",
              "      <td>83.349998</td>\n",
              "      <td>82.900002</td>\n",
              "      <td>78.465538</td>\n",
              "      <td>0.0</td>\n",
              "    </tr>\n",
              "    <tr>\n",
              "      <th>2021-01-07</th>\n",
              "      <td>84.379997</td>\n",
              "      <td>3011086</td>\n",
              "      <td>83.699997</td>\n",
              "      <td>85.180000</td>\n",
              "      <td>84.580002</td>\n",
              "      <td>80.055672</td>\n",
              "      <td>0.0</td>\n",
              "    </tr>\n",
              "    <tr>\n",
              "      <th>2021-01-08</th>\n",
              "      <td>84.989998</td>\n",
              "      <td>2446079</td>\n",
              "      <td>84.794998</td>\n",
              "      <td>85.629997</td>\n",
              "      <td>85.629997</td>\n",
              "      <td>81.049500</td>\n",
              "      <td>0.0</td>\n",
              "    </tr>\n",
              "  </tbody>\n",
              "</table>\n",
              "</div>"
            ],
            "text/plain": [
              "                        open   volume        low       high      close  \\\n",
              "symbol date                                                              \n",
              "CBA.AX 2021-01-04  82.230003  1414844  82.169998  83.919998  83.750000   \n",
              "       2021-01-05  83.000000  1809541  82.485001  83.260002  83.230003   \n",
              "       2021-01-06  82.690002  2252786  82.279999  83.349998  82.900002   \n",
              "       2021-01-07  84.379997  3011086  83.699997  85.180000  84.580002   \n",
              "       2021-01-08  84.989998  2446079  84.794998  85.629997  85.629997   \n",
              "\n",
              "                    adjclose  dividends  \n",
              "symbol date                              \n",
              "CBA.AX 2021-01-04  79.270065        0.0  \n",
              "       2021-01-05  78.777893        0.0  \n",
              "       2021-01-06  78.465538        0.0  \n",
              "       2021-01-07  80.055672        0.0  \n",
              "       2021-01-08  81.049500        0.0  "
            ]
          },
          "execution_count": 61,
          "metadata": {},
          "output_type": "execute_result"
        }
      ],
      "source": [
        "price_data_df.head(5)"
      ]
    },
    {
      "cell_type": "code",
      "execution_count": 62,
      "metadata": {
        "colab": {
          "base_uri": "https://localhost:8080/",
          "height": 262
        },
        "id": "G_jLp0XCJG8p",
        "outputId": "31b0a1f6-95ec-42b7-def9-0bac1b6246a0"
      },
      "outputs": [
        {
          "data": {
            "text/html": [
              "<div>\n",
              "<style scoped>\n",
              "    .dataframe tbody tr th:only-of-type {\n",
              "        vertical-align: middle;\n",
              "    }\n",
              "\n",
              "    .dataframe tbody tr th {\n",
              "        vertical-align: top;\n",
              "    }\n",
              "\n",
              "    .dataframe thead th {\n",
              "        text-align: right;\n",
              "    }\n",
              "</style>\n",
              "<table border=\"1\" class=\"dataframe\">\n",
              "  <thead>\n",
              "    <tr style=\"text-align: right;\">\n",
              "      <th></th>\n",
              "      <th>open</th>\n",
              "      <th>volume</th>\n",
              "      <th>low</th>\n",
              "      <th>high</th>\n",
              "      <th>close</th>\n",
              "      <th>adjclose</th>\n",
              "      <th>dividends</th>\n",
              "    </tr>\n",
              "  </thead>\n",
              "  <tbody>\n",
              "    <tr>\n",
              "      <th>count</th>\n",
              "      <td>759.000000</td>\n",
              "      <td>7.590000e+02</td>\n",
              "      <td>759.000000</td>\n",
              "      <td>759.000000</td>\n",
              "      <td>759.000000</td>\n",
              "      <td>759.000000</td>\n",
              "      <td>759.000000</td>\n",
              "    </tr>\n",
              "    <tr>\n",
              "      <th>mean</th>\n",
              "      <td>41.724717</td>\n",
              "      <td>5.230122e+06</td>\n",
              "      <td>41.421785</td>\n",
              "      <td>42.022655</td>\n",
              "      <td>41.730909</td>\n",
              "      <td>40.258012</td>\n",
              "      <td>0.006430</td>\n",
              "    </tr>\n",
              "    <tr>\n",
              "      <th>std</th>\n",
              "      <td>39.447585</td>\n",
              "      <td>3.578727e+06</td>\n",
              "      <td>39.166958</td>\n",
              "      <td>39.724330</td>\n",
              "      <td>39.465347</td>\n",
              "      <td>38.383175</td>\n",
              "      <td>0.095663</td>\n",
              "    </tr>\n",
              "    <tr>\n",
              "      <th>min</th>\n",
              "      <td>4.220000</td>\n",
              "      <td>8.881680e+05</td>\n",
              "      <td>4.190000</td>\n",
              "      <td>4.240000</td>\n",
              "      <td>4.230000</td>\n",
              "      <td>4.176455</td>\n",
              "      <td>0.000000</td>\n",
              "    </tr>\n",
              "    <tr>\n",
              "      <th>25%</th>\n",
              "      <td>5.095000</td>\n",
              "      <td>2.763256e+06</td>\n",
              "      <td>5.035000</td>\n",
              "      <td>5.150000</td>\n",
              "      <td>5.080000</td>\n",
              "      <td>4.945079</td>\n",
              "      <td>0.000000</td>\n",
              "    </tr>\n",
              "    <tr>\n",
              "      <th>50%</th>\n",
              "      <td>25.030001</td>\n",
              "      <td>4.595204e+06</td>\n",
              "      <td>24.920000</td>\n",
              "      <td>25.190001</td>\n",
              "      <td>25.030001</td>\n",
              "      <td>23.498989</td>\n",
              "      <td>0.000000</td>\n",
              "    </tr>\n",
              "    <tr>\n",
              "      <th>75%</th>\n",
              "      <td>87.750000</td>\n",
              "      <td>6.743284e+06</td>\n",
              "      <td>86.830002</td>\n",
              "      <td>88.005001</td>\n",
              "      <td>87.255001</td>\n",
              "      <td>83.913422</td>\n",
              "      <td>0.000000</td>\n",
              "    </tr>\n",
              "    <tr>\n",
              "      <th>max</th>\n",
              "      <td>110.000000</td>\n",
              "      <td>4.088116e+07</td>\n",
              "      <td>109.269997</td>\n",
              "      <td>110.190002</td>\n",
              "      <td>110.129997</td>\n",
              "      <td>108.192848</td>\n",
              "      <td>2.000000</td>\n",
              "    </tr>\n",
              "  </tbody>\n",
              "</table>\n",
              "</div>"
            ],
            "text/plain": [
              "             open        volume         low        high       close  \\\n",
              "count  759.000000  7.590000e+02  759.000000  759.000000  759.000000   \n",
              "mean    41.724717  5.230122e+06   41.421785   42.022655   41.730909   \n",
              "std     39.447585  3.578727e+06   39.166958   39.724330   39.465347   \n",
              "min      4.220000  8.881680e+05    4.190000    4.240000    4.230000   \n",
              "25%      5.095000  2.763256e+06    5.035000    5.150000    5.080000   \n",
              "50%     25.030001  4.595204e+06   24.920000   25.190001   25.030001   \n",
              "75%     87.750000  6.743284e+06   86.830002   88.005001   87.255001   \n",
              "max    110.000000  4.088116e+07  109.269997  110.190002  110.129997   \n",
              "\n",
              "         adjclose   dividends  \n",
              "count  759.000000  759.000000  \n",
              "mean    40.258012    0.006430  \n",
              "std     38.383175    0.095663  \n",
              "min      4.176455    0.000000  \n",
              "25%      4.945079    0.000000  \n",
              "50%     23.498989    0.000000  \n",
              "75%     83.913422    0.000000  \n",
              "max    108.192848    2.000000  "
            ]
          },
          "execution_count": 62,
          "metadata": {},
          "output_type": "execute_result"
        }
      ],
      "source": [
        "price_data_df.describe()"
      ]
    },
    {
      "cell_type": "code",
      "execution_count": 63,
      "metadata": {
        "id": "mmV-1B1-S95b"
      },
      "outputs": [],
      "source": [
        "price_data_df.reset_index(inplace=True)"
      ]
    },
    {
      "cell_type": "code",
      "execution_count": 64,
      "metadata": {
        "colab": {
          "base_uri": "https://localhost:8080/"
        },
        "id": "x5vOn5gSUHey",
        "outputId": "12b28142-4540-45a1-a2e8-8d183d2c28c9"
      },
      "outputs": [
        {
          "data": {
            "text/plain": [
              "symbol        object\n",
              "date          object\n",
              "open         float64\n",
              "volume         int64\n",
              "low          float64\n",
              "high         float64\n",
              "close        float64\n",
              "adjclose     float64\n",
              "dividends    float64\n",
              "dtype: object"
            ]
          },
          "execution_count": 64,
          "metadata": {},
          "output_type": "execute_result"
        }
      ],
      "source": [
        "price_data_df.dtypes"
      ]
    },
    {
      "cell_type": "code",
      "execution_count": 65,
      "metadata": {
        "colab": {
          "base_uri": "https://localhost:8080/",
          "height": 280
        },
        "id": "zwyNXIg3U97b",
        "outputId": "7d741db5-0280-452c-f3cc-7f60e84a9729"
      },
      "outputs": [
        {
          "data": {
            "text/html": [
              "<div>\n",
              "<style scoped>\n",
              "    .dataframe tbody tr th:only-of-type {\n",
              "        vertical-align: middle;\n",
              "    }\n",
              "\n",
              "    .dataframe tbody tr th {\n",
              "        vertical-align: top;\n",
              "    }\n",
              "\n",
              "    .dataframe thead th {\n",
              "        text-align: right;\n",
              "    }\n",
              "</style>\n",
              "<table border=\"1\" class=\"dataframe\">\n",
              "  <thead>\n",
              "    <tr style=\"text-align: right;\">\n",
              "      <th></th>\n",
              "      <th>symbol</th>\n",
              "      <th>date</th>\n",
              "      <th>open</th>\n",
              "      <th>volume</th>\n",
              "      <th>low</th>\n",
              "      <th>high</th>\n",
              "      <th>close</th>\n",
              "      <th>adjclose</th>\n",
              "      <th>dividends</th>\n",
              "    </tr>\n",
              "  </thead>\n",
              "  <tbody>\n",
              "    <tr>\n",
              "      <th>0</th>\n",
              "      <td>CBA.AX</td>\n",
              "      <td>2021-01-04</td>\n",
              "      <td>82.230003</td>\n",
              "      <td>1414844</td>\n",
              "      <td>82.169998</td>\n",
              "      <td>83.919998</td>\n",
              "      <td>83.750000</td>\n",
              "      <td>79.270065</td>\n",
              "      <td>0.0</td>\n",
              "    </tr>\n",
              "    <tr>\n",
              "      <th>1</th>\n",
              "      <td>CBA.AX</td>\n",
              "      <td>2021-01-05</td>\n",
              "      <td>83.000000</td>\n",
              "      <td>1809541</td>\n",
              "      <td>82.485001</td>\n",
              "      <td>83.260002</td>\n",
              "      <td>83.230003</td>\n",
              "      <td>78.777893</td>\n",
              "      <td>0.0</td>\n",
              "    </tr>\n",
              "    <tr>\n",
              "      <th>2</th>\n",
              "      <td>CBA.AX</td>\n",
              "      <td>2021-01-06</td>\n",
              "      <td>82.690002</td>\n",
              "      <td>2252786</td>\n",
              "      <td>82.279999</td>\n",
              "      <td>83.349998</td>\n",
              "      <td>82.900002</td>\n",
              "      <td>78.465538</td>\n",
              "      <td>0.0</td>\n",
              "    </tr>\n",
              "    <tr>\n",
              "      <th>3</th>\n",
              "      <td>CBA.AX</td>\n",
              "      <td>2021-01-07</td>\n",
              "      <td>84.379997</td>\n",
              "      <td>3011086</td>\n",
              "      <td>83.699997</td>\n",
              "      <td>85.180000</td>\n",
              "      <td>84.580002</td>\n",
              "      <td>80.055672</td>\n",
              "      <td>0.0</td>\n",
              "    </tr>\n",
              "    <tr>\n",
              "      <th>4</th>\n",
              "      <td>CBA.AX</td>\n",
              "      <td>2021-01-08</td>\n",
              "      <td>84.989998</td>\n",
              "      <td>2446079</td>\n",
              "      <td>84.794998</td>\n",
              "      <td>85.629997</td>\n",
              "      <td>85.629997</td>\n",
              "      <td>81.049500</td>\n",
              "      <td>0.0</td>\n",
              "    </tr>\n",
              "  </tbody>\n",
              "</table>\n",
              "</div>"
            ],
            "text/plain": [
              "   symbol        date       open   volume        low       high      close  \\\n",
              "0  CBA.AX  2021-01-04  82.230003  1414844  82.169998  83.919998  83.750000   \n",
              "1  CBA.AX  2021-01-05  83.000000  1809541  82.485001  83.260002  83.230003   \n",
              "2  CBA.AX  2021-01-06  82.690002  2252786  82.279999  83.349998  82.900002   \n",
              "3  CBA.AX  2021-01-07  84.379997  3011086  83.699997  85.180000  84.580002   \n",
              "4  CBA.AX  2021-01-08  84.989998  2446079  84.794998  85.629997  85.629997   \n",
              "\n",
              "    adjclose  dividends  \n",
              "0  79.270065        0.0  \n",
              "1  78.777893        0.0  \n",
              "2  78.465538        0.0  \n",
              "3  80.055672        0.0  \n",
              "4  81.049500        0.0  "
            ]
          },
          "execution_count": 65,
          "metadata": {},
          "output_type": "execute_result"
        }
      ],
      "source": [
        "price_data_df.head()"
      ]
    },
    {
      "cell_type": "code",
      "execution_count": 66,
      "metadata": {
        "colab": {
          "base_uri": "https://localhost:8080/"
        },
        "id": "-9hidbHJYfDQ",
        "outputId": "44fc7759-955e-4a36-c929-be142bd35d61"
      },
      "outputs": [
        {
          "data": {
            "text/plain": [
              "759"
            ]
          },
          "execution_count": 66,
          "metadata": {},
          "output_type": "execute_result"
        }
      ],
      "source": [
        "len(price_data_df)"
      ]
    },
    {
      "cell_type": "code",
      "execution_count": 67,
      "metadata": {
        "colab": {
          "base_uri": "https://localhost:8080/"
        },
        "id": "rX1Pnz3WN-q1",
        "outputId": "43119ca9-8350-4891-d7c5-926d51f10c0f"
      },
      "outputs": [
        {
          "data": {
            "text/plain": [
              "datetime.date(2021, 1, 4)"
            ]
          },
          "execution_count": 67,
          "metadata": {},
          "output_type": "execute_result"
        }
      ],
      "source": [
        "price_data_df['date'][0]"
      ]
    },
    {
      "cell_type": "code",
      "execution_count": 68,
      "metadata": {
        "id": "UYedHRwXXZgc"
      },
      "outputs": [],
      "source": [
        "price_data_df[\"date\"] = pd.to_datetime(price_data_df[\"date\"])"
      ]
    },
    {
      "cell_type": "markdown",
      "metadata": {
        "id": "qrH0Fl9H6N8T"
      },
      "source": [
        "## 3. Analysis"
      ]
    },
    {
      "cell_type": "markdown",
      "metadata": {
        "id": "vTX9SvMO6fbD"
      },
      "source": [
        "What do we need to do / solve?\n",
        "\n",
        "* Which companies are in the top 200 by market capitalisation?\n",
        "* Allow user to choose from this list in a sensible manner e.g. lookup and/or predefined favourites list.\n",
        "* Display the price history and other relevant information for each company selected in an appealing manner (to aide comparison of their relative performance). e.g. may want to look over past year, 6m, 3m, 1m, 1w etc."
      ]
    },
    {
      "cell_type": "code",
      "execution_count": 69,
      "metadata": {
        "id": "PYAKj_6CXxIs"
      },
      "outputs": [],
      "source": [
        "chart_ticker = \"WBC.AX\""
      ]
    },
    {
      "cell_type": "code",
      "execution_count": 70,
      "metadata": {
        "id": "tXBr__EXYv9g"
      },
      "outputs": [],
      "source": [
        "chart_data_df = price_data_df[price_data_df[\"symbol\"] == chart_ticker]"
      ]
    },
    {
      "cell_type": "code",
      "execution_count": 71,
      "metadata": {
        "colab": {
          "base_uri": "https://localhost:8080/",
          "height": 1463
        },
        "id": "3G9UE4FAY6m0",
        "outputId": "c30c0d54-4bce-4385-a8b7-0276f3f3c1fa"
      },
      "outputs": [
        {
          "data": {
            "text/html": [
              "<div>\n",
              "<style scoped>\n",
              "    .dataframe tbody tr th:only-of-type {\n",
              "        vertical-align: middle;\n",
              "    }\n",
              "\n",
              "    .dataframe tbody tr th {\n",
              "        vertical-align: top;\n",
              "    }\n",
              "\n",
              "    .dataframe thead th {\n",
              "        text-align: right;\n",
              "    }\n",
              "</style>\n",
              "<table border=\"1\" class=\"dataframe\">\n",
              "  <thead>\n",
              "    <tr style=\"text-align: right;\">\n",
              "      <th></th>\n",
              "      <th>symbol</th>\n",
              "      <th>date</th>\n",
              "      <th>open</th>\n",
              "      <th>volume</th>\n",
              "      <th>low</th>\n",
              "      <th>high</th>\n",
              "      <th>close</th>\n",
              "      <th>adjclose</th>\n",
              "      <th>dividends</th>\n",
              "    </tr>\n",
              "  </thead>\n",
              "  <tbody>\n",
              "    <tr>\n",
              "      <th>253</th>\n",
              "      <td>WBC.AX</td>\n",
              "      <td>2021-01-04</td>\n",
              "      <td>19.459999</td>\n",
              "      <td>4044153</td>\n",
              "      <td>19.424999</td>\n",
              "      <td>19.670000</td>\n",
              "      <td>19.629999</td>\n",
              "      <td>18.225410</td>\n",
              "      <td>0.0</td>\n",
              "    </tr>\n",
              "    <tr>\n",
              "      <th>254</th>\n",
              "      <td>WBC.AX</td>\n",
              "      <td>2021-01-05</td>\n",
              "      <td>19.469999</td>\n",
              "      <td>4944351</td>\n",
              "      <td>19.379999</td>\n",
              "      <td>19.530001</td>\n",
              "      <td>19.520000</td>\n",
              "      <td>18.123283</td>\n",
              "      <td>0.0</td>\n",
              "    </tr>\n",
              "    <tr>\n",
              "      <th>255</th>\n",
              "      <td>WBC.AX</td>\n",
              "      <td>2021-01-06</td>\n",
              "      <td>19.450001</td>\n",
              "      <td>7063517</td>\n",
              "      <td>19.230000</td>\n",
              "      <td>19.500000</td>\n",
              "      <td>19.370001</td>\n",
              "      <td>17.984018</td>\n",
              "      <td>0.0</td>\n",
              "    </tr>\n",
              "    <tr>\n",
              "      <th>256</th>\n",
              "      <td>WBC.AX</td>\n",
              "      <td>2021-01-07</td>\n",
              "      <td>19.799999</td>\n",
              "      <td>14348410</td>\n",
              "      <td>19.780001</td>\n",
              "      <td>20.340000</td>\n",
              "      <td>19.990000</td>\n",
              "      <td>18.559652</td>\n",
              "      <td>0.0</td>\n",
              "    </tr>\n",
              "    <tr>\n",
              "      <th>257</th>\n",
              "      <td>WBC.AX</td>\n",
              "      <td>2021-01-08</td>\n",
              "      <td>20.110001</td>\n",
              "      <td>7716248</td>\n",
              "      <td>20.020000</td>\n",
              "      <td>20.280001</td>\n",
              "      <td>20.280001</td>\n",
              "      <td>18.828903</td>\n",
              "      <td>0.0</td>\n",
              "    </tr>\n",
              "    <tr>\n",
              "      <th>...</th>\n",
              "      <td>...</td>\n",
              "      <td>...</td>\n",
              "      <td>...</td>\n",
              "      <td>...</td>\n",
              "      <td>...</td>\n",
              "      <td>...</td>\n",
              "      <td>...</td>\n",
              "      <td>...</td>\n",
              "      <td>...</td>\n",
              "    </tr>\n",
              "    <tr>\n",
              "      <th>501</th>\n",
              "      <td>WBC.AX</td>\n",
              "      <td>2021-12-22</td>\n",
              "      <td>21.129999</td>\n",
              "      <td>4944213</td>\n",
              "      <td>20.930000</td>\n",
              "      <td>21.150000</td>\n",
              "      <td>21.070000</td>\n",
              "      <td>20.544111</td>\n",
              "      <td>0.0</td>\n",
              "    </tr>\n",
              "    <tr>\n",
              "      <th>502</th>\n",
              "      <td>WBC.AX</td>\n",
              "      <td>2021-12-23</td>\n",
              "      <td>21.129999</td>\n",
              "      <td>4359824</td>\n",
              "      <td>21.040001</td>\n",
              "      <td>21.180000</td>\n",
              "      <td>21.180000</td>\n",
              "      <td>20.651367</td>\n",
              "      <td>0.0</td>\n",
              "    </tr>\n",
              "    <tr>\n",
              "      <th>503</th>\n",
              "      <td>WBC.AX</td>\n",
              "      <td>2021-12-24</td>\n",
              "      <td>21.260000</td>\n",
              "      <td>3039364</td>\n",
              "      <td>21.200001</td>\n",
              "      <td>21.450001</td>\n",
              "      <td>21.200001</td>\n",
              "      <td>20.670868</td>\n",
              "      <td>0.0</td>\n",
              "    </tr>\n",
              "    <tr>\n",
              "      <th>504</th>\n",
              "      <td>WBC.AX</td>\n",
              "      <td>2021-12-29</td>\n",
              "      <td>21.450001</td>\n",
              "      <td>9676188</td>\n",
              "      <td>21.400000</td>\n",
              "      <td>21.650000</td>\n",
              "      <td>21.459999</td>\n",
              "      <td>20.924377</td>\n",
              "      <td>0.0</td>\n",
              "    </tr>\n",
              "    <tr>\n",
              "      <th>505</th>\n",
              "      <td>WBC.AX</td>\n",
              "      <td>2021-12-30</td>\n",
              "      <td>21.510000</td>\n",
              "      <td>4635337</td>\n",
              "      <td>21.480000</td>\n",
              "      <td>21.600000</td>\n",
              "      <td>21.500000</td>\n",
              "      <td>20.963379</td>\n",
              "      <td>0.0</td>\n",
              "    </tr>\n",
              "  </tbody>\n",
              "</table>\n",
              "<p>253 rows × 9 columns</p>\n",
              "</div>"
            ],
            "text/plain": [
              "     symbol       date       open    volume        low       high      close  \\\n",
              "253  WBC.AX 2021-01-04  19.459999   4044153  19.424999  19.670000  19.629999   \n",
              "254  WBC.AX 2021-01-05  19.469999   4944351  19.379999  19.530001  19.520000   \n",
              "255  WBC.AX 2021-01-06  19.450001   7063517  19.230000  19.500000  19.370001   \n",
              "256  WBC.AX 2021-01-07  19.799999  14348410  19.780001  20.340000  19.990000   \n",
              "257  WBC.AX 2021-01-08  20.110001   7716248  20.020000  20.280001  20.280001   \n",
              "..      ...        ...        ...       ...        ...        ...        ...   \n",
              "501  WBC.AX 2021-12-22  21.129999   4944213  20.930000  21.150000  21.070000   \n",
              "502  WBC.AX 2021-12-23  21.129999   4359824  21.040001  21.180000  21.180000   \n",
              "503  WBC.AX 2021-12-24  21.260000   3039364  21.200001  21.450001  21.200001   \n",
              "504  WBC.AX 2021-12-29  21.450001   9676188  21.400000  21.650000  21.459999   \n",
              "505  WBC.AX 2021-12-30  21.510000   4635337  21.480000  21.600000  21.500000   \n",
              "\n",
              "      adjclose  dividends  \n",
              "253  18.225410        0.0  \n",
              "254  18.123283        0.0  \n",
              "255  17.984018        0.0  \n",
              "256  18.559652        0.0  \n",
              "257  18.828903        0.0  \n",
              "..         ...        ...  \n",
              "501  20.544111        0.0  \n",
              "502  20.651367        0.0  \n",
              "503  20.670868        0.0  \n",
              "504  20.924377        0.0  \n",
              "505  20.963379        0.0  \n",
              "\n",
              "[253 rows x 9 columns]"
            ]
          },
          "execution_count": 71,
          "metadata": {},
          "output_type": "execute_result"
        }
      ],
      "source": [
        "chart_data_df"
      ]
    },
    {
      "cell_type": "code",
      "execution_count": 72,
      "metadata": {
        "id": "_ZV3DjsMLLyc"
      },
      "outputs": [],
      "source": [
        "c = alt.Chart(chart_data_df).mark_circle().encode(x='date', y='adjclose')"
      ]
    },
    {
      "cell_type": "code",
      "execution_count": 73,
      "metadata": {
        "colab": {
          "base_uri": "https://localhost:8080/",
          "height": 363
        },
        "id": "ZpthoMBnSkRQ",
        "outputId": "1f5aaae2-c04a-49b5-a743-656ef86ab5f4"
      },
      "outputs": [
        {
          "data": {
            "text/html": [
              "\n",
              "<div id=\"altair-viz-7be2df32f714430dace99af84cf8e09a\"></div>\n",
              "<script type=\"text/javascript\">\n",
              "  var VEGA_DEBUG = (typeof VEGA_DEBUG == \"undefined\") ? {} : VEGA_DEBUG;\n",
              "  (function(spec, embedOpt){\n",
              "    let outputDiv = document.currentScript.previousElementSibling;\n",
              "    if (outputDiv.id !== \"altair-viz-7be2df32f714430dace99af84cf8e09a\") {\n",
              "      outputDiv = document.getElementById(\"altair-viz-7be2df32f714430dace99af84cf8e09a\");\n",
              "    }\n",
              "    const paths = {\n",
              "      \"vega\": \"https://cdn.jsdelivr.net/npm//vega@5?noext\",\n",
              "      \"vega-lib\": \"https://cdn.jsdelivr.net/npm//vega-lib?noext\",\n",
              "      \"vega-lite\": \"https://cdn.jsdelivr.net/npm//vega-lite@4.17.0?noext\",\n",
              "      \"vega-embed\": \"https://cdn.jsdelivr.net/npm//vega-embed@6?noext\",\n",
              "    };\n",
              "\n",
              "    function maybeLoadScript(lib, version) {\n",
              "      var key = `${lib.replace(\"-\", \"\")}_version`;\n",
              "      return (VEGA_DEBUG[key] == version) ?\n",
              "        Promise.resolve(paths[lib]) :\n",
              "        new Promise(function(resolve, reject) {\n",
              "          var s = document.createElement('script');\n",
              "          document.getElementsByTagName(\"head\")[0].appendChild(s);\n",
              "          s.async = true;\n",
              "          s.onload = () => {\n",
              "            VEGA_DEBUG[key] = version;\n",
              "            return resolve(paths[lib]);\n",
              "          };\n",
              "          s.onerror = () => reject(`Error loading script: ${paths[lib]}`);\n",
              "          s.src = paths[lib];\n",
              "        });\n",
              "    }\n",
              "\n",
              "    function showError(err) {\n",
              "      outputDiv.innerHTML = `<div class=\"error\" style=\"color:red;\">${err}</div>`;\n",
              "      throw err;\n",
              "    }\n",
              "\n",
              "    function displayChart(vegaEmbed) {\n",
              "      vegaEmbed(outputDiv, spec, embedOpt)\n",
              "        .catch(err => showError(`Javascript Error: ${err.message}<br>This usually means there's a typo in your chart specification. See the javascript console for the full traceback.`));\n",
              "    }\n",
              "\n",
              "    if(typeof define === \"function\" && define.amd) {\n",
              "      requirejs.config({paths});\n",
              "      require([\"vega-embed\"], displayChart, err => showError(`Error loading script: ${err.message}`));\n",
              "    } else {\n",
              "      maybeLoadScript(\"vega\", \"5\")\n",
              "        .then(() => maybeLoadScript(\"vega-lite\", \"4.17.0\"))\n",
              "        .then(() => maybeLoadScript(\"vega-embed\", \"6\"))\n",
              "        .catch(showError)\n",
              "        .then(() => displayChart(vegaEmbed));\n",
              "    }\n",
              "  })({\"config\": {\"view\": {\"continuousWidth\": 400, \"continuousHeight\": 300}}, \"data\": {\"name\": \"data-21e8930c05117dcbca580b0666096f9e\"}, \"mark\": \"circle\", \"encoding\": {\"x\": {\"field\": \"date\", \"type\": \"temporal\"}, \"y\": {\"field\": \"adjclose\", \"type\": \"quantitative\"}}, \"$schema\": \"https://vega.github.io/schema/vega-lite/v4.17.0.json\", \"datasets\": {\"data-21e8930c05117dcbca580b0666096f9e\": [{\"symbol\": \"WBC.AX\", \"date\": \"2021-01-04T00:00:00\", \"open\": 19.459999084472656, \"volume\": 4044153, \"low\": 19.424999237060547, \"high\": 19.670000076293945, \"close\": 19.6299991607666, \"adjclose\": 18.22541046142578, \"dividends\": 0.0}, {\"symbol\": \"WBC.AX\", \"date\": \"2021-01-05T00:00:00\", \"open\": 19.469999313354492, \"volume\": 4944351, \"low\": 19.3799991607666, \"high\": 19.530000686645508, \"close\": 19.520000457763672, \"adjclose\": 18.12328338623047, \"dividends\": 0.0}, {\"symbol\": \"WBC.AX\", \"date\": \"2021-01-06T00:00:00\", \"open\": 19.450000762939453, \"volume\": 7063517, \"low\": 19.229999542236328, \"high\": 19.5, \"close\": 19.3700008392334, \"adjclose\": 17.984018325805664, \"dividends\": 0.0}, {\"symbol\": \"WBC.AX\", \"date\": \"2021-01-07T00:00:00\", \"open\": 19.799999237060547, \"volume\": 14348410, \"low\": 19.780000686645508, \"high\": 20.34000015258789, \"close\": 19.989999771118164, \"adjclose\": 18.55965232849121, \"dividends\": 0.0}, {\"symbol\": \"WBC.AX\", \"date\": \"2021-01-08T00:00:00\", \"open\": 20.110000610351562, \"volume\": 7716248, \"low\": 20.020000457763672, \"high\": 20.280000686645508, \"close\": 20.280000686645508, \"adjclose\": 18.828903198242188, \"dividends\": 0.0}, {\"symbol\": \"WBC.AX\", \"date\": \"2021-01-11T00:00:00\", \"open\": 20.229999542236328, \"volume\": 4513238, \"low\": 20.200000762939453, \"high\": 20.329999923706055, \"close\": 20.290000915527344, \"adjclose\": 18.838186264038086, \"dividends\": 0.0}, {\"symbol\": \"WBC.AX\", \"date\": \"2021-01-12T00:00:00\", \"open\": 20.309999465942383, \"volume\": 8262523, \"low\": 20.280000686645508, \"high\": 20.6299991607666, \"close\": 20.489999771118164, \"adjclose\": 19.023874282836914, \"dividends\": 0.0}, {\"symbol\": \"WBC.AX\", \"date\": \"2021-01-13T00:00:00\", \"open\": 20.420000076293945, \"volume\": 6166289, \"low\": 20.420000076293945, \"high\": 20.68000030517578, \"close\": 20.600000381469727, \"adjclose\": 19.126005172729492, \"dividends\": 0.0}, {\"symbol\": \"WBC.AX\", \"date\": \"2021-01-14T00:00:00\", \"open\": 20.700000762939453, \"volume\": 10347252, \"low\": 20.68000030517578, \"high\": 21.190000534057617, \"close\": 21.030000686645508, \"adjclose\": 19.525236129760742, \"dividends\": 0.0}, {\"symbol\": \"WBC.AX\", \"date\": \"2021-01-15T00:00:00\", \"open\": 21.200000762939453, \"volume\": 9396993, \"low\": 21.149999618530273, \"high\": 21.59000015258789, \"close\": 21.350000381469727, \"adjclose\": 19.82234001159668, \"dividends\": 0.0}, {\"symbol\": \"WBC.AX\", \"date\": \"2021-01-18T00:00:00\", \"open\": 21.360000610351562, \"volume\": 5983851, \"low\": 21.100000381469727, \"high\": 21.3700008392334, \"close\": 21.190000534057617, \"adjclose\": 19.673789978027344, \"dividends\": 0.0}, {\"symbol\": \"WBC.AX\", \"date\": \"2021-01-19T00:00:00\", \"open\": 21.450000762939453, \"volume\": 8246543, \"low\": 21.40999984741211, \"high\": 21.780000686645508, \"close\": 21.600000381469727, \"adjclose\": 20.054452896118164, \"dividends\": 0.0}, {\"symbol\": \"WBC.AX\", \"date\": \"2021-01-20T00:00:00\", \"open\": 21.760000228881836, \"volume\": 5907172, \"low\": 21.575000762939453, \"high\": 21.850000381469727, \"close\": 21.579999923706055, \"adjclose\": 20.0358829498291, \"dividends\": 0.0}, {\"symbol\": \"WBC.AX\", \"date\": \"2021-01-21T00:00:00\", \"open\": 21.850000381469727, \"volume\": 6164314, \"low\": 21.790000915527344, \"high\": 21.940000534057617, \"close\": 21.81999969482422, \"adjclose\": 20.258710861206055, \"dividends\": 0.0}, {\"symbol\": \"WBC.AX\", \"date\": \"2021-01-22T00:00:00\", \"open\": 21.639999389648438, \"volume\": 6984829, \"low\": 21.639999389648438, \"high\": 21.8700008392334, \"close\": 21.780000686645508, \"adjclose\": 20.221572875976562, \"dividends\": 0.0}, {\"symbol\": \"WBC.AX\", \"date\": \"2021-01-25T00:00:00\", \"open\": 21.799999237060547, \"volume\": 3960211, \"low\": 21.6299991607666, \"high\": 21.959999084472656, \"close\": 21.790000915527344, \"adjclose\": 20.23085594177246, \"dividends\": 0.0}, {\"symbol\": \"WBC.AX\", \"date\": \"2021-01-27T00:00:00\", \"open\": 21.850000381469727, \"volume\": 7565067, \"low\": 21.510000228881836, \"high\": 21.969999313354492, \"close\": 21.65999984741211, \"adjclose\": 20.110157012939453, \"dividends\": 0.0}, {\"symbol\": \"WBC.AX\", \"date\": \"2021-01-28T00:00:00\", \"open\": 21.229999542236328, \"volume\": 8389458, \"low\": 21.020000457763672, \"high\": 21.469999313354492, \"close\": 21.459999084472656, \"adjclose\": 19.924467086791992, \"dividends\": 0.0}, {\"symbol\": \"WBC.AX\", \"date\": \"2021-01-29T00:00:00\", \"open\": 21.649999618530273, \"volume\": 8256673, \"low\": 21.024999618530273, \"high\": 21.65999984741211, \"close\": 21.1299991607666, \"adjclose\": 19.618080139160156, \"dividends\": 0.0}, {\"symbol\": \"WBC.AX\", \"date\": \"2021-02-01T00:00:00\", \"open\": 20.799999237060547, \"volume\": 6319097, \"low\": 20.65999984741211, \"high\": 21.31999969482422, \"close\": 21.209999084472656, \"adjclose\": 19.69235610961914, \"dividends\": 0.0}, {\"symbol\": \"WBC.AX\", \"date\": \"2021-02-02T00:00:00\", \"open\": 21.40999984741211, \"volume\": 6367499, \"low\": 21.309999465942383, \"high\": 21.549999237060547, \"close\": 21.420000076293945, \"adjclose\": 19.887331008911133, \"dividends\": 0.0}, {\"symbol\": \"WBC.AX\", \"date\": \"2021-02-03T00:00:00\", \"open\": 21.709999084472656, \"volume\": 7742337, \"low\": 21.6200008392334, \"high\": 21.93000030517578, \"close\": 21.75, \"adjclose\": 20.1937198638916, \"dividends\": 0.0}, {\"symbol\": \"WBC.AX\", \"date\": \"2021-02-04T00:00:00\", \"open\": 21.809999465942383, \"volume\": 4342173, \"low\": 21.6200008392334, \"high\": 21.850000381469727, \"close\": 21.709999084472656, \"adjclose\": 20.156579971313477, \"dividends\": 0.0}, {\"symbol\": \"WBC.AX\", \"date\": \"2021-02-05T00:00:00\", \"open\": 21.969999313354492, \"volume\": 7968872, \"low\": 21.829999923706055, \"high\": 22.209999084472656, \"close\": 22.149999618530273, \"adjclose\": 20.56509780883789, \"dividends\": 0.0}, {\"symbol\": \"WBC.AX\", \"date\": \"2021-02-08T00:00:00\", \"open\": 22.209999084472656, \"volume\": 8064909, \"low\": 22.190000534057617, \"high\": 22.59000015258789, \"close\": 22.450000762939453, \"adjclose\": 20.843629837036133, \"dividends\": 0.0}, {\"symbol\": \"WBC.AX\", \"date\": \"2021-02-09T00:00:00\", \"open\": 22.360000610351562, \"volume\": 4756119, \"low\": 22.110000610351562, \"high\": 22.440000534057617, \"close\": 22.170000076293945, \"adjclose\": 20.58366584777832, \"dividends\": 0.0}, {\"symbol\": \"WBC.AX\", \"date\": \"2021-02-10T00:00:00\", \"open\": 22.299999237060547, \"volume\": 4713107, \"low\": 22.1200008392334, \"high\": 22.450000762939453, \"close\": 22.229999542236328, \"adjclose\": 20.639371871948242, \"dividends\": 0.0}, {\"symbol\": \"WBC.AX\", \"date\": \"2021-02-11T00:00:00\", \"open\": 22.170000076293945, \"volume\": 4218812, \"low\": 22.079999923706055, \"high\": 22.329999923706055, \"close\": 22.290000915527344, \"adjclose\": 20.69508171081543, \"dividends\": 0.0}, {\"symbol\": \"WBC.AX\", \"date\": \"2021-02-12T00:00:00\", \"open\": 22.280000686645508, \"volume\": 4943999, \"low\": 22.059999465942383, \"high\": 22.329999923706055, \"close\": 22.139999389648438, \"adjclose\": 20.55581283569336, \"dividends\": 0.0}, {\"symbol\": \"WBC.AX\", \"date\": \"2021-02-15T00:00:00\", \"open\": 22.350000381469727, \"volume\": 4389653, \"low\": 22.260000228881836, \"high\": 22.559999465942383, \"close\": 22.399999618530273, \"adjclose\": 20.797208786010742, \"dividends\": 0.0}, {\"symbol\": \"WBC.AX\", \"date\": \"2021-02-16T00:00:00\", \"open\": 22.6200008392334, \"volume\": 6448280, \"low\": 22.459999084472656, \"high\": 22.899999618530273, \"close\": 22.510000228881836, \"adjclose\": 20.89933967590332, \"dividends\": 0.0}, {\"symbol\": \"WBC.AX\", \"date\": \"2021-02-17T00:00:00\", \"open\": 23.600000381469727, \"volume\": 14880630, \"low\": 23.459999084472656, \"high\": 23.940000534057617, \"close\": 23.540000915527344, \"adjclose\": 21.855640411376953, \"dividends\": 0.0}, {\"symbol\": \"WBC.AX\", \"date\": \"2021-02-18T00:00:00\", \"open\": 24.059999465942383, \"volume\": 15032032, \"low\": 23.969999313354492, \"high\": 24.479999542236328, \"close\": 24.3700008392334, \"adjclose\": 22.626249313354492, \"dividends\": 0.0}, {\"symbol\": \"WBC.AX\", \"date\": \"2021-02-19T00:00:00\", \"open\": 24.149999618530273, \"volume\": 10418673, \"low\": 23.899999618530273, \"high\": 24.200000762939453, \"close\": 24.09000015258789, \"adjclose\": 22.366283416748047, \"dividends\": 0.0}, {\"symbol\": \"WBC.AX\", \"date\": \"2021-02-22T00:00:00\", \"open\": 24.100000381469727, \"volume\": 7376834, \"low\": 23.68000030517578, \"high\": 24.1200008392334, \"close\": 23.719999313354492, \"adjclose\": 22.02275848388672, \"dividends\": 0.0}, {\"symbol\": \"WBC.AX\", \"date\": \"2021-02-23T00:00:00\", \"open\": 23.709999084472656, \"volume\": 6808998, \"low\": 23.575000762939453, \"high\": 24.18000030517578, \"close\": 24.15999984741211, \"adjclose\": 22.4312744140625, \"dividends\": 0.0}, {\"symbol\": \"WBC.AX\", \"date\": \"2021-02-24T00:00:00\", \"open\": 24.030000686645508, \"volume\": 4595204, \"low\": 23.899999618530273, \"high\": 24.075000762939453, \"close\": 24.049999237060547, \"adjclose\": 22.329147338867188, \"dividends\": 0.0}, {\"symbol\": \"WBC.AX\", \"date\": \"2021-02-25T00:00:00\", \"open\": 24.299999237060547, \"volume\": 6769867, \"low\": 24.1200008392334, \"high\": 24.469999313354492, \"close\": 24.360000610351562, \"adjclose\": 22.61696434020996, \"dividends\": 0.0}, {\"symbol\": \"WBC.AX\", \"date\": \"2021-02-26T00:00:00\", \"open\": 24.18000030517578, \"volume\": 11370199, \"low\": 23.690000534057617, \"high\": 24.200000762939453, \"close\": 23.81999969482422, \"adjclose\": 22.115602493286133, \"dividends\": 0.0}, {\"symbol\": \"WBC.AX\", \"date\": \"2021-03-01T00:00:00\", \"open\": 23.8700008392334, \"volume\": 5805483, \"low\": 23.809999465942383, \"high\": 24.25, \"close\": 24.190000534057617, \"adjclose\": 22.45912742614746, \"dividends\": 0.0}, {\"symbol\": \"WBC.AX\", \"date\": \"2021-03-02T00:00:00\", \"open\": 24.399999618530273, \"volume\": 8680741, \"low\": 24.079999923706055, \"high\": 24.459999084472656, \"close\": 24.15999984741211, \"adjclose\": 22.4312744140625, \"dividends\": 0.0}, {\"symbol\": \"WBC.AX\", \"date\": \"2021-03-03T00:00:00\", \"open\": 24.059999465942383, \"volume\": 6923689, \"low\": 24.030000686645508, \"high\": 24.6200008392334, \"close\": 24.530000686645508, \"adjclose\": 22.77480125427246, \"dividends\": 0.0}, {\"symbol\": \"WBC.AX\", \"date\": \"2021-03-04T00:00:00\", \"open\": 24.799999237060547, \"volume\": 10014282, \"low\": 24.43000030517578, \"high\": 24.8700008392334, \"close\": 24.84000015258789, \"adjclose\": 23.062620162963867, \"dividends\": 0.0}, {\"symbol\": \"WBC.AX\", \"date\": \"2021-03-05T00:00:00\", \"open\": 24.81999969482422, \"volume\": 7754868, \"low\": 24.649999618530273, \"high\": 25.0, \"close\": 24.8700008392334, \"adjclose\": 23.090473175048828, \"dividends\": 0.0}, {\"symbol\": \"WBC.AX\", \"date\": \"2021-03-08T00:00:00\", \"open\": 25.100000381469727, \"volume\": 5403844, \"low\": 24.700000762939453, \"high\": 25.280000686645508, \"close\": 24.739999771118164, \"adjclose\": 22.96977424621582, \"dividends\": 0.0}, {\"symbol\": \"WBC.AX\", \"date\": \"2021-03-09T00:00:00\", \"open\": 25.079999923706055, \"volume\": 6298195, \"low\": 24.8700008392334, \"high\": 25.299999237060547, \"close\": 24.920000076293945, \"adjclose\": 23.13689422607422, \"dividends\": 0.0}, {\"symbol\": \"WBC.AX\", \"date\": \"2021-03-10T00:00:00\", \"open\": 24.829999923706055, \"volume\": 4504867, \"low\": 24.579999923706055, \"high\": 24.969999313354492, \"close\": 24.600000381469727, \"adjclose\": 22.839792251586914, \"dividends\": 0.0}, {\"symbol\": \"WBC.AX\", \"date\": \"2021-03-11T00:00:00\", \"open\": 24.68000030517578, \"volume\": 6216274, \"low\": 24.329999923706055, \"high\": 24.84000015258789, \"close\": 24.530000686645508, \"adjclose\": 22.77480125427246, \"dividends\": 0.0}, {\"symbol\": \"WBC.AX\", \"date\": \"2021-03-12T00:00:00\", \"open\": 24.600000381469727, \"volume\": 4139949, \"low\": 24.399999618530273, \"high\": 24.649999618530273, \"close\": 24.450000762939453, \"adjclose\": 22.70052719116211, \"dividends\": 0.0}, {\"symbol\": \"WBC.AX\", \"date\": \"2021-03-15T00:00:00\", \"open\": 24.540000915527344, \"volume\": 4392730, \"low\": 24.34000015258789, \"high\": 24.729999542236328, \"close\": 24.579999923706055, \"adjclose\": 22.82122230529785, \"dividends\": 0.0}, {\"symbol\": \"WBC.AX\", \"date\": \"2021-03-16T00:00:00\", \"open\": 24.649999618530273, \"volume\": 5819629, \"low\": 24.459999084472656, \"high\": 24.899999618530273, \"close\": 24.729999542236328, \"adjclose\": 22.96048927307129, \"dividends\": 0.0}, {\"symbol\": \"WBC.AX\", \"date\": \"2021-03-17T00:00:00\", \"open\": 24.690000534057617, \"volume\": 4731339, \"low\": 24.5049991607666, \"high\": 24.790000915527344, \"close\": 24.670000076293945, \"adjclose\": 22.904783248901367, \"dividends\": 0.0}, {\"symbol\": \"WBC.AX\", \"date\": \"2021-03-18T00:00:00\", \"open\": 24.440000534057617, \"volume\": 7010572, \"low\": 24.3799991607666, \"high\": 24.649999618530273, \"close\": 24.440000534057617, \"adjclose\": 22.691240310668945, \"dividends\": 0.0}, {\"symbol\": \"WBC.AX\", \"date\": \"2021-03-19T00:00:00\", \"open\": 24.360000610351562, \"volume\": 17722276, \"low\": 24.329999923706055, \"high\": 24.65999984741211, \"close\": 24.520000457763672, \"adjclose\": 22.76551628112793, \"dividends\": 0.0}, {\"symbol\": \"WBC.AX\", \"date\": \"2021-03-22T00:00:00\", \"open\": 24.479999542236328, \"volume\": 4939978, \"low\": 24.280000686645508, \"high\": 24.719999313354492, \"close\": 24.65999984741211, \"adjclose\": 22.895498275756836, \"dividends\": 0.0}, {\"symbol\": \"WBC.AX\", \"date\": \"2021-03-23T00:00:00\", \"open\": 24.489999771118164, \"volume\": 6284485, \"low\": 24.350000381469727, \"high\": 24.610000610351562, \"close\": 24.43000030517578, \"adjclose\": 22.681957244873047, \"dividends\": 0.0}, {\"symbol\": \"WBC.AX\", \"date\": \"2021-03-24T00:00:00\", \"open\": 24.299999237060547, \"volume\": 6310570, \"low\": 24.059999465942383, \"high\": 24.3700008392334, \"close\": 24.190000534057617, \"adjclose\": 22.45912742614746, \"dividends\": 0.0}, {\"symbol\": \"WBC.AX\", \"date\": \"2021-03-25T00:00:00\", \"open\": 24.049999237060547, \"volume\": 5559320, \"low\": 24.010000228881836, \"high\": 24.209999084472656, \"close\": 24.1200008392334, \"adjclose\": 22.39413833618164, \"dividends\": 0.0}, {\"symbol\": \"WBC.AX\", \"date\": \"2021-03-26T00:00:00\", \"open\": 24.170000076293945, \"volume\": 5052780, \"low\": 24.15999984741211, \"high\": 24.440000534057617, \"close\": 24.34000015258789, \"adjclose\": 22.5983943939209, \"dividends\": 0.0}, {\"symbol\": \"WBC.AX\", \"date\": \"2021-03-29T00:00:00\", \"open\": 24.399999618530273, \"volume\": 5313079, \"low\": 24.229999542236328, \"high\": 24.65999984741211, \"close\": 24.34000015258789, \"adjclose\": 22.5983943939209, \"dividends\": 0.0}, {\"symbol\": \"WBC.AX\", \"date\": \"2021-03-30T00:00:00\", \"open\": 24.450000762939453, \"volume\": 6232996, \"low\": 24.190000534057617, \"high\": 24.540000915527344, \"close\": 24.360000610351562, \"adjclose\": 22.61696434020996, \"dividends\": 0.0}, {\"symbol\": \"WBC.AX\", \"date\": \"2021-03-31T00:00:00\", \"open\": 24.450000762939453, \"volume\": 7623677, \"low\": 24.40999984741211, \"high\": 24.780000686645508, \"close\": 24.40999984741211, \"adjclose\": 22.663387298583984, \"dividends\": 0.0}, {\"symbol\": \"WBC.AX\", \"date\": \"2021-04-01T00:00:00\", \"open\": 24.420000076293945, \"volume\": 4197192, \"low\": 24.260000228881836, \"high\": 24.559999465942383, \"close\": 24.540000915527344, \"adjclose\": 22.784086227416992, \"dividends\": 0.0}, {\"symbol\": \"WBC.AX\", \"date\": \"2021-04-06T00:00:00\", \"open\": 24.75, \"volume\": 4948766, \"low\": 24.610000610351562, \"high\": 24.860000610351562, \"close\": 24.700000762939453, \"adjclose\": 22.93263816833496, \"dividends\": 0.0}, {\"symbol\": \"WBC.AX\", \"date\": \"2021-04-07T00:00:00\", \"open\": 24.709999084472656, \"volume\": 4482088, \"low\": 24.59000015258789, \"high\": 24.8700008392334, \"close\": 24.84000015258789, \"adjclose\": 23.062620162963867, \"dividends\": 0.0}, {\"symbol\": \"WBC.AX\", \"date\": \"2021-04-08T00:00:00\", \"open\": 25.170000076293945, \"volume\": 7035601, \"low\": 24.959999084472656, \"high\": 25.3799991607666, \"close\": 25.15999984741211, \"adjclose\": 23.359722137451172, \"dividends\": 0.0}, {\"symbol\": \"WBC.AX\", \"date\": \"2021-04-09T00:00:00\", \"open\": 25.1299991607666, \"volume\": 4031591, \"low\": 24.940000534057617, \"high\": 25.219999313354492, \"close\": 25.209999084472656, \"adjclose\": 23.406145095825195, \"dividends\": 0.0}, {\"symbol\": \"WBC.AX\", \"date\": \"2021-04-12T00:00:00\", \"open\": 25.200000762939453, \"volume\": 3476635, \"low\": 25.170000076293945, \"high\": 25.3799991607666, \"close\": 25.299999237060547, \"adjclose\": 23.489704132080078, \"dividends\": 0.0}, {\"symbol\": \"WBC.AX\", \"date\": \"2021-04-13T00:00:00\", \"open\": 25.239999771118164, \"volume\": 3590515, \"low\": 25.200000762939453, \"high\": 25.360000610351562, \"close\": 25.309999465942383, \"adjclose\": 23.49898910522461, \"dividends\": 0.0}, {\"symbol\": \"WBC.AX\", \"date\": \"2021-04-14T00:00:00\", \"open\": 25.190000534057617, \"volume\": 5226936, \"low\": 24.969999313354492, \"high\": 25.3799991607666, \"close\": 25.329999923706055, \"adjclose\": 23.51755714416504, \"dividends\": 0.0}, {\"symbol\": \"WBC.AX\", \"date\": \"2021-04-15T00:00:00\", \"open\": 25.299999237060547, \"volume\": 5683675, \"low\": 25.1299991607666, \"high\": 25.520000457763672, \"close\": 25.5, \"adjclose\": 23.67539405822754, \"dividends\": 0.0}, {\"symbol\": \"WBC.AX\", \"date\": \"2021-04-16T00:00:00\", \"open\": 25.350000381469727, \"volume\": 5303151, \"low\": 25.15999984741211, \"high\": 25.40999984741211, \"close\": 25.31999969482422, \"adjclose\": 23.508272171020508, \"dividends\": 0.0}, {\"symbol\": \"WBC.AX\", \"date\": \"2021-04-19T00:00:00\", \"open\": 25.440000534057617, \"volume\": 3925295, \"low\": 25.329999923706055, \"high\": 25.489999771118164, \"close\": 25.360000610351562, \"adjclose\": 23.545412063598633, \"dividends\": 0.0}, {\"symbol\": \"WBC.AX\", \"date\": \"2021-04-20T00:00:00\", \"open\": 25.299999237060547, \"volume\": 4271830, \"low\": 25.219999313354492, \"high\": 25.389999389648438, \"close\": 25.239999771118164, \"adjclose\": 23.433998107910156, \"dividends\": 0.0}, {\"symbol\": \"WBC.AX\", \"date\": \"2021-04-21T00:00:00\", \"open\": 24.920000076293945, \"volume\": 7806973, \"low\": 24.6200008392334, \"high\": 25.0, \"close\": 24.979999542236328, \"adjclose\": 23.192602157592773, \"dividends\": 0.0}, {\"symbol\": \"WBC.AX\", \"date\": \"2021-04-22T00:00:00\", \"open\": 25.030000686645508, \"volume\": 5606725, \"low\": 24.940000534057617, \"high\": 25.1299991607666, \"close\": 25.110000610351562, \"adjclose\": 23.31330108642578, \"dividends\": 0.0}, {\"symbol\": \"WBC.AX\", \"date\": \"2021-04-23T00:00:00\", \"open\": 25.030000686645508, \"volume\": 3923382, \"low\": 24.979999542236328, \"high\": 25.139999389648438, \"close\": 25.1200008392334, \"adjclose\": 23.32258415222168, \"dividends\": 0.0}, {\"symbol\": \"WBC.AX\", \"date\": \"2021-04-26T00:00:00\", \"open\": 25.18000030517578, \"volume\": 3952356, \"low\": 25.079999923706055, \"high\": 25.360000610351562, \"close\": 25.079999923706055, \"adjclose\": 23.28544807434082, \"dividends\": 0.0}, {\"symbol\": \"WBC.AX\", \"date\": \"2021-04-27T00:00:00\", \"open\": 25.030000686645508, \"volume\": 4798314, \"low\": 24.864999771118164, \"high\": 25.049999237060547, \"close\": 24.989999771118164, \"adjclose\": 23.201887130737305, \"dividends\": 0.0}, {\"symbol\": \"WBC.AX\", \"date\": \"2021-04-28T00:00:00\", \"open\": 25.15999984741211, \"volume\": 6383563, \"low\": 25.1200008392334, \"high\": 25.329999923706055, \"close\": 25.299999237060547, \"adjclose\": 23.489704132080078, \"dividends\": 0.0}, {\"symbol\": \"WBC.AX\", \"date\": \"2021-04-29T00:00:00\", \"open\": 25.299999237060547, \"volume\": 4948296, \"low\": 25.149999618530273, \"high\": 25.350000381469727, \"close\": 25.190000534057617, \"adjclose\": 23.387577056884766, \"dividends\": 0.0}, {\"symbol\": \"WBC.AX\", \"date\": \"2021-04-30T00:00:00\", \"open\": 25.190000534057617, \"volume\": 7878907, \"low\": 24.959999084472656, \"high\": 25.25, \"close\": 24.979999542236328, \"adjclose\": 23.192602157592773, \"dividends\": 0.0}, {\"symbol\": \"WBC.AX\", \"date\": \"2021-05-03T00:00:00\", \"open\": 25.709999084472656, \"volume\": 16139700, \"low\": 25.6299991607666, \"high\": 26.315000534057617, \"close\": 26.229999542236328, \"adjclose\": 24.353160858154297, \"dividends\": 0.0}, {\"symbol\": \"WBC.AX\", \"date\": \"2021-05-04T00:00:00\", \"open\": 26.3799991607666, \"volume\": 7196366, \"low\": 25.809999465942383, \"high\": 26.399999618530273, \"close\": 25.989999771118164, \"adjclose\": 24.130334854125977, \"dividends\": 0.0}, {\"symbol\": \"WBC.AX\", \"date\": \"2021-05-05T00:00:00\", \"open\": 26.15999984741211, \"volume\": 6367722, \"low\": 25.899999618530273, \"high\": 26.229999542236328, \"close\": 25.959999084472656, \"adjclose\": 24.10247802734375, \"dividends\": 0.0}, {\"symbol\": \"WBC.AX\", \"date\": \"2021-05-06T00:00:00\", \"open\": 26.15999984741211, \"volume\": 7343573, \"low\": 25.760000228881836, \"high\": 26.15999984741211, \"close\": 26.020000457763672, \"adjclose\": 24.158187866210938, \"dividends\": 0.0}, {\"symbol\": \"WBC.AX\", \"date\": \"2021-05-07T00:00:00\", \"open\": 26.0, \"volume\": 5496310, \"low\": 25.899999618530273, \"high\": 26.229999542236328, \"close\": 26.09000015258789, \"adjclose\": 24.22317886352539, \"dividends\": 0.0}, {\"symbol\": \"WBC.AX\", \"date\": \"2021-05-10T00:00:00\", \"open\": 26.149999618530273, \"volume\": 5134497, \"low\": 26.139999389648438, \"high\": 26.43000030517578, \"close\": 26.420000076293945, \"adjclose\": 24.529565811157227, \"dividends\": 0.0}, {\"symbol\": \"WBC.AX\", \"date\": \"2021-05-11T00:00:00\", \"open\": 26.200000762939453, \"volume\": 8110986, \"low\": 26.040000915527344, \"high\": 26.420000076293945, \"close\": 26.079999923706055, \"adjclose\": 24.213891983032227, \"dividends\": 0.0}, {\"symbol\": \"WBC.AX\", \"date\": \"2021-05-12T00:00:00\", \"open\": 25.809999465942383, \"volume\": 9336042, \"low\": 25.510000228881836, \"high\": 25.8700008392334, \"close\": 25.770000457763672, \"adjclose\": 23.926076889038086, \"dividends\": 0.0}, {\"symbol\": \"WBC.AX\", \"date\": \"2021-05-13T00:00:00\", \"open\": 25.209999084472656, \"volume\": 15714303, \"low\": 25.049999237060547, \"high\": 25.229999542236328, \"close\": 25.190000534057617, \"adjclose\": 23.926074981689453, \"dividends\": 0.58}, {\"symbol\": \"WBC.AX\", \"date\": \"2021-05-14T00:00:00\", \"open\": 25.540000915527344, \"volume\": 6227628, \"low\": 25.389999389648438, \"high\": 25.68000030517578, \"close\": 25.40999984741211, \"adjclose\": 24.135034561157227, \"dividends\": 0.0}, {\"symbol\": \"WBC.AX\", \"date\": \"2021-05-17T00:00:00\", \"open\": 25.459999084472656, \"volume\": 4330017, \"low\": 25.299999237060547, \"high\": 25.6200008392334, \"close\": 25.329999923706055, \"adjclose\": 24.059049606323242, \"dividends\": 0.0}, {\"symbol\": \"WBC.AX\", \"date\": \"2021-05-18T00:00:00\", \"open\": 25.350000381469727, \"volume\": 5375597, \"low\": 25.299999237060547, \"high\": 25.530000686645508, \"close\": 25.459999084472656, \"adjclose\": 24.182525634765625, \"dividends\": 0.0}, {\"symbol\": \"WBC.AX\", \"date\": \"2021-05-19T00:00:00\", \"open\": 25.079999923706055, \"volume\": 8323461, \"low\": 25.040000915527344, \"high\": 25.260000228881836, \"close\": 25.18000030517578, \"adjclose\": 23.916576385498047, \"dividends\": 0.0}, {\"symbol\": \"WBC.AX\", \"date\": \"2021-05-20T00:00:00\", \"open\": 25.299999237060547, \"volume\": 6815461, \"low\": 25.209999084472656, \"high\": 25.6200008392334, \"close\": 25.520000457763672, \"adjclose\": 24.239517211914062, \"dividends\": 0.0}, {\"symbol\": \"WBC.AX\", \"date\": \"2021-05-21T00:00:00\", \"open\": 25.600000381469727, \"volume\": 6201726, \"low\": 25.559999465942383, \"high\": 25.75, \"close\": 25.649999618530273, \"adjclose\": 24.362993240356445, \"dividends\": 0.0}, {\"symbol\": \"WBC.AX\", \"date\": \"2021-05-24T00:00:00\", \"open\": 25.75, \"volume\": 5142624, \"low\": 25.75, \"high\": 26.040000915527344, \"close\": 25.979999542236328, \"adjclose\": 24.676435470581055, \"dividends\": 0.0}, {\"symbol\": \"WBC.AX\", \"date\": \"2021-05-25T00:00:00\", \"open\": 26.079999923706055, \"volume\": 4272751, \"low\": 25.9950008392334, \"high\": 26.200000762939453, \"close\": 26.200000762939453, \"adjclose\": 24.88539695739746, \"dividends\": 0.0}, {\"symbol\": \"WBC.AX\", \"date\": \"2021-05-26T00:00:00\", \"open\": 26.200000762939453, \"volume\": 5697789, \"low\": 26.149999618530273, \"high\": 26.3799991607666, \"close\": 26.270000457763672, \"adjclose\": 24.951885223388672, \"dividends\": 0.0}, {\"symbol\": \"WBC.AX\", \"date\": \"2021-05-27T00:00:00\", \"open\": 26.3799991607666, \"volume\": 10776555, \"low\": 26.09000015258789, \"high\": 26.3799991607666, \"close\": 26.09000015258789, \"adjclose\": 24.780916213989258, \"dividends\": 0.0}, {\"symbol\": \"WBC.AX\", \"date\": \"2021-05-28T00:00:00\", \"open\": 26.280000686645508, \"volume\": 6870449, \"low\": 26.2549991607666, \"high\": 26.489999771118164, \"close\": 26.459999084472656, \"adjclose\": 25.13235092163086, \"dividends\": 0.0}, {\"symbol\": \"WBC.AX\", \"date\": \"2021-05-31T00:00:00\", \"open\": 26.469999313354492, \"volume\": 5044864, \"low\": 26.329999923706055, \"high\": 26.549999237060547, \"close\": 26.420000076293945, \"adjclose\": 25.094358444213867, \"dividends\": 0.0}, {\"symbol\": \"WBC.AX\", \"date\": \"2021-06-01T00:00:00\", \"open\": 26.290000915527344, \"volume\": 3536923, \"low\": 26.110000610351562, \"high\": 26.315000534057617, \"close\": 26.200000762939453, \"adjclose\": 24.88539695739746, \"dividends\": 0.0}, {\"symbol\": \"WBC.AX\", \"date\": \"2021-06-02T00:00:00\", \"open\": 26.270000457763672, \"volume\": 4138204, \"low\": 26.110000610351562, \"high\": 26.31999969482422, \"close\": 26.219999313354492, \"adjclose\": 24.90439224243164, \"dividends\": 0.0}, {\"symbol\": \"WBC.AX\", \"date\": \"2021-06-03T00:00:00\", \"open\": 26.350000381469727, \"volume\": 5659744, \"low\": 26.334999084472656, \"high\": 26.559999465942383, \"close\": 26.5, \"adjclose\": 25.170345306396484, \"dividends\": 0.0}, {\"symbol\": \"WBC.AX\", \"date\": \"2021-06-04T00:00:00\", \"open\": 26.600000381469727, \"volume\": 5744699, \"low\": 26.59000015258789, \"high\": 26.8799991607666, \"close\": 26.8700008392334, \"adjclose\": 25.521780014038086, \"dividends\": 0.0}, {\"symbol\": \"WBC.AX\", \"date\": \"2021-06-07T00:00:00\", \"open\": 26.690000534057617, \"volume\": 4647935, \"low\": 26.540000915527344, \"high\": 26.75, \"close\": 26.6299991607666, \"adjclose\": 25.293821334838867, \"dividends\": 0.0}, {\"symbol\": \"WBC.AX\", \"date\": \"2021-06-08T00:00:00\", \"open\": 26.600000381469727, \"volume\": 4068260, \"low\": 26.600000381469727, \"high\": 26.780000686645508, \"close\": 26.729999542236328, \"adjclose\": 25.388803482055664, \"dividends\": 0.0}, {\"symbol\": \"WBC.AX\", \"date\": \"2021-06-09T00:00:00\", \"open\": 26.68000030517578, \"volume\": 5192381, \"low\": 26.520000457763672, \"high\": 26.81999969482422, \"close\": 26.549999237060547, \"adjclose\": 25.217836380004883, \"dividends\": 0.0}, {\"symbol\": \"WBC.AX\", \"date\": \"2021-06-10T00:00:00\", \"open\": 26.600000381469727, \"volume\": 3671786, \"low\": 26.479999542236328, \"high\": 26.690000534057617, \"close\": 26.59000015258789, \"adjclose\": 25.255828857421875, \"dividends\": 0.0}, {\"symbol\": \"WBC.AX\", \"date\": \"2021-06-11T00:00:00\", \"open\": 26.309999465942383, \"volume\": 4231033, \"low\": 26.18000030517578, \"high\": 26.405000686645508, \"close\": 26.290000915527344, \"adjclose\": 24.970882415771484, \"dividends\": 0.0}, {\"symbol\": \"WBC.AX\", \"date\": \"2021-06-15T00:00:00\", \"open\": 26.3799991607666, \"volume\": 5026151, \"low\": 26.3700008392334, \"high\": 26.68000030517578, \"close\": 26.549999237060547, \"adjclose\": 25.217836380004883, \"dividends\": 0.0}, {\"symbol\": \"WBC.AX\", \"date\": \"2021-06-16T00:00:00\", \"open\": 26.700000762939453, \"volume\": 5993712, \"low\": 26.549999237060547, \"high\": 26.729999542236328, \"close\": 26.549999237060547, \"adjclose\": 25.217836380004883, \"dividends\": 0.0}, {\"symbol\": \"WBC.AX\", \"date\": \"2021-06-17T00:00:00\", \"open\": 26.799999237060547, \"volume\": 10341827, \"low\": 26.719999313354492, \"high\": 27.1200008392334, \"close\": 26.940000534057617, \"adjclose\": 25.588266372680664, \"dividends\": 0.0}, {\"symbol\": \"WBC.AX\", \"date\": \"2021-06-18T00:00:00\", \"open\": 26.739999771118164, \"volume\": 13927785, \"low\": 26.719999313354492, \"high\": 26.975000381469727, \"close\": 26.8799991607666, \"adjclose\": 25.53127670288086, \"dividends\": 0.0}, {\"symbol\": \"WBC.AX\", \"date\": \"2021-06-21T00:00:00\", \"open\": 26.399999618530273, \"volume\": 6311087, \"low\": 26.075000762939453, \"high\": 26.399999618530273, \"close\": 26.149999618530273, \"adjclose\": 24.83790397644043, \"dividends\": 0.0}, {\"symbol\": \"WBC.AX\", \"date\": \"2021-06-22T00:00:00\", \"open\": 26.600000381469727, \"volume\": 5969480, \"low\": 26.520000457763672, \"high\": 26.799999237060547, \"close\": 26.610000610351562, \"adjclose\": 25.274826049804688, \"dividends\": 0.0}, {\"symbol\": \"WBC.AX\", \"date\": \"2021-06-23T00:00:00\", \"open\": 26.450000762939453, \"volume\": 6732031, \"low\": 26.079999923706055, \"high\": 26.450000762939453, \"close\": 26.079999923706055, \"adjclose\": 24.77141761779785, \"dividends\": 0.0}, {\"symbol\": \"WBC.AX\", \"date\": \"2021-06-24T00:00:00\", \"open\": 26.010000228881836, \"volume\": 6208873, \"low\": 25.725000381469727, \"high\": 26.040000915527344, \"close\": 25.829999923706055, \"adjclose\": 24.53396224975586, \"dividends\": 0.0}, {\"symbol\": \"WBC.AX\", \"date\": \"2021-06-25T00:00:00\", \"open\": 26.100000381469727, \"volume\": 4701759, \"low\": 25.860000610351562, \"high\": 26.18000030517578, \"close\": 25.889999389648438, \"adjclose\": 24.590951919555664, \"dividends\": 0.0}, {\"symbol\": \"WBC.AX\", \"date\": \"2021-06-28T00:00:00\", \"open\": 25.860000610351562, \"volume\": 4082681, \"low\": 25.6200008392334, \"high\": 25.8700008392334, \"close\": 25.81999969482422, \"adjclose\": 24.524463653564453, \"dividends\": 0.0}, {\"symbol\": \"WBC.AX\", \"date\": \"2021-06-29T00:00:00\", \"open\": 25.649999618530273, \"volume\": 4315422, \"low\": 25.55500030517578, \"high\": 25.889999389648438, \"close\": 25.860000610351562, \"adjclose\": 24.562456130981445, \"dividends\": 0.0}, {\"symbol\": \"WBC.AX\", \"date\": \"2021-06-30T00:00:00\", \"open\": 25.940000534057617, \"volume\": 4755199, \"low\": 25.809999465942383, \"high\": 26.100000381469727, \"close\": 25.809999465942383, \"adjclose\": 24.514965057373047, \"dividends\": 0.0}, {\"symbol\": \"WBC.AX\", \"date\": \"2021-07-01T00:00:00\", \"open\": 25.940000534057617, \"volume\": 3863747, \"low\": 25.610000610351562, \"high\": 25.940000534057617, \"close\": 25.649999618530273, \"adjclose\": 24.362993240356445, \"dividends\": 0.0}, {\"symbol\": \"WBC.AX\", \"date\": \"2021-07-02T00:00:00\", \"open\": 25.799999237060547, \"volume\": 4852047, \"low\": 25.559999465942383, \"high\": 25.90999984741211, \"close\": 25.639999389648438, \"adjclose\": 24.35349464416504, \"dividends\": 0.0}, {\"symbol\": \"WBC.AX\", \"date\": \"2021-07-05T00:00:00\", \"open\": 25.579999923706055, \"volume\": 3965667, \"low\": 25.479999542236328, \"high\": 25.729999542236328, \"close\": 25.530000686645508, \"adjclose\": 24.24901580810547, \"dividends\": 0.0}, {\"symbol\": \"WBC.AX\", \"date\": \"2021-07-06T00:00:00\", \"open\": 25.649999618530273, \"volume\": 3784251, \"low\": 25.450000762939453, \"high\": 25.75, \"close\": 25.450000762939453, \"adjclose\": 24.173030853271484, \"dividends\": 0.0}, {\"symbol\": \"WBC.AX\", \"date\": \"2021-07-07T00:00:00\", \"open\": 25.299999237060547, \"volume\": 3270758, \"low\": 25.299999237060547, \"high\": 25.639999389648438, \"close\": 25.600000381469727, \"adjclose\": 24.315502166748047, \"dividends\": 0.0}, {\"symbol\": \"WBC.AX\", \"date\": \"2021-07-08T00:00:00\", \"open\": 25.600000381469727, \"volume\": 3028023, \"low\": 25.440000534057617, \"high\": 25.729999542236328, \"close\": 25.530000686645508, \"adjclose\": 24.24901580810547, \"dividends\": 0.0}, {\"symbol\": \"WBC.AX\", \"date\": \"2021-07-09T00:00:00\", \"open\": 25.290000915527344, \"volume\": 5603131, \"low\": 25.170000076293945, \"high\": 25.3700008392334, \"close\": 25.3700008392334, \"adjclose\": 24.097042083740234, \"dividends\": 0.0}, {\"symbol\": \"WBC.AX\", \"date\": \"2021-07-12T00:00:00\", \"open\": 25.540000915527344, \"volume\": 3092332, \"low\": 25.459999084472656, \"high\": 25.6299991607666, \"close\": 25.520000457763672, \"adjclose\": 24.239517211914062, \"dividends\": 0.0}, {\"symbol\": \"WBC.AX\", \"date\": \"2021-07-13T00:00:00\", \"open\": 25.700000762939453, \"volume\": 6903250, \"low\": 25.329999923706055, \"high\": 25.760000228881836, \"close\": 25.329999923706055, \"adjclose\": 24.059049606323242, \"dividends\": 0.0}, {\"symbol\": \"WBC.AX\", \"date\": \"2021-07-14T00:00:00\", \"open\": 25.299999237060547, \"volume\": 6256810, \"low\": 25.170000076293945, \"high\": 25.40999984741211, \"close\": 25.270000457763672, \"adjclose\": 24.002059936523438, \"dividends\": 0.0}, {\"symbol\": \"WBC.AX\", \"date\": \"2021-07-15T00:00:00\", \"open\": 25.239999771118164, \"volume\": 6903675, \"low\": 24.969999313354492, \"high\": 25.260000228881836, \"close\": 24.989999771118164, \"adjclose\": 23.736108779907227, \"dividends\": 0.0}, {\"symbol\": \"WBC.AX\", \"date\": \"2021-07-16T00:00:00\", \"open\": 24.889999389648438, \"volume\": 5496313, \"low\": 24.780000686645508, \"high\": 24.950000762939453, \"close\": 24.90999984741211, \"adjclose\": 23.660123825073242, \"dividends\": 0.0}, {\"symbol\": \"WBC.AX\", \"date\": \"2021-07-19T00:00:00\", \"open\": 24.5, \"volume\": 4841080, \"low\": 24.329999923706055, \"high\": 24.760000228881836, \"close\": 24.690000534057617, \"adjclose\": 23.45116424560547, \"dividends\": 0.0}, {\"symbol\": \"WBC.AX\", \"date\": \"2021-07-20T00:00:00\", \"open\": 24.280000686645508, \"volume\": 7344904, \"low\": 24.1299991607666, \"high\": 24.670000076293945, \"close\": 24.520000457763672, \"adjclose\": 23.28969383239746, \"dividends\": 0.0}, {\"symbol\": \"WBC.AX\", \"date\": \"2021-07-21T00:00:00\", \"open\": 24.700000762939453, \"volume\": 5212250, \"low\": 24.690000534057617, \"high\": 24.920000076293945, \"close\": 24.760000228881836, \"adjclose\": 23.517650604248047, \"dividends\": 0.0}, {\"symbol\": \"WBC.AX\", \"date\": \"2021-07-22T00:00:00\", \"open\": 24.829999923706055, \"volume\": 5058349, \"low\": 24.75, \"high\": 24.93000030517578, \"close\": 24.93000030517578, \"adjclose\": 23.679119110107422, \"dividends\": 0.0}, {\"symbol\": \"WBC.AX\", \"date\": \"2021-07-23T00:00:00\", \"open\": 24.600000381469727, \"volume\": 3593670, \"low\": 24.600000381469727, \"high\": 24.81999969482422, \"close\": 24.709999084472656, \"adjclose\": 23.470157623291016, \"dividends\": 0.0}, {\"symbol\": \"WBC.AX\", \"date\": \"2021-07-26T00:00:00\", \"open\": 24.709999084472656, \"volume\": 4340960, \"low\": 24.530000686645508, \"high\": 24.760000228881836, \"close\": 24.6200008392334, \"adjclose\": 23.384675979614258, \"dividends\": 0.0}, {\"symbol\": \"WBC.AX\", \"date\": \"2021-07-27T00:00:00\", \"open\": 24.700000762939453, \"volume\": 4923996, \"low\": 24.56999969482422, \"high\": 24.829999923706055, \"close\": 24.790000915527344, \"adjclose\": 23.546146392822266, \"dividends\": 0.0}, {\"symbol\": \"WBC.AX\", \"date\": \"2021-07-28T00:00:00\", \"open\": 24.790000915527344, \"volume\": 5082416, \"low\": 24.540000915527344, \"high\": 24.829999923706055, \"close\": 24.559999465942383, \"adjclose\": 23.32768440246582, \"dividends\": 0.0}, {\"symbol\": \"WBC.AX\", \"date\": \"2021-07-29T00:00:00\", \"open\": 24.520000457763672, \"volume\": 4118012, \"low\": 24.450000762939453, \"high\": 24.584999084472656, \"close\": 24.520000457763672, \"adjclose\": 23.28969383239746, \"dividends\": 0.0}, {\"symbol\": \"WBC.AX\", \"date\": \"2021-07-30T00:00:00\", \"open\": 24.559999465942383, \"volume\": 4467094, \"low\": 24.510000228881836, \"high\": 24.65999984741211, \"close\": 24.520000457763672, \"adjclose\": 23.28969383239746, \"dividends\": 0.0}, {\"symbol\": \"WBC.AX\", \"date\": \"2021-08-02T00:00:00\", \"open\": 24.649999618530273, \"volume\": 5337687, \"low\": 24.6299991607666, \"high\": 25.100000381469727, \"close\": 25.030000686645508, \"adjclose\": 23.77410316467285, \"dividends\": 0.0}, {\"symbol\": \"WBC.AX\", \"date\": \"2021-08-03T00:00:00\", \"open\": 24.950000762939453, \"volume\": 4714791, \"low\": 24.700000762939453, \"high\": 24.9950008392334, \"close\": 24.799999237060547, \"adjclose\": 23.555641174316406, \"dividends\": 0.0}, {\"symbol\": \"WBC.AX\", \"date\": \"2021-08-04T00:00:00\", \"open\": 24.899999618530273, \"volume\": 4835657, \"low\": 24.719999313354492, \"high\": 24.940000534057617, \"close\": 24.84000015258789, \"adjclose\": 23.59363555908203, \"dividends\": 0.0}, {\"symbol\": \"WBC.AX\", \"date\": \"2021-08-05T00:00:00\", \"open\": 24.899999618530273, \"volume\": 4631332, \"low\": 24.81999969482422, \"high\": 24.959999084472656, \"close\": 24.889999389648438, \"adjclose\": 23.64112663269043, \"dividends\": 0.0}, {\"symbol\": \"WBC.AX\", \"date\": \"2021-08-06T00:00:00\", \"open\": 24.950000762939453, \"volume\": 3993772, \"low\": 24.920000076293945, \"high\": 25.1200008392334, \"close\": 25.1200008392334, \"adjclose\": 23.859586715698242, \"dividends\": 0.0}, {\"symbol\": \"WBC.AX\", \"date\": \"2021-08-09T00:00:00\", \"open\": 25.25, \"volume\": 4880739, \"low\": 25.25, \"high\": 25.549999237060547, \"close\": 25.360000610351562, \"adjclose\": 24.08754539489746, \"dividends\": 0.0}, {\"symbol\": \"WBC.AX\", \"date\": \"2021-08-10T00:00:00\", \"open\": 25.530000686645508, \"volume\": 4393221, \"low\": 25.399999618530273, \"high\": 25.600000381469727, \"close\": 25.579999923706055, \"adjclose\": 24.296504974365234, \"dividends\": 0.0}, {\"symbol\": \"WBC.AX\", \"date\": \"2021-08-11T00:00:00\", \"open\": 25.670000076293945, \"volume\": 6494781, \"low\": 25.670000076293945, \"high\": 25.940000534057617, \"close\": 25.770000457763672, \"adjclose\": 24.476972579956055, \"dividends\": 0.0}, {\"symbol\": \"WBC.AX\", \"date\": \"2021-08-12T00:00:00\", \"open\": 26.0, \"volume\": 5499418, \"low\": 25.649999618530273, \"high\": 26.06999969482422, \"close\": 25.760000228881836, \"adjclose\": 24.46747398376465, \"dividends\": 0.0}, {\"symbol\": \"WBC.AX\", \"date\": \"2021-08-13T00:00:00\", \"open\": 25.850000381469727, \"volume\": 8336416, \"low\": 25.84000015258789, \"high\": 26.190000534057617, \"close\": 26.15999984741211, \"adjclose\": 24.84740447998047, \"dividends\": 0.0}, {\"symbol\": \"WBC.AX\", \"date\": \"2021-08-16T00:00:00\", \"open\": 26.110000610351562, \"volume\": 6592571, \"low\": 25.790000915527344, \"high\": 26.114999771118164, \"close\": 25.790000915527344, \"adjclose\": 24.495969772338867, \"dividends\": 0.0}, {\"symbol\": \"WBC.AX\", \"date\": \"2021-08-17T00:00:00\", \"open\": 25.75, \"volume\": 7196978, \"low\": 25.260000228881836, \"high\": 25.75, \"close\": 25.450000762939453, \"adjclose\": 24.173030853271484, \"dividends\": 0.0}, {\"symbol\": \"WBC.AX\", \"date\": \"2021-08-18T00:00:00\", \"open\": 25.649999618530273, \"volume\": 5800750, \"low\": 25.489999771118164, \"high\": 25.959999084472656, \"close\": 25.809999465942383, \"adjclose\": 24.514965057373047, \"dividends\": 0.0}, {\"symbol\": \"WBC.AX\", \"date\": \"2021-08-19T00:00:00\", \"open\": 25.739999771118164, \"volume\": 4807719, \"low\": 25.670000076293945, \"high\": 25.889999389648438, \"close\": 25.81999969482422, \"adjclose\": 24.524463653564453, \"dividends\": 0.0}, {\"symbol\": \"WBC.AX\", \"date\": \"2021-08-20T00:00:00\", \"open\": 25.829999923706055, \"volume\": 5884950, \"low\": 25.68000030517578, \"high\": 25.959999084472656, \"close\": 25.760000228881836, \"adjclose\": 24.46747398376465, \"dividends\": 0.0}, {\"symbol\": \"WBC.AX\", \"date\": \"2021-08-23T00:00:00\", \"open\": 25.809999465942383, \"volume\": 3608218, \"low\": 25.65999984741211, \"high\": 25.84000015258789, \"close\": 25.780000686645508, \"adjclose\": 24.48647117614746, \"dividends\": 0.0}, {\"symbol\": \"WBC.AX\", \"date\": \"2021-08-24T00:00:00\", \"open\": 25.81999969482422, \"volume\": 4079721, \"low\": 25.770000457763672, \"high\": 25.959999084472656, \"close\": 25.90999984741211, \"adjclose\": 24.609947204589844, \"dividends\": 0.0}, {\"symbol\": \"WBC.AX\", \"date\": \"2021-08-25T00:00:00\", \"open\": 25.90999984741211, \"volume\": 4652252, \"low\": 25.850000381469727, \"high\": 26.149999618530273, \"close\": 26.149999618530273, \"adjclose\": 24.83790397644043, \"dividends\": 0.0}, {\"symbol\": \"WBC.AX\", \"date\": \"2021-08-26T00:00:00\", \"open\": 26.1299991607666, \"volume\": 3215792, \"low\": 25.920000076293945, \"high\": 26.1299991607666, \"close\": 26.010000228881836, \"adjclose\": 24.704931259155273, \"dividends\": 0.0}, {\"symbol\": \"WBC.AX\", \"date\": \"2021-08-27T00:00:00\", \"open\": 25.860000610351562, \"volume\": 3041982, \"low\": 25.834999084472656, \"high\": 26.0, \"close\": 25.989999771118164, \"adjclose\": 24.68593406677246, \"dividends\": 0.0}, {\"symbol\": \"WBC.AX\", \"date\": \"2021-08-30T00:00:00\", \"open\": 25.989999771118164, \"volume\": 3870481, \"low\": 25.65999984741211, \"high\": 26.0, \"close\": 25.799999237060547, \"adjclose\": 24.50546646118164, \"dividends\": 0.0}, {\"symbol\": \"WBC.AX\", \"date\": \"2021-08-31T00:00:00\", \"open\": 25.719999313354492, \"volume\": 7187581, \"low\": 25.600000381469727, \"high\": 25.899999618530273, \"close\": 25.81999969482422, \"adjclose\": 24.524463653564453, \"dividends\": 0.0}, {\"symbol\": \"WBC.AX\", \"date\": \"2021-09-01T00:00:00\", \"open\": 25.6299991607666, \"volume\": 5362603, \"low\": 25.6299991607666, \"high\": 26.110000610351562, \"close\": 26.110000610351562, \"adjclose\": 24.79991340637207, \"dividends\": 0.0}, {\"symbol\": \"WBC.AX\", \"date\": \"2021-09-02T00:00:00\", \"open\": 26.1299991607666, \"volume\": 4608420, \"low\": 25.915000915527344, \"high\": 26.219999313354492, \"close\": 26.030000686645508, \"adjclose\": 24.723926544189453, \"dividends\": 0.0}, {\"symbol\": \"WBC.AX\", \"date\": \"2021-09-03T00:00:00\", \"open\": 26.049999237060547, \"volume\": 3221700, \"low\": 25.899999618530273, \"high\": 26.094999313354492, \"close\": 26.020000457763672, \"adjclose\": 24.71442985534668, \"dividends\": 0.0}, {\"symbol\": \"WBC.AX\", \"date\": \"2021-09-06T00:00:00\", \"open\": 25.8799991607666, \"volume\": 3889635, \"low\": 25.670000076293945, \"high\": 25.989999771118164, \"close\": 25.989999771118164, \"adjclose\": 24.68593406677246, \"dividends\": 0.0}, {\"symbol\": \"WBC.AX\", \"date\": \"2021-09-07T00:00:00\", \"open\": 25.90999984741211, \"volume\": 3039361, \"low\": 25.809999465942383, \"high\": 26.049999237060547, \"close\": 26.030000686645508, \"adjclose\": 24.723926544189453, \"dividends\": 0.0}, {\"symbol\": \"WBC.AX\", \"date\": \"2021-09-08T00:00:00\", \"open\": 25.889999389648438, \"volume\": 4588043, \"low\": 25.8700008392334, \"high\": 26.139999389648438, \"close\": 26.09000015258789, \"adjclose\": 24.780916213989258, \"dividends\": 0.0}, {\"symbol\": \"WBC.AX\", \"date\": \"2021-09-09T00:00:00\", \"open\": 25.940000534057617, \"volume\": 6285165, \"low\": 25.469999313354492, \"high\": 25.959999084472656, \"close\": 25.600000381469727, \"adjclose\": 24.315502166748047, \"dividends\": 0.0}, {\"symbol\": \"WBC.AX\", \"date\": \"2021-09-10T00:00:00\", \"open\": 25.860000610351562, \"volume\": 3862459, \"low\": 25.56999969482422, \"high\": 25.90999984741211, \"close\": 25.649999618530273, \"adjclose\": 24.362993240356445, \"dividends\": 0.0}, {\"symbol\": \"WBC.AX\", \"date\": \"2021-09-13T00:00:00\", \"open\": 25.649999618530273, \"volume\": 3159366, \"low\": 25.5, \"high\": 25.709999084472656, \"close\": 25.639999389648438, \"adjclose\": 24.35349464416504, \"dividends\": 0.0}, {\"symbol\": \"WBC.AX\", \"date\": \"2021-09-14T00:00:00\", \"open\": 25.700000762939453, \"volume\": 5793640, \"low\": 25.479999542236328, \"high\": 25.84000015258789, \"close\": 25.719999313354492, \"adjclose\": 24.429481506347656, \"dividends\": 0.0}, {\"symbol\": \"WBC.AX\", \"date\": \"2021-09-15T00:00:00\", \"open\": 25.6299991607666, \"volume\": 4874131, \"low\": 25.459999084472656, \"high\": 25.899999618530273, \"close\": 25.790000915527344, \"adjclose\": 24.495969772338867, \"dividends\": 0.0}, {\"symbol\": \"WBC.AX\", \"date\": \"2021-09-16T00:00:00\", \"open\": 25.700000762939453, \"volume\": 7311386, \"low\": 25.700000762939453, \"high\": 26.059999465942383, \"close\": 26.0, \"adjclose\": 24.695432662963867, \"dividends\": 0.0}, {\"symbol\": \"WBC.AX\", \"date\": \"2021-09-17T00:00:00\", \"open\": 25.950000762939453, \"volume\": 10104216, \"low\": 25.719999313354492, \"high\": 26.020000457763672, \"close\": 25.8799991607666, \"adjclose\": 24.581451416015625, \"dividends\": 0.0}, {\"symbol\": \"WBC.AX\", \"date\": \"2021-09-20T00:00:00\", \"open\": 25.639999389648438, \"volume\": 5516428, \"low\": 25.260000228881836, \"high\": 25.760000228881836, \"close\": 25.299999237060547, \"adjclose\": 24.030555725097656, \"dividends\": 0.0}, {\"symbol\": \"WBC.AX\", \"date\": \"2021-09-21T00:00:00\", \"open\": 25.0, \"volume\": 5100209, \"low\": 24.899999618530273, \"high\": 25.239999771118164, \"close\": 25.190000534057617, \"adjclose\": 23.926074981689453, \"dividends\": 0.0}, {\"symbol\": \"WBC.AX\", \"date\": \"2021-09-22T00:00:00\", \"open\": 24.940000534057617, \"volume\": 5924150, \"low\": 24.899999618530273, \"high\": 25.059999465942383, \"close\": 24.90999984741211, \"adjclose\": 23.660123825073242, \"dividends\": 0.0}, {\"symbol\": \"WBC.AX\", \"date\": \"2021-09-23T00:00:00\", \"open\": 25.1299991607666, \"volume\": 5614383, \"low\": 25.030000686645508, \"high\": 25.190000534057617, \"close\": 25.06999969482422, \"adjclose\": 23.812095642089844, \"dividends\": 0.0}, {\"symbol\": \"WBC.AX\", \"date\": \"2021-09-24T00:00:00\", \"open\": 25.200000762939453, \"volume\": 5185619, \"low\": 25.139999389648438, \"high\": 25.299999237060547, \"close\": 25.25, \"adjclose\": 23.983064651489258, \"dividends\": 0.0}, {\"symbol\": \"WBC.AX\", \"date\": \"2021-09-27T00:00:00\", \"open\": 25.389999389648438, \"volume\": 5134742, \"low\": 25.3700008392334, \"high\": 25.639999389648438, \"close\": 25.459999084472656, \"adjclose\": 24.182525634765625, \"dividends\": 0.0}, {\"symbol\": \"WBC.AX\", \"date\": \"2021-09-28T00:00:00\", \"open\": 25.5, \"volume\": 5698793, \"low\": 25.270000457763672, \"high\": 25.6200008392334, \"close\": 25.309999465942383, \"adjclose\": 24.04005241394043, \"dividends\": 0.0}, {\"symbol\": \"WBC.AX\", \"date\": \"2021-09-29T00:00:00\", \"open\": 25.139999389648438, \"volume\": 5875567, \"low\": 25.0, \"high\": 25.299999237060547, \"close\": 25.170000076293945, \"adjclose\": 23.90707778930664, \"dividends\": 0.0}, {\"symbol\": \"WBC.AX\", \"date\": \"2021-09-30T00:00:00\", \"open\": 25.399999618530273, \"volume\": 10871264, \"low\": 25.389999389648438, \"high\": 26.0, \"close\": 26.0, \"adjclose\": 24.695432662963867, \"dividends\": 0.0}, {\"symbol\": \"WBC.AX\", \"date\": \"2021-10-01T00:00:00\", \"open\": 25.610000610351562, \"volume\": 6978134, \"low\": 25.229999542236328, \"high\": 25.610000610351562, \"close\": 25.40999984741211, \"adjclose\": 24.135034561157227, \"dividends\": 0.0}, {\"symbol\": \"WBC.AX\", \"date\": \"2021-10-04T00:00:00\", \"open\": 25.829999923706055, \"volume\": 5168696, \"low\": 25.700000762939453, \"high\": 26.0, \"close\": 25.950000762939453, \"adjclose\": 24.64794158935547, \"dividends\": 0.0}, {\"symbol\": \"WBC.AX\", \"date\": \"2021-10-05T00:00:00\", \"open\": 25.8799991607666, \"volume\": 7490355, \"low\": 25.56999969482422, \"high\": 25.969999313354492, \"close\": 25.809999465942383, \"adjclose\": 24.514965057373047, \"dividends\": 0.0}, {\"symbol\": \"WBC.AX\", \"date\": \"2021-10-06T00:00:00\", \"open\": 25.860000610351562, \"volume\": 5269343, \"low\": 25.469999313354492, \"high\": 25.920000076293945, \"close\": 25.649999618530273, \"adjclose\": 24.362993240356445, \"dividends\": 0.0}, {\"symbol\": \"WBC.AX\", \"date\": \"2021-10-07T00:00:00\", \"open\": 25.809999465942383, \"volume\": 6901915, \"low\": 25.670000076293945, \"high\": 26.06999969482422, \"close\": 26.010000228881836, \"adjclose\": 24.704931259155273, \"dividends\": 0.0}, {\"symbol\": \"WBC.AX\", \"date\": \"2021-10-08T00:00:00\", \"open\": 26.079999923706055, \"volume\": 7412866, \"low\": 25.719999313354492, \"high\": 26.09000015258789, \"close\": 25.959999084472656, \"adjclose\": 24.657438278198242, \"dividends\": 0.0}, {\"symbol\": \"WBC.AX\", \"date\": \"2021-10-11T00:00:00\", \"open\": 25.790000915527344, \"volume\": 6860005, \"low\": 25.75, \"high\": 26.09000015258789, \"close\": 26.059999465942383, \"adjclose\": 24.752422332763672, \"dividends\": 0.0}, {\"symbol\": \"WBC.AX\", \"date\": \"2021-10-12T00:00:00\", \"open\": 25.799999237060547, \"volume\": 7888013, \"low\": 25.440000534057617, \"high\": 25.989999771118164, \"close\": 25.6299991607666, \"adjclose\": 24.343996047973633, \"dividends\": 0.0}, {\"symbol\": \"WBC.AX\", \"date\": \"2021-10-13T00:00:00\", \"open\": 25.549999237060547, \"volume\": 5960351, \"low\": 25.200000762939453, \"high\": 25.549999237060547, \"close\": 25.299999237060547, \"adjclose\": 24.030555725097656, \"dividends\": 0.0}, {\"symbol\": \"WBC.AX\", \"date\": \"2021-10-14T00:00:00\", \"open\": 25.299999237060547, \"volume\": 4714356, \"low\": 25.270000457763672, \"high\": 25.559999465942383, \"close\": 25.270000457763672, \"adjclose\": 24.002059936523438, \"dividends\": 0.0}, {\"symbol\": \"WBC.AX\", \"date\": \"2021-10-15T00:00:00\", \"open\": 25.389999389648438, \"volume\": 3710101, \"low\": 25.25, \"high\": 25.510000228881836, \"close\": 25.389999389648438, \"adjclose\": 24.116037368774414, \"dividends\": 0.0}, {\"symbol\": \"WBC.AX\", \"date\": \"2021-10-18T00:00:00\", \"open\": 25.600000381469727, \"volume\": 3315029, \"low\": 25.510000228881836, \"high\": 25.729999542236328, \"close\": 25.579999923706055, \"adjclose\": 24.296504974365234, \"dividends\": 0.0}, {\"symbol\": \"WBC.AX\", \"date\": \"2021-10-19T00:00:00\", \"open\": 25.540000915527344, \"volume\": 3498064, \"low\": 25.479999542236328, \"high\": 25.670000076293945, \"close\": 25.479999542236328, \"adjclose\": 24.201522827148438, \"dividends\": 0.0}, {\"symbol\": \"WBC.AX\", \"date\": \"2021-10-20T00:00:00\", \"open\": 25.56999969482422, \"volume\": 5466887, \"low\": 25.530000686645508, \"high\": 25.799999237060547, \"close\": 25.68000030517578, \"adjclose\": 24.391489028930664, \"dividends\": 0.0}, {\"symbol\": \"WBC.AX\", \"date\": \"2021-10-21T00:00:00\", \"open\": 25.770000457763672, \"volume\": 6495075, \"low\": 25.670000076293945, \"high\": 25.8799991607666, \"close\": 25.829999923706055, \"adjclose\": 24.53396224975586, \"dividends\": 0.0}, {\"symbol\": \"WBC.AX\", \"date\": \"2021-10-22T00:00:00\", \"open\": 25.709999084472656, \"volume\": 4546300, \"low\": 25.559999465942383, \"high\": 25.770000457763672, \"close\": 25.739999771118164, \"adjclose\": 24.44847869873047, \"dividends\": 0.0}, {\"symbol\": \"WBC.AX\", \"date\": \"2021-10-25T00:00:00\", \"open\": 25.809999465942383, \"volume\": 3166667, \"low\": 25.670000076293945, \"high\": 25.899999618530273, \"close\": 25.709999084472656, \"adjclose\": 24.419981002807617, \"dividends\": 0.0}, {\"symbol\": \"WBC.AX\", \"date\": \"2021-10-26T00:00:00\", \"open\": 25.780000686645508, \"volume\": 2900146, \"low\": 25.739999771118164, \"high\": 25.90999984741211, \"close\": 25.790000915527344, \"adjclose\": 24.495969772338867, \"dividends\": 0.0}, {\"symbol\": \"WBC.AX\", \"date\": \"2021-10-27T00:00:00\", \"open\": 25.899999618530273, \"volume\": 5443851, \"low\": 25.809999465942383, \"high\": 26.190000534057617, \"close\": 25.950000762939453, \"adjclose\": 24.64794158935547, \"dividends\": 0.0}, {\"symbol\": \"WBC.AX\", \"date\": \"2021-10-28T00:00:00\", \"open\": 25.989999771118164, \"volume\": 6313561, \"low\": 25.959999084472656, \"high\": 26.25, \"close\": 26.229999542236328, \"adjclose\": 24.91389274597168, \"dividends\": 0.0}, {\"symbol\": \"WBC.AX\", \"date\": \"2021-10-29T00:00:00\", \"open\": 26.34000015258789, \"volume\": 7936427, \"low\": 25.670000076293945, \"high\": 26.440000534057617, \"close\": 25.670000076293945, \"adjclose\": 24.381990432739258, \"dividends\": 0.0}, {\"symbol\": \"WBC.AX\", \"date\": \"2021-11-01T00:00:00\", \"open\": 24.5, \"volume\": 36262379, \"low\": 23.780000686645508, \"high\": 24.700000762939453, \"close\": 23.780000686645508, \"adjclose\": 22.586824417114258, \"dividends\": 0.0}, {\"symbol\": \"WBC.AX\", \"date\": \"2021-11-02T00:00:00\", \"open\": 23.950000762939453, \"volume\": 21163708, \"low\": 23.0, \"high\": 23.950000762939453, \"close\": 23.1299991607666, \"adjclose\": 21.96943473815918, \"dividends\": 0.0}, {\"symbol\": \"WBC.AX\", \"date\": \"2021-11-03T00:00:00\", \"open\": 23.440000534057617, \"volume\": 17407560, \"low\": 23.149999618530273, \"high\": 23.540000915527344, \"close\": 23.149999618530273, \"adjclose\": 21.988431930541992, \"dividends\": 0.0}, {\"symbol\": \"WBC.AX\", \"date\": \"2021-11-04T00:00:00\", \"open\": 23.219999313354492, \"volume\": 12864818, \"low\": 23.079999923706055, \"high\": 23.299999237060547, \"close\": 23.200000762939453, \"adjclose\": 22.035924911499023, \"dividends\": 0.0}, {\"symbol\": \"WBC.AX\", \"date\": \"2021-11-05T00:00:00\", \"open\": 22.600000381469727, \"volume\": 11882536, \"low\": 22.549999237060547, \"high\": 22.709999084472656, \"close\": 22.549999237060547, \"adjclose\": 21.987171173095703, \"dividends\": 0.6}, {\"symbol\": \"WBC.AX\", \"date\": \"2021-11-08T00:00:00\", \"open\": 22.709999084472656, \"volume\": 8243874, \"low\": 22.649999618530273, \"high\": 22.969999313354492, \"close\": 22.84000015258789, \"adjclose\": 22.269933700561523, \"dividends\": 0.0}, {\"symbol\": \"WBC.AX\", \"date\": \"2021-11-09T00:00:00\", \"open\": 22.829999923706055, \"volume\": 9292162, \"low\": 22.520000457763672, \"high\": 22.940000534057617, \"close\": 22.520000457763672, \"adjclose\": 21.957921981811523, \"dividends\": 0.0}, {\"symbol\": \"WBC.AX\", \"date\": \"2021-11-10T00:00:00\", \"open\": 22.600000381469727, \"volume\": 10203425, \"low\": 22.559999465942383, \"high\": 23.020000457763672, \"close\": 22.709999084472656, \"adjclose\": 22.143178939819336, \"dividends\": 0.0}, {\"symbol\": \"WBC.AX\", \"date\": \"2021-11-11T00:00:00\", \"open\": 22.959999084472656, \"volume\": 7779728, \"low\": 22.59000015258789, \"high\": 22.979999542236328, \"close\": 22.68000030517578, \"adjclose\": 22.113927841186523, \"dividends\": 0.0}, {\"symbol\": \"WBC.AX\", \"date\": \"2021-11-12T00:00:00\", \"open\": 22.81999969482422, \"volume\": 7057740, \"low\": 22.690000534057617, \"high\": 22.8799991607666, \"close\": 22.690000534057617, \"adjclose\": 22.12367820739746, \"dividends\": 0.0}, {\"symbol\": \"WBC.AX\", \"date\": \"2021-11-15T00:00:00\", \"open\": 22.719999313354492, \"volume\": 6268187, \"low\": 22.709999084472656, \"high\": 22.90999984741211, \"close\": 22.829999923706055, \"adjclose\": 22.260183334350586, \"dividends\": 0.0}, {\"symbol\": \"WBC.AX\", \"date\": \"2021-11-16T00:00:00\", \"open\": 22.81999969482422, \"volume\": 7676007, \"low\": 22.719999313354492, \"high\": 22.950000762939453, \"close\": 22.75, \"adjclose\": 22.182180404663086, \"dividends\": 0.0}, {\"symbol\": \"WBC.AX\", \"date\": \"2021-11-17T00:00:00\", \"open\": 22.75, \"volume\": 15750370, \"low\": 22.31999969482422, \"high\": 22.75, \"close\": 22.3700008392334, \"adjclose\": 21.81166648864746, \"dividends\": 0.0}, {\"symbol\": \"WBC.AX\", \"date\": \"2021-11-18T00:00:00\", \"open\": 22.299999237060547, \"volume\": 7812318, \"low\": 22.149999618530273, \"high\": 22.360000610351562, \"close\": 22.149999618530273, \"adjclose\": 21.597156524658203, \"dividends\": 0.0}, {\"symbol\": \"WBC.AX\", \"date\": \"2021-11-19T00:00:00\", \"open\": 22.209999084472656, \"volume\": 7130173, \"low\": 22.06999969482422, \"high\": 22.420000076293945, \"close\": 22.139999389648438, \"adjclose\": 21.587406158447266, \"dividends\": 0.0}, {\"symbol\": \"WBC.AX\", \"date\": \"2021-11-22T00:00:00\", \"open\": 22.059999465942383, \"volume\": 11659056, \"low\": 21.6299991607666, \"high\": 22.100000381469727, \"close\": 21.68000030517578, \"adjclose\": 21.138887405395508, \"dividends\": 0.0}, {\"symbol\": \"WBC.AX\", \"date\": \"2021-11-23T00:00:00\", \"open\": 22.0, \"volume\": 8913273, \"low\": 21.780000686645508, \"high\": 22.079999923706055, \"close\": 21.809999465942383, \"adjclose\": 21.265642166137695, \"dividends\": 0.0}, {\"symbol\": \"WBC.AX\", \"date\": \"2021-11-24T00:00:00\", \"open\": 21.959999084472656, \"volume\": 9138671, \"low\": 21.760000228881836, \"high\": 21.969999313354492, \"close\": 21.799999237060547, \"adjclose\": 21.255891799926758, \"dividends\": 0.0}, {\"symbol\": \"WBC.AX\", \"date\": \"2021-11-25T00:00:00\", \"open\": 21.729999542236328, \"volume\": 5572556, \"low\": 21.610000610351562, \"high\": 21.75, \"close\": 21.6299991607666, \"adjclose\": 21.090133666992188, \"dividends\": 0.0}, {\"symbol\": \"WBC.AX\", \"date\": \"2021-11-26T00:00:00\", \"open\": 21.670000076293945, \"volume\": 12599479, \"low\": 21.030000686645508, \"high\": 21.729999542236328, \"close\": 21.079999923706055, \"adjclose\": 20.553861618041992, \"dividends\": 0.0}, {\"symbol\": \"WBC.AX\", \"date\": \"2021-11-29T00:00:00\", \"open\": 20.739999771118164, \"volume\": 10422024, \"low\": 20.709999084472656, \"high\": 21.049999237060547, \"close\": 20.920000076293945, \"adjclose\": 20.397855758666992, \"dividends\": 0.0}, {\"symbol\": \"WBC.AX\", \"date\": \"2021-11-30T00:00:00\", \"open\": 21.149999618530273, \"volume\": 19864589, \"low\": 20.520000457763672, \"high\": 21.270000457763672, \"close\": 20.520000457763672, \"adjclose\": 20.00783920288086, \"dividends\": 0.0}, {\"symbol\": \"WBC.AX\", \"date\": \"2021-12-01T00:00:00\", \"open\": 20.5, \"volume\": 11385217, \"low\": 20.420000076293945, \"high\": 20.700000762939453, \"close\": 20.6200008392334, \"adjclose\": 20.105344772338867, \"dividends\": 0.0}, {\"symbol\": \"WBC.AX\", \"date\": \"2021-12-02T00:00:00\", \"open\": 20.5, \"volume\": 12803060, \"low\": 20.3700008392334, \"high\": 20.709999084472656, \"close\": 20.459999084472656, \"adjclose\": 19.949337005615234, \"dividends\": 0.0}, {\"symbol\": \"WBC.AX\", \"date\": \"2021-12-03T00:00:00\", \"open\": 20.649999618530273, \"volume\": 10581813, \"low\": 20.469999313354492, \"high\": 20.780000686645508, \"close\": 20.700000762939453, \"adjclose\": 20.183347702026367, \"dividends\": 0.0}, {\"symbol\": \"WBC.AX\", \"date\": \"2021-12-06T00:00:00\", \"open\": 20.709999084472656, \"volume\": 6657880, \"low\": 20.549999237060547, \"high\": 20.780000686645508, \"close\": 20.719999313354492, \"adjclose\": 20.20284652709961, \"dividends\": 0.0}, {\"symbol\": \"WBC.AX\", \"date\": \"2021-12-07T00:00:00\", \"open\": 21.0, \"volume\": 6453719, \"low\": 20.780000686645508, \"high\": 21.049999237060547, \"close\": 20.950000762939453, \"adjclose\": 20.427108764648438, \"dividends\": 0.0}, {\"symbol\": \"WBC.AX\", \"date\": \"2021-12-08T00:00:00\", \"open\": 21.100000381469727, \"volume\": 8488954, \"low\": 20.860000610351562, \"high\": 21.239999771118164, \"close\": 21.06999969482422, \"adjclose\": 20.544111251831055, \"dividends\": 0.0}, {\"symbol\": \"WBC.AX\", \"date\": \"2021-12-09T00:00:00\", \"open\": 21.06999969482422, \"volume\": 6565445, \"low\": 20.989999771118164, \"high\": 21.18000030517578, \"close\": 21.020000457763672, \"adjclose\": 20.495361328125, \"dividends\": 0.0}, {\"symbol\": \"WBC.AX\", \"date\": \"2021-12-10T00:00:00\", \"open\": 21.0, \"volume\": 8105983, \"low\": 20.799999237060547, \"high\": 21.079999923706055, \"close\": 20.850000381469727, \"adjclose\": 20.32960319519043, \"dividends\": 0.0}, {\"symbol\": \"WBC.AX\", \"date\": \"2021-12-13T00:00:00\", \"open\": 20.940000534057617, \"volume\": 8019729, \"low\": 20.81999969482422, \"high\": 20.979999542236328, \"close\": 20.81999969482422, \"adjclose\": 20.300352096557617, \"dividends\": 0.0}, {\"symbol\": \"WBC.AX\", \"date\": \"2021-12-14T00:00:00\", \"open\": 20.75, \"volume\": 4769916, \"low\": 20.729999542236328, \"high\": 20.979999542236328, \"close\": 20.93000030517578, \"adjclose\": 20.40760612487793, \"dividends\": 0.0}, {\"symbol\": \"WBC.AX\", \"date\": \"2021-12-15T00:00:00\", \"open\": 21.0, \"volume\": 5855415, \"low\": 20.940000534057617, \"high\": 21.139999389648438, \"close\": 20.989999771118164, \"adjclose\": 20.466108322143555, \"dividends\": 0.0}, {\"symbol\": \"WBC.AX\", \"date\": \"2021-12-16T00:00:00\", \"open\": 20.940000534057617, \"volume\": 12170423, \"low\": 20.764999389648438, \"high\": 21.059999465942383, \"close\": 20.959999084472656, \"adjclose\": 20.436857223510742, \"dividends\": 0.0}, {\"symbol\": \"WBC.AX\", \"date\": \"2021-12-17T00:00:00\", \"open\": 21.149999618530273, \"volume\": 18752577, \"low\": 21.030000686645508, \"high\": 21.360000610351562, \"close\": 21.030000686645508, \"adjclose\": 20.505111694335938, \"dividends\": 0.0}, {\"symbol\": \"WBC.AX\", \"date\": \"2021-12-20T00:00:00\", \"open\": 20.979999542236328, \"volume\": 5516218, \"low\": 20.729999542236328, \"high\": 21.040000915527344, \"close\": 21.010000228881836, \"adjclose\": 20.48560905456543, \"dividends\": 0.0}, {\"symbol\": \"WBC.AX\", \"date\": \"2021-12-21T00:00:00\", \"open\": 21.049999237060547, \"volume\": 4353612, \"low\": 21.0, \"high\": 21.190000534057617, \"close\": 21.049999237060547, \"adjclose\": 20.52461051940918, \"dividends\": 0.0}, {\"symbol\": \"WBC.AX\", \"date\": \"2021-12-22T00:00:00\", \"open\": 21.1299991607666, \"volume\": 4944213, \"low\": 20.93000030517578, \"high\": 21.149999618530273, \"close\": 21.06999969482422, \"adjclose\": 20.544111251831055, \"dividends\": 0.0}, {\"symbol\": \"WBC.AX\", \"date\": \"2021-12-23T00:00:00\", \"open\": 21.1299991607666, \"volume\": 4359824, \"low\": 21.040000915527344, \"high\": 21.18000030517578, \"close\": 21.18000030517578, \"adjclose\": 20.6513671875, \"dividends\": 0.0}, {\"symbol\": \"WBC.AX\", \"date\": \"2021-12-24T00:00:00\", \"open\": 21.260000228881836, \"volume\": 3039364, \"low\": 21.200000762939453, \"high\": 21.450000762939453, \"close\": 21.200000762939453, \"adjclose\": 20.670867919921875, \"dividends\": 0.0}, {\"symbol\": \"WBC.AX\", \"date\": \"2021-12-29T00:00:00\", \"open\": 21.450000762939453, \"volume\": 9676188, \"low\": 21.399999618530273, \"high\": 21.649999618530273, \"close\": 21.459999084472656, \"adjclose\": 20.92437744140625, \"dividends\": 0.0}, {\"symbol\": \"WBC.AX\", \"date\": \"2021-12-30T00:00:00\", \"open\": 21.510000228881836, \"volume\": 4635337, \"low\": 21.479999542236328, \"high\": 21.600000381469727, \"close\": 21.5, \"adjclose\": 20.96337890625, \"dividends\": 0.0}]}}, {\"mode\": \"vega-lite\"});\n",
              "</script>"
            ],
            "text/plain": [
              "alt.Chart(...)"
            ]
          },
          "execution_count": 73,
          "metadata": {},
          "output_type": "execute_result"
        }
      ],
      "source": [
        "c"
      ]
    },
    {
      "cell_type": "code",
      "execution_count": 74,
      "metadata": {
        "id": "0WpHLPOYkVza"
      },
      "outputs": [],
      "source": [
        "chart_data_df.set_index('date', inplace=True)"
      ]
    },
    {
      "cell_type": "code",
      "execution_count": 75,
      "metadata": {
        "colab": {
          "base_uri": "https://localhost:8080/",
          "height": 197
        },
        "id": "R3OS1MyzkyK1",
        "outputId": "dcf13e93-cb55-4ef0-a2dd-962f3e4f5905"
      },
      "outputs": [
        {
          "data": {
            "text/html": [
              "<div>\n",
              "<style scoped>\n",
              "    .dataframe tbody tr th:only-of-type {\n",
              "        vertical-align: middle;\n",
              "    }\n",
              "\n",
              "    .dataframe tbody tr th {\n",
              "        vertical-align: top;\n",
              "    }\n",
              "\n",
              "    .dataframe thead th {\n",
              "        text-align: right;\n",
              "    }\n",
              "</style>\n",
              "<table border=\"1\" class=\"dataframe\">\n",
              "  <thead>\n",
              "    <tr style=\"text-align: right;\">\n",
              "      <th></th>\n",
              "      <th>symbol</th>\n",
              "      <th>open</th>\n",
              "      <th>volume</th>\n",
              "      <th>low</th>\n",
              "      <th>high</th>\n",
              "      <th>close</th>\n",
              "      <th>adjclose</th>\n",
              "      <th>dividends</th>\n",
              "    </tr>\n",
              "    <tr>\n",
              "      <th>date</th>\n",
              "      <th></th>\n",
              "      <th></th>\n",
              "      <th></th>\n",
              "      <th></th>\n",
              "      <th></th>\n",
              "      <th></th>\n",
              "      <th></th>\n",
              "      <th></th>\n",
              "    </tr>\n",
              "  </thead>\n",
              "  <tbody>\n",
              "    <tr>\n",
              "      <th>2021-01-04</th>\n",
              "      <td>WBC.AX</td>\n",
              "      <td>19.459999</td>\n",
              "      <td>4044153</td>\n",
              "      <td>19.424999</td>\n",
              "      <td>19.670000</td>\n",
              "      <td>19.629999</td>\n",
              "      <td>18.225410</td>\n",
              "      <td>0.0</td>\n",
              "    </tr>\n",
              "    <tr>\n",
              "      <th>2021-01-05</th>\n",
              "      <td>WBC.AX</td>\n",
              "      <td>19.469999</td>\n",
              "      <td>4944351</td>\n",
              "      <td>19.379999</td>\n",
              "      <td>19.530001</td>\n",
              "      <td>19.520000</td>\n",
              "      <td>18.123283</td>\n",
              "      <td>0.0</td>\n",
              "    </tr>\n",
              "    <tr>\n",
              "      <th>2021-01-06</th>\n",
              "      <td>WBC.AX</td>\n",
              "      <td>19.450001</td>\n",
              "      <td>7063517</td>\n",
              "      <td>19.230000</td>\n",
              "      <td>19.500000</td>\n",
              "      <td>19.370001</td>\n",
              "      <td>17.984018</td>\n",
              "      <td>0.0</td>\n",
              "    </tr>\n",
              "    <tr>\n",
              "      <th>2021-01-07</th>\n",
              "      <td>WBC.AX</td>\n",
              "      <td>19.799999</td>\n",
              "      <td>14348410</td>\n",
              "      <td>19.780001</td>\n",
              "      <td>20.340000</td>\n",
              "      <td>19.990000</td>\n",
              "      <td>18.559652</td>\n",
              "      <td>0.0</td>\n",
              "    </tr>\n",
              "    <tr>\n",
              "      <th>2021-01-08</th>\n",
              "      <td>WBC.AX</td>\n",
              "      <td>20.110001</td>\n",
              "      <td>7716248</td>\n",
              "      <td>20.020000</td>\n",
              "      <td>20.280001</td>\n",
              "      <td>20.280001</td>\n",
              "      <td>18.828903</td>\n",
              "      <td>0.0</td>\n",
              "    </tr>\n",
              "  </tbody>\n",
              "</table>\n",
              "</div>"
            ],
            "text/plain": [
              "            symbol       open    volume        low       high      close  \\\n",
              "date                                                                       \n",
              "2021-01-04  WBC.AX  19.459999   4044153  19.424999  19.670000  19.629999   \n",
              "2021-01-05  WBC.AX  19.469999   4944351  19.379999  19.530001  19.520000   \n",
              "2021-01-06  WBC.AX  19.450001   7063517  19.230000  19.500000  19.370001   \n",
              "2021-01-07  WBC.AX  19.799999  14348410  19.780001  20.340000  19.990000   \n",
              "2021-01-08  WBC.AX  20.110001   7716248  20.020000  20.280001  20.280001   \n",
              "\n",
              "             adjclose  dividends  \n",
              "date                              \n",
              "2021-01-04  18.225410        0.0  \n",
              "2021-01-05  18.123283        0.0  \n",
              "2021-01-06  17.984018        0.0  \n",
              "2021-01-07  18.559652        0.0  \n",
              "2021-01-08  18.828903        0.0  "
            ]
          },
          "execution_count": 75,
          "metadata": {},
          "output_type": "execute_result"
        }
      ],
      "source": [
        "chart_data_df.head()"
      ]
    },
    {
      "cell_type": "code",
      "execution_count": 76,
      "metadata": {
        "colab": {
          "base_uri": "https://localhost:8080/",
          "height": 523
        },
        "id": "2Fs8YuDylFoh",
        "outputId": "f4b8c1b5-c58f-453a-9bfe-f2c95bd4fab1"
      },
      "outputs": [
        {
          "data": {
            "image/png": "[encoded data removed]",
            "text/plain": [
              "<Figure size 576x414 with 4 Axes>"
            ]
          },
          "metadata": {
            "needs_background": "light"
          },
          "output_type": "display_data"
        }
      ],
      "source": [
        "mpf.plot(chart_data_df, type='line', volume=True, show_nontrading=True, datetime_format='%d-%b-%Y')"
      ]
    }
  ],
  "metadata": {
    "colab": {
      "authorship_tag": "ABX9TyP96LtHbiLjF2GYVWKlaSJV",
      "collapsed_sections": [],
      "include_colab_link": true,
      "mount_file_id": "1OtqjqCJWWHf8uhHlyZiD6o6TQI_z3lSn",
      "name": "ASX_SharePriceViewer.ipynb",
      "provenance": []
    },
    "kernelspec": {
      "display_name": "Python 3.9.12 ('.venv': venv)",
      "language": "python",
      "name": "python3"
    },
    "language_info": {
      "codemirror_mode": {
        "name": "ipython",
        "version": 3
      },
      "file_extension": ".py",
      "mimetype": "text/x-python",
      "name": "python",
      "nbconvert_exporter": "python",
      "pygments_lexer": "ipython3",
      "version": "3.9.12"
    },
    "vscode": {
      "interpreter": {
        "hash": "c06b2615d68dcf253562619b30951ab4aa787b184aa9bb5599a714720e4adb31"
      }
    }
  },
  "nbformat": 4,
  "nbformat_minor": 0
}
