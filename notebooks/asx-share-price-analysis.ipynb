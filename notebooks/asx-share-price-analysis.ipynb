{
  "cells": [
    {
      "cell_type": "markdown",
      "metadata": {
        "id": "1JiIo-fkpZUY"
      },
      "source": [
        "# ASX Share Price Analysis\n",
        "\n",
        "Prototyping for Streamlit app\n"
      ]
    },
    {
      "cell_type": "markdown",
      "metadata": {
        "id": "MIrS3xUGpg7W"
      },
      "source": [
        "## 1. Setup notebook"
      ]
    },
    {
      "cell_type": "code",
      "execution_count": 37,
      "metadata": {
        "id": "wV5ZgBF0K_Yk"
      },
      "outputs": [
        {
          "name": "stdout",
          "output_type": "stream",
          "text": [
            "created `./.pd_cache/ dir\n"
          ]
        }
      ],
      "source": [
        "import altair as alt      # charting\n",
        "import pandas as pd       # 2-d arrays of data\n",
        "import requests           # making http (web) requests   \n",
        "import json               # working with JSON formatted data\n",
        "from pathlib import Path  # working with files/paths nicely\n",
        "from pandas_cache import pd_cache, timeit"
      ]
    },
    {
      "cell_type": "code",
      "execution_count": 3,
      "metadata": {
        "id": "pOQuwY92qox6"
      },
      "outputs": [],
      "source": [
        "from yahooquery import Ticker\n",
        "\n",
        "# Documentation: https://yahooquery.dpguthrie.com/guide/ticker/historical/\n",
        "\n",
        "import mplfinance as mpf\n",
        "\n",
        "# Documentation: https://github.com/matplotlib/mplfinance"
      ]
    },
    {
      "cell_type": "markdown",
      "metadata": {
        "id": "yA8dVqjjpnGK"
      },
      "source": [
        "## 2. Get and verify data "
      ]
    },
    {
      "cell_type": "markdown",
      "metadata": {
        "id": "AZQj2T-raFyM"
      },
      "source": [
        "We need to establish:\n",
        "* what data we need to solve the problem\n",
        "* where we can source the data from\n",
        "* what (if any) are the terms of use (for each data source)\n",
        "* have we obtained the data correctly (\"reasonableness testing\")"
      ]
    },
    {
      "cell_type": "markdown",
      "metadata": {
        "id": "-uLp042HcQ1o"
      },
      "source": [
        "### What data do we need?\n",
        "\n",
        "A list of companies in the [ASX 200](https://en.wikipedia.org/wiki/S%26P/ASX_200) index and their corresponding symbol (code/ticker); this includes their market capitalisation (i.e. how much they are worth) which defines which companies are in the index. While this can and does change through time, changes to the composition of the index are typically slow.\n",
        "\n",
        "We also what market data and Yahoo Finance seeems to provide this information for free - someone has developed the `yahooquery` package that seems reasonable to use - but we should try and verify this!"
      ]
    },
    {
      "cell_type": "markdown",
      "metadata": {
        "id": "I4lmoHur72Zs"
      },
      "source": [
        "#### ASX 200 - Index composition data\n",
        "\n",
        "This data set provided by the ASX is updated daily (or maybe the day following trading days)."
      ]
    },
    {
      "cell_type": "code",
      "execution_count": 4,
      "metadata": {
        "id": "wcTyTucN138R"
      },
      "outputs": [],
      "source": [
        "ASX_TICKERS_URL = \"https://www.asx.com.au/asx/research/ASXListedCompanies.csv\""
      ]
    },
    {
      "cell_type": "markdown",
      "metadata": {
        "id": "GGC38Egpopik"
      },
      "source": [
        "We can look at the first $n$ lines of the file using the `curl` and `head` commands in Unix (command line). Remember that the `!` character tells the notebook to execute the command \"externally\".\n",
        "\n",
        "_To read about the \"Unix command line\" often also called the shell - see this [Intro to Bash](https://programminghistorian.org/en/lessons/intro-to-bash)._"
      ]
    },
    {
      "cell_type": "code",
      "execution_count": 6,
      "metadata": {
        "colab": {
          "base_uri": "https://localhost:8080/"
        },
        "id": "zE3xtSdDocR2",
        "outputId": "d18e375a-9a0d-41db-fb2f-1d07774b8d09"
      },
      "outputs": [
        {
          "name": "stdout",
          "output_type": "stream",
          "text": [
            "ASX listed companies as at Thu Jul 14 21:31:33 AEST 2022\n",
            "\n",
            "Company name,ASX code,GICS industry group\n",
            "\"MOQ LIMITED\",\"MOQ\",\"Software & Services\"\n",
            "\"1414 DEGREES LIMITED\",\"14D\",\"Capital Goods\"\n",
            "\"1ST GROUP LIMITED\",\"1ST\",\"Health Care Equipment & Services\"\n",
            "\"29METALS LIMITED\",\"29M\",\"Materials\"\n",
            "\"333D LIMITED\",\"T3D\",\"Commercial & Professional Services\"\n",
            "\"360 CAPITAL ENHANCED INCOME FUND\",\"TCF\",\"Not Applic\"\n",
            "\"360 CAPITAL GROUP\",\"TGP\",\"Real Estate\"\n"
          ]
        }
      ],
      "source": [
        "!curl -s \"$ASX_TICKERS_URL\" | head -n 10"
      ]
    },
    {
      "cell_type": "markdown",
      "metadata": {
        "id": "nRAm7yx-pAsl"
      },
      "source": [
        "We can see that this file has a header line i.e. \"ASX listed companies as at...\" so we need to skip this row. We also observe that the fields provided in this file are: `Company name`, three letter `ASX code` and the [`GICS industry group`](https://www.msci.com/our-solutions/indexes/gics) classification."
      ]
    },
    {
      "cell_type": "code",
      "execution_count": 7,
      "metadata": {
        "id": "ytbcOCuV1_V8"
      },
      "outputs": [],
      "source": [
        "asx_tickers_df = pd.read_csv(ASX_TICKERS_URL, skiprows=1)"
      ]
    },
    {
      "cell_type": "code",
      "execution_count": 8,
      "metadata": {
        "colab": {
          "base_uri": "https://localhost:8080/",
          "height": 637
        },
        "id": "-36O1Fch45vr",
        "outputId": "3c293208-acdb-4990-8e7d-59a23f49a23b"
      },
      "outputs": [
        {
          "data": {
            "text/html": [
              "<div>\n",
              "<style scoped>\n",
              "    .dataframe tbody tr th:only-of-type {\n",
              "        vertical-align: middle;\n",
              "    }\n",
              "\n",
              "    .dataframe tbody tr th {\n",
              "        vertical-align: top;\n",
              "    }\n",
              "\n",
              "    .dataframe thead th {\n",
              "        text-align: right;\n",
              "    }\n",
              "</style>\n",
              "<table border=\"1\" class=\"dataframe\">\n",
              "  <thead>\n",
              "    <tr style=\"text-align: right;\">\n",
              "      <th></th>\n",
              "      <th>Company name</th>\n",
              "      <th>ASX code</th>\n",
              "      <th>GICS industry group</th>\n",
              "    </tr>\n",
              "  </thead>\n",
              "  <tbody>\n",
              "    <tr>\n",
              "      <th>0</th>\n",
              "      <td>MOQ LIMITED</td>\n",
              "      <td>MOQ</td>\n",
              "      <td>Software &amp; Services</td>\n",
              "    </tr>\n",
              "    <tr>\n",
              "      <th>1</th>\n",
              "      <td>1414 DEGREES LIMITED</td>\n",
              "      <td>14D</td>\n",
              "      <td>Capital Goods</td>\n",
              "    </tr>\n",
              "    <tr>\n",
              "      <th>2</th>\n",
              "      <td>1ST GROUP LIMITED</td>\n",
              "      <td>1ST</td>\n",
              "      <td>Health Care Equipment &amp; Services</td>\n",
              "    </tr>\n",
              "    <tr>\n",
              "      <th>3</th>\n",
              "      <td>29METALS LIMITED</td>\n",
              "      <td>29M</td>\n",
              "      <td>Materials</td>\n",
              "    </tr>\n",
              "    <tr>\n",
              "      <th>4</th>\n",
              "      <td>333D LIMITED</td>\n",
              "      <td>T3D</td>\n",
              "      <td>Commercial &amp; Professional Services</td>\n",
              "    </tr>\n",
              "    <tr>\n",
              "      <th>...</th>\n",
              "      <td>...</td>\n",
              "      <td>...</td>\n",
              "      <td>...</td>\n",
              "    </tr>\n",
              "    <tr>\n",
              "      <th>2264</th>\n",
              "      <td>ZINC OF IRELAND NL</td>\n",
              "      <td>ZMI</td>\n",
              "      <td>Materials</td>\n",
              "    </tr>\n",
              "    <tr>\n",
              "      <th>2265</th>\n",
              "      <td>ZIP CO LIMITED..</td>\n",
              "      <td>ZIP</td>\n",
              "      <td>Diversified Financials</td>\n",
              "    </tr>\n",
              "    <tr>\n",
              "      <th>2266</th>\n",
              "      <td>ZOOM2U TECHNOLOGIES LIMITED</td>\n",
              "      <td>Z2U</td>\n",
              "      <td>Software &amp; Services</td>\n",
              "    </tr>\n",
              "    <tr>\n",
              "      <th>2267</th>\n",
              "      <td>ZOONO GROUP LIMITED</td>\n",
              "      <td>ZNO</td>\n",
              "      <td>Materials</td>\n",
              "    </tr>\n",
              "    <tr>\n",
              "      <th>2268</th>\n",
              "      <td>ZULEIKA GOLD LIMITED</td>\n",
              "      <td>ZAG</td>\n",
              "      <td>Materials</td>\n",
              "    </tr>\n",
              "  </tbody>\n",
              "</table>\n",
              "<p>2269 rows × 3 columns</p>\n",
              "</div>"
            ],
            "text/plain": [
              "                     Company name ASX code                 GICS industry group\n",
              "0                     MOQ LIMITED      MOQ                 Software & Services\n",
              "1            1414 DEGREES LIMITED      14D                       Capital Goods\n",
              "2               1ST GROUP LIMITED      1ST    Health Care Equipment & Services\n",
              "3                29METALS LIMITED      29M                           Materials\n",
              "4                    333D LIMITED      T3D  Commercial & Professional Services\n",
              "...                           ...      ...                                 ...\n",
              "2264           ZINC OF IRELAND NL      ZMI                           Materials\n",
              "2265             ZIP CO LIMITED..      ZIP              Diversified Financials\n",
              "2266  ZOOM2U TECHNOLOGIES LIMITED      Z2U                 Software & Services\n",
              "2267          ZOONO GROUP LIMITED      ZNO                           Materials\n",
              "2268         ZULEIKA GOLD LIMITED      ZAG                           Materials\n",
              "\n",
              "[2269 rows x 3 columns]"
            ]
          },
          "execution_count": 8,
          "metadata": {},
          "output_type": "execute_result"
        }
      ],
      "source": [
        "asx_tickers_df"
      ]
    },
    {
      "cell_type": "markdown",
      "metadata": {
        "id": "0DN6WWb7fkjE"
      },
      "source": [
        "Let's also look at the end (`tail`) of the file to see that it looks reasonable (i.e. is not obviously corrupt)."
      ]
    },
    {
      "cell_type": "code",
      "execution_count": 9,
      "metadata": {
        "colab": {
          "base_uri": "https://localhost:8080/"
        },
        "id": "lLcE7CU-ffbS",
        "outputId": "89ffb04b-92ac-4db4-fe2b-daf9a6cd2bc5"
      },
      "outputs": [
        {
          "name": "stdout",
          "output_type": "stream",
          "text": [
            "\"ZETA RESOURCES LIMITED\",\"ZER\",\"Not Applic\"\n",
            "\"ZEUS RESOURCES LIMITED\",\"ZEU\",\"Energy\"\n",
            "\"ZICOM GROUP LIMITED\",\"ZGL\",\"Capital Goods\"\n",
            "\"ZIMI LIMITED\",\"ZMM\",\"Technology Hardware & Equipment\"\n",
            "\"ZIMPLATS HOLDINGS LIMITED\",\"ZIM\",\"Materials\"\n",
            "\"ZINC OF IRELAND NL\",\"ZMI\",\"Materials\"\n",
            "\"ZIP CO LIMITED..\",\"ZIP\",\"Diversified Financials\"\n",
            "\"ZOOM2U TECHNOLOGIES LIMITED\",\"Z2U\",\"Software & Services\"\n",
            "\"ZOONO GROUP LIMITED\",\"ZNO\",\"Materials\"\n",
            "\"ZULEIKA GOLD LIMITED\",\"ZAG\",\"Materials\"\n"
          ]
        }
      ],
      "source": [
        "!curl -s \"$ASX_TICKERS_URL\" | tail -n 10"
      ]
    },
    {
      "cell_type": "markdown",
      "metadata": {
        "id": "W60MXOf6ry92"
      },
      "source": [
        "Utility functions\n",
        "\n",
        "We try and create (define) functions that will be useful and get re-used throughout the code to make it more readable.\n",
        "\n",
        "For example, the following function is designed to lookup the full company name from the ASX code."
      ]
    },
    {
      "cell_type": "code",
      "execution_count": 10,
      "metadata": {
        "colab": {
          "base_uri": "https://localhost:8080/"
        },
        "id": "JHSwJlSheqlK",
        "outputId": "4efa1a20-64c8-4030-a047-42472222350e"
      },
      "outputs": [
        {
          "data": {
            "text/plain": [
              "0       MOQ\n",
              "1       14D\n",
              "2       1ST\n",
              "3       29M\n",
              "4       T3D\n",
              "       ... \n",
              "2264    ZMI\n",
              "2265    ZIP\n",
              "2266    Z2U\n",
              "2267    ZNO\n",
              "2268    ZAG\n",
              "Name: ASX code, Length: 2269, dtype: object"
            ]
          },
          "execution_count": 10,
          "metadata": {},
          "output_type": "execute_result"
        }
      ],
      "source": [
        "asx_tickers_df[\"ASX code\"]"
      ]
    },
    {
      "cell_type": "code",
      "execution_count": 22,
      "metadata": {
        "id": "zKG5BtG32i3y"
      },
      "outputs": [],
      "source": [
        "def lookup_company_name_from_code(asx_code):\n",
        "  asx_code = asx_code.replace(\".AX\", \"\")\n",
        "  try:\n",
        "    return asx_tickers_df[asx_tickers_df[\"ASX code\"] == asx_code][\"Company name\"].to_list()[0].title().replace(\".\", \"\")\n",
        "  except Exception:\n",
        "    return \"Code not found\""
      ]
    },
    {
      "cell_type": "code",
      "execution_count": 23,
      "metadata": {
        "id": "Rk6kxnMF28ty"
      },
      "outputs": [],
      "source": [
        "company_name = lookup_company_name_from_code(\"CBA.AX\")"
      ]
    },
    {
      "cell_type": "code",
      "execution_count": 24,
      "metadata": {
        "colab": {
          "base_uri": "https://localhost:8080/",
          "height": 35
        },
        "id": "6smAqkMJ3Rc2",
        "outputId": "d866b148-8160-48f3-c7b6-49340fc66447"
      },
      "outputs": [
        {
          "data": {
            "text/plain": [
              "'Commonwealth Bank Of Australia'"
            ]
          },
          "execution_count": 24,
          "metadata": {},
          "output_type": "execute_result"
        }
      ],
      "source": [
        "company_name"
      ]
    },
    {
      "cell_type": "code",
      "execution_count": 25,
      "metadata": {
        "colab": {
          "base_uri": "https://localhost:8080/",
          "height": 35
        },
        "id": "u6LzxEr-sUif",
        "outputId": "d9c5f566-070b-4946-de01-f996a1e5308f"
      },
      "outputs": [
        {
          "data": {
            "text/plain": [
              "'Insurance Australia Group Limited'"
            ]
          },
          "execution_count": 25,
          "metadata": {},
          "output_type": "execute_result"
        }
      ],
      "source": [
        "lookup_company_name_from_code(\"IAG\")"
      ]
    },
    {
      "cell_type": "code",
      "execution_count": 26,
      "metadata": {},
      "outputs": [
        {
          "data": {
            "text/plain": [
              "'Code not found'"
            ]
          },
          "execution_count": 26,
          "metadata": {},
          "output_type": "execute_result"
        }
      ],
      "source": [
        "lookup_company_name_from_code(\"YYY\")"
      ]
    },
    {
      "cell_type": "markdown",
      "metadata": {
        "id": "9OoJhVWwDOCF"
      },
      "source": [
        "See also: https://asxportfolio.com/shares-python-for-finance-getting-stock-data\n",
        "\n",
        "Example ASX API to get latest data -  e.g. CBA: https://www.asx.com.au/asx/1/share/CBA"
      ]
    },
    {
      "cell_type": "code",
      "execution_count": 27,
      "metadata": {
        "id": "nnMbbJsu7X6E"
      },
      "outputs": [],
      "source": [
        "ASX_DATA_URL = \"https://www.asx.com.au/asx/1/share/\""
      ]
    },
    {
      "cell_type": "markdown",
      "metadata": {
        "id": "54gZAqp6sejr"
      },
      "source": [
        "Here is another utility function that we are defining to get/extract the latest market capitalisation information using the [API](https://www.mulesoft.com/resources/api/what-is-an-api) provided by the ASX. We are also returning the date associated with this information. Note that APIs often return information in particular formats. In this case the returned information is formatted as [JSON](https://www.json.org/json-en.html) and we have to parse it appropriately to get the precise details we are after."
      ]
    },
    {
      "cell_type": "code",
      "execution_count": 29,
      "metadata": {
        "id": "HyDNys6M7fex"
      },
      "outputs": [],
      "source": [
        "def get_market_cap_from_code(asx_code):\n",
        "  asx_code = asx_code.replace(\".AX\", \"\")\n",
        "  r = requests.get(ASX_DATA_URL + asx_code)\n",
        "  data = json.loads(r.text)\n",
        "  try:\n",
        "    return data[\"market_cap\"], data[\"last_trade_date\"]\n",
        "  except Exception:\n",
        "    return None, None"
      ]
    },
    {
      "cell_type": "code",
      "execution_count": 31,
      "metadata": {
        "colab": {
          "base_uri": "https://localhost:8080/"
        },
        "id": "8RZPxVKO7vx4",
        "outputId": "4c71266e-61c2-4667-e57c-ca5865bc5ef9"
      },
      "outputs": [
        {
          "data": {
            "text/plain": [
              "(10747836898, '2022-07-14T00:00:00+1000')"
            ]
          },
          "execution_count": 31,
          "metadata": {},
          "output_type": "execute_result"
        }
      ],
      "source": [
        "get_market_cap_from_code(\"IAG\")"
      ]
    },
    {
      "cell_type": "code",
      "execution_count": 33,
      "metadata": {},
      "outputs": [
        {
          "data": {
            "text/plain": [
              "(None, None)"
            ]
          },
          "execution_count": 33,
          "metadata": {},
          "output_type": "execute_result"
        }
      ],
      "source": [
        "get_market_cap_from_code(\"YYY\")"
      ]
    },
    {
      "cell_type": "code",
      "execution_count": 38,
      "metadata": {
        "colab": {
          "base_uri": "https://localhost:8080/",
          "height": 90,
          "resources": {
            "http://localhost:8080/nbextensions/google.colab/files.js": {
              "data": "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",
              "headers": [
                [
                  "content-type",
                  "application/javascript"
                ]
              ],
              "ok": true,
              "status": 200,
              "status_text": ""
            }
          }
        },
        "id": "bHa7mJx-zTqt",
        "outputId": "94119a11-4629-44a4-b32a-b89a5a115041"
      },
      "outputs": [],
      "source": [
        "@timeit\n",
        "@pd_cache\n",
        "def calculate_market_cap(asx_tickers_df):\n",
        "  asx_tickers_df[\"market_cap\"] = asx_tickers_df[\"ASX code\"].apply(lambda _: get_market_cap_from_code(_)[0])\n",
        "  return asx_tickers_df"
      ]
    },
    {
      "cell_type": "markdown",
      "metadata": {},
      "source": [
        "Cache the tickers file with the market capitalisation information as it takes a few minutes to complete - see `pd_cache` decorator. i.e. tmp directory `.pd_cache` directory."
      ]
    },
    {
      "cell_type": "code",
      "execution_count": 43,
      "metadata": {
        "colab": {
          "base_uri": "https://localhost:8080/",
          "height": 637
        },
        "id": "TdHY0xIxEpHe",
        "outputId": "c9ce989e-ad24-4baf-db91-7ca156825a14"
      },
      "outputs": [
        {
          "name": "stdout",
          "output_type": "stream",
          "text": [
            "\t | read .pd_cache/calculate_market_cap_8eca4e.pkl\n",
            "\t > function calculate_market_cap time: 14.4 ms\n"
          ]
        }
      ],
      "source": [
        "asx_tickers_df = calculate_market_cap(asx_tickers_df)"
      ]
    },
    {
      "cell_type": "code",
      "execution_count": 45,
      "metadata": {
        "id": "sOjWinvgiU51"
      },
      "outputs": [],
      "source": [
        "asx_200_df = asx_tickers_df.sort_values(by='market_cap', ascending=False).reset_index()[0:200]"
      ]
    },
    {
      "cell_type": "code",
      "execution_count": 47,
      "metadata": {
        "colab": {
          "base_uri": "https://localhost:8080/",
          "height": 348
        },
        "id": "wWOv7rDujXa6",
        "outputId": "3e281963-d066-44e2-df88-4b205bb789a7"
      },
      "outputs": [],
      "source": [
        "asx_200_df;"
      ]
    },
    {
      "cell_type": "markdown",
      "metadata": {
        "id": "Z3Rupuec8HBx"
      },
      "source": [
        "#### Historical Market data - Yahoo Finance"
      ]
    },
    {
      "cell_type": "markdown",
      "metadata": {
        "id": "VbOoMr32Oj1D"
      },
      "source": [
        "See `yahooquery` documentation for details - https://yahooquery.dpguthrie.com/"
      ]
    },
    {
      "cell_type": "code",
      "execution_count": 48,
      "metadata": {
        "id": "_iZLHnXkFJ9x"
      },
      "outputs": [],
      "source": [
        "ticker_list = \"CBA.AX WBC.AX IAG.AX\""
      ]
    },
    {
      "cell_type": "code",
      "execution_count": 49,
      "metadata": {
        "id": "NFzUUKyvJ9sz"
      },
      "outputs": [],
      "source": [
        "start_date = \"2021-01-01\"\n",
        "end_date = \"2021-12-31\""
      ]
    },
    {
      "cell_type": "code",
      "execution_count": 50,
      "metadata": {
        "id": "vj8cPh60IwcX"
      },
      "outputs": [],
      "source": [
        "tickers = Ticker(ticker_list)"
      ]
    },
    {
      "cell_type": "code",
      "execution_count": 51,
      "metadata": {
        "id": "gJd4TqAwIzKY"
      },
      "outputs": [],
      "source": [
        "#price_data_df = tickers.history(period='1y', interval='1d')\n",
        "\n",
        "price_data_df = tickers.history(start=start_date, end=end_date)"
      ]
    },
    {
      "cell_type": "code",
      "execution_count": 52,
      "metadata": {
        "colab": {
          "base_uri": "https://localhost:8080/",
          "height": 375
        },
        "id": "UF1Vg8Qlkigk",
        "outputId": "13bd7023-f44a-49ba-b699-8e597d37dc40"
      },
      "outputs": [
        {
          "data": {
            "text/html": [
              "<div>\n",
              "<style scoped>\n",
              "    .dataframe tbody tr th:only-of-type {\n",
              "        vertical-align: middle;\n",
              "    }\n",
              "\n",
              "    .dataframe tbody tr th {\n",
              "        vertical-align: top;\n",
              "    }\n",
              "\n",
              "    .dataframe thead th {\n",
              "        text-align: right;\n",
              "    }\n",
              "</style>\n",
              "<table border=\"1\" class=\"dataframe\">\n",
              "  <thead>\n",
              "    <tr style=\"text-align: right;\">\n",
              "      <th></th>\n",
              "      <th></th>\n",
              "      <th>open</th>\n",
              "      <th>volume</th>\n",
              "      <th>low</th>\n",
              "      <th>high</th>\n",
              "      <th>close</th>\n",
              "      <th>adjclose</th>\n",
              "      <th>dividends</th>\n",
              "    </tr>\n",
              "    <tr>\n",
              "      <th>symbol</th>\n",
              "      <th>date</th>\n",
              "      <th></th>\n",
              "      <th></th>\n",
              "      <th></th>\n",
              "      <th></th>\n",
              "      <th></th>\n",
              "      <th></th>\n",
              "      <th></th>\n",
              "    </tr>\n",
              "  </thead>\n",
              "  <tbody>\n",
              "    <tr>\n",
              "      <th rowspan=\"5\" valign=\"top\">CBA.AX</th>\n",
              "      <th>2021-01-04</th>\n",
              "      <td>82.230003</td>\n",
              "      <td>1414844</td>\n",
              "      <td>82.169998</td>\n",
              "      <td>83.919998</td>\n",
              "      <td>83.750000</td>\n",
              "      <td>79.270065</td>\n",
              "      <td>0.0</td>\n",
              "    </tr>\n",
              "    <tr>\n",
              "      <th>2021-01-05</th>\n",
              "      <td>83.000000</td>\n",
              "      <td>1809541</td>\n",
              "      <td>82.485001</td>\n",
              "      <td>83.260002</td>\n",
              "      <td>83.230003</td>\n",
              "      <td>78.777893</td>\n",
              "      <td>0.0</td>\n",
              "    </tr>\n",
              "    <tr>\n",
              "      <th>2021-01-06</th>\n",
              "      <td>82.690002</td>\n",
              "      <td>2252786</td>\n",
              "      <td>82.279999</td>\n",
              "      <td>83.349998</td>\n",
              "      <td>82.900002</td>\n",
              "      <td>78.465538</td>\n",
              "      <td>0.0</td>\n",
              "    </tr>\n",
              "    <tr>\n",
              "      <th>2021-01-07</th>\n",
              "      <td>84.379997</td>\n",
              "      <td>3011086</td>\n",
              "      <td>83.699997</td>\n",
              "      <td>85.180000</td>\n",
              "      <td>84.580002</td>\n",
              "      <td>80.055672</td>\n",
              "      <td>0.0</td>\n",
              "    </tr>\n",
              "    <tr>\n",
              "      <th>2021-01-08</th>\n",
              "      <td>84.989998</td>\n",
              "      <td>2446079</td>\n",
              "      <td>84.794998</td>\n",
              "      <td>85.629997</td>\n",
              "      <td>85.629997</td>\n",
              "      <td>81.049500</td>\n",
              "      <td>0.0</td>\n",
              "    </tr>\n",
              "    <tr>\n",
              "      <th>...</th>\n",
              "      <th>...</th>\n",
              "      <td>...</td>\n",
              "      <td>...</td>\n",
              "      <td>...</td>\n",
              "      <td>...</td>\n",
              "      <td>...</td>\n",
              "      <td>...</td>\n",
              "      <td>...</td>\n",
              "    </tr>\n",
              "    <tr>\n",
              "      <th rowspan=\"5\" valign=\"top\">IAG.AX</th>\n",
              "      <th>2021-12-22</th>\n",
              "      <td>4.230000</td>\n",
              "      <td>3183974</td>\n",
              "      <td>4.190000</td>\n",
              "      <td>4.240000</td>\n",
              "      <td>4.230000</td>\n",
              "      <td>4.176455</td>\n",
              "      <td>0.0</td>\n",
              "    </tr>\n",
              "    <tr>\n",
              "      <th>2021-12-23</th>\n",
              "      <td>4.240000</td>\n",
              "      <td>2486709</td>\n",
              "      <td>4.210000</td>\n",
              "      <td>4.260000</td>\n",
              "      <td>4.260000</td>\n",
              "      <td>4.206076</td>\n",
              "      <td>0.0</td>\n",
              "    </tr>\n",
              "    <tr>\n",
              "      <th>2021-12-24</th>\n",
              "      <td>4.290000</td>\n",
              "      <td>1706534</td>\n",
              "      <td>4.270000</td>\n",
              "      <td>4.340000</td>\n",
              "      <td>4.270000</td>\n",
              "      <td>4.215950</td>\n",
              "      <td>0.0</td>\n",
              "    </tr>\n",
              "    <tr>\n",
              "      <th>2021-12-29</th>\n",
              "      <td>4.320000</td>\n",
              "      <td>3017851</td>\n",
              "      <td>4.310000</td>\n",
              "      <td>4.360000</td>\n",
              "      <td>4.330000</td>\n",
              "      <td>4.275190</td>\n",
              "      <td>0.0</td>\n",
              "    </tr>\n",
              "    <tr>\n",
              "      <th>2021-12-30</th>\n",
              "      <td>4.350000</td>\n",
              "      <td>2980401</td>\n",
              "      <td>4.300000</td>\n",
              "      <td>4.365000</td>\n",
              "      <td>4.320000</td>\n",
              "      <td>4.265316</td>\n",
              "      <td>0.0</td>\n",
              "    </tr>\n",
              "  </tbody>\n",
              "</table>\n",
              "<p>759 rows × 7 columns</p>\n",
              "</div>"
            ],
            "text/plain": [
              "                        open   volume        low       high      close  \\\n",
              "symbol date                                                              \n",
              "CBA.AX 2021-01-04  82.230003  1414844  82.169998  83.919998  83.750000   \n",
              "       2021-01-05  83.000000  1809541  82.485001  83.260002  83.230003   \n",
              "       2021-01-06  82.690002  2252786  82.279999  83.349998  82.900002   \n",
              "       2021-01-07  84.379997  3011086  83.699997  85.180000  84.580002   \n",
              "       2021-01-08  84.989998  2446079  84.794998  85.629997  85.629997   \n",
              "...                      ...      ...        ...        ...        ...   \n",
              "IAG.AX 2021-12-22   4.230000  3183974   4.190000   4.240000   4.230000   \n",
              "       2021-12-23   4.240000  2486709   4.210000   4.260000   4.260000   \n",
              "       2021-12-24   4.290000  1706534   4.270000   4.340000   4.270000   \n",
              "       2021-12-29   4.320000  3017851   4.310000   4.360000   4.330000   \n",
              "       2021-12-30   4.350000  2980401   4.300000   4.365000   4.320000   \n",
              "\n",
              "                    adjclose  dividends  \n",
              "symbol date                              \n",
              "CBA.AX 2021-01-04  79.270065        0.0  \n",
              "       2021-01-05  78.777893        0.0  \n",
              "       2021-01-06  78.465538        0.0  \n",
              "       2021-01-07  80.055672        0.0  \n",
              "       2021-01-08  81.049500        0.0  \n",
              "...                      ...        ...  \n",
              "IAG.AX 2021-12-22   4.176455        0.0  \n",
              "       2021-12-23   4.206076        0.0  \n",
              "       2021-12-24   4.215950        0.0  \n",
              "       2021-12-29   4.275190        0.0  \n",
              "       2021-12-30   4.265316        0.0  \n",
              "\n",
              "[759 rows x 7 columns]"
            ]
          },
          "execution_count": 52,
          "metadata": {},
          "output_type": "execute_result"
        }
      ],
      "source": [
        "price_data_df"
      ]
    },
    {
      "cell_type": "code",
      "execution_count": null,
      "metadata": {
        "id": "CwieBXSBx18h"
      },
      "outputs": [],
      "source": [
        "tickers.key_stats;"
      ]
    },
    {
      "cell_type": "code",
      "execution_count": null,
      "metadata": {
        "id": "C8Fk0ZpzySAW"
      },
      "outputs": [],
      "source": [
        "tickers.summary_detail;"
      ]
    },
    {
      "cell_type": "code",
      "execution_count": null,
      "metadata": {
        "id": "FKqoeevVwEU_"
      },
      "outputs": [],
      "source": [
        "# profile = tickers.asset_profile"
      ]
    },
    {
      "cell_type": "code",
      "execution_count": null,
      "metadata": {
        "colab": {
          "base_uri": "https://localhost:8080/",
          "height": 35
        },
        "id": "4YrZfA5-xAru",
        "outputId": "7993d080-a67b-4419-df80-f14b6d506d6d"
      },
      "outputs": [
        {
          "data": {
            "application/vnd.google.colaboratory.intrinsic+json": {
              "type": "string"
            },
            "text/plain": [
              "'https://www.commbank.com.au'"
            ]
          },
          "execution_count": 43,
          "metadata": {},
          "output_type": "execute_result"
        }
      ],
      "source": [
        "# profile['CBA.AX']['website']"
      ]
    },
    {
      "cell_type": "code",
      "execution_count": null,
      "metadata": {
        "id": "92PPL9ZWxvZf"
      },
      "outputs": [],
      "source": [
        "# profile['WBC.AX']['website']"
      ]
    },
    {
      "cell_type": "markdown",
      "metadata": {
        "id": "O5mJ5elaPU47"
      },
      "source": [
        "Example of retrieving historical price data using yahooquery via the `Ticker` object."
      ]
    },
    {
      "cell_type": "code",
      "execution_count": null,
      "metadata": {
        "colab": {
          "base_uri": "https://localhost:8080/"
        },
        "id": "Z3eBgv0FT2lR",
        "outputId": "8a208ecd-bb27-4446-e1ba-e6aaec560f90"
      },
      "outputs": [
        {
          "data": {
            "text/plain": [
              "FrozenList(['symbol', 'date'])"
            ]
          },
          "execution_count": 47,
          "metadata": {},
          "output_type": "execute_result"
        }
      ],
      "source": [
        "price_data_df.index.names"
      ]
    },
    {
      "cell_type": "code",
      "execution_count": null,
      "metadata": {
        "colab": {
          "base_uri": "https://localhost:8080/",
          "height": 238
        },
        "id": "Qwm8ZZWQI12y",
        "outputId": "030dbe9f-979b-4e08-90b6-f04854b0b735"
      },
      "outputs": [
        {
          "data": {
            "text/html": [
              "\n",
              "  <div id=\"df-6998c1cd-9452-4a16-a3c8-84b8226dd530\">\n",
              "    <div class=\"colab-df-container\">\n",
              "      <div>\n",
              "<style scoped>\n",
              "    .dataframe tbody tr th:only-of-type {\n",
              "        vertical-align: middle;\n",
              "    }\n",
              "\n",
              "    .dataframe tbody tr th {\n",
              "        vertical-align: top;\n",
              "    }\n",
              "\n",
              "    .dataframe thead th {\n",
              "        text-align: right;\n",
              "    }\n",
              "</style>\n",
              "<table border=\"1\" class=\"dataframe\">\n",
              "  <thead>\n",
              "    <tr style=\"text-align: right;\">\n",
              "      <th></th>\n",
              "      <th></th>\n",
              "      <th>high</th>\n",
              "      <th>volume</th>\n",
              "      <th>close</th>\n",
              "      <th>open</th>\n",
              "      <th>low</th>\n",
              "      <th>adjclose</th>\n",
              "      <th>dividends</th>\n",
              "    </tr>\n",
              "    <tr>\n",
              "      <th>symbol</th>\n",
              "      <th>date</th>\n",
              "      <th></th>\n",
              "      <th></th>\n",
              "      <th></th>\n",
              "      <th></th>\n",
              "      <th></th>\n",
              "      <th></th>\n",
              "      <th></th>\n",
              "    </tr>\n",
              "  </thead>\n",
              "  <tbody>\n",
              "    <tr>\n",
              "      <th rowspan=\"5\" valign=\"top\">CBA.AX</th>\n",
              "      <th>2021-01-04</th>\n",
              "      <td>83.919998</td>\n",
              "      <td>1414844</td>\n",
              "      <td>83.750000</td>\n",
              "      <td>82.230003</td>\n",
              "      <td>82.169998</td>\n",
              "      <td>80.689369</td>\n",
              "      <td>0.0</td>\n",
              "    </tr>\n",
              "    <tr>\n",
              "      <th>2021-01-05</th>\n",
              "      <td>83.260002</td>\n",
              "      <td>1809541</td>\n",
              "      <td>83.230003</td>\n",
              "      <td>83.000000</td>\n",
              "      <td>82.485001</td>\n",
              "      <td>80.188377</td>\n",
              "      <td>0.0</td>\n",
              "    </tr>\n",
              "    <tr>\n",
              "      <th>2021-01-06</th>\n",
              "      <td>83.349998</td>\n",
              "      <td>2252786</td>\n",
              "      <td>82.900002</td>\n",
              "      <td>82.690002</td>\n",
              "      <td>82.279999</td>\n",
              "      <td>79.870438</td>\n",
              "      <td>0.0</td>\n",
              "    </tr>\n",
              "    <tr>\n",
              "      <th>2021-01-07</th>\n",
              "      <td>85.180000</td>\n",
              "      <td>3011086</td>\n",
              "      <td>84.580002</td>\n",
              "      <td>84.379997</td>\n",
              "      <td>83.699997</td>\n",
              "      <td>81.489037</td>\n",
              "      <td>0.0</td>\n",
              "    </tr>\n",
              "    <tr>\n",
              "      <th>2021-01-08</th>\n",
              "      <td>85.629997</td>\n",
              "      <td>2446079</td>\n",
              "      <td>85.629997</td>\n",
              "      <td>84.989998</td>\n",
              "      <td>84.794998</td>\n",
              "      <td>82.500664</td>\n",
              "      <td>0.0</td>\n",
              "    </tr>\n",
              "  </tbody>\n",
              "</table>\n",
              "</div>\n",
              "      <button class=\"colab-df-convert\" onclick=\"convertToInteractive('df-6998c1cd-9452-4a16-a3c8-84b8226dd530')\"\n",
              "              title=\"Convert this dataframe to an interactive table.\"\n",
              "              style=\"display:none;\">\n",
              "        \n",
              "  <svg xmlns=\"http://www.w3.org/2000/svg\" height=\"24px\"viewBox=\"0 0 24 24\"\n",
              "       width=\"24px\">\n",
              "    <path d=\"M0 0h24v24H0V0z\" fill=\"none\"/>\n",
              "    <path d=\"M18.56 5.44l.94 2.06.94-2.06 2.06-.94-2.06-.94-.94-2.06-.94 2.06-2.06.94zm-11 1L8.5 8.5l.94-2.06 2.06-.94-2.06-.94L8.5 2.5l-.94 2.06-2.06.94zm10 10l.94 2.06.94-2.06 2.06-.94-2.06-.94-.94-2.06-.94 2.06-2.06.94z\"/><path d=\"M17.41 7.96l-1.37-1.37c-.4-.4-.92-.59-1.43-.59-.52 0-1.04.2-1.43.59L10.3 9.45l-7.72 7.72c-.78.78-.78 2.05 0 2.83L4 21.41c.39.39.9.59 1.41.59.51 0 1.02-.2 1.41-.59l7.78-7.78 2.81-2.81c.8-.78.8-2.07 0-2.86zM5.41 20L4 18.59l7.72-7.72 1.47 1.35L5.41 20z\"/>\n",
              "  </svg>\n",
              "      </button>\n",
              "      \n",
              "  <style>\n",
              "    .colab-df-container {\n",
              "      display:flex;\n",
              "      flex-wrap:wrap;\n",
              "      gap: 12px;\n",
              "    }\n",
              "\n",
              "    .colab-df-convert {\n",
              "      background-color: #E8F0FE;\n",
              "      border: none;\n",
              "      border-radius: 50%;\n",
              "      cursor: pointer;\n",
              "      display: none;\n",
              "      fill: #1967D2;\n",
              "      height: 32px;\n",
              "      padding: 0 0 0 0;\n",
              "      width: 32px;\n",
              "    }\n",
              "\n",
              "    .colab-df-convert:hover {\n",
              "      background-color: #E2EBFA;\n",
              "      box-shadow: 0px 1px 2px rgba(60, 64, 67, 0.3), 0px 1px 3px 1px rgba(60, 64, 67, 0.15);\n",
              "      fill: #174EA6;\n",
              "    }\n",
              "\n",
              "    [theme=dark] .colab-df-convert {\n",
              "      background-color: #3B4455;\n",
              "      fill: #D2E3FC;\n",
              "    }\n",
              "\n",
              "    [theme=dark] .colab-df-convert:hover {\n",
              "      background-color: #434B5C;\n",
              "      box-shadow: 0px 1px 3px 1px rgba(0, 0, 0, 0.15);\n",
              "      filter: drop-shadow(0px 1px 2px rgba(0, 0, 0, 0.3));\n",
              "      fill: #FFFFFF;\n",
              "    }\n",
              "  </style>\n",
              "\n",
              "      <script>\n",
              "        const buttonEl =\n",
              "          document.querySelector('#df-6998c1cd-9452-4a16-a3c8-84b8226dd530 button.colab-df-convert');\n",
              "        buttonEl.style.display =\n",
              "          google.colab.kernel.accessAllowed ? 'block' : 'none';\n",
              "\n",
              "        async function convertToInteractive(key) {\n",
              "          const element = document.querySelector('#df-6998c1cd-9452-4a16-a3c8-84b8226dd530');\n",
              "          const dataTable =\n",
              "            await google.colab.kernel.invokeFunction('convertToInteractive',\n",
              "                                                     [key], {});\n",
              "          if (!dataTable) return;\n",
              "\n",
              "          const docLinkHtml = 'Like what you see? Visit the ' +\n",
              "            '<a target=\"_blank\" href=https://colab.research.google.com/notebooks/data_table.ipynb>data table notebook</a>'\n",
              "            + ' to learn more about interactive tables.';\n",
              "          element.innerHTML = '';\n",
              "          dataTable['output_type'] = 'display_data';\n",
              "          await google.colab.output.renderOutput(dataTable, element);\n",
              "          const docLink = document.createElement('div');\n",
              "          docLink.innerHTML = docLinkHtml;\n",
              "          element.appendChild(docLink);\n",
              "        }\n",
              "      </script>\n",
              "    </div>\n",
              "  </div>\n",
              "  "
            ],
            "text/plain": [
              "                        high   volume  ...   adjclose  dividends\n",
              "symbol date                            ...                      \n",
              "CBA.AX 2021-01-04  83.919998  1414844  ...  80.689369        0.0\n",
              "       2021-01-05  83.260002  1809541  ...  80.188377        0.0\n",
              "       2021-01-06  83.349998  2252786  ...  79.870438        0.0\n",
              "       2021-01-07  85.180000  3011086  ...  81.489037        0.0\n",
              "       2021-01-08  85.629997  2446079  ...  82.500664        0.0\n",
              "\n",
              "[5 rows x 7 columns]"
            ]
          },
          "execution_count": 48,
          "metadata": {},
          "output_type": "execute_result"
        }
      ],
      "source": [
        "price_data_df.head(5)"
      ]
    },
    {
      "cell_type": "code",
      "execution_count": null,
      "metadata": {
        "colab": {
          "base_uri": "https://localhost:8080/",
          "height": 262
        },
        "id": "G_jLp0XCJG8p",
        "outputId": "31b0a1f6-95ec-42b7-def9-0bac1b6246a0"
      },
      "outputs": [
        {
          "data": {
            "application/vnd.google.colaboratory.module+javascript": "\n      import \"https://ssl.gstatic.com/colaboratory/data_table/a6224c040fa35dcf/data_table.js\";\n\n      window.createDataTable({\n        data: [[\"count\",\n{\n            'v': 508.0,\n            'f': \"508.0\",\n        },\n{\n            'v': 508.0,\n            'f': \"508.0\",\n        },\n{\n            'v': 508.0,\n            'f': \"508.0\",\n        },\n{\n            'v': 508.0,\n            'f': \"508.0\",\n        },\n{\n            'v': 508.0,\n            'f': \"508.0\",\n        },\n{\n            'v': 508.0,\n            'f': \"508.0\",\n        },\n{\n            'v': 508.0,\n            'f': \"508.0\",\n        }],\n [\"mean\",\n{\n            'v': 60.560797248299664,\n            'f': \"60.560797248299664\",\n        },\n{\n            'v': 4616488.602362204,\n            'f': \"4616488.602362204\",\n        },\n{\n            'v': 60.14879920163492,\n            'f': \"60.14879920163492\",\n        },\n{\n            'v': 60.141318929477,\n            'f': \"60.141318929477\",\n        },\n{\n            'v': 59.71275583402378,\n            'f': \"59.71275583402378\",\n        },\n{\n            'v': 59.14157003868283,\n            'f': \"59.14157003868283\",\n        },\n{\n            'v': 0.00921259842519685,\n            'f': \"0.00921259842519685\",\n        }],\n [\"std\",\n{\n            'v': 36.57092031691475,\n            'f': \"36.57092031691475\",\n        },\n{\n            'v': 3421134.7056345115,\n            'f': \"3421134.7056345115\",\n        },\n{\n            'v': 36.326417714104956,\n            'f': \"36.326417714104956\",\n        },\n{\n            'v': 36.30637595342974,\n            'f': \"36.30637595342974\",\n        },\n{\n            'v': 36.037040752458466,\n            'f': \"36.037040752458466\",\n        },\n{\n            'v': 36.12407292691001,\n            'f': \"36.12407292691001\",\n        },\n{\n            'v': 0.1166873893067072,\n            'f': \"0.1166873893067072\",\n        }],\n [\"min\",\n{\n            'v': 19.5,\n            'f': \"19.5\",\n        },\n{\n            'v': 888168.0,\n            'f': \"888168.0\",\n        },\n{\n            'v': 19.3700008392334,\n            'f': \"19.3700008392334\",\n        },\n{\n            'v': 19.450000762939453,\n            'f': \"19.450000762939453\",\n        },\n{\n            'v': 19.229999542236328,\n            'f': \"19.229999542236328\",\n        },\n{\n            'v': 18.444372177124023,\n            'f': \"18.444372177124023\",\n        },\n{\n            'v': 0.0,\n            'f': \"0.0\",\n        }],\n [\"25%\",\n{\n            'v': 25.177500247955322,\n            'f': \"25.177500247955322\",\n        },\n{\n            'v': 2195772.0,\n            'f': \"2195772.0\",\n        },\n{\n            'v': 25.020000457763672,\n            'f': \"25.020000457763672\",\n        },\n{\n            'v': 25.030000686645508,\n            'f': \"25.030000686645508\",\n        },\n{\n            'v': 24.914999961853027,\n            'f': \"24.914999961853027\",\n        },\n{\n            'v': 24.098134994506836,\n            'f': \"24.098134994506836\",\n        },\n{\n            'v': 0.0,\n            'f': \"0.0\",\n        }],\n [\"50%\",\n{\n            'v': 54.835001945495605,\n            'f': \"54.835001945495605\",\n        },\n{\n            'v': 3895153.5,\n            'f': \"3895153.5\",\n        },\n{\n            'v': 54.249999046325684,\n            'f': \"54.249999046325684\",\n        },\n{\n            'v': 54.35000038146973,\n            'f': \"54.35000038146973\",\n        },\n{\n            'v': 54.13999843597412,\n            'f': \"54.13999843597412\",\n        },\n{\n            'v': 53.05685615539551,\n            'f': \"53.05685615539551\",\n        },\n{\n            'v': 0.0,\n            'f': \"0.0\",\n        }],\n [\"75%\",\n{\n            'v': 99.21999740600586,\n            'f': \"99.21999740600586\",\n        },\n{\n            'v': 5962633.25,\n            'f': \"5962633.25\",\n        },\n{\n            'v': 98.62750244140625,\n            'f': \"98.62750244140625\",\n        },\n{\n            'v': 98.70500183105469,\n            'f': \"98.70500183105469\",\n        },\n{\n            'v': 98.0374984741211,\n            'f': \"98.0374984741211\",\n        },\n{\n            'v': 97.24138259887695,\n            'f': \"97.24138259887695\",\n        },\n{\n            'v': 0.0,\n            'f': \"0.0\",\n        }],\n [\"max\",\n{\n            'v': 110.19000244140625,\n            'f': \"110.19000244140625\",\n        },\n{\n            'v': 36262379.0,\n            'f': \"36262379.0\",\n        },\n{\n            'v': 110.12999725341797,\n            'f': \"110.12999725341797\",\n        },\n{\n            'v': 110.0,\n            'f': \"110.0\",\n        },\n{\n            'v': 109.2699966430664,\n            'f': \"109.2699966430664\",\n        },\n{\n            'v': 110.12999725341797,\n            'f': \"110.12999725341797\",\n        },\n{\n            'v': 2.0,\n            'f': \"2.0\",\n        }]],\n        columns: [[\"string\", \"index\"], [\"number\", \"high\"], [\"number\", \"volume\"], [\"number\", \"close\"], [\"number\", \"open\"], [\"number\", \"low\"], [\"number\", \"adjclose\"], [\"number\", \"dividends\"]],\n        columnOptions: [{\"width\": \"1px\", \"className\": \"index_column\"}],\n        rowsPerPage: 25,\n        helpUrl: \"https://colab.research.google.com/notebooks/data_table.ipynb\",\n        suppressOutputScrolling: true,\n        minimumWidth: undefined,\n      });\n    ",
            "text/html": [
              "\n",
              "  <div id=\"df-0bf5abe1-1315-4603-8bec-b62066f39990\">\n",
              "    <div class=\"colab-df-container\">\n",
              "      <div>\n",
              "<style scoped>\n",
              "    .dataframe tbody tr th:only-of-type {\n",
              "        vertical-align: middle;\n",
              "    }\n",
              "\n",
              "    .dataframe tbody tr th {\n",
              "        vertical-align: top;\n",
              "    }\n",
              "\n",
              "    .dataframe thead th {\n",
              "        text-align: right;\n",
              "    }\n",
              "</style>\n",
              "<table border=\"1\" class=\"dataframe\">\n",
              "  <thead>\n",
              "    <tr style=\"text-align: right;\">\n",
              "      <th></th>\n",
              "      <th>high</th>\n",
              "      <th>volume</th>\n",
              "      <th>close</th>\n",
              "      <th>open</th>\n",
              "      <th>low</th>\n",
              "      <th>adjclose</th>\n",
              "      <th>dividends</th>\n",
              "    </tr>\n",
              "  </thead>\n",
              "  <tbody>\n",
              "    <tr>\n",
              "      <th>count</th>\n",
              "      <td>508.000000</td>\n",
              "      <td>5.080000e+02</td>\n",
              "      <td>508.000000</td>\n",
              "      <td>508.000000</td>\n",
              "      <td>508.000000</td>\n",
              "      <td>508.000000</td>\n",
              "      <td>508.000000</td>\n",
              "    </tr>\n",
              "    <tr>\n",
              "      <th>mean</th>\n",
              "      <td>60.560797</td>\n",
              "      <td>4.616489e+06</td>\n",
              "      <td>60.148799</td>\n",
              "      <td>60.141319</td>\n",
              "      <td>59.712756</td>\n",
              "      <td>59.141570</td>\n",
              "      <td>0.009213</td>\n",
              "    </tr>\n",
              "    <tr>\n",
              "      <th>std</th>\n",
              "      <td>36.570920</td>\n",
              "      <td>3.421135e+06</td>\n",
              "      <td>36.326418</td>\n",
              "      <td>36.306376</td>\n",
              "      <td>36.037041</td>\n",
              "      <td>36.124073</td>\n",
              "      <td>0.116687</td>\n",
              "    </tr>\n",
              "    <tr>\n",
              "      <th>min</th>\n",
              "      <td>19.500000</td>\n",
              "      <td>8.881680e+05</td>\n",
              "      <td>19.370001</td>\n",
              "      <td>19.450001</td>\n",
              "      <td>19.230000</td>\n",
              "      <td>18.444372</td>\n",
              "      <td>0.000000</td>\n",
              "    </tr>\n",
              "    <tr>\n",
              "      <th>25%</th>\n",
              "      <td>25.177500</td>\n",
              "      <td>2.195772e+06</td>\n",
              "      <td>25.020000</td>\n",
              "      <td>25.030001</td>\n",
              "      <td>24.915000</td>\n",
              "      <td>24.098135</td>\n",
              "      <td>0.000000</td>\n",
              "    </tr>\n",
              "    <tr>\n",
              "      <th>50%</th>\n",
              "      <td>54.835002</td>\n",
              "      <td>3.895154e+06</td>\n",
              "      <td>54.249999</td>\n",
              "      <td>54.350000</td>\n",
              "      <td>54.139998</td>\n",
              "      <td>53.056856</td>\n",
              "      <td>0.000000</td>\n",
              "    </tr>\n",
              "    <tr>\n",
              "      <th>75%</th>\n",
              "      <td>99.219997</td>\n",
              "      <td>5.962633e+06</td>\n",
              "      <td>98.627502</td>\n",
              "      <td>98.705002</td>\n",
              "      <td>98.037498</td>\n",
              "      <td>97.241383</td>\n",
              "      <td>0.000000</td>\n",
              "    </tr>\n",
              "    <tr>\n",
              "      <th>max</th>\n",
              "      <td>110.190002</td>\n",
              "      <td>3.626238e+07</td>\n",
              "      <td>110.129997</td>\n",
              "      <td>110.000000</td>\n",
              "      <td>109.269997</td>\n",
              "      <td>110.129997</td>\n",
              "      <td>2.000000</td>\n",
              "    </tr>\n",
              "  </tbody>\n",
              "</table>\n",
              "</div>\n",
              "      <button class=\"colab-df-convert\" onclick=\"convertToInteractive('df-0bf5abe1-1315-4603-8bec-b62066f39990')\"\n",
              "              title=\"Convert this dataframe to an interactive table.\"\n",
              "              style=\"display:none;\">\n",
              "        \n",
              "  <svg xmlns=\"http://www.w3.org/2000/svg\" height=\"24px\"viewBox=\"0 0 24 24\"\n",
              "       width=\"24px\">\n",
              "    <path d=\"M0 0h24v24H0V0z\" fill=\"none\"/>\n",
              "    <path d=\"M18.56 5.44l.94 2.06.94-2.06 2.06-.94-2.06-.94-.94-2.06-.94 2.06-2.06.94zm-11 1L8.5 8.5l.94-2.06 2.06-.94-2.06-.94L8.5 2.5l-.94 2.06-2.06.94zm10 10l.94 2.06.94-2.06 2.06-.94-2.06-.94-.94-2.06-.94 2.06-2.06.94z\"/><path d=\"M17.41 7.96l-1.37-1.37c-.4-.4-.92-.59-1.43-.59-.52 0-1.04.2-1.43.59L10.3 9.45l-7.72 7.72c-.78.78-.78 2.05 0 2.83L4 21.41c.39.39.9.59 1.41.59.51 0 1.02-.2 1.41-.59l7.78-7.78 2.81-2.81c.8-.78.8-2.07 0-2.86zM5.41 20L4 18.59l7.72-7.72 1.47 1.35L5.41 20z\"/>\n",
              "  </svg>\n",
              "      </button>\n",
              "      \n",
              "  <style>\n",
              "    .colab-df-container {\n",
              "      display:flex;\n",
              "      flex-wrap:wrap;\n",
              "      gap: 12px;\n",
              "    }\n",
              "\n",
              "    .colab-df-convert {\n",
              "      background-color: #E8F0FE;\n",
              "      border: none;\n",
              "      border-radius: 50%;\n",
              "      cursor: pointer;\n",
              "      display: none;\n",
              "      fill: #1967D2;\n",
              "      height: 32px;\n",
              "      padding: 0 0 0 0;\n",
              "      width: 32px;\n",
              "    }\n",
              "\n",
              "    .colab-df-convert:hover {\n",
              "      background-color: #E2EBFA;\n",
              "      box-shadow: 0px 1px 2px rgba(60, 64, 67, 0.3), 0px 1px 3px 1px rgba(60, 64, 67, 0.15);\n",
              "      fill: #174EA6;\n",
              "    }\n",
              "\n",
              "    [theme=dark] .colab-df-convert {\n",
              "      background-color: #3B4455;\n",
              "      fill: #D2E3FC;\n",
              "    }\n",
              "\n",
              "    [theme=dark] .colab-df-convert:hover {\n",
              "      background-color: #434B5C;\n",
              "      box-shadow: 0px 1px 3px 1px rgba(0, 0, 0, 0.15);\n",
              "      filter: drop-shadow(0px 1px 2px rgba(0, 0, 0, 0.3));\n",
              "      fill: #FFFFFF;\n",
              "    }\n",
              "  </style>\n",
              "\n",
              "      <script>\n",
              "        const buttonEl =\n",
              "          document.querySelector('#df-0bf5abe1-1315-4603-8bec-b62066f39990 button.colab-df-convert');\n",
              "        buttonEl.style.display =\n",
              "          google.colab.kernel.accessAllowed ? 'block' : 'none';\n",
              "\n",
              "        async function convertToInteractive(key) {\n",
              "          const element = document.querySelector('#df-0bf5abe1-1315-4603-8bec-b62066f39990');\n",
              "          const dataTable =\n",
              "            await google.colab.kernel.invokeFunction('convertToInteractive',\n",
              "                                                     [key], {});\n",
              "          if (!dataTable) return;\n",
              "\n",
              "          const docLinkHtml = 'Like what you see? Visit the ' +\n",
              "            '<a target=\"_blank\" href=https://colab.research.google.com/notebooks/data_table.ipynb>data table notebook</a>'\n",
              "            + ' to learn more about interactive tables.';\n",
              "          element.innerHTML = '';\n",
              "          dataTable['output_type'] = 'display_data';\n",
              "          await google.colab.output.renderOutput(dataTable, element);\n",
              "          const docLink = document.createElement('div');\n",
              "          docLink.innerHTML = docLinkHtml;\n",
              "          element.appendChild(docLink);\n",
              "        }\n",
              "      </script>\n",
              "    </div>\n",
              "  </div>\n",
              "  "
            ],
            "text/plain": [
              "             high        volume       close  ...         low    adjclose   dividends\n",
              "count  508.000000  5.080000e+02  508.000000  ...  508.000000  508.000000  508.000000\n",
              "mean    60.560797  4.616489e+06   60.148799  ...   59.712756   59.141570    0.009213\n",
              "std     36.570920  3.421135e+06   36.326418  ...   36.037041   36.124073    0.116687\n",
              "min     19.500000  8.881680e+05   19.370001  ...   19.230000   18.444372    0.000000\n",
              "25%     25.177500  2.195772e+06   25.020000  ...   24.915000   24.098135    0.000000\n",
              "50%     54.835002  3.895154e+06   54.249999  ...   54.139998   53.056856    0.000000\n",
              "75%     99.219997  5.962633e+06   98.627502  ...   98.037498   97.241383    0.000000\n",
              "max    110.190002  3.626238e+07  110.129997  ...  109.269997  110.129997    2.000000\n",
              "\n",
              "[8 rows x 7 columns]"
            ]
          },
          "execution_count": 49,
          "metadata": {},
          "output_type": "execute_result"
        }
      ],
      "source": [
        "price_data_df.describe()"
      ]
    },
    {
      "cell_type": "code",
      "execution_count": null,
      "metadata": {
        "id": "mmV-1B1-S95b"
      },
      "outputs": [],
      "source": [
        "price_data_df.reset_index(inplace=True)"
      ]
    },
    {
      "cell_type": "code",
      "execution_count": null,
      "metadata": {
        "colab": {
          "base_uri": "https://localhost:8080/"
        },
        "id": "x5vOn5gSUHey",
        "outputId": "12b28142-4540-45a1-a2e8-8d183d2c28c9"
      },
      "outputs": [
        {
          "data": {
            "text/plain": [
              "symbol        object\n",
              "date          object\n",
              "high         float64\n",
              "volume         int64\n",
              "close        float64\n",
              "open         float64\n",
              "low          float64\n",
              "adjclose     float64\n",
              "dividends    float64\n",
              "dtype: object"
            ]
          },
          "execution_count": 51,
          "metadata": {},
          "output_type": "execute_result"
        }
      ],
      "source": [
        "price_data_df.dtypes"
      ]
    },
    {
      "cell_type": "code",
      "execution_count": null,
      "metadata": {
        "colab": {
          "base_uri": "https://localhost:8080/",
          "height": 280
        },
        "id": "zwyNXIg3U97b",
        "outputId": "7d741db5-0280-452c-f3cc-7f60e84a9729"
      },
      "outputs": [
        {
          "data": {
            "application/vnd.google.colaboratory.module+javascript": "\n      import \"https://ssl.gstatic.com/colaboratory/data_table/a6224c040fa35dcf/data_table.js\";\n\n      window.createDataTable({\n        data: [[{\n            'v': 0,\n            'f': \"0\",\n        },\n\"CBA.AX\",\n\"2021-01-04\",\n{\n            'v': 83.91999816894531,\n            'f': \"83.91999816894531\",\n        },\n{\n            'v': 1414844,\n            'f': \"1414844\",\n        },\n{\n            'v': 83.75,\n            'f': \"83.75\",\n        },\n{\n            'v': 82.2300033569336,\n            'f': \"82.2300033569336\",\n        },\n{\n            'v': 82.16999816894531,\n            'f': \"82.16999816894531\",\n        },\n{\n            'v': 80.68936920166016,\n            'f': \"80.68936920166016\",\n        },\n{\n            'v': 0.0,\n            'f': \"0.0\",\n        }],\n [{\n            'v': 1,\n            'f': \"1\",\n        },\n\"CBA.AX\",\n\"2021-01-05\",\n{\n            'v': 83.26000213623047,\n            'f': \"83.26000213623047\",\n        },\n{\n            'v': 1809541,\n            'f': \"1809541\",\n        },\n{\n            'v': 83.2300033569336,\n            'f': \"83.2300033569336\",\n        },\n{\n            'v': 83.0,\n            'f': \"83.0\",\n        },\n{\n            'v': 82.48500061035156,\n            'f': \"82.48500061035156\",\n        },\n{\n            'v': 80.1883773803711,\n            'f': \"80.1883773803711\",\n        },\n{\n            'v': 0.0,\n            'f': \"0.0\",\n        }],\n [{\n            'v': 2,\n            'f': \"2\",\n        },\n\"CBA.AX\",\n\"2021-01-06\",\n{\n            'v': 83.3499984741211,\n            'f': \"83.3499984741211\",\n        },\n{\n            'v': 2252786,\n            'f': \"2252786\",\n        },\n{\n            'v': 82.9000015258789,\n            'f': \"82.9000015258789\",\n        },\n{\n            'v': 82.69000244140625,\n            'f': \"82.69000244140625\",\n        },\n{\n            'v': 82.27999877929688,\n            'f': \"82.27999877929688\",\n        },\n{\n            'v': 79.87043762207031,\n            'f': \"79.87043762207031\",\n        },\n{\n            'v': 0.0,\n            'f': \"0.0\",\n        }],\n [{\n            'v': 3,\n            'f': \"3\",\n        },\n\"CBA.AX\",\n\"2021-01-07\",\n{\n            'v': 85.18000030517578,\n            'f': \"85.18000030517578\",\n        },\n{\n            'v': 3011086,\n            'f': \"3011086\",\n        },\n{\n            'v': 84.58000183105469,\n            'f': \"84.58000183105469\",\n        },\n{\n            'v': 84.37999725341797,\n            'f': \"84.37999725341797\",\n        },\n{\n            'v': 83.69999694824219,\n            'f': \"83.69999694824219\",\n        },\n{\n            'v': 81.4890365600586,\n            'f': \"81.4890365600586\",\n        },\n{\n            'v': 0.0,\n            'f': \"0.0\",\n        }],\n [{\n            'v': 4,\n            'f': \"4\",\n        },\n\"CBA.AX\",\n\"2021-01-08\",\n{\n            'v': 85.62999725341797,\n            'f': \"85.62999725341797\",\n        },\n{\n            'v': 2446079,\n            'f': \"2446079\",\n        },\n{\n            'v': 85.62999725341797,\n            'f': \"85.62999725341797\",\n        },\n{\n            'v': 84.98999786376953,\n            'f': \"84.98999786376953\",\n        },\n{\n            'v': 84.79499816894531,\n            'f': \"84.79499816894531\",\n        },\n{\n            'v': 82.50066375732422,\n            'f': \"82.50066375732422\",\n        },\n{\n            'v': 0.0,\n            'f': \"0.0\",\n        }]],\n        columns: [[\"number\", \"index\"], [\"string\", \"symbol\"], [\"string\", \"date\"], [\"number\", \"high\"], [\"number\", \"volume\"], [\"number\", \"close\"], [\"number\", \"open\"], [\"number\", \"low\"], [\"number\", \"adjclose\"], [\"number\", \"dividends\"]],\n        columnOptions: [{\"width\": \"1px\", \"className\": \"index_column\"}],\n        rowsPerPage: 25,\n        helpUrl: \"https://colab.research.google.com/notebooks/data_table.ipynb\",\n        suppressOutputScrolling: true,\n        minimumWidth: undefined,\n      });\n    ",
            "text/html": [
              "\n",
              "  <div id=\"df-c1e92f05-6902-439a-b965-801f76dc7e7f\">\n",
              "    <div class=\"colab-df-container\">\n",
              "      <div>\n",
              "<style scoped>\n",
              "    .dataframe tbody tr th:only-of-type {\n",
              "        vertical-align: middle;\n",
              "    }\n",
              "\n",
              "    .dataframe tbody tr th {\n",
              "        vertical-align: top;\n",
              "    }\n",
              "\n",
              "    .dataframe thead th {\n",
              "        text-align: right;\n",
              "    }\n",
              "</style>\n",
              "<table border=\"1\" class=\"dataframe\">\n",
              "  <thead>\n",
              "    <tr style=\"text-align: right;\">\n",
              "      <th></th>\n",
              "      <th>symbol</th>\n",
              "      <th>date</th>\n",
              "      <th>high</th>\n",
              "      <th>volume</th>\n",
              "      <th>close</th>\n",
              "      <th>open</th>\n",
              "      <th>low</th>\n",
              "      <th>adjclose</th>\n",
              "      <th>dividends</th>\n",
              "    </tr>\n",
              "  </thead>\n",
              "  <tbody>\n",
              "    <tr>\n",
              "      <th>0</th>\n",
              "      <td>CBA.AX</td>\n",
              "      <td>2021-01-04</td>\n",
              "      <td>83.919998</td>\n",
              "      <td>1414844</td>\n",
              "      <td>83.750000</td>\n",
              "      <td>82.230003</td>\n",
              "      <td>82.169998</td>\n",
              "      <td>80.689369</td>\n",
              "      <td>0.0</td>\n",
              "    </tr>\n",
              "    <tr>\n",
              "      <th>1</th>\n",
              "      <td>CBA.AX</td>\n",
              "      <td>2021-01-05</td>\n",
              "      <td>83.260002</td>\n",
              "      <td>1809541</td>\n",
              "      <td>83.230003</td>\n",
              "      <td>83.000000</td>\n",
              "      <td>82.485001</td>\n",
              "      <td>80.188377</td>\n",
              "      <td>0.0</td>\n",
              "    </tr>\n",
              "    <tr>\n",
              "      <th>2</th>\n",
              "      <td>CBA.AX</td>\n",
              "      <td>2021-01-06</td>\n",
              "      <td>83.349998</td>\n",
              "      <td>2252786</td>\n",
              "      <td>82.900002</td>\n",
              "      <td>82.690002</td>\n",
              "      <td>82.279999</td>\n",
              "      <td>79.870438</td>\n",
              "      <td>0.0</td>\n",
              "    </tr>\n",
              "    <tr>\n",
              "      <th>3</th>\n",
              "      <td>CBA.AX</td>\n",
              "      <td>2021-01-07</td>\n",
              "      <td>85.180000</td>\n",
              "      <td>3011086</td>\n",
              "      <td>84.580002</td>\n",
              "      <td>84.379997</td>\n",
              "      <td>83.699997</td>\n",
              "      <td>81.489037</td>\n",
              "      <td>0.0</td>\n",
              "    </tr>\n",
              "    <tr>\n",
              "      <th>4</th>\n",
              "      <td>CBA.AX</td>\n",
              "      <td>2021-01-08</td>\n",
              "      <td>85.629997</td>\n",
              "      <td>2446079</td>\n",
              "      <td>85.629997</td>\n",
              "      <td>84.989998</td>\n",
              "      <td>84.794998</td>\n",
              "      <td>82.500664</td>\n",
              "      <td>0.0</td>\n",
              "    </tr>\n",
              "  </tbody>\n",
              "</table>\n",
              "</div>\n",
              "      <button class=\"colab-df-convert\" onclick=\"convertToInteractive('df-c1e92f05-6902-439a-b965-801f76dc7e7f')\"\n",
              "              title=\"Convert this dataframe to an interactive table.\"\n",
              "              style=\"display:none;\">\n",
              "        \n",
              "  <svg xmlns=\"http://www.w3.org/2000/svg\" height=\"24px\"viewBox=\"0 0 24 24\"\n",
              "       width=\"24px\">\n",
              "    <path d=\"M0 0h24v24H0V0z\" fill=\"none\"/>\n",
              "    <path d=\"M18.56 5.44l.94 2.06.94-2.06 2.06-.94-2.06-.94-.94-2.06-.94 2.06-2.06.94zm-11 1L8.5 8.5l.94-2.06 2.06-.94-2.06-.94L8.5 2.5l-.94 2.06-2.06.94zm10 10l.94 2.06.94-2.06 2.06-.94-2.06-.94-.94-2.06-.94 2.06-2.06.94z\"/><path d=\"M17.41 7.96l-1.37-1.37c-.4-.4-.92-.59-1.43-.59-.52 0-1.04.2-1.43.59L10.3 9.45l-7.72 7.72c-.78.78-.78 2.05 0 2.83L4 21.41c.39.39.9.59 1.41.59.51 0 1.02-.2 1.41-.59l7.78-7.78 2.81-2.81c.8-.78.8-2.07 0-2.86zM5.41 20L4 18.59l7.72-7.72 1.47 1.35L5.41 20z\"/>\n",
              "  </svg>\n",
              "      </button>\n",
              "      \n",
              "  <style>\n",
              "    .colab-df-container {\n",
              "      display:flex;\n",
              "      flex-wrap:wrap;\n",
              "      gap: 12px;\n",
              "    }\n",
              "\n",
              "    .colab-df-convert {\n",
              "      background-color: #E8F0FE;\n",
              "      border: none;\n",
              "      border-radius: 50%;\n",
              "      cursor: pointer;\n",
              "      display: none;\n",
              "      fill: #1967D2;\n",
              "      height: 32px;\n",
              "      padding: 0 0 0 0;\n",
              "      width: 32px;\n",
              "    }\n",
              "\n",
              "    .colab-df-convert:hover {\n",
              "      background-color: #E2EBFA;\n",
              "      box-shadow: 0px 1px 2px rgba(60, 64, 67, 0.3), 0px 1px 3px 1px rgba(60, 64, 67, 0.15);\n",
              "      fill: #174EA6;\n",
              "    }\n",
              "\n",
              "    [theme=dark] .colab-df-convert {\n",
              "      background-color: #3B4455;\n",
              "      fill: #D2E3FC;\n",
              "    }\n",
              "\n",
              "    [theme=dark] .colab-df-convert:hover {\n",
              "      background-color: #434B5C;\n",
              "      box-shadow: 0px 1px 3px 1px rgba(0, 0, 0, 0.15);\n",
              "      filter: drop-shadow(0px 1px 2px rgba(0, 0, 0, 0.3));\n",
              "      fill: #FFFFFF;\n",
              "    }\n",
              "  </style>\n",
              "\n",
              "      <script>\n",
              "        const buttonEl =\n",
              "          document.querySelector('#df-c1e92f05-6902-439a-b965-801f76dc7e7f button.colab-df-convert');\n",
              "        buttonEl.style.display =\n",
              "          google.colab.kernel.accessAllowed ? 'block' : 'none';\n",
              "\n",
              "        async function convertToInteractive(key) {\n",
              "          const element = document.querySelector('#df-c1e92f05-6902-439a-b965-801f76dc7e7f');\n",
              "          const dataTable =\n",
              "            await google.colab.kernel.invokeFunction('convertToInteractive',\n",
              "                                                     [key], {});\n",
              "          if (!dataTable) return;\n",
              "\n",
              "          const docLinkHtml = 'Like what you see? Visit the ' +\n",
              "            '<a target=\"_blank\" href=https://colab.research.google.com/notebooks/data_table.ipynb>data table notebook</a>'\n",
              "            + ' to learn more about interactive tables.';\n",
              "          element.innerHTML = '';\n",
              "          dataTable['output_type'] = 'display_data';\n",
              "          await google.colab.output.renderOutput(dataTable, element);\n",
              "          const docLink = document.createElement('div');\n",
              "          docLink.innerHTML = docLinkHtml;\n",
              "          element.appendChild(docLink);\n",
              "        }\n",
              "      </script>\n",
              "    </div>\n",
              "  </div>\n",
              "  "
            ],
            "text/plain": [
              "   symbol        date       high  ...        low   adjclose  dividends\n",
              "0  CBA.AX  2021-01-04  83.919998  ...  82.169998  80.689369        0.0\n",
              "1  CBA.AX  2021-01-05  83.260002  ...  82.485001  80.188377        0.0\n",
              "2  CBA.AX  2021-01-06  83.349998  ...  82.279999  79.870438        0.0\n",
              "3  CBA.AX  2021-01-07  85.180000  ...  83.699997  81.489037        0.0\n",
              "4  CBA.AX  2021-01-08  85.629997  ...  84.794998  82.500664        0.0\n",
              "\n",
              "[5 rows x 9 columns]"
            ]
          },
          "execution_count": 52,
          "metadata": {},
          "output_type": "execute_result"
        }
      ],
      "source": [
        "price_data_df.head()"
      ]
    },
    {
      "cell_type": "code",
      "execution_count": null,
      "metadata": {
        "colab": {
          "base_uri": "https://localhost:8080/"
        },
        "id": "-9hidbHJYfDQ",
        "outputId": "44fc7759-955e-4a36-c929-be142bd35d61"
      },
      "outputs": [
        {
          "data": {
            "text/plain": [
              "508"
            ]
          },
          "execution_count": 53,
          "metadata": {},
          "output_type": "execute_result"
        }
      ],
      "source": [
        "len(price_data_df)"
      ]
    },
    {
      "cell_type": "code",
      "execution_count": null,
      "metadata": {
        "colab": {
          "base_uri": "https://localhost:8080/"
        },
        "id": "rX1Pnz3WN-q1",
        "outputId": "43119ca9-8350-4891-d7c5-926d51f10c0f"
      },
      "outputs": [
        {
          "data": {
            "text/plain": [
              "datetime.date(2021, 1, 4)"
            ]
          },
          "execution_count": 54,
          "metadata": {},
          "output_type": "execute_result"
        }
      ],
      "source": [
        "price_data_df['date'][0]"
      ]
    },
    {
      "cell_type": "code",
      "execution_count": null,
      "metadata": {
        "id": "UYedHRwXXZgc"
      },
      "outputs": [],
      "source": [
        "price_data_df[\"date\"] = pd.to_datetime(price_data_df[\"date\"])"
      ]
    },
    {
      "cell_type": "markdown",
      "metadata": {
        "id": "qrH0Fl9H6N8T"
      },
      "source": [
        "## 3. Analysis"
      ]
    },
    {
      "cell_type": "markdown",
      "metadata": {
        "id": "vTX9SvMO6fbD"
      },
      "source": [
        "What do we need to do / solve?\n",
        "\n",
        "* Which companies are in the top 200 by market capitalisation?\n",
        "* Allow user to choose from this list in a sensible manner e.g. lookup and/or predefined favourites list.\n",
        "* Display the price history and other relevant information for each company selected in an appealing manner (to aide comparison of their relative performance). e.g. may want to look over past year, 6m, 3m, 1m, 1w etc."
      ]
    },
    {
      "cell_type": "code",
      "execution_count": null,
      "metadata": {
        "id": "PYAKj_6CXxIs"
      },
      "outputs": [],
      "source": [
        "chart_ticker = \"WBC.AX\""
      ]
    },
    {
      "cell_type": "code",
      "execution_count": null,
      "metadata": {
        "id": "tXBr__EXYv9g"
      },
      "outputs": [],
      "source": [
        "chart_data_df = price_data_df[price_data_df[\"symbol\"] == chart_ticker]"
      ]
    },
    {
      "cell_type": "code",
      "execution_count": null,
      "metadata": {
        "colab": {
          "base_uri": "https://localhost:8080/",
          "height": 1463
        },
        "id": "3G9UE4FAY6m0",
        "outputId": "c30c0d54-4bce-4385-a8b7-0276f3f3c1fa"
      },
      "outputs": [
        {
          "data": {
            "application/vnd.google.colaboratory.module+javascript": "\n      import \"https://ssl.gstatic.com/colaboratory/data_table/a6224c040fa35dcf/data_table.js\";\n\n      window.createDataTable({\n        data: [[{\n            'v': 254,\n            'f': \"254\",\n        },\n\"WBC.AX\",\n\"2021-01-04 00:00:00\",\n{\n            'v': 19.670000076293945,\n            'f': \"19.670000076293945\",\n        },\n{\n            'v': 4044153,\n            'f': \"4044153\",\n        },\n{\n            'v': 19.6299991607666,\n            'f': \"19.6299991607666\",\n        },\n{\n            'v': 19.459999084472656,\n            'f': \"19.459999084472656\",\n        },\n{\n            'v': 19.424999237060547,\n            'f': \"19.424999237060547\",\n        },\n{\n            'v': 18.691944122314453,\n            'f': \"18.691944122314453\",\n        },\n{\n            'v': 0.0,\n            'f': \"0.0\",\n        }],\n [{\n            'v': 255,\n            'f': \"255\",\n        },\n\"WBC.AX\",\n\"2021-01-05 00:00:00\",\n{\n            'v': 19.530000686645508,\n            'f': \"19.530000686645508\",\n        },\n{\n            'v': 4944351,\n            'f': \"4944351\",\n        },\n{\n            'v': 19.520000457763672,\n            'f': \"19.520000457763672\",\n        },\n{\n            'v': 19.469999313354492,\n            'f': \"19.469999313354492\",\n        },\n{\n            'v': 19.3799991607666,\n            'f': \"19.3799991607666\",\n        },\n{\n            'v': 18.587202072143555,\n            'f': \"18.587202072143555\",\n        },\n{\n            'v': 0.0,\n            'f': \"0.0\",\n        }],\n [{\n            'v': 256,\n            'f': \"256\",\n        },\n\"WBC.AX\",\n\"2021-01-06 00:00:00\",\n{\n            'v': 19.5,\n            'f': \"19.5\",\n        },\n{\n            'v': 7063517,\n            'f': \"7063517\",\n        },\n{\n            'v': 19.3700008392334,\n            'f': \"19.3700008392334\",\n        },\n{\n            'v': 19.450000762939453,\n            'f': \"19.450000762939453\",\n        },\n{\n            'v': 19.229999542236328,\n            'f': \"19.229999542236328\",\n        },\n{\n            'v': 18.444372177124023,\n            'f': \"18.444372177124023\",\n        },\n{\n            'v': 0.0,\n            'f': \"0.0\",\n        }],\n [{\n            'v': 257,\n            'f': \"257\",\n        },\n\"WBC.AX\",\n\"2021-01-07 00:00:00\",\n{\n            'v': 20.34000015258789,\n            'f': \"20.34000015258789\",\n        },\n{\n            'v': 14348410,\n            'f': \"14348410\",\n        },\n{\n            'v': 19.989999771118164,\n            'f': \"19.989999771118164\",\n        },\n{\n            'v': 19.799999237060547,\n            'f': \"19.799999237060547\",\n        },\n{\n            'v': 19.780000686645508,\n            'f': \"19.780000686645508\",\n        },\n{\n            'v': 19.03474235534668,\n            'f': \"19.03474235534668\",\n        },\n{\n            'v': 0.0,\n            'f': \"0.0\",\n        }],\n [{\n            'v': 258,\n            'f': \"258\",\n        },\n\"WBC.AX\",\n\"2021-01-08 00:00:00\",\n{\n            'v': 20.280000686645508,\n            'f': \"20.280000686645508\",\n        },\n{\n            'v': 7716248,\n            'f': \"7716248\",\n        },\n{\n            'v': 20.280000686645508,\n            'f': \"20.280000686645508\",\n        },\n{\n            'v': 20.110000610351562,\n            'f': \"20.110000610351562\",\n        },\n{\n            'v': 20.020000457763672,\n            'f': \"20.020000457763672\",\n        },\n{\n            'v': 19.310884475708008,\n            'f': \"19.310884475708008\",\n        },\n{\n            'v': 0.0,\n            'f': \"0.0\",\n        }],\n [{\n            'v': 259,\n            'f': \"259\",\n        },\n\"WBC.AX\",\n\"2021-01-11 00:00:00\",\n{\n            'v': 20.329999923706055,\n            'f': \"20.329999923706055\",\n        },\n{\n            'v': 4513238,\n            'f': \"4513238\",\n        },\n{\n            'v': 20.290000915527344,\n            'f': \"20.290000915527344\",\n        },\n{\n            'v': 20.229999542236328,\n            'f': \"20.229999542236328\",\n        },\n{\n            'v': 20.200000762939453,\n            'f': \"20.200000762939453\",\n        },\n{\n            'v': 19.320405960083008,\n            'f': \"19.320405960083008\",\n        },\n{\n            'v': 0.0,\n            'f': \"0.0\",\n        }],\n [{\n            'v': 260,\n            'f': \"260\",\n        },\n\"WBC.AX\",\n\"2021-01-12 00:00:00\",\n{\n            'v': 20.6299991607666,\n            'f': \"20.6299991607666\",\n        },\n{\n            'v': 8262523,\n            'f': \"8262523\",\n        },\n{\n            'v': 20.489999771118164,\n            'f': \"20.489999771118164\",\n        },\n{\n            'v': 20.309999465942383,\n            'f': \"20.309999465942383\",\n        },\n{\n            'v': 20.280000686645508,\n            'f': \"20.280000686645508\",\n        },\n{\n            'v': 19.510847091674805,\n            'f': \"19.510847091674805\",\n        },\n{\n            'v': 0.0,\n            'f': \"0.0\",\n        }],\n [{\n            'v': 261,\n            'f': \"261\",\n        },\n\"WBC.AX\",\n\"2021-01-13 00:00:00\",\n{\n            'v': 20.68000030517578,\n            'f': \"20.68000030517578\",\n        },\n{\n            'v': 6166289,\n            'f': \"6166289\",\n        },\n{\n            'v': 20.600000381469727,\n            'f': \"20.600000381469727\",\n        },\n{\n            'v': 20.420000076293945,\n            'f': \"20.420000076293945\",\n        },\n{\n            'v': 20.420000076293945,\n            'f': \"20.420000076293945\",\n        },\n{\n            'v': 19.61559295654297,\n            'f': \"19.61559295654297\",\n        },\n{\n            'v': 0.0,\n            'f': \"0.0\",\n        }],\n [{\n            'v': 262,\n            'f': \"262\",\n        },\n\"WBC.AX\",\n\"2021-01-14 00:00:00\",\n{\n            'v': 21.190000534057617,\n            'f': \"21.190000534057617\",\n        },\n{\n            'v': 10347252,\n            'f': \"10347252\",\n        },\n{\n            'v': 21.030000686645508,\n            'f': \"21.030000686645508\",\n        },\n{\n            'v': 20.700000762939453,\n            'f': \"20.700000762939453\",\n        },\n{\n            'v': 20.68000030517578,\n            'f': \"20.68000030517578\",\n        },\n{\n            'v': 20.025043487548828,\n            'f': \"20.025043487548828\",\n        },\n{\n            'v': 0.0,\n            'f': \"0.0\",\n        }],\n [{\n            'v': 263,\n            'f': \"263\",\n        },\n\"WBC.AX\",\n\"2021-01-15 00:00:00\",\n{\n            'v': 21.59000015258789,\n            'f': \"21.59000015258789\",\n        },\n{\n            'v': 9396993,\n            'f': \"9396993\",\n        },\n{\n            'v': 21.350000381469727,\n            'f': \"21.350000381469727\",\n        },\n{\n            'v': 21.200000762939453,\n            'f': \"21.200000762939453\",\n        },\n{\n            'v': 21.149999618530273,\n            'f': \"21.149999618530273\",\n        },\n{\n            'v': 20.32975196838379,\n            'f': \"20.32975196838379\",\n        },\n{\n            'v': 0.0,\n            'f': \"0.0\",\n        }],\n [{\n            'v': 264,\n            'f': \"264\",\n        },\n\"WBC.AX\",\n\"2021-01-18 00:00:00\",\n{\n            'v': 21.3700008392334,\n            'f': \"21.3700008392334\",\n        },\n{\n            'v': 5983851,\n            'f': \"5983851\",\n        },\n{\n            'v': 21.190000534057617,\n            'f': \"21.190000534057617\",\n        },\n{\n            'v': 21.360000610351562,\n            'f': \"21.360000610351562\",\n        },\n{\n            'v': 21.100000381469727,\n            'f': \"21.100000381469727\",\n        },\n{\n            'v': 20.177398681640625,\n            'f': \"20.177398681640625\",\n        },\n{\n            'v': 0.0,\n            'f': \"0.0\",\n        }],\n [{\n            'v': 265,\n            'f': \"265\",\n        },\n\"WBC.AX\",\n\"2021-01-19 00:00:00\",\n{\n            'v': 21.780000686645508,\n            'f': \"21.780000686645508\",\n        },\n{\n            'v': 8246543,\n            'f': \"8246543\",\n        },\n{\n            'v': 21.600000381469727,\n            'f': \"21.600000381469727\",\n        },\n{\n            'v': 21.450000762939453,\n            'f': \"21.450000762939453\",\n        },\n{\n            'v': 21.40999984741211,\n            'f': \"21.40999984741211\",\n        },\n{\n            'v': 20.567806243896484,\n            'f': \"20.567806243896484\",\n        },\n{\n            'v': 0.0,\n            'f': \"0.0\",\n        }],\n [{\n            'v': 266,\n            'f': \"266\",\n        },\n\"WBC.AX\",\n\"2021-01-20 00:00:00\",\n{\n            'v': 21.850000381469727,\n            'f': \"21.850000381469727\",\n        },\n{\n            'v': 5907172,\n            'f': \"5907172\",\n        },\n{\n            'v': 21.579999923706055,\n            'f': \"21.579999923706055\",\n        },\n{\n            'v': 21.760000228881836,\n            'f': \"21.760000228881836\",\n        },\n{\n            'v': 21.575000762939453,\n            'f': \"21.575000762939453\",\n        },\n{\n            'v': 20.54876136779785,\n            'f': \"20.54876136779785\",\n        },\n{\n            'v': 0.0,\n            'f': \"0.0\",\n        }],\n [{\n            'v': 267,\n            'f': \"267\",\n        },\n\"WBC.AX\",\n\"2021-01-21 00:00:00\",\n{\n            'v': 21.940000534057617,\n            'f': \"21.940000534057617\",\n        },\n{\n            'v': 6164314,\n            'f': \"6164314\",\n        },\n{\n            'v': 21.81999969482422,\n            'f': \"21.81999969482422\",\n        },\n{\n            'v': 21.850000381469727,\n            'f': \"21.850000381469727\",\n        },\n{\n            'v': 21.790000915527344,\n            'f': \"21.790000915527344\",\n        },\n{\n            'v': 20.777292251586914,\n            'f': \"20.777292251586914\",\n        },\n{\n            'v': 0.0,\n            'f': \"0.0\",\n        }],\n [{\n            'v': 268,\n            'f': \"268\",\n        },\n\"WBC.AX\",\n\"2021-01-22 00:00:00\",\n{\n            'v': 21.8700008392334,\n            'f': \"21.8700008392334\",\n        },\n{\n            'v': 6984829,\n            'f': \"6984829\",\n        },\n{\n            'v': 21.780000686645508,\n            'f': \"21.780000686645508\",\n        },\n{\n            'v': 21.639999389648438,\n            'f': \"21.639999389648438\",\n        },\n{\n            'v': 21.639999389648438,\n            'f': \"21.639999389648438\",\n        },\n{\n            'v': 20.73920440673828,\n            'f': \"20.73920440673828\",\n        },\n{\n            'v': 0.0,\n            'f': \"0.0\",\n        }],\n [{\n            'v': 269,\n            'f': \"269\",\n        },\n\"WBC.AX\",\n\"2021-01-25 00:00:00\",\n{\n            'v': 21.959999084472656,\n            'f': \"21.959999084472656\",\n        },\n{\n            'v': 3960211,\n            'f': \"3960211\",\n        },\n{\n            'v': 21.790000915527344,\n            'f': \"21.790000915527344\",\n        },\n{\n            'v': 21.799999237060547,\n            'f': \"21.799999237060547\",\n        },\n{\n            'v': 21.6299991607666,\n            'f': \"21.6299991607666\",\n        },\n{\n            'v': 20.74872589111328,\n            'f': \"20.74872589111328\",\n        },\n{\n            'v': 0.0,\n            'f': \"0.0\",\n        }],\n [{\n            'v': 270,\n            'f': \"270\",\n        },\n\"WBC.AX\",\n\"2021-01-27 00:00:00\",\n{\n            'v': 21.969999313354492,\n            'f': \"21.969999313354492\",\n        },\n{\n            'v': 7565067,\n            'f': \"7565067\",\n        },\n{\n            'v': 21.65999984741211,\n            'f': \"21.65999984741211\",\n        },\n{\n            'v': 21.850000381469727,\n            'f': \"21.850000381469727\",\n        },\n{\n            'v': 21.510000228881836,\n            'f': \"21.510000228881836\",\n        },\n{\n            'v': 20.624937057495117,\n            'f': \"20.624937057495117\",\n        },\n{\n            'v': 0.0,\n            'f': \"0.0\",\n        }],\n [{\n            'v': 271,\n            'f': \"271\",\n        },\n\"WBC.AX\",\n\"2021-01-28 00:00:00\",\n{\n            'v': 21.469999313354492,\n            'f': \"21.469999313354492\",\n        },\n{\n            'v': 8389458,\n            'f': \"8389458\",\n        },\n{\n            'v': 21.459999084472656,\n            'f': \"21.459999084472656\",\n        },\n{\n            'v': 21.229999542236328,\n            'f': \"21.229999542236328\",\n        },\n{\n            'v': 21.020000457763672,\n            'f': \"21.020000457763672\",\n        },\n{\n            'v': 20.434494018554688,\n            'f': \"20.434494018554688\",\n        },\n{\n            'v': 0.0,\n            'f': \"0.0\",\n        }],\n [{\n            'v': 272,\n            'f': \"272\",\n        },\n\"WBC.AX\",\n\"2021-01-29 00:00:00\",\n{\n            'v': 21.65999984741211,\n            'f': \"21.65999984741211\",\n        },\n{\n            'v': 8256673,\n            'f': \"8256673\",\n        },\n{\n            'v': 21.1299991607666,\n            'f': \"21.1299991607666\",\n        },\n{\n            'v': 21.649999618530273,\n            'f': \"21.649999618530273\",\n        },\n{\n            'v': 21.024999618530273,\n            'f': \"21.024999618530273\",\n        },\n{\n            'v': 20.120264053344727,\n            'f': \"20.120264053344727\",\n        },\n{\n            'v': 0.0,\n            'f': \"0.0\",\n        }],\n [{\n            'v': 273,\n            'f': \"273\",\n        },\n\"WBC.AX\",\n\"2021-02-01 00:00:00\",\n{\n            'v': 21.31999969482422,\n            'f': \"21.31999969482422\",\n        },\n{\n            'v': 6319097,\n            'f': \"6319097\",\n        },\n{\n            'v': 21.209999084472656,\n            'f': \"21.209999084472656\",\n        },\n{\n            'v': 20.799999237060547,\n            'f': \"20.799999237060547\",\n        },\n{\n            'v': 20.65999984741211,\n            'f': \"20.65999984741211\",\n        },\n{\n            'v': 20.196441650390625,\n            'f': \"20.196441650390625\",\n        },\n{\n            'v': 0.0,\n            'f': \"0.0\",\n        }],\n [{\n            'v': 274,\n            'f': \"274\",\n        },\n\"WBC.AX\",\n\"2021-02-02 00:00:00\",\n{\n            'v': 21.549999237060547,\n            'f': \"21.549999237060547\",\n        },\n{\n            'v': 6367499,\n            'f': \"6367499\",\n        },\n{\n            'v': 21.420000076293945,\n            'f': \"21.420000076293945\",\n        },\n{\n            'v': 21.40999984741211,\n            'f': \"21.40999984741211\",\n        },\n{\n            'v': 21.309999465942383,\n            'f': \"21.309999465942383\",\n        },\n{\n            'v': 20.396406173706055,\n            'f': \"20.396406173706055\",\n        },\n{\n            'v': 0.0,\n            'f': \"0.0\",\n        }],\n [{\n            'v': 275,\n            'f': \"275\",\n        },\n\"WBC.AX\",\n\"2021-02-03 00:00:00\",\n{\n            'v': 21.93000030517578,\n            'f': \"21.93000030517578\",\n        },\n{\n            'v': 7742337,\n            'f': \"7742337\",\n        },\n{\n            'v': 21.75,\n            'f': \"21.75\",\n        },\n{\n            'v': 21.709999084472656,\n            'f': \"21.709999084472656\",\n        },\n{\n            'v': 21.6200008392334,\n            'f': \"21.6200008392334\",\n        },\n{\n            'v': 20.71063804626465,\n            'f': \"20.71063804626465\",\n        },\n{\n            'v': 0.0,\n            'f': \"0.0\",\n        }],\n [{\n            'v': 276,\n            'f': \"276\",\n        },\n\"WBC.AX\",\n\"2021-02-04 00:00:00\",\n{\n            'v': 21.850000381469727,\n            'f': \"21.850000381469727\",\n        },\n{\n            'v': 4342173,\n            'f': \"4342173\",\n        },\n{\n            'v': 21.709999084472656,\n            'f': \"21.709999084472656\",\n        },\n{\n            'v': 21.809999465942383,\n            'f': \"21.809999465942383\",\n        },\n{\n            'v': 21.6200008392334,\n            'f': \"21.6200008392334\",\n        },\n{\n            'v': 20.672548294067383,\n            'f': \"20.672548294067383\",\n        },\n{\n            'v': 0.0,\n            'f': \"0.0\",\n        }],\n [{\n            'v': 277,\n            'f': \"277\",\n        },\n\"WBC.AX\",\n\"2021-02-05 00:00:00\",\n{\n            'v': 22.209999084472656,\n            'f': \"22.209999084472656\",\n        },\n{\n            'v': 7968872,\n            'f': \"7968872\",\n        },\n{\n            'v': 22.149999618530273,\n            'f': \"22.149999618530273\",\n        },\n{\n            'v': 21.969999313354492,\n            'f': \"21.969999313354492\",\n        },\n{\n            'v': 21.829999923706055,\n            'f': \"21.829999923706055\",\n        },\n{\n            'v': 21.091522216796875,\n            'f': \"21.091522216796875\",\n        },\n{\n            'v': 0.0,\n            'f': \"0.0\",\n        }],\n [{\n            'v': 278,\n            'f': \"278\",\n        },\n\"WBC.AX\",\n\"2021-02-08 00:00:00\",\n{\n            'v': 22.59000015258789,\n            'f': \"22.59000015258789\",\n        },\n{\n            'v': 8064909,\n            'f': \"8064909\",\n        },\n{\n            'v': 22.450000762939453,\n            'f': \"22.450000762939453\",\n        },\n{\n            'v': 22.209999084472656,\n            'f': \"22.209999084472656\",\n        },\n{\n            'v': 22.190000534057617,\n            'f': \"22.190000534057617\",\n        },\n{\n            'v': 21.377185821533203,\n            'f': \"21.377185821533203\",\n        },\n{\n            'v': 0.0,\n            'f': \"0.0\",\n        }],\n [{\n            'v': 279,\n            'f': \"279\",\n        },\n\"WBC.AX\",\n\"2021-02-09 00:00:00\",\n{\n            'v': 22.440000534057617,\n            'f': \"22.440000534057617\",\n        },\n{\n            'v': 4756119,\n            'f': \"4756119\",\n        },\n{\n            'v': 22.170000076293945,\n            'f': \"22.170000076293945\",\n        },\n{\n            'v': 22.360000610351562,\n            'f': \"22.360000610351562\",\n        },\n{\n            'v': 22.110000610351562,\n            'f': \"22.110000610351562\",\n        },\n{\n            'v': 21.110567092895508,\n            'f': \"21.110567092895508\",\n        },\n{\n            'v': 0.0,\n            'f': \"0.0\",\n        }],\n [{\n            'v': 280,\n            'f': \"280\",\n        },\n\"WBC.AX\",\n\"2021-02-10 00:00:00\",\n{\n            'v': 22.450000762939453,\n            'f': \"22.450000762939453\",\n        },\n{\n            'v': 4713107,\n            'f': \"4713107\",\n        },\n{\n            'v': 22.229999542236328,\n            'f': \"22.229999542236328\",\n        },\n{\n            'v': 22.299999237060547,\n            'f': \"22.299999237060547\",\n        },\n{\n            'v': 22.1200008392334,\n            'f': \"22.1200008392334\",\n        },\n{\n            'v': 21.16769790649414,\n            'f': \"21.16769790649414\",\n        },\n{\n            'v': 0.0,\n            'f': \"0.0\",\n        }],\n [{\n            'v': 281,\n            'f': \"281\",\n        },\n\"WBC.AX\",\n\"2021-02-11 00:00:00\",\n{\n            'v': 22.329999923706055,\n            'f': \"22.329999923706055\",\n        },\n{\n            'v': 4218812,\n            'f': \"4218812\",\n        },\n{\n            'v': 22.290000915527344,\n            'f': \"22.290000915527344\",\n        },\n{\n            'v': 22.170000076293945,\n            'f': \"22.170000076293945\",\n        },\n{\n            'v': 22.079999923706055,\n            'f': \"22.079999923706055\",\n        },\n{\n            'v': 21.224834442138672,\n            'f': \"21.224834442138672\",\n        },\n{\n            'v': 0.0,\n            'f': \"0.0\",\n        }],\n [{\n            'v': 282,\n            'f': \"282\",\n        },\n\"WBC.AX\",\n\"2021-02-12 00:00:00\",\n{\n            'v': 22.329999923706055,\n            'f': \"22.329999923706055\",\n        },\n{\n            'v': 4943999,\n            'f': \"4943999\",\n        },\n{\n            'v': 22.139999389648438,\n            'f': \"22.139999389648438\",\n        },\n{\n            'v': 22.280000686645508,\n            'f': \"22.280000686645508\",\n        },\n{\n            'v': 22.059999465942383,\n            'f': \"22.059999465942383\",\n        },\n{\n            'v': 21.082000732421875,\n            'f': \"21.082000732421875\",\n        },\n{\n            'v': 0.0,\n            'f': \"0.0\",\n        }],\n [{\n            'v': 283,\n            'f': \"283\",\n        },\n\"WBC.AX\",\n\"2021-02-15 00:00:00\",\n{\n            'v': 22.559999465942383,\n            'f': \"22.559999465942383\",\n        },\n{\n            'v': 4389653,\n            'f': \"4389653\",\n        },\n{\n            'v': 22.399999618530273,\n            'f': \"22.399999618530273\",\n        },\n{\n            'v': 22.350000381469727,\n            'f': \"22.350000381469727\",\n        },\n{\n            'v': 22.260000228881836,\n            'f': \"22.260000228881836\",\n        },\n{\n            'v': 21.329574584960938,\n            'f': \"21.329574584960938\",\n        },\n{\n            'v': 0.0,\n            'f': \"0.0\",\n        }],\n [{\n            'v': 284,\n            'f': \"284\",\n        },\n\"WBC.AX\",\n\"2021-02-16 00:00:00\",\n{\n            'v': 22.899999618530273,\n            'f': \"22.899999618530273\",\n        },\n{\n            'v': 6448280,\n            'f': \"6448280\",\n        },\n{\n            'v': 22.510000228881836,\n            'f': \"22.510000228881836\",\n        },\n{\n            'v': 22.6200008392334,\n            'f': \"22.6200008392334\",\n        },\n{\n            'v': 22.459999084472656,\n            'f': \"22.459999084472656\",\n        },\n{\n            'v': 21.4343204498291,\n            'f': \"21.4343204498291\",\n        },\n{\n            'v': 0.0,\n            'f': \"0.0\",\n        }],\n [{\n            'v': 285,\n            'f': \"285\",\n        },\n\"WBC.AX\",\n\"2021-02-17 00:00:00\",\n{\n            'v': 23.940000534057617,\n            'f': \"23.940000534057617\",\n        },\n{\n            'v': 14880630,\n            'f': \"14880630\",\n        },\n{\n            'v': 23.540000915527344,\n            'f': \"23.540000915527344\",\n        },\n{\n            'v': 23.600000381469727,\n            'f': \"23.600000381469727\",\n        },\n{\n            'v': 23.459999084472656,\n            'f': \"23.459999084472656\",\n        },\n{\n            'v': 22.41510009765625,\n            'f': \"22.41510009765625\",\n        },\n{\n            'v': 0.0,\n            'f': \"0.0\",\n        }],\n [{\n            'v': 286,\n            'f': \"286\",\n        },\n\"WBC.AX\",\n\"2021-02-18 00:00:00\",\n{\n            'v': 24.479999542236328,\n            'f': \"24.479999542236328\",\n        },\n{\n            'v': 15032032,\n            'f': \"15032032\",\n        },\n{\n            'v': 24.3700008392334,\n            'f': \"24.3700008392334\",\n        },\n{\n            'v': 24.059999465942383,\n            'f': \"24.059999465942383\",\n        },\n{\n            'v': 23.969999313354492,\n            'f': \"23.969999313354492\",\n        },\n{\n            'v': 23.20543670654297,\n            'f': \"23.20543670654297\",\n        },\n{\n            'v': 0.0,\n            'f': \"0.0\",\n        }],\n [{\n            'v': 287,\n            'f': \"287\",\n        },\n\"WBC.AX\",\n\"2021-02-19 00:00:00\",\n{\n            'v': 24.200000762939453,\n            'f': \"24.200000762939453\",\n        },\n{\n            'v': 10418673,\n            'f': \"10418673\",\n        },\n{\n            'v': 24.09000015258789,\n            'f': \"24.09000015258789\",\n        },\n{\n            'v': 24.149999618530273,\n            'f': \"24.149999618530273\",\n        },\n{\n            'v': 23.899999618530273,\n            'f': \"23.899999618530273\",\n        },\n{\n            'v': 22.93881607055664,\n            'f': \"22.93881607055664\",\n        },\n{\n            'v': 0.0,\n            'f': \"0.0\",\n        }],\n [{\n            'v': 288,\n            'f': \"288\",\n        },\n\"WBC.AX\",\n\"2021-02-22 00:00:00\",\n{\n            'v': 24.1200008392334,\n            'f': \"24.1200008392334\",\n        },\n{\n            'v': 7376834,\n            'f': \"7376834\",\n        },\n{\n            'v': 23.719999313354492,\n            'f': \"23.719999313354492\",\n        },\n{\n            'v': 24.100000381469727,\n            'f': \"24.100000381469727\",\n        },\n{\n            'v': 23.68000030517578,\n            'f': \"23.68000030517578\",\n        },\n{\n            'v': 22.586496353149414,\n            'f': \"22.586496353149414\",\n        },\n{\n            'v': 0.0,\n            'f': \"0.0\",\n        }],\n [{\n            'v': 289,\n            'f': \"289\",\n        },\n\"WBC.AX\",\n\"2021-02-23 00:00:00\",\n{\n            'v': 24.18000030517578,\n            'f': \"24.18000030517578\",\n        },\n{\n            'v': 6808998,\n            'f': \"6808998\",\n        },\n{\n            'v': 24.15999984741211,\n            'f': \"24.15999984741211\",\n        },\n{\n            'v': 23.709999084472656,\n            'f': \"23.709999084472656\",\n        },\n{\n            'v': 23.575000762939453,\n            'f': \"23.575000762939453\",\n        },\n{\n            'v': 23.005470275878906,\n            'f': \"23.005470275878906\",\n        },\n{\n            'v': 0.0,\n            'f': \"0.0\",\n        }],\n [{\n            'v': 290,\n            'f': \"290\",\n        },\n\"WBC.AX\",\n\"2021-02-24 00:00:00\",\n{\n            'v': 24.075000762939453,\n            'f': \"24.075000762939453\",\n        },\n{\n            'v': 4595204,\n            'f': \"4595204\",\n        },\n{\n            'v': 24.049999237060547,\n            'f': \"24.049999237060547\",\n        },\n{\n            'v': 24.030000686645508,\n            'f': \"24.030000686645508\",\n        },\n{\n            'v': 23.899999618530273,\n            'f': \"23.899999618530273\",\n        },\n{\n            'v': 22.900728225708008,\n            'f': \"22.900728225708008\",\n        },\n{\n            'v': 0.0,\n            'f': \"0.0\",\n        }],\n [{\n            'v': 291,\n            'f': \"291\",\n        },\n\"WBC.AX\",\n\"2021-02-25 00:00:00\",\n{\n            'v': 24.469999313354492,\n            'f': \"24.469999313354492\",\n        },\n{\n            'v': 6769867,\n            'f': \"6769867\",\n        },\n{\n            'v': 24.360000610351562,\n            'f': \"24.360000610351562\",\n        },\n{\n            'v': 24.299999237060547,\n            'f': \"24.299999237060547\",\n        },\n{\n            'v': 24.1200008392334,\n            'f': \"24.1200008392334\",\n        },\n{\n            'v': 23.195913314819336,\n            'f': \"23.195913314819336\",\n        },\n{\n            'v': 0.0,\n            'f': \"0.0\",\n        }],\n [{\n            'v': 292,\n            'f': \"292\",\n        },\n\"WBC.AX\",\n\"2021-02-26 00:00:00\",\n{\n            'v': 24.200000762939453,\n            'f': \"24.200000762939453\",\n        },\n{\n            'v': 11370199,\n            'f': \"11370199\",\n        },\n{\n            'v': 23.81999969482422,\n            'f': \"23.81999969482422\",\n        },\n{\n            'v': 24.18000030517578,\n            'f': \"24.18000030517578\",\n        },\n{\n            'v': 23.690000534057617,\n            'f': \"23.690000534057617\",\n        },\n{\n            'v': 22.681716918945312,\n            'f': \"22.681716918945312\",\n        },\n{\n            'v': 0.0,\n            'f': \"0.0\",\n        }],\n [{\n            'v': 293,\n            'f': \"293\",\n        },\n\"WBC.AX\",\n\"2021-03-01 00:00:00\",\n{\n            'v': 24.25,\n            'f': \"24.25\",\n        },\n{\n            'v': 5805483,\n            'f': \"5805483\",\n        },\n{\n            'v': 24.190000534057617,\n            'f': \"24.190000534057617\",\n        },\n{\n            'v': 23.8700008392334,\n            'f': \"23.8700008392334\",\n        },\n{\n            'v': 23.809999465942383,\n            'f': \"23.809999465942383\",\n        },\n{\n            'v': 23.03403663635254,\n            'f': \"23.03403663635254\",\n        },\n{\n            'v': 0.0,\n            'f': \"0.0\",\n        }],\n [{\n            'v': 294,\n            'f': \"294\",\n        },\n\"WBC.AX\",\n\"2021-03-02 00:00:00\",\n{\n            'v': 24.459999084472656,\n            'f': \"24.459999084472656\",\n        },\n{\n            'v': 8680741,\n            'f': \"8680741\",\n        },\n{\n            'v': 24.15999984741211,\n            'f': \"24.15999984741211\",\n        },\n{\n            'v': 24.399999618530273,\n            'f': \"24.399999618530273\",\n        },\n{\n            'v': 24.079999923706055,\n            'f': \"24.079999923706055\",\n        },\n{\n            'v': 23.005470275878906,\n            'f': \"23.005470275878906\",\n        },\n{\n            'v': 0.0,\n            'f': \"0.0\",\n        }],\n [{\n            'v': 295,\n            'f': \"295\",\n        },\n\"WBC.AX\",\n\"2021-03-03 00:00:00\",\n{\n            'v': 24.6200008392334,\n            'f': \"24.6200008392334\",\n        },\n{\n            'v': 6923689,\n            'f': \"6923689\",\n        },\n{\n            'v': 24.530000686645508,\n            'f': \"24.530000686645508\",\n        },\n{\n            'v': 24.059999465942383,\n            'f': \"24.059999465942383\",\n        },\n{\n            'v': 24.030000686645508,\n            'f': \"24.030000686645508\",\n        },\n{\n            'v': 23.357789993286133,\n            'f': \"23.357789993286133\",\n        },\n{\n            'v': 0.0,\n            'f': \"0.0\",\n        }],\n [{\n            'v': 296,\n            'f': \"296\",\n        },\n\"WBC.AX\",\n\"2021-03-04 00:00:00\",\n{\n            'v': 24.8700008392334,\n            'f': \"24.8700008392334\",\n        },\n{\n            'v': 10014282,\n            'f': \"10014282\",\n        },\n{\n            'v': 24.84000015258789,\n            'f': \"24.84000015258789\",\n        },\n{\n            'v': 24.799999237060547,\n            'f': \"24.799999237060547\",\n        },\n{\n            'v': 24.43000030517578,\n            'f': \"24.43000030517578\",\n        },\n{\n            'v': 23.652976989746094,\n            'f': \"23.652976989746094\",\n        },\n{\n            'v': 0.0,\n            'f': \"0.0\",\n        }],\n [{\n            'v': 297,\n            'f': \"297\",\n        },\n\"WBC.AX\",\n\"2021-03-05 00:00:00\",\n{\n            'v': 25.0,\n            'f': \"25.0\",\n        },\n{\n            'v': 7754868,\n            'f': \"7754868\",\n        },\n{\n            'v': 24.8700008392334,\n            'f': \"24.8700008392334\",\n        },\n{\n            'v': 24.81999969482422,\n            'f': \"24.81999969482422\",\n        },\n{\n            'v': 24.649999618530273,\n            'f': \"24.649999618530273\",\n        },\n{\n            'v': 23.681543350219727,\n            'f': \"23.681543350219727\",\n        },\n{\n            'v': 0.0,\n            'f': \"0.0\",\n        }],\n [{\n            'v': 298,\n            'f': \"298\",\n        },\n\"WBC.AX\",\n\"2021-03-08 00:00:00\",\n{\n            'v': 25.280000686645508,\n            'f': \"25.280000686645508\",\n        },\n{\n            'v': 5403844,\n            'f': \"5403844\",\n        },\n{\n            'v': 24.739999771118164,\n            'f': \"24.739999771118164\",\n        },\n{\n            'v': 25.100000381469727,\n            'f': \"25.100000381469727\",\n        },\n{\n            'v': 24.700000762939453,\n            'f': \"24.700000762939453\",\n        },\n{\n            'v': 23.557754516601562,\n            'f': \"23.557754516601562\",\n        },\n{\n            'v': 0.0,\n            'f': \"0.0\",\n        }],\n [{\n            'v': 299,\n            'f': \"299\",\n        },\n\"WBC.AX\",\n\"2021-03-09 00:00:00\",\n{\n            'v': 25.299999237060547,\n            'f': \"25.299999237060547\",\n        },\n{\n            'v': 6298195,\n            'f': \"6298195\",\n        },\n{\n            'v': 24.920000076293945,\n            'f': \"24.920000076293945\",\n        },\n{\n            'v': 25.079999923706055,\n            'f': \"25.079999923706055\",\n        },\n{\n            'v': 24.8700008392334,\n            'f': \"24.8700008392334\",\n        },\n{\n            'v': 23.72915267944336,\n            'f': \"23.72915267944336\",\n        },\n{\n            'v': 0.0,\n            'f': \"0.0\",\n        }],\n [{\n            'v': 300,\n            'f': \"300\",\n        },\n\"WBC.AX\",\n\"2021-03-10 00:00:00\",\n{\n            'v': 24.969999313354492,\n            'f': \"24.969999313354492\",\n        },\n{\n            'v': 4504867,\n            'f': \"4504867\",\n        },\n{\n            'v': 24.600000381469727,\n            'f': \"24.600000381469727\",\n        },\n{\n            'v': 24.829999923706055,\n            'f': \"24.829999923706055\",\n        },\n{\n            'v': 24.579999923706055,\n            'f': \"24.579999923706055\",\n        },\n{\n            'v': 23.4244441986084,\n            'f': \"23.4244441986084\",\n        },\n{\n            'v': 0.0,\n            'f': \"0.0\",\n        }],\n [{\n            'v': 301,\n            'f': \"301\",\n        },\n\"WBC.AX\",\n\"2021-03-11 00:00:00\",\n{\n            'v': 24.84000015258789,\n            'f': \"24.84000015258789\",\n        },\n{\n            'v': 6216274,\n            'f': \"6216274\",\n        },\n{\n            'v': 24.530000686645508,\n            'f': \"24.530000686645508\",\n        },\n{\n            'v': 24.68000030517578,\n            'f': \"24.68000030517578\",\n        },\n{\n            'v': 24.329999923706055,\n            'f': \"24.329999923706055\",\n        },\n{\n            'v': 23.357789993286133,\n            'f': \"23.357789993286133\",\n        },\n{\n            'v': 0.0,\n            'f': \"0.0\",\n        }],\n [{\n            'v': 302,\n            'f': \"302\",\n        },\n\"WBC.AX\",\n\"2021-03-12 00:00:00\",\n{\n            'v': 24.649999618530273,\n            'f': \"24.649999618530273\",\n        },\n{\n            'v': 4139949,\n            'f': \"4139949\",\n        },\n{\n            'v': 24.450000762939453,\n            'f': \"24.450000762939453\",\n        },\n{\n            'v': 24.600000381469727,\n            'f': \"24.600000381469727\",\n        },\n{\n            'v': 24.399999618530273,\n            'f': \"24.399999618530273\",\n        },\n{\n            'v': 23.281614303588867,\n            'f': \"23.281614303588867\",\n        },\n{\n            'v': 0.0,\n            'f': \"0.0\",\n        }],\n [{\n            'v': 303,\n            'f': \"303\",\n        },\n\"WBC.AX\",\n\"2021-03-15 00:00:00\",\n{\n            'v': 24.729999542236328,\n            'f': \"24.729999542236328\",\n        },\n{\n            'v': 4392730,\n            'f': \"4392730\",\n        },\n{\n            'v': 24.579999923706055,\n            'f': \"24.579999923706055\",\n        },\n{\n            'v': 24.540000915527344,\n            'f': \"24.540000915527344\",\n        },\n{\n            'v': 24.34000015258789,\n            'f': \"24.34000015258789\",\n        },\n{\n            'v': 23.405399322509766,\n            'f': \"23.405399322509766\",\n        },\n{\n            'v': 0.0,\n            'f': \"0.0\",\n        }],\n [{\n            'v': 304,\n            'f': \"304\",\n        },\n\"WBC.AX\",\n\"2021-03-16 00:00:00\",\n{\n            'v': 24.899999618530273,\n            'f': \"24.899999618530273\",\n        },\n{\n            'v': 5819629,\n            'f': \"5819629\",\n        },\n{\n            'v': 24.729999542236328,\n            'f': \"24.729999542236328\",\n        },\n{\n            'v': 24.649999618530273,\n            'f': \"24.649999618530273\",\n        },\n{\n            'v': 24.459999084472656,\n            'f': \"24.459999084472656\",\n        },\n{\n            'v': 23.54823112487793,\n            'f': \"23.54823112487793\",\n        },\n{\n            'v': 0.0,\n            'f': \"0.0\",\n        }],\n [{\n            'v': 305,\n            'f': \"305\",\n        },\n\"WBC.AX\",\n\"2021-03-17 00:00:00\",\n{\n            'v': 24.790000915527344,\n            'f': \"24.790000915527344\",\n        },\n{\n            'v': 4731339,\n            'f': \"4731339\",\n        },\n{\n            'v': 24.670000076293945,\n            'f': \"24.670000076293945\",\n        },\n{\n            'v': 24.690000534057617,\n            'f': \"24.690000534057617\",\n        },\n{\n            'v': 24.5049991607666,\n            'f': \"24.5049991607666\",\n        },\n{\n            'v': 23.491100311279297,\n            'f': \"23.491100311279297\",\n        },\n{\n            'v': 0.0,\n            'f': \"0.0\",\n        }],\n [{\n            'v': 306,\n            'f': \"306\",\n        },\n\"WBC.AX\",\n\"2021-03-18 00:00:00\",\n{\n            'v': 24.649999618530273,\n            'f': \"24.649999618530273\",\n        },\n{\n            'v': 7010572,\n            'f': \"7010572\",\n        },\n{\n            'v': 24.440000534057617,\n            'f': \"24.440000534057617\",\n        },\n{\n            'v': 24.440000534057617,\n            'f': \"24.440000534057617\",\n        },\n{\n            'v': 24.3799991607666,\n            'f': \"24.3799991607666\",\n        },\n{\n            'v': 23.272090911865234,\n            'f': \"23.272090911865234\",\n        },\n{\n            'v': 0.0,\n            'f': \"0.0\",\n        }],\n [{\n            'v': 307,\n            'f': \"307\",\n        },\n\"WBC.AX\",\n\"2021-03-19 00:00:00\",\n{\n            'v': 24.65999984741211,\n            'f': \"24.65999984741211\",\n        },\n{\n            'v': 17722276,\n            'f': \"17722276\",\n        },\n{\n            'v': 24.520000457763672,\n            'f': \"24.520000457763672\",\n        },\n{\n            'v': 24.360000610351562,\n            'f': \"24.360000610351562\",\n        },\n{\n            'v': 24.329999923706055,\n            'f': \"24.329999923706055\",\n        },\n{\n            'v': 23.348268508911133,\n            'f': \"23.348268508911133\",\n        },\n{\n            'v': 0.0,\n            'f': \"0.0\",\n        }],\n [{\n            'v': 308,\n            'f': \"308\",\n        },\n\"WBC.AX\",\n\"2021-03-22 00:00:00\",\n{\n            'v': 24.719999313354492,\n            'f': \"24.719999313354492\",\n        },\n{\n            'v': 4939978,\n            'f': \"4939978\",\n        },\n{\n            'v': 24.65999984741211,\n            'f': \"24.65999984741211\",\n        },\n{\n            'v': 24.479999542236328,\n            'f': \"24.479999542236328\",\n        },\n{\n            'v': 24.280000686645508,\n            'f': \"24.280000686645508\",\n        },\n{\n            'v': 23.481576919555664,\n            'f': \"23.481576919555664\",\n        },\n{\n            'v': 0.0,\n            'f': \"0.0\",\n        }],\n [{\n            'v': 309,\n            'f': \"309\",\n        },\n\"WBC.AX\",\n\"2021-03-23 00:00:00\",\n{\n            'v': 24.610000610351562,\n            'f': \"24.610000610351562\",\n        },\n{\n            'v': 6284485,\n            'f': \"6284485\",\n        },\n{\n            'v': 24.43000030517578,\n            'f': \"24.43000030517578\",\n        },\n{\n            'v': 24.489999771118164,\n            'f': \"24.489999771118164\",\n        },\n{\n            'v': 24.350000381469727,\n            'f': \"24.350000381469727\",\n        },\n{\n            'v': 23.262569427490234,\n            'f': \"23.262569427490234\",\n        },\n{\n            'v': 0.0,\n            'f': \"0.0\",\n        }],\n [{\n            'v': 310,\n            'f': \"310\",\n        },\n\"WBC.AX\",\n\"2021-03-24 00:00:00\",\n{\n            'v': 24.3700008392334,\n            'f': \"24.3700008392334\",\n        },\n{\n            'v': 6310570,\n            'f': \"6310570\",\n        },\n{\n            'v': 24.190000534057617,\n            'f': \"24.190000534057617\",\n        },\n{\n            'v': 24.299999237060547,\n            'f': \"24.299999237060547\",\n        },\n{\n            'v': 24.059999465942383,\n            'f': \"24.059999465942383\",\n        },\n{\n            'v': 23.03403663635254,\n            'f': \"23.03403663635254\",\n        },\n{\n            'v': 0.0,\n            'f': \"0.0\",\n        }],\n [{\n            'v': 311,\n            'f': \"311\",\n        },\n\"WBC.AX\",\n\"2021-03-25 00:00:00\",\n{\n            'v': 24.209999084472656,\n            'f': \"24.209999084472656\",\n        },\n{\n            'v': 5559320,\n            'f': \"5559320\",\n        },\n{\n            'v': 24.1200008392334,\n            'f': \"24.1200008392334\",\n        },\n{\n            'v': 24.049999237060547,\n            'f': \"24.049999237060547\",\n        },\n{\n            'v': 24.010000228881836,\n            'f': \"24.010000228881836\",\n        },\n{\n            'v': 22.967382431030273,\n            'f': \"22.967382431030273\",\n        },\n{\n            'v': 0.0,\n            'f': \"0.0\",\n        }],\n [{\n            'v': 312,\n            'f': \"312\",\n        },\n\"WBC.AX\",\n\"2021-03-26 00:00:00\",\n{\n            'v': 24.440000534057617,\n            'f': \"24.440000534057617\",\n        },\n{\n            'v': 5052780,\n            'f': \"5052780\",\n        },\n{\n            'v': 24.34000015258789,\n            'f': \"24.34000015258789\",\n        },\n{\n            'v': 24.170000076293945,\n            'f': \"24.170000076293945\",\n        },\n{\n            'v': 24.15999984741211,\n            'f': \"24.15999984741211\",\n        },\n{\n            'v': 23.176868438720703,\n            'f': \"23.176868438720703\",\n        },\n{\n            'v': 0.0,\n            'f': \"0.0\",\n        }],\n [{\n            'v': 313,\n            'f': \"313\",\n        },\n\"WBC.AX\",\n\"2021-03-29 00:00:00\",\n{\n            'v': 24.65999984741211,\n            'f': \"24.65999984741211\",\n        },\n{\n            'v': 5313079,\n            'f': \"5313079\",\n        },\n{\n            'v': 24.34000015258789,\n            'f': \"24.34000015258789\",\n        },\n{\n            'v': 24.399999618530273,\n            'f': \"24.399999618530273\",\n        },\n{\n            'v': 24.229999542236328,\n            'f': \"24.229999542236328\",\n        },\n{\n            'v': 23.176868438720703,\n            'f': \"23.176868438720703\",\n        },\n{\n            'v': 0.0,\n            'f': \"0.0\",\n        }],\n [{\n            'v': 314,\n            'f': \"314\",\n        },\n\"WBC.AX\",\n\"2021-03-30 00:00:00\",\n{\n            'v': 24.540000915527344,\n            'f': \"24.540000915527344\",\n        },\n{\n            'v': 6232996,\n            'f': \"6232996\",\n        },\n{\n            'v': 24.360000610351562,\n            'f': \"24.360000610351562\",\n        },\n{\n            'v': 24.450000762939453,\n            'f': \"24.450000762939453\",\n        },\n{\n            'v': 24.190000534057617,\n            'f': \"24.190000534057617\",\n        },\n{\n            'v': 23.195913314819336,\n            'f': \"23.195913314819336\",\n        },\n{\n            'v': 0.0,\n            'f': \"0.0\",\n        }],\n [{\n            'v': 315,\n            'f': \"315\",\n        },\n\"WBC.AX\",\n\"2021-03-31 00:00:00\",\n{\n            'v': 24.780000686645508,\n            'f': \"24.780000686645508\",\n        },\n{\n            'v': 7623677,\n            'f': \"7623677\",\n        },\n{\n            'v': 24.40999984741211,\n            'f': \"24.40999984741211\",\n        },\n{\n            'v': 24.450000762939453,\n            'f': \"24.450000762939453\",\n        },\n{\n            'v': 24.40999984741211,\n            'f': \"24.40999984741211\",\n        },\n{\n            'v': 23.2435245513916,\n            'f': \"23.2435245513916\",\n        },\n{\n            'v': 0.0,\n            'f': \"0.0\",\n        }],\n [{\n            'v': 316,\n            'f': \"316\",\n        },\n\"WBC.AX\",\n\"2021-04-01 00:00:00\",\n{\n            'v': 24.559999465942383,\n            'f': \"24.559999465942383\",\n        },\n{\n            'v': 4197192,\n            'f': \"4197192\",\n        },\n{\n            'v': 24.540000915527344,\n            'f': \"24.540000915527344\",\n        },\n{\n            'v': 24.420000076293945,\n            'f': \"24.420000076293945\",\n        },\n{\n            'v': 24.260000228881836,\n            'f': \"24.260000228881836\",\n        },\n{\n            'v': 23.367313385009766,\n            'f': \"23.367313385009766\",\n        },\n{\n            'v': 0.0,\n            'f': \"0.0\",\n        }],\n [{\n            'v': 317,\n            'f': \"317\",\n        },\n\"WBC.AX\",\n\"2021-04-06 00:00:00\",\n{\n            'v': 24.860000610351562,\n            'f': \"24.860000610351562\",\n        },\n{\n            'v': 4948766,\n            'f': \"4948766\",\n        },\n{\n            'v': 24.700000762939453,\n            'f': \"24.700000762939453\",\n        },\n{\n            'v': 24.75,\n            'f': \"24.75\",\n        },\n{\n            'v': 24.610000610351562,\n            'f': \"24.610000610351562\",\n        },\n{\n            'v': 23.51966667175293,\n            'f': \"23.51966667175293\",\n        },\n{\n            'v': 0.0,\n            'f': \"0.0\",\n        }],\n [{\n            'v': 318,\n            'f': \"318\",\n        },\n\"WBC.AX\",\n\"2021-04-07 00:00:00\",\n{\n            'v': 24.8700008392334,\n            'f': \"24.8700008392334\",\n        },\n{\n            'v': 4482088,\n            'f': \"4482088\",\n        },\n{\n            'v': 24.84000015258789,\n            'f': \"24.84000015258789\",\n        },\n{\n            'v': 24.709999084472656,\n            'f': \"24.709999084472656\",\n        },\n{\n            'v': 24.59000015258789,\n            'f': \"24.59000015258789\",\n        },\n{\n            'v': 23.652976989746094,\n            'f': \"23.652976989746094\",\n        },\n{\n            'v': 0.0,\n            'f': \"0.0\",\n        }],\n [{\n            'v': 319,\n            'f': \"319\",\n        },\n\"WBC.AX\",\n\"2021-04-08 00:00:00\",\n{\n            'v': 25.3799991607666,\n            'f': \"25.3799991607666\",\n        },\n{\n            'v': 7035601,\n            'f': \"7035601\",\n        },\n{\n            'v': 25.15999984741211,\n            'f': \"25.15999984741211\",\n        },\n{\n            'v': 25.170000076293945,\n            'f': \"25.170000076293945\",\n        },\n{\n            'v': 24.959999084472656,\n            'f': \"24.959999084472656\",\n        },\n{\n            'v': 23.957683563232422,\n            'f': \"23.957683563232422\",\n        },\n{\n            'v': 0.0,\n            'f': \"0.0\",\n        }],\n [{\n            'v': 320,\n            'f': \"320\",\n        },\n\"WBC.AX\",\n\"2021-04-09 00:00:00\",\n{\n            'v': 25.219999313354492,\n            'f': \"25.219999313354492\",\n        },\n{\n            'v': 4031591,\n            'f': \"4031591\",\n        },\n{\n            'v': 25.209999084472656,\n            'f': \"25.209999084472656\",\n        },\n{\n            'v': 25.1299991607666,\n            'f': \"25.1299991607666\",\n        },\n{\n            'v': 24.940000534057617,\n            'f': \"24.940000534057617\",\n        },\n{\n            'v': 24.005294799804688,\n            'f': \"24.005294799804688\",\n        },\n{\n            'v': 0.0,\n            'f': \"0.0\",\n        }],\n [{\n            'v': 321,\n            'f': \"321\",\n        },\n\"WBC.AX\",\n\"2021-04-12 00:00:00\",\n{\n            'v': 25.3799991607666,\n            'f': \"25.3799991607666\",\n        },\n{\n            'v': 3476635,\n            'f': \"3476635\",\n        },\n{\n            'v': 25.299999237060547,\n            'f': \"25.299999237060547\",\n        },\n{\n            'v': 25.200000762939453,\n            'f': \"25.200000762939453\",\n        },\n{\n            'v': 25.170000076293945,\n            'f': \"25.170000076293945\",\n        },\n{\n            'v': 24.090993881225586,\n            'f': \"24.090993881225586\",\n        },\n{\n            'v': 0.0,\n            'f': \"0.0\",\n        }],\n [{\n            'v': 322,\n            'f': \"322\",\n        },\n\"WBC.AX\",\n\"2021-04-13 00:00:00\",\n{\n            'v': 25.360000610351562,\n            'f': \"25.360000610351562\",\n        },\n{\n            'v': 3590515,\n            'f': \"3590515\",\n        },\n{\n            'v': 25.309999465942383,\n            'f': \"25.309999465942383\",\n        },\n{\n            'v': 25.239999771118164,\n            'f': \"25.239999771118164\",\n        },\n{\n            'v': 25.200000762939453,\n            'f': \"25.200000762939453\",\n        },\n{\n            'v': 24.100515365600586,\n            'f': \"24.100515365600586\",\n        },\n{\n            'v': 0.0,\n            'f': \"0.0\",\n        }],\n [{\n            'v': 323,\n            'f': \"323\",\n        },\n\"WBC.AX\",\n\"2021-04-14 00:00:00\",\n{\n            'v': 25.3799991607666,\n            'f': \"25.3799991607666\",\n        },\n{\n            'v': 5226936,\n            'f': \"5226936\",\n        },\n{\n            'v': 25.329999923706055,\n            'f': \"25.329999923706055\",\n        },\n{\n            'v': 25.190000534057617,\n            'f': \"25.190000534057617\",\n        },\n{\n            'v': 24.969999313354492,\n            'f': \"24.969999313354492\",\n        },\n{\n            'v': 24.11956024169922,\n            'f': \"24.11956024169922\",\n        },\n{\n            'v': 0.0,\n            'f': \"0.0\",\n        }],\n [{\n            'v': 324,\n            'f': \"324\",\n        },\n\"WBC.AX\",\n\"2021-04-15 00:00:00\",\n{\n            'v': 25.520000457763672,\n            'f': \"25.520000457763672\",\n        },\n{\n            'v': 5683675,\n            'f': \"5683675\",\n        },\n{\n            'v': 25.5,\n            'f': \"25.5\",\n        },\n{\n            'v': 25.299999237060547,\n            'f': \"25.299999237060547\",\n        },\n{\n            'v': 25.1299991607666,\n            'f': \"25.1299991607666\",\n        },\n{\n            'v': 24.281436920166016,\n            'f': \"24.281436920166016\",\n        },\n{\n            'v': 0.0,\n            'f': \"0.0\",\n        }],\n [{\n            'v': 325,\n            'f': \"325\",\n        },\n\"WBC.AX\",\n\"2021-04-16 00:00:00\",\n{\n            'v': 25.40999984741211,\n            'f': \"25.40999984741211\",\n        },\n{\n            'v': 5303151,\n            'f': \"5303151\",\n        },\n{\n            'v': 25.31999969482422,\n            'f': \"25.31999969482422\",\n        },\n{\n            'v': 25.350000381469727,\n            'f': \"25.350000381469727\",\n        },\n{\n            'v': 25.15999984741211,\n            'f': \"25.15999984741211\",\n        },\n{\n            'v': 24.110036849975586,\n            'f': \"24.110036849975586\",\n        },\n{\n            'v': 0.0,\n            'f': \"0.0\",\n        }],\n [{\n            'v': 326,\n            'f': \"326\",\n        },\n\"WBC.AX\",\n\"2021-04-19 00:00:00\",\n{\n            'v': 25.489999771118164,\n            'f': \"25.489999771118164\",\n        },\n{\n            'v': 3925295,\n            'f': \"3925295\",\n        },\n{\n            'v': 25.360000610351562,\n            'f': \"25.360000610351562\",\n        },\n{\n            'v': 25.440000534057617,\n            'f': \"25.440000534057617\",\n        },\n{\n            'v': 25.329999923706055,\n            'f': \"25.329999923706055\",\n        },\n{\n            'v': 24.14812660217285,\n            'f': \"24.14812660217285\",\n        },\n{\n            'v': 0.0,\n            'f': \"0.0\",\n        }],\n [{\n            'v': 327,\n            'f': \"327\",\n        },\n\"WBC.AX\",\n\"2021-04-20 00:00:00\",\n{\n            'v': 25.389999389648438,\n            'f': \"25.389999389648438\",\n        },\n{\n            'v': 4271830,\n            'f': \"4271830\",\n        },\n{\n            'v': 25.239999771118164,\n            'f': \"25.239999771118164\",\n        },\n{\n            'v': 25.299999237060547,\n            'f': \"25.299999237060547\",\n        },\n{\n            'v': 25.219999313354492,\n            'f': \"25.219999313354492\",\n        },\n{\n            'v': 24.03386116027832,\n            'f': \"24.03386116027832\",\n        },\n{\n            'v': 0.0,\n            'f': \"0.0\",\n        }],\n [{\n            'v': 328,\n            'f': \"328\",\n        },\n\"WBC.AX\",\n\"2021-04-21 00:00:00\",\n{\n            'v': 25.0,\n            'f': \"25.0\",\n        },\n{\n            'v': 7806973,\n            'f': \"7806973\",\n        },\n{\n            'v': 24.979999542236328,\n            'f': \"24.979999542236328\",\n        },\n{\n            'v': 24.920000076293945,\n            'f': \"24.920000076293945\",\n        },\n{\n            'v': 24.6200008392334,\n            'f': \"24.6200008392334\",\n        },\n{\n            'v': 23.786285400390625,\n            'f': \"23.786285400390625\",\n        },\n{\n            'v': 0.0,\n            'f': \"0.0\",\n        }],\n [{\n            'v': 329,\n            'f': \"329\",\n        },\n\"WBC.AX\",\n\"2021-04-22 00:00:00\",\n{\n            'v': 25.1299991607666,\n            'f': \"25.1299991607666\",\n        },\n{\n            'v': 5606725,\n            'f': \"5606725\",\n        },\n{\n            'v': 25.110000610351562,\n            'f': \"25.110000610351562\",\n        },\n{\n            'v': 25.030000686645508,\n            'f': \"25.030000686645508\",\n        },\n{\n            'v': 24.940000534057617,\n            'f': \"24.940000534057617\",\n        },\n{\n            'v': 23.91007423400879,\n            'f': \"23.91007423400879\",\n        },\n{\n            'v': 0.0,\n            'f': \"0.0\",\n        }],\n [{\n            'v': 330,\n            'f': \"330\",\n        },\n\"WBC.AX\",\n\"2021-04-23 00:00:00\",\n{\n            'v': 25.139999389648438,\n            'f': \"25.139999389648438\",\n        },\n{\n            'v': 3923382,\n            'f': \"3923382\",\n        },\n{\n            'v': 25.1200008392334,\n            'f': \"25.1200008392334\",\n        },\n{\n            'v': 25.030000686645508,\n            'f': \"25.030000686645508\",\n        },\n{\n            'v': 24.979999542236328,\n            'f': \"24.979999542236328\",\n        },\n{\n            'v': 23.91959571838379,\n            'f': \"23.91959571838379\",\n        },\n{\n            'v': 0.0,\n            'f': \"0.0\",\n        }],\n [{\n            'v': 331,\n            'f': \"331\",\n        },\n\"WBC.AX\",\n\"2021-04-26 00:00:00\",\n{\n            'v': 25.360000610351562,\n            'f': \"25.360000610351562\",\n        },\n{\n            'v': 3952356,\n            'f': \"3952356\",\n        },\n{\n            'v': 25.079999923706055,\n            'f': \"25.079999923706055\",\n        },\n{\n            'v': 25.18000030517578,\n            'f': \"25.18000030517578\",\n        },\n{\n            'v': 25.079999923706055,\n            'f': \"25.079999923706055\",\n        },\n{\n            'v': 23.881507873535156,\n            'f': \"23.881507873535156\",\n        },\n{\n            'v': 0.0,\n            'f': \"0.0\",\n        }],\n [{\n            'v': 332,\n            'f': \"332\",\n        },\n\"WBC.AX\",\n\"2021-04-27 00:00:00\",\n{\n            'v': 25.049999237060547,\n            'f': \"25.049999237060547\",\n        },\n{\n            'v': 4798314,\n            'f': \"4798314\",\n        },\n{\n            'v': 24.989999771118164,\n            'f': \"24.989999771118164\",\n        },\n{\n            'v': 25.030000686645508,\n            'f': \"25.030000686645508\",\n        },\n{\n            'v': 24.864999771118164,\n            'f': \"24.864999771118164\",\n        },\n{\n            'v': 23.795808792114258,\n            'f': \"23.795808792114258\",\n        },\n{\n            'v': 0.0,\n            'f': \"0.0\",\n        }],\n [{\n            'v': 333,\n            'f': \"333\",\n        },\n\"WBC.AX\",\n\"2021-04-28 00:00:00\",\n{\n            'v': 25.329999923706055,\n            'f': \"25.329999923706055\",\n        },\n{\n            'v': 6383563,\n            'f': \"6383563\",\n        },\n{\n            'v': 25.299999237060547,\n            'f': \"25.299999237060547\",\n        },\n{\n            'v': 25.15999984741211,\n            'f': \"25.15999984741211\",\n        },\n{\n            'v': 25.1200008392334,\n            'f': \"25.1200008392334\",\n        },\n{\n            'v': 24.090993881225586,\n            'f': \"24.090993881225586\",\n        },\n{\n            'v': 0.0,\n            'f': \"0.0\",\n        }],\n [{\n            'v': 334,\n            'f': \"334\",\n        },\n\"WBC.AX\",\n\"2021-04-29 00:00:00\",\n{\n            'v': 25.350000381469727,\n            'f': \"25.350000381469727\",\n        },\n{\n            'v': 4948296,\n            'f': \"4948296\",\n        },\n{\n            'v': 25.190000534057617,\n            'f': \"25.190000534057617\",\n        },\n{\n            'v': 25.299999237060547,\n            'f': \"25.299999237060547\",\n        },\n{\n            'v': 25.149999618530273,\n            'f': \"25.149999618530273\",\n        },\n{\n            'v': 23.986251831054688,\n            'f': \"23.986251831054688\",\n        },\n{\n            'v': 0.0,\n            'f': \"0.0\",\n        }],\n [{\n            'v': 335,\n            'f': \"335\",\n        },\n\"WBC.AX\",\n\"2021-04-30 00:00:00\",\n{\n            'v': 25.25,\n            'f': \"25.25\",\n        },\n{\n            'v': 7878907,\n            'f': \"7878907\",\n        },\n{\n            'v': 24.979999542236328,\n            'f': \"24.979999542236328\",\n        },\n{\n            'v': 25.190000534057617,\n            'f': \"25.190000534057617\",\n        },\n{\n            'v': 24.959999084472656,\n            'f': \"24.959999084472656\",\n        },\n{\n            'v': 23.786285400390625,\n            'f': \"23.786285400390625\",\n        },\n{\n            'v': 0.0,\n            'f': \"0.0\",\n        }],\n [{\n            'v': 336,\n            'f': \"336\",\n        },\n\"WBC.AX\",\n\"2021-05-03 00:00:00\",\n{\n            'v': 26.315000534057617,\n            'f': \"26.315000534057617\",\n        },\n{\n            'v': 16139700,\n            'f': \"16139700\",\n        },\n{\n            'v': 26.229999542236328,\n            'f': \"26.229999542236328\",\n        },\n{\n            'v': 25.709999084472656,\n            'f': \"25.709999084472656\",\n        },\n{\n            'v': 25.6299991607666,\n            'f': \"25.6299991607666\",\n        },\n{\n            'v': 24.976552963256836,\n            'f': \"24.976552963256836\",\n        },\n{\n            'v': 0.0,\n            'f': \"0.0\",\n        }],\n [{\n            'v': 337,\n            'f': \"337\",\n        },\n\"WBC.AX\",\n\"2021-05-04 00:00:00\",\n{\n            'v': 26.399999618530273,\n            'f': \"26.399999618530273\",\n        },\n{\n            'v': 7196366,\n            'f': \"7196366\",\n        },\n{\n            'v': 25.989999771118164,\n            'f': \"25.989999771118164\",\n        },\n{\n            'v': 26.3799991607666,\n            'f': \"26.3799991607666\",\n        },\n{\n            'v': 25.809999465942383,\n            'f': \"25.809999465942383\",\n        },\n{\n            'v': 24.748022079467773,\n            'f': \"24.748022079467773\",\n        },\n{\n            'v': 0.0,\n            'f': \"0.0\",\n        }],\n [{\n            'v': 338,\n            'f': \"338\",\n        },\n\"WBC.AX\",\n\"2021-05-05 00:00:00\",\n{\n            'v': 26.229999542236328,\n            'f': \"26.229999542236328\",\n        },\n{\n            'v': 6367722,\n            'f': \"6367722\",\n        },\n{\n            'v': 25.959999084472656,\n            'f': \"25.959999084472656\",\n        },\n{\n            'v': 26.15999984741211,\n            'f': \"26.15999984741211\",\n        },\n{\n            'v': 25.899999618530273,\n            'f': \"25.899999618530273\",\n        },\n{\n            'v': 24.719453811645508,\n            'f': \"24.719453811645508\",\n        },\n{\n            'v': 0.0,\n            'f': \"0.0\",\n        }],\n [{\n            'v': 339,\n            'f': \"339\",\n        },\n\"WBC.AX\",\n\"2021-05-06 00:00:00\",\n{\n            'v': 26.15999984741211,\n            'f': \"26.15999984741211\",\n        },\n{\n            'v': 7343573,\n            'f': \"7343573\",\n        },\n{\n            'v': 26.020000457763672,\n            'f': \"26.020000457763672\",\n        },\n{\n            'v': 26.15999984741211,\n            'f': \"26.15999984741211\",\n        },\n{\n            'v': 25.760000228881836,\n            'f': \"25.760000228881836\",\n        },\n{\n            'v': 24.776588439941406,\n            'f': \"24.776588439941406\",\n        },\n{\n            'v': 0.0,\n            'f': \"0.0\",\n        }],\n [{\n            'v': 340,\n            'f': \"340\",\n        },\n\"WBC.AX\",\n\"2021-05-07 00:00:00\",\n{\n            'v': 26.229999542236328,\n            'f': \"26.229999542236328\",\n        },\n{\n            'v': 5496310,\n            'f': \"5496310\",\n        },\n{\n            'v': 26.09000015258789,\n            'f': \"26.09000015258789\",\n        },\n{\n            'v': 26.0,\n            'f': \"26.0\",\n        },\n{\n            'v': 25.899999618530273,\n            'f': \"25.899999618530273\",\n        },\n{\n            'v': 24.843242645263672,\n            'f': \"24.843242645263672\",\n        },\n{\n            'v': 0.0,\n            'f': \"0.0\",\n        }],\n [{\n            'v': 341,\n            'f': \"341\",\n        },\n\"WBC.AX\",\n\"2021-05-10 00:00:00\",\n{\n            'v': 26.43000030517578,\n            'f': \"26.43000030517578\",\n        },\n{\n            'v': 5134497,\n            'f': \"5134497\",\n        },\n{\n            'v': 26.420000076293945,\n            'f': \"26.420000076293945\",\n        },\n{\n            'v': 26.149999618530273,\n            'f': \"26.149999618530273\",\n        },\n{\n            'v': 26.139999389648438,\n            'f': \"26.139999389648438\",\n        },\n{\n            'v': 25.157472610473633,\n            'f': \"25.157472610473633\",\n        },\n{\n            'v': 0.0,\n            'f': \"0.0\",\n        }],\n [{\n            'v': 342,\n            'f': \"342\",\n        },\n\"WBC.AX\",\n\"2021-05-11 00:00:00\",\n{\n            'v': 26.420000076293945,\n            'f': \"26.420000076293945\",\n        },\n{\n            'v': 8110986,\n            'f': \"8110986\",\n        },\n{\n            'v': 26.079999923706055,\n            'f': \"26.079999923706055\",\n        },\n{\n            'v': 26.200000762939453,\n            'f': \"26.200000762939453\",\n        },\n{\n            'v': 26.040000915527344,\n            'f': \"26.040000915527344\",\n        },\n{\n            'v': 24.83371925354004,\n            'f': \"24.83371925354004\",\n        },\n{\n            'v': 0.0,\n            'f': \"0.0\",\n        }],\n [{\n            'v': 343,\n            'f': \"343\",\n        },\n\"WBC.AX\",\n\"2021-05-12 00:00:00\",\n{\n            'v': 25.8700008392334,\n            'f': \"25.8700008392334\",\n        },\n{\n            'v': 9336042,\n            'f': \"9336042\",\n        },\n{\n            'v': 25.770000457763672,\n            'f': \"25.770000457763672\",\n        },\n{\n            'v': 25.809999465942383,\n            'f': \"25.809999465942383\",\n        },\n{\n            'v': 25.510000228881836,\n            'f': \"25.510000228881836\",\n        },\n{\n            'v': 24.538536071777344,\n            'f': \"24.538536071777344\",\n        },\n{\n            'v': 0.0,\n            'f': \"0.0\",\n        }],\n [{\n            'v': 344,\n            'f': \"344\",\n        },\n\"WBC.AX\",\n\"2021-05-13 00:00:00\",\n{\n            'v': 25.229999542236328,\n            'f': \"25.229999542236328\",\n        },\n{\n            'v': 15714303,\n            'f': \"15714303\",\n        },\n{\n            'v': 25.190000534057617,\n            'f': \"25.190000534057617\",\n        },\n{\n            'v': 25.209999084472656,\n            'f': \"25.209999084472656\",\n        },\n{\n            'v': 25.049999237060547,\n            'f': \"25.049999237060547\",\n        },\n{\n            'v': 24.53853416442871,\n            'f': \"24.53853416442871\",\n        },\n{\n            'v': 0.58,\n            'f': \"0.58\",\n        }],\n [{\n            'v': 345,\n            'f': \"345\",\n        },\n\"WBC.AX\",\n\"2021-05-14 00:00:00\",\n{\n            'v': 25.68000030517578,\n            'f': \"25.68000030517578\",\n        },\n{\n            'v': 6227628,\n            'f': \"6227628\",\n        },\n{\n            'v': 25.40999984741211,\n            'f': \"25.40999984741211\",\n        },\n{\n            'v': 25.540000915527344,\n            'f': \"25.540000915527344\",\n        },\n{\n            'v': 25.389999389648438,\n            'f': \"25.389999389648438\",\n        },\n{\n            'v': 24.752843856811523,\n            'f': \"24.752843856811523\",\n        },\n{\n            'v': 0.0,\n            'f': \"0.0\",\n        }],\n [{\n            'v': 346,\n            'f': \"346\",\n        },\n\"WBC.AX\",\n\"2021-05-17 00:00:00\",\n{\n            'v': 25.6200008392334,\n            'f': \"25.6200008392334\",\n        },\n{\n            'v': 4330017,\n            'f': \"4330017\",\n        },\n{\n            'v': 25.329999923706055,\n            'f': \"25.329999923706055\",\n        },\n{\n            'v': 25.459999084472656,\n            'f': \"25.459999084472656\",\n        },\n{\n            'v': 25.299999237060547,\n            'f': \"25.299999237060547\",\n        },\n{\n            'v': 24.67491340637207,\n            'f': \"24.67491340637207\",\n        },\n{\n            'v': 0.0,\n            'f': \"0.0\",\n        }],\n [{\n            'v': 347,\n            'f': \"347\",\n        },\n\"WBC.AX\",\n\"2021-05-18 00:00:00\",\n{\n            'v': 25.530000686645508,\n            'f': \"25.530000686645508\",\n        },\n{\n            'v': 5375597,\n            'f': \"5375597\",\n        },\n{\n            'v': 25.459999084472656,\n            'f': \"25.459999084472656\",\n        },\n{\n            'v': 25.350000381469727,\n            'f': \"25.350000381469727\",\n        },\n{\n            'v': 25.299999237060547,\n            'f': \"25.299999237060547\",\n        },\n{\n            'v': 24.801549911499023,\n            'f': \"24.801549911499023\",\n        },\n{\n            'v': 0.0,\n            'f': \"0.0\",\n        }],\n [{\n            'v': 348,\n            'f': \"348\",\n        },\n\"WBC.AX\",\n\"2021-05-19 00:00:00\",\n{\n            'v': 25.260000228881836,\n            'f': \"25.260000228881836\",\n        },\n{\n            'v': 8323461,\n            'f': \"8323461\",\n        },\n{\n            'v': 25.18000030517578,\n            'f': \"25.18000030517578\",\n        },\n{\n            'v': 25.079999923706055,\n            'f': \"25.079999923706055\",\n        },\n{\n            'v': 25.040000915527344,\n            'f': \"25.040000915527344\",\n        },\n{\n            'v': 24.528793334960938,\n            'f': \"24.528793334960938\",\n        },\n{\n            'v': 0.0,\n            'f': \"0.0\",\n        }],\n [{\n            'v': 349,\n            'f': \"349\",\n        },\n\"WBC.AX\",\n\"2021-05-20 00:00:00\",\n{\n            'v': 25.6200008392334,\n            'f': \"25.6200008392334\",\n        },\n{\n            'v': 6815461,\n            'f': \"6815461\",\n        },\n{\n            'v': 25.520000457763672,\n            'f': \"25.520000457763672\",\n        },\n{\n            'v': 25.299999237060547,\n            'f': \"25.299999237060547\",\n        },\n{\n            'v': 25.209999084472656,\n            'f': \"25.209999084472656\",\n        },\n{\n            'v': 24.860000610351562,\n            'f': \"24.860000610351562\",\n        },\n{\n            'v': 0.0,\n            'f': \"0.0\",\n        }],\n [{\n            'v': 350,\n            'f': \"350\",\n        },\n\"WBC.AX\",\n\"2021-05-21 00:00:00\",\n{\n            'v': 25.75,\n            'f': \"25.75\",\n        },\n{\n            'v': 6201726,\n            'f': \"6201726\",\n        },\n{\n            'v': 25.649999618530273,\n            'f': \"25.649999618530273\",\n        },\n{\n            'v': 25.600000381469727,\n            'f': \"25.600000381469727\",\n        },\n{\n            'v': 25.559999465942383,\n            'f': \"25.559999465942383\",\n        },\n{\n            'v': 24.986637115478516,\n            'f': \"24.986637115478516\",\n        },\n{\n            'v': 0.0,\n            'f': \"0.0\",\n        }],\n [{\n            'v': 351,\n            'f': \"351\",\n        },\n\"WBC.AX\",\n\"2021-05-24 00:00:00\",\n{\n            'v': 26.040000915527344,\n            'f': \"26.040000915527344\",\n        },\n{\n            'v': 5142624,\n            'f': \"5142624\",\n        },\n{\n            'v': 25.979999542236328,\n            'f': \"25.979999542236328\",\n        },\n{\n            'v': 25.75,\n            'f': \"25.75\",\n        },\n{\n            'v': 25.75,\n            'f': \"25.75\",\n        },\n{\n            'v': 25.308101654052734,\n            'f': \"25.308101654052734\",\n        },\n{\n            'v': 0.0,\n            'f': \"0.0\",\n        }],\n [{\n            'v': 352,\n            'f': \"352\",\n        },\n\"WBC.AX\",\n\"2021-05-25 00:00:00\",\n{\n            'v': 26.200000762939453,\n            'f': \"26.200000762939453\",\n        },\n{\n            'v': 4272751,\n            'f': \"4272751\",\n        },\n{\n            'v': 26.200000762939453,\n            'f': \"26.200000762939453\",\n        },\n{\n            'v': 26.079999923706055,\n            'f': \"26.079999923706055\",\n        },\n{\n            'v': 25.9950008392334,\n            'f': \"25.9950008392334\",\n        },\n{\n            'v': 25.52241325378418,\n            'f': \"25.52241325378418\",\n        },\n{\n            'v': 0.0,\n            'f': \"0.0\",\n        }],\n [{\n            'v': 353,\n            'f': \"353\",\n        },\n\"WBC.AX\",\n\"2021-05-26 00:00:00\",\n{\n            'v': 26.3799991607666,\n            'f': \"26.3799991607666\",\n        },\n{\n            'v': 5697789,\n            'f': \"5697789\",\n        },\n{\n            'v': 26.270000457763672,\n            'f': \"26.270000457763672\",\n        },\n{\n            'v': 26.200000762939453,\n            'f': \"26.200000762939453\",\n        },\n{\n            'v': 26.149999618530273,\n            'f': \"26.149999618530273\",\n        },\n{\n            'v': 25.59060287475586,\n            'f': \"25.59060287475586\",\n        },\n{\n            'v': 0.0,\n            'f': \"0.0\",\n        }],\n [{\n            'v': 354,\n            'f': \"354\",\n        },\n\"WBC.AX\",\n\"2021-05-27 00:00:00\",\n{\n            'v': 26.3799991607666,\n            'f': \"26.3799991607666\",\n        },\n{\n            'v': 10776555,\n            'f': \"10776555\",\n        },\n{\n            'v': 26.09000015258789,\n            'f': \"26.09000015258789\",\n        },\n{\n            'v': 26.3799991607666,\n            'f': \"26.3799991607666\",\n        },\n{\n            'v': 26.09000015258789,\n            'f': \"26.09000015258789\",\n        },\n{\n            'v': 25.415258407592773,\n            'f': \"25.415258407592773\",\n        },\n{\n            'v': 0.0,\n            'f': \"0.0\",\n        }],\n [{\n            'v': 355,\n            'f': \"355\",\n        },\n\"WBC.AX\",\n\"2021-05-28 00:00:00\",\n{\n            'v': 26.489999771118164,\n            'f': \"26.489999771118164\",\n        },\n{\n            'v': 6870449,\n            'f': \"6870449\",\n        },\n{\n            'v': 26.459999084472656,\n            'f': \"26.459999084472656\",\n        },\n{\n            'v': 26.280000686645508,\n            'f': \"26.280000686645508\",\n        },\n{\n            'v': 26.2549991607666,\n            'f': \"26.2549991607666\",\n        },\n{\n            'v': 25.77568817138672,\n            'f': \"25.77568817138672\",\n        },\n{\n            'v': 0.0,\n            'f': \"0.0\",\n        }],\n [{\n            'v': 356,\n            'f': \"356\",\n        },\n\"WBC.AX\",\n\"2021-05-31 00:00:00\",\n{\n            'v': 26.549999237060547,\n            'f': \"26.549999237060547\",\n        },\n{\n            'v': 5044864,\n            'f': \"5044864\",\n        },\n{\n            'v': 26.420000076293945,\n            'f': \"26.420000076293945\",\n        },\n{\n            'v': 26.469999313354492,\n            'f': \"26.469999313354492\",\n        },\n{\n            'v': 26.329999923706055,\n            'f': \"26.329999923706055\",\n        },\n{\n            'v': 25.736722946166992,\n            'f': \"25.736722946166992\",\n        },\n{\n            'v': 0.0,\n            'f': \"0.0\",\n        }],\n [{\n            'v': 357,\n            'f': \"357\",\n        },\n\"WBC.AX\",\n\"2021-06-01 00:00:00\",\n{\n            'v': 26.315000534057617,\n            'f': \"26.315000534057617\",\n        },\n{\n            'v': 3536923,\n            'f': \"3536923\",\n        },\n{\n            'v': 26.200000762939453,\n            'f': \"26.200000762939453\",\n        },\n{\n            'v': 26.290000915527344,\n            'f': \"26.290000915527344\",\n        },\n{\n            'v': 26.110000610351562,\n            'f': \"26.110000610351562\",\n        },\n{\n            'v': 25.52241325378418,\n            'f': \"25.52241325378418\",\n        },\n{\n            'v': 0.0,\n            'f': \"0.0\",\n        }],\n [{\n            'v': 358,\n            'f': \"358\",\n        },\n\"WBC.AX\",\n\"2021-06-02 00:00:00\",\n{\n            'v': 26.31999969482422,\n            'f': \"26.31999969482422\",\n        },\n{\n            'v': 4138204,\n            'f': \"4138204\",\n        },\n{\n            'v': 26.219999313354492,\n            'f': \"26.219999313354492\",\n        },\n{\n            'v': 26.270000457763672,\n            'f': \"26.270000457763672\",\n        },\n{\n            'v': 26.110000610351562,\n            'f': \"26.110000610351562\",\n        },\n{\n            'v': 25.541894912719727,\n            'f': \"25.541894912719727\",\n        },\n{\n            'v': 0.0,\n            'f': \"0.0\",\n        }],\n [{\n            'v': 359,\n            'f': \"359\",\n        },\n\"WBC.AX\",\n\"2021-06-03 00:00:00\",\n{\n            'v': 26.559999465942383,\n            'f': \"26.559999465942383\",\n        },\n{\n            'v': 5659744,\n            'f': \"5659744\",\n        },\n{\n            'v': 26.5,\n            'f': \"26.5\",\n        },\n{\n            'v': 26.350000381469727,\n            'f': \"26.350000381469727\",\n        },\n{\n            'v': 26.334999084472656,\n            'f': \"26.334999084472656\",\n        },\n{\n            'v': 25.814655303955078,\n            'f': \"25.814655303955078\",\n        },\n{\n            'v': 0.0,\n            'f': \"0.0\",\n        }],\n [{\n            'v': 360,\n            'f': \"360\",\n        },\n\"WBC.AX\",\n\"2021-06-04 00:00:00\",\n{\n            'v': 26.8799991607666,\n            'f': \"26.8799991607666\",\n        },\n{\n            'v': 5744699,\n            'f': \"5744699\",\n        },\n{\n            'v': 26.8700008392334,\n            'f': \"26.8700008392334\",\n        },\n{\n            'v': 26.600000381469727,\n            'f': \"26.600000381469727\",\n        },\n{\n            'v': 26.59000015258789,\n            'f': \"26.59000015258789\",\n        },\n{\n            'v': 26.175086975097656,\n            'f': \"26.175086975097656\",\n        },\n{\n            'v': 0.0,\n            'f': \"0.0\",\n        }],\n [{\n            'v': 361,\n            'f': \"361\",\n        },\n\"WBC.AX\",\n\"2021-06-07 00:00:00\",\n{\n            'v': 26.75,\n            'f': \"26.75\",\n        },\n{\n            'v': 4647935,\n            'f': \"4647935\",\n        },\n{\n            'v': 26.6299991607666,\n            'f': \"26.6299991607666\",\n        },\n{\n            'v': 26.690000534057617,\n            'f': \"26.690000534057617\",\n        },\n{\n            'v': 26.540000915527344,\n            'f': \"26.540000915527344\",\n        },\n{\n            'v': 25.94129180908203,\n            'f': \"25.94129180908203\",\n        },\n{\n            'v': 0.0,\n            'f': \"0.0\",\n        }],\n [{\n            'v': 362,\n            'f': \"362\",\n        },\n\"WBC.AX\",\n\"2021-06-08 00:00:00\",\n{\n            'v': 26.780000686645508,\n            'f': \"26.780000686645508\",\n        },\n{\n            'v': 4068260,\n            'f': \"4068260\",\n        },\n{\n            'v': 26.729999542236328,\n            'f': \"26.729999542236328\",\n        },\n{\n            'v': 26.600000381469727,\n            'f': \"26.600000381469727\",\n        },\n{\n            'v': 26.600000381469727,\n            'f': \"26.600000381469727\",\n        },\n{\n            'v': 26.038705825805664,\n            'f': \"26.038705825805664\",\n        },\n{\n            'v': 0.0,\n            'f': \"0.0\",\n        }],\n [{\n            'v': 363,\n            'f': \"363\",\n        },\n\"WBC.AX\",\n\"2021-06-09 00:00:00\",\n{\n            'v': 26.81999969482422,\n            'f': \"26.81999969482422\",\n        },\n{\n            'v': 5192381,\n            'f': \"5192381\",\n        },\n{\n            'v': 26.549999237060547,\n            'f': \"26.549999237060547\",\n        },\n{\n            'v': 26.68000030517578,\n            'f': \"26.68000030517578\",\n        },\n{\n            'v': 26.520000457763672,\n            'f': \"26.520000457763672\",\n        },\n{\n            'v': 25.863361358642578,\n            'f': \"25.863361358642578\",\n        },\n{\n            'v': 0.0,\n            'f': \"0.0\",\n        }],\n [{\n            'v': 364,\n            'f': \"364\",\n        },\n\"WBC.AX\",\n\"2021-06-10 00:00:00\",\n{\n            'v': 26.690000534057617,\n            'f': \"26.690000534057617\",\n        },\n{\n            'v': 3671786,\n            'f': \"3671786\",\n        },\n{\n            'v': 26.59000015258789,\n            'f': \"26.59000015258789\",\n        },\n{\n            'v': 26.600000381469727,\n            'f': \"26.600000381469727\",\n        },\n{\n            'v': 26.479999542236328,\n            'f': \"26.479999542236328\",\n        },\n{\n            'v': 25.902326583862305,\n            'f': \"25.902326583862305\",\n        },\n{\n            'v': 0.0,\n            'f': \"0.0\",\n        }],\n [{\n            'v': 365,\n            'f': \"365\",\n        },\n\"WBC.AX\",\n\"2021-06-11 00:00:00\",\n{\n            'v': 26.405000686645508,\n            'f': \"26.405000686645508\",\n        },\n{\n            'v': 4231033,\n            'f': \"4231033\",\n        },\n{\n            'v': 26.290000915527344,\n            'f': \"26.290000915527344\",\n        },\n{\n            'v': 26.309999465942383,\n            'f': \"26.309999465942383\",\n        },\n{\n            'v': 26.18000030517578,\n            'f': \"26.18000030517578\",\n        },\n{\n            'v': 25.61008644104004,\n            'f': \"25.61008644104004\",\n        },\n{\n            'v': 0.0,\n            'f': \"0.0\",\n        }],\n [{\n            'v': 366,\n            'f': \"366\",\n        },\n\"WBC.AX\",\n\"2021-06-15 00:00:00\",\n{\n            'v': 26.68000030517578,\n            'f': \"26.68000030517578\",\n        },\n{\n            'v': 5026151,\n            'f': \"5026151\",\n        },\n{\n            'v': 26.549999237060547,\n            'f': \"26.549999237060547\",\n        },\n{\n            'v': 26.3799991607666,\n            'f': \"26.3799991607666\",\n        },\n{\n            'v': 26.3700008392334,\n            'f': \"26.3700008392334\",\n        },\n{\n            'v': 25.863361358642578,\n            'f': \"25.863361358642578\",\n        },\n{\n            'v': 0.0,\n            'f': \"0.0\",\n        }],\n [{\n            'v': 367,\n            'f': \"367\",\n        },\n\"WBC.AX\",\n\"2021-06-16 00:00:00\",\n{\n            'v': 26.729999542236328,\n            'f': \"26.729999542236328\",\n        },\n{\n            'v': 5993712,\n            'f': \"5993712\",\n        },\n{\n            'v': 26.549999237060547,\n            'f': \"26.549999237060547\",\n        },\n{\n            'v': 26.700000762939453,\n            'f': \"26.700000762939453\",\n        },\n{\n            'v': 26.549999237060547,\n            'f': \"26.549999237060547\",\n        },\n{\n            'v': 25.863361358642578,\n            'f': \"25.863361358642578\",\n        },\n{\n            'v': 0.0,\n            'f': \"0.0\",\n        }],\n [{\n            'v': 368,\n            'f': \"368\",\n        },\n\"WBC.AX\",\n\"2021-06-17 00:00:00\",\n{\n            'v': 27.1200008392334,\n            'f': \"27.1200008392334\",\n        },\n{\n            'v': 10341827,\n            'f': \"10341827\",\n        },\n{\n            'v': 26.940000534057617,\n            'f': \"26.940000534057617\",\n        },\n{\n            'v': 26.799999237060547,\n            'f': \"26.799999237060547\",\n        },\n{\n            'v': 26.719999313354492,\n            'f': \"26.719999313354492\",\n        },\n{\n            'v': 26.243274688720703,\n            'f': \"26.243274688720703\",\n        },\n{\n            'v': 0.0,\n            'f': \"0.0\",\n        }],\n [{\n            'v': 369,\n            'f': \"369\",\n        },\n\"WBC.AX\",\n\"2021-06-18 00:00:00\",\n{\n            'v': 26.975000381469727,\n            'f': \"26.975000381469727\",\n        },\n{\n            'v': 13927785,\n            'f': \"13927785\",\n        },\n{\n            'v': 26.8799991607666,\n            'f': \"26.8799991607666\",\n        },\n{\n            'v': 26.739999771118164,\n            'f': \"26.739999771118164\",\n        },\n{\n            'v': 26.719999313354492,\n            'f': \"26.719999313354492\",\n        },\n{\n            'v': 26.184825897216797,\n            'f': \"26.184825897216797\",\n        },\n{\n            'v': 0.0,\n            'f': \"0.0\",\n        }],\n [{\n            'v': 370,\n            'f': \"370\",\n        },\n\"WBC.AX\",\n\"2021-06-21 00:00:00\",\n{\n            'v': 26.399999618530273,\n            'f': \"26.399999618530273\",\n        },\n{\n            'v': 6311087,\n            'f': \"6311087\",\n        },\n{\n            'v': 26.149999618530273,\n            'f': \"26.149999618530273\",\n        },\n{\n            'v': 26.399999618530273,\n            'f': \"26.399999618530273\",\n        },\n{\n            'v': 26.075000762939453,\n            'f': \"26.075000762939453\",\n        },\n{\n            'v': 25.473705291748047,\n            'f': \"25.473705291748047\",\n        },\n{\n            'v': 0.0,\n            'f': \"0.0\",\n        }],\n [{\n            'v': 371,\n            'f': \"371\",\n        },\n\"WBC.AX\",\n\"2021-06-22 00:00:00\",\n{\n            'v': 26.799999237060547,\n            'f': \"26.799999237060547\",\n        },\n{\n            'v': 5969480,\n            'f': \"5969480\",\n        },\n{\n            'v': 26.610000610351562,\n            'f': \"26.610000610351562\",\n        },\n{\n            'v': 26.600000381469727,\n            'f': \"26.600000381469727\",\n        },\n{\n            'v': 26.520000457763672,\n            'f': \"26.520000457763672\",\n        },\n{\n            'v': 25.921810150146484,\n            'f': \"25.921810150146484\",\n        },\n{\n            'v': 0.0,\n            'f': \"0.0\",\n        }],\n [{\n            'v': 372,\n            'f': \"372\",\n        },\n\"WBC.AX\",\n\"2021-06-23 00:00:00\",\n{\n            'v': 26.450000762939453,\n            'f': \"26.450000762939453\",\n        },\n{\n            'v': 6732031,\n            'f': \"6732031\",\n        },\n{\n            'v': 26.079999923706055,\n            'f': \"26.079999923706055\",\n        },\n{\n            'v': 26.450000762939453,\n            'f': \"26.450000762939453\",\n        },\n{\n            'v': 26.079999923706055,\n            'f': \"26.079999923706055\",\n        },\n{\n            'v': 25.405515670776367,\n            'f': \"25.405515670776367\",\n        },\n{\n            'v': 0.0,\n            'f': \"0.0\",\n        }],\n [{\n            'v': 373,\n            'f': \"373\",\n        },\n\"WBC.AX\",\n\"2021-06-24 00:00:00\",\n{\n            'v': 26.040000915527344,\n            'f': \"26.040000915527344\",\n        },\n{\n            'v': 6208873,\n            'f': \"6208873\",\n        },\n{\n            'v': 25.829999923706055,\n            'f': \"25.829999923706055\",\n        },\n{\n            'v': 26.010000228881836,\n            'f': \"26.010000228881836\",\n        },\n{\n            'v': 25.725000381469727,\n            'f': \"25.725000381469727\",\n        },\n{\n            'v': 25.1619815826416,\n            'f': \"25.1619815826416\",\n        },\n{\n            'v': 0.0,\n            'f': \"0.0\",\n        }],\n [{\n            'v': 374,\n            'f': \"374\",\n        },\n\"WBC.AX\",\n\"2021-06-25 00:00:00\",\n{\n            'v': 26.18000030517578,\n            'f': \"26.18000030517578\",\n        },\n{\n            'v': 4701759,\n            'f': \"4701759\",\n        },\n{\n            'v': 25.889999389648438,\n            'f': \"25.889999389648438\",\n        },\n{\n            'v': 26.100000381469727,\n            'f': \"26.100000381469727\",\n        },\n{\n            'v': 25.860000610351562,\n            'f': \"25.860000610351562\",\n        },\n{\n            'v': 25.220430374145508,\n            'f': \"25.220430374145508\",\n        },\n{\n            'v': 0.0,\n            'f': \"0.0\",\n        }],\n [{\n            'v': 375,\n            'f': \"375\",\n        },\n\"WBC.AX\",\n\"2021-06-28 00:00:00\",\n{\n            'v': 25.8700008392334,\n            'f': \"25.8700008392334\",\n        },\n{\n            'v': 4082681,\n            'f': \"4082681\",\n        },\n{\n            'v': 25.81999969482422,\n            'f': \"25.81999969482422\",\n        },\n{\n            'v': 25.860000610351562,\n            'f': \"25.860000610351562\",\n        },\n{\n            'v': 25.6200008392334,\n            'f': \"25.6200008392334\",\n        },\n{\n            'v': 25.152240753173828,\n            'f': \"25.152240753173828\",\n        },\n{\n            'v': 0.0,\n            'f': \"0.0\",\n        }],\n [{\n            'v': 376,\n            'f': \"376\",\n        },\n\"WBC.AX\",\n\"2021-06-29 00:00:00\",\n{\n            'v': 25.889999389648438,\n            'f': \"25.889999389648438\",\n        },\n{\n            'v': 4315422,\n            'f': \"4315422\",\n        },\n{\n            'v': 25.860000610351562,\n            'f': \"25.860000610351562\",\n        },\n{\n            'v': 25.649999618530273,\n            'f': \"25.649999618530273\",\n        },\n{\n            'v': 25.55500030517578,\n            'f': \"25.55500030517578\",\n        },\n{\n            'v': 25.191205978393555,\n            'f': \"25.191205978393555\",\n        },\n{\n            'v': 0.0,\n            'f': \"0.0\",\n        }],\n [{\n            'v': 377,\n            'f': \"377\",\n        },\n\"WBC.AX\",\n\"2021-06-30 00:00:00\",\n{\n            'v': 26.100000381469727,\n            'f': \"26.100000381469727\",\n        },\n{\n            'v': 4755199,\n            'f': \"4755199\",\n        },\n{\n            'v': 25.809999465942383,\n            'f': \"25.809999465942383\",\n        },\n{\n            'v': 25.940000534057617,\n            'f': \"25.940000534057617\",\n        },\n{\n            'v': 25.809999465942383,\n            'f': \"25.809999465942383\",\n        },\n{\n            'v': 25.142498016357422,\n            'f': \"25.142498016357422\",\n        },\n{\n            'v': 0.0,\n            'f': \"0.0\",\n        }],\n [{\n            'v': 378,\n            'f': \"378\",\n        },\n\"WBC.AX\",\n\"2021-07-01 00:00:00\",\n{\n            'v': 25.940000534057617,\n            'f': \"25.940000534057617\",\n        },\n{\n            'v': 3863747,\n            'f': \"3863747\",\n        },\n{\n            'v': 25.649999618530273,\n            'f': \"25.649999618530273\",\n        },\n{\n            'v': 25.940000534057617,\n            'f': \"25.940000534057617\",\n        },\n{\n            'v': 25.610000610351562,\n            'f': \"25.610000610351562\",\n        },\n{\n            'v': 24.986637115478516,\n            'f': \"24.986637115478516\",\n        },\n{\n            'v': 0.0,\n            'f': \"0.0\",\n        }],\n [{\n            'v': 379,\n            'f': \"379\",\n        },\n\"WBC.AX\",\n\"2021-07-02 00:00:00\",\n{\n            'v': 25.90999984741211,\n            'f': \"25.90999984741211\",\n        },\n{\n            'v': 4852047,\n            'f': \"4852047\",\n        },\n{\n            'v': 25.639999389648438,\n            'f': \"25.639999389648438\",\n        },\n{\n            'v': 25.799999237060547,\n            'f': \"25.799999237060547\",\n        },\n{\n            'v': 25.559999465942383,\n            'f': \"25.559999465942383\",\n        },\n{\n            'v': 24.97689437866211,\n            'f': \"24.97689437866211\",\n        },\n{\n            'v': 0.0,\n            'f': \"0.0\",\n        }],\n [{\n            'v': 380,\n            'f': \"380\",\n        },\n\"WBC.AX\",\n\"2021-07-05 00:00:00\",\n{\n            'v': 25.729999542236328,\n            'f': \"25.729999542236328\",\n        },\n{\n            'v': 3965667,\n            'f': \"3965667\",\n        },\n{\n            'v': 25.530000686645508,\n            'f': \"25.530000686645508\",\n        },\n{\n            'v': 25.579999923706055,\n            'f': \"25.579999923706055\",\n        },\n{\n            'v': 25.479999542236328,\n            'f': \"25.479999542236328\",\n        },\n{\n            'v': 24.869741439819336,\n            'f': \"24.869741439819336\",\n        },\n{\n            'v': 0.0,\n            'f': \"0.0\",\n        }],\n [{\n            'v': 381,\n            'f': \"381\",\n        },\n\"WBC.AX\",\n\"2021-07-06 00:00:00\",\n{\n            'v': 25.75,\n            'f': \"25.75\",\n        },\n{\n            'v': 3784251,\n            'f': \"3784251\",\n        },\n{\n            'v': 25.450000762939453,\n            'f': \"25.450000762939453\",\n        },\n{\n            'v': 25.649999618530273,\n            'f': \"25.649999618530273\",\n        },\n{\n            'v': 25.450000762939453,\n            'f': \"25.450000762939453\",\n        },\n{\n            'v': 24.791810989379883,\n            'f': \"24.791810989379883\",\n        },\n{\n            'v': 0.0,\n            'f': \"0.0\",\n        }],\n [{\n            'v': 382,\n            'f': \"382\",\n        },\n\"WBC.AX\",\n\"2021-07-07 00:00:00\",\n{\n            'v': 25.639999389648438,\n            'f': \"25.639999389648438\",\n        },\n{\n            'v': 3270758,\n            'f': \"3270758\",\n        },\n{\n            'v': 25.600000381469727,\n            'f': \"25.600000381469727\",\n        },\n{\n            'v': 25.299999237060547,\n            'f': \"25.299999237060547\",\n        },\n{\n            'v': 25.299999237060547,\n            'f': \"25.299999237060547\",\n        },\n{\n            'v': 24.937931060791016,\n            'f': \"24.937931060791016\",\n        },\n{\n            'v': 0.0,\n            'f': \"0.0\",\n        }],\n [{\n            'v': 383,\n            'f': \"383\",\n        },\n\"WBC.AX\",\n\"2021-07-08 00:00:00\",\n{\n            'v': 25.729999542236328,\n            'f': \"25.729999542236328\",\n        },\n{\n            'v': 3028023,\n            'f': \"3028023\",\n        },\n{\n            'v': 25.530000686645508,\n            'f': \"25.530000686645508\",\n        },\n{\n            'v': 25.600000381469727,\n            'f': \"25.600000381469727\",\n        },\n{\n            'v': 25.440000534057617,\n            'f': \"25.440000534057617\",\n        },\n{\n            'v': 24.869741439819336,\n            'f': \"24.869741439819336\",\n        },\n{\n            'v': 0.0,\n            'f': \"0.0\",\n        }],\n [{\n            'v': 384,\n            'f': \"384\",\n        },\n\"WBC.AX\",\n\"2021-07-09 00:00:00\",\n{\n            'v': 25.3700008392334,\n            'f': \"25.3700008392334\",\n        },\n{\n            'v': 5603131,\n            'f': \"5603131\",\n        },\n{\n            'v': 25.3700008392334,\n            'f': \"25.3700008392334\",\n        },\n{\n            'v': 25.290000915527344,\n            'f': \"25.290000915527344\",\n        },\n{\n            'v': 25.170000076293945,\n            'f': \"25.170000076293945\",\n        },\n{\n            'v': 24.713878631591797,\n            'f': \"24.713878631591797\",\n        },\n{\n            'v': 0.0,\n            'f': \"0.0\",\n        }],\n [{\n            'v': 385,\n            'f': \"385\",\n        },\n\"WBC.AX\",\n\"2021-07-12 00:00:00\",\n{\n            'v': 25.6299991607666,\n            'f': \"25.6299991607666\",\n        },\n{\n            'v': 3092332,\n            'f': \"3092332\",\n        },\n{\n            'v': 25.520000457763672,\n            'f': \"25.520000457763672\",\n        },\n{\n            'v': 25.540000915527344,\n            'f': \"25.540000915527344\",\n        },\n{\n            'v': 25.459999084472656,\n            'f': \"25.459999084472656\",\n        },\n{\n            'v': 24.860000610351562,\n            'f': \"24.860000610351562\",\n        },\n{\n            'v': 0.0,\n            'f': \"0.0\",\n        }],\n [{\n            'v': 386,\n            'f': \"386\",\n        },\n\"WBC.AX\",\n\"2021-07-13 00:00:00\",\n{\n            'v': 25.760000228881836,\n            'f': \"25.760000228881836\",\n        },\n{\n            'v': 6903250,\n            'f': \"6903250\",\n        },\n{\n            'v': 25.329999923706055,\n            'f': \"25.329999923706055\",\n        },\n{\n            'v': 25.700000762939453,\n            'f': \"25.700000762939453\",\n        },\n{\n            'v': 25.329999923706055,\n            'f': \"25.329999923706055\",\n        },\n{\n            'v': 24.67491340637207,\n            'f': \"24.67491340637207\",\n        },\n{\n            'v': 0.0,\n            'f': \"0.0\",\n        }],\n [{\n            'v': 387,\n            'f': \"387\",\n        },\n\"WBC.AX\",\n\"2021-07-14 00:00:00\",\n{\n            'v': 25.40999984741211,\n            'f': \"25.40999984741211\",\n        },\n{\n            'v': 6256810,\n            'f': \"6256810\",\n        },\n{\n            'v': 25.270000457763672,\n            'f': \"25.270000457763672\",\n        },\n{\n            'v': 25.299999237060547,\n            'f': \"25.299999237060547\",\n        },\n{\n            'v': 25.170000076293945,\n            'f': \"25.170000076293945\",\n        },\n{\n            'v': 24.616464614868164,\n            'f': \"24.616464614868164\",\n        },\n{\n            'v': 0.0,\n            'f': \"0.0\",\n        }],\n [{\n            'v': 388,\n            'f': \"388\",\n        },\n\"WBC.AX\",\n\"2021-07-15 00:00:00\",\n{\n            'v': 25.260000228881836,\n            'f': \"25.260000228881836\",\n        },\n{\n            'v': 6903675,\n            'f': \"6903675\",\n        },\n{\n            'v': 24.989999771118164,\n            'f': \"24.989999771118164\",\n        },\n{\n            'v': 25.239999771118164,\n            'f': \"25.239999771118164\",\n        },\n{\n            'v': 24.969999313354492,\n            'f': \"24.969999313354492\",\n        },\n{\n            'v': 24.343706130981445,\n            'f': \"24.343706130981445\",\n        },\n{\n            'v': 0.0,\n            'f': \"0.0\",\n        }],\n [{\n            'v': 389,\n            'f': \"389\",\n        },\n\"WBC.AX\",\n\"2021-07-16 00:00:00\",\n{\n            'v': 24.950000762939453,\n            'f': \"24.950000762939453\",\n        },\n{\n            'v': 5496313,\n            'f': \"5496313\",\n        },\n{\n            'v': 24.90999984741211,\n            'f': \"24.90999984741211\",\n        },\n{\n            'v': 24.889999389648438,\n            'f': \"24.889999389648438\",\n        },\n{\n            'v': 24.780000686645508,\n            'f': \"24.780000686645508\",\n        },\n{\n            'v': 24.265775680541992,\n            'f': \"24.265775680541992\",\n        },\n{\n            'v': 0.0,\n            'f': \"0.0\",\n        }],\n [{\n            'v': 390,\n            'f': \"390\",\n        },\n\"WBC.AX\",\n\"2021-07-19 00:00:00\",\n{\n            'v': 24.760000228881836,\n            'f': \"24.760000228881836\",\n        },\n{\n            'v': 4841080,\n            'f': \"4841080\",\n        },\n{\n            'v': 24.690000534057617,\n            'f': \"24.690000534057617\",\n        },\n{\n            'v': 24.5,\n            'f': \"24.5\",\n        },\n{\n            'v': 24.329999923706055,\n            'f': \"24.329999923706055\",\n        },\n{\n            'v': 24.05146598815918,\n            'f': \"24.05146598815918\",\n        },\n{\n            'v': 0.0,\n            'f': \"0.0\",\n        }],\n [{\n            'v': 391,\n            'f': \"391\",\n        },\n\"WBC.AX\",\n\"2021-07-20 00:00:00\",\n{\n            'v': 24.670000076293945,\n            'f': \"24.670000076293945\",\n        },\n{\n            'v': 7344904,\n            'f': \"7344904\",\n        },\n{\n            'v': 24.520000457763672,\n            'f': \"24.520000457763672\",\n        },\n{\n            'v': 24.280000686645508,\n            'f': \"24.280000686645508\",\n        },\n{\n            'v': 24.1299991607666,\n            'f': \"24.1299991607666\",\n        },\n{\n            'v': 23.885862350463867,\n            'f': \"23.885862350463867\",\n        },\n{\n            'v': 0.0,\n            'f': \"0.0\",\n        }],\n [{\n            'v': 392,\n            'f': \"392\",\n        },\n\"WBC.AX\",\n\"2021-07-21 00:00:00\",\n{\n            'v': 24.920000076293945,\n            'f': \"24.920000076293945\",\n        },\n{\n            'v': 5212250,\n            'f': \"5212250\",\n        },\n{\n            'v': 24.760000228881836,\n            'f': \"24.760000228881836\",\n        },\n{\n            'v': 24.700000762939453,\n            'f': \"24.700000762939453\",\n        },\n{\n            'v': 24.690000534057617,\n            'f': \"24.690000534057617\",\n        },\n{\n            'v': 24.11965560913086,\n            'f': \"24.11965560913086\",\n        },\n{\n            'v': 0.0,\n            'f': \"0.0\",\n        }],\n [{\n            'v': 393,\n            'f': \"393\",\n        },\n\"WBC.AX\",\n\"2021-07-22 00:00:00\",\n{\n            'v': 24.93000030517578,\n            'f': \"24.93000030517578\",\n        },\n{\n            'v': 5058349,\n            'f': \"5058349\",\n        },\n{\n            'v': 24.93000030517578,\n            'f': \"24.93000030517578\",\n        },\n{\n            'v': 24.829999923706055,\n            'f': \"24.829999923706055\",\n        },\n{\n            'v': 24.75,\n            'f': \"24.75\",\n        },\n{\n            'v': 24.28525733947754,\n            'f': \"24.28525733947754\",\n        },\n{\n            'v': 0.0,\n            'f': \"0.0\",\n        }],\n [{\n            'v': 394,\n            'f': \"394\",\n        },\n\"WBC.AX\",\n\"2021-07-23 00:00:00\",\n{\n            'v': 24.81999969482422,\n            'f': \"24.81999969482422\",\n        },\n{\n            'v': 3593670,\n            'f': \"3593670\",\n        },\n{\n            'v': 24.709999084472656,\n            'f': \"24.709999084472656\",\n        },\n{\n            'v': 24.600000381469727,\n            'f': \"24.600000381469727\",\n        },\n{\n            'v': 24.600000381469727,\n            'f': \"24.600000381469727\",\n        },\n{\n            'v': 24.070945739746094,\n            'f': \"24.070945739746094\",\n        },\n{\n            'v': 0.0,\n            'f': \"0.0\",\n        }],\n [{\n            'v': 395,\n            'f': \"395\",\n        },\n\"WBC.AX\",\n\"2021-07-26 00:00:00\",\n{\n            'v': 24.760000228881836,\n            'f': \"24.760000228881836\",\n        },\n{\n            'v': 4340960,\n            'f': \"4340960\",\n        },\n{\n            'v': 24.6200008392334,\n            'f': \"24.6200008392334\",\n        },\n{\n            'v': 24.709999084472656,\n            'f': \"24.709999084472656\",\n        },\n{\n            'v': 24.530000686645508,\n            'f': \"24.530000686645508\",\n        },\n{\n            'v': 23.9832763671875,\n            'f': \"23.9832763671875\",\n        },\n{\n            'v': 0.0,\n            'f': \"0.0\",\n        }],\n [{\n            'v': 396,\n            'f': \"396\",\n        },\n\"WBC.AX\",\n\"2021-07-27 00:00:00\",\n{\n            'v': 24.829999923706055,\n            'f': \"24.829999923706055\",\n        },\n{\n            'v': 4923996,\n            'f': \"4923996\",\n        },\n{\n            'v': 24.790000915527344,\n            'f': \"24.790000915527344\",\n        },\n{\n            'v': 24.700000762939453,\n            'f': \"24.700000762939453\",\n        },\n{\n            'v': 24.56999969482422,\n            'f': \"24.56999969482422\",\n        },\n{\n            'v': 24.148880004882812,\n            'f': \"24.148880004882812\",\n        },\n{\n            'v': 0.0,\n            'f': \"0.0\",\n        }],\n [{\n            'v': 397,\n            'f': \"397\",\n        },\n\"WBC.AX\",\n\"2021-07-28 00:00:00\",\n{\n            'v': 24.829999923706055,\n            'f': \"24.829999923706055\",\n        },\n{\n            'v': 5082416,\n            'f': \"5082416\",\n        },\n{\n            'v': 24.559999465942383,\n            'f': \"24.559999465942383\",\n        },\n{\n            'v': 24.790000915527344,\n            'f': \"24.790000915527344\",\n        },\n{\n            'v': 24.540000915527344,\n            'f': \"24.540000915527344\",\n        },\n{\n            'v': 23.92482566833496,\n            'f': \"23.92482566833496\",\n        },\n{\n            'v': 0.0,\n            'f': \"0.0\",\n        }],\n [{\n            'v': 398,\n            'f': \"398\",\n        },\n\"WBC.AX\",\n\"2021-07-29 00:00:00\",\n{\n            'v': 24.584999084472656,\n            'f': \"24.584999084472656\",\n        },\n{\n            'v': 4118012,\n            'f': \"4118012\",\n        },\n{\n            'v': 24.520000457763672,\n            'f': \"24.520000457763672\",\n        },\n{\n            'v': 24.520000457763672,\n            'f': \"24.520000457763672\",\n        },\n{\n            'v': 24.450000762939453,\n            'f': \"24.450000762939453\",\n        },\n{\n            'v': 23.885862350463867,\n            'f': \"23.885862350463867\",\n        },\n{\n            'v': 0.0,\n            'f': \"0.0\",\n        }],\n [{\n            'v': 399,\n            'f': \"399\",\n        },\n\"WBC.AX\",\n\"2021-07-30 00:00:00\",\n{\n            'v': 24.65999984741211,\n            'f': \"24.65999984741211\",\n        },\n{\n            'v': 4467094,\n            'f': \"4467094\",\n        },\n{\n            'v': 24.520000457763672,\n            'f': \"24.520000457763672\",\n        },\n{\n            'v': 24.559999465942383,\n            'f': \"24.559999465942383\",\n        },\n{\n            'v': 24.510000228881836,\n            'f': \"24.510000228881836\",\n        },\n{\n            'v': 23.885862350463867,\n            'f': \"23.885862350463867\",\n        },\n{\n            'v': 0.0,\n            'f': \"0.0\",\n        }],\n [{\n            'v': 400,\n            'f': \"400\",\n        },\n\"WBC.AX\",\n\"2021-08-02 00:00:00\",\n{\n            'v': 25.100000381469727,\n            'f': \"25.100000381469727\",\n        },\n{\n            'v': 5337687,\n            'f': \"5337687\",\n        },\n{\n            'v': 25.030000686645508,\n            'f': \"25.030000686645508\",\n        },\n{\n            'v': 24.649999618530273,\n            'f': \"24.649999618530273\",\n        },\n{\n            'v': 24.6299991607666,\n            'f': \"24.6299991607666\",\n        },\n{\n            'v': 24.382673263549805,\n            'f': \"24.382673263549805\",\n        },\n{\n            'v': 0.0,\n            'f': \"0.0\",\n        }],\n [{\n            'v': 401,\n            'f': \"401\",\n        },\n\"WBC.AX\",\n\"2021-08-03 00:00:00\",\n{\n            'v': 24.9950008392334,\n            'f': \"24.9950008392334\",\n        },\n{\n            'v': 4714791,\n            'f': \"4714791\",\n        },\n{\n            'v': 24.799999237060547,\n            'f': \"24.799999237060547\",\n        },\n{\n            'v': 24.950000762939453,\n            'f': \"24.950000762939453\",\n        },\n{\n            'v': 24.700000762939453,\n            'f': \"24.700000762939453\",\n        },\n{\n            'v': 24.158618927001953,\n            'f': \"24.158618927001953\",\n        },\n{\n            'v': 0.0,\n            'f': \"0.0\",\n        }],\n [{\n            'v': 402,\n            'f': \"402\",\n        },\n\"WBC.AX\",\n\"2021-08-04 00:00:00\",\n{\n            'v': 24.940000534057617,\n            'f': \"24.940000534057617\",\n        },\n{\n            'v': 4835657,\n            'f': \"4835657\",\n        },\n{\n            'v': 24.84000015258789,\n            'f': \"24.84000015258789\",\n        },\n{\n            'v': 24.899999618530273,\n            'f': \"24.899999618530273\",\n        },\n{\n            'v': 24.719999313354492,\n            'f': \"24.719999313354492\",\n        },\n{\n            'v': 24.197586059570312,\n            'f': \"24.197586059570312\",\n        },\n{\n            'v': 0.0,\n            'f': \"0.0\",\n        }],\n [{\n            'v': 403,\n            'f': \"403\",\n        },\n\"WBC.AX\",\n\"2021-08-05 00:00:00\",\n{\n            'v': 24.959999084472656,\n            'f': \"24.959999084472656\",\n        },\n{\n            'v': 4631332,\n            'f': \"4631332\",\n        },\n{\n            'v': 24.889999389648438,\n            'f': \"24.889999389648438\",\n        },\n{\n            'v': 24.899999618530273,\n            'f': \"24.899999618530273\",\n        },\n{\n            'v': 24.81999969482422,\n            'f': \"24.81999969482422\",\n        },\n{\n            'v': 24.246292114257812,\n            'f': \"24.246292114257812\",\n        },\n{\n            'v': 0.0,\n            'f': \"0.0\",\n        }],\n [{\n            'v': 404,\n            'f': \"404\",\n        },\n\"WBC.AX\",\n\"2021-08-06 00:00:00\",\n{\n            'v': 25.1200008392334,\n            'f': \"25.1200008392334\",\n        },\n{\n            'v': 3993772,\n            'f': \"3993772\",\n        },\n{\n            'v': 25.1200008392334,\n            'f': \"25.1200008392334\",\n        },\n{\n            'v': 24.950000762939453,\n            'f': \"24.950000762939453\",\n        },\n{\n            'v': 24.920000076293945,\n            'f': \"24.920000076293945\",\n        },\n{\n            'v': 24.47034454345703,\n            'f': \"24.47034454345703\",\n        },\n{\n            'v': 0.0,\n            'f': \"0.0\",\n        }],\n [{\n            'v': 405,\n            'f': \"405\",\n        },\n\"WBC.AX\",\n\"2021-08-09 00:00:00\",\n{\n            'v': 25.549999237060547,\n            'f': \"25.549999237060547\",\n        },\n{\n            'v': 4880739,\n            'f': \"4880739\",\n        },\n{\n            'v': 25.360000610351562,\n            'f': \"25.360000610351562\",\n        },\n{\n            'v': 25.25,\n            'f': \"25.25\",\n        },\n{\n            'v': 25.25,\n            'f': \"25.25\",\n        },\n{\n            'v': 24.704137802124023,\n            'f': \"24.704137802124023\",\n        },\n{\n            'v': 0.0,\n            'f': \"0.0\",\n        }],\n [{\n            'v': 406,\n            'f': \"406\",\n        },\n\"WBC.AX\",\n\"2021-08-10 00:00:00\",\n{\n            'v': 25.600000381469727,\n            'f': \"25.600000381469727\",\n        },\n{\n            'v': 4393221,\n            'f': \"4393221\",\n        },\n{\n            'v': 25.579999923706055,\n            'f': \"25.579999923706055\",\n        },\n{\n            'v': 25.530000686645508,\n            'f': \"25.530000686645508\",\n        },\n{\n            'v': 25.399999618530273,\n            'f': \"25.399999618530273\",\n        },\n{\n            'v': 24.918447494506836,\n            'f': \"24.918447494506836\",\n        },\n{\n            'v': 0.0,\n            'f': \"0.0\",\n        }],\n [{\n            'v': 407,\n            'f': \"407\",\n        },\n\"WBC.AX\",\n\"2021-08-11 00:00:00\",\n{\n            'v': 25.940000534057617,\n            'f': \"25.940000534057617\",\n        },\n{\n            'v': 6494781,\n            'f': \"6494781\",\n        },\n{\n            'v': 25.770000457763672,\n            'f': \"25.770000457763672\",\n        },\n{\n            'v': 25.670000076293945,\n            'f': \"25.670000076293945\",\n        },\n{\n            'v': 25.670000076293945,\n            'f': \"25.670000076293945\",\n        },\n{\n            'v': 25.103534698486328,\n            'f': \"25.103534698486328\",\n        },\n{\n            'v': 0.0,\n            'f': \"0.0\",\n        }],\n [{\n            'v': 408,\n            'f': \"408\",\n        },\n\"WBC.AX\",\n\"2021-08-12 00:00:00\",\n{\n            'v': 26.06999969482422,\n            'f': \"26.06999969482422\",\n        },\n{\n            'v': 5499418,\n            'f': \"5499418\",\n        },\n{\n            'v': 25.760000228881836,\n            'f': \"25.760000228881836\",\n        },\n{\n            'v': 26.0,\n            'f': \"26.0\",\n        },\n{\n            'v': 25.649999618530273,\n            'f': \"25.649999618530273\",\n        },\n{\n            'v': 25.093791961669922,\n            'f': \"25.093791961669922\",\n        },\n{\n            'v': 0.0,\n            'f': \"0.0\",\n        }],\n [{\n            'v': 409,\n            'f': \"409\",\n        },\n\"WBC.AX\",\n\"2021-08-13 00:00:00\",\n{\n            'v': 26.190000534057617,\n            'f': \"26.190000534057617\",\n        },\n{\n            'v': 8336416,\n            'f': \"8336416\",\n        },\n{\n            'v': 26.15999984741211,\n            'f': \"26.15999984741211\",\n        },\n{\n            'v': 25.850000381469727,\n            'f': \"25.850000381469727\",\n        },\n{\n            'v': 25.84000015258789,\n            'f': \"25.84000015258789\",\n        },\n{\n            'v': 25.483448028564453,\n            'f': \"25.483448028564453\",\n        },\n{\n            'v': 0.0,\n            'f': \"0.0\",\n        }],\n [{\n            'v': 410,\n            'f': \"410\",\n        },\n\"WBC.AX\",\n\"2021-08-16 00:00:00\",\n{\n            'v': 26.114999771118164,\n            'f': \"26.114999771118164\",\n        },\n{\n            'v': 6592571,\n            'f': \"6592571\",\n        },\n{\n            'v': 25.790000915527344,\n            'f': \"25.790000915527344\",\n        },\n{\n            'v': 26.110000610351562,\n            'f': \"26.110000610351562\",\n        },\n{\n            'v': 25.790000915527344,\n            'f': \"25.790000915527344\",\n        },\n{\n            'v': 25.123018264770508,\n            'f': \"25.123018264770508\",\n        },\n{\n            'v': 0.0,\n            'f': \"0.0\",\n        }],\n [{\n            'v': 411,\n            'f': \"411\",\n        },\n\"WBC.AX\",\n\"2021-08-17 00:00:00\",\n{\n            'v': 25.75,\n            'f': \"25.75\",\n        },\n{\n            'v': 7196978,\n            'f': \"7196978\",\n        },\n{\n            'v': 25.450000762939453,\n            'f': \"25.450000762939453\",\n        },\n{\n            'v': 25.75,\n            'f': \"25.75\",\n        },\n{\n            'v': 25.260000228881836,\n            'f': \"25.260000228881836\",\n        },\n{\n            'v': 24.791810989379883,\n            'f': \"24.791810989379883\",\n        },\n{\n            'v': 0.0,\n            'f': \"0.0\",\n        }],\n [{\n            'v': 412,\n            'f': \"412\",\n        },\n\"WBC.AX\",\n\"2021-08-18 00:00:00\",\n{\n            'v': 25.959999084472656,\n            'f': \"25.959999084472656\",\n        },\n{\n            'v': 5800750,\n            'f': \"5800750\",\n        },\n{\n            'v': 25.809999465942383,\n            'f': \"25.809999465942383\",\n        },\n{\n            'v': 25.649999618530273,\n            'f': \"25.649999618530273\",\n        },\n{\n            'v': 25.489999771118164,\n            'f': \"25.489999771118164\",\n        },\n{\n            'v': 25.142498016357422,\n            'f': \"25.142498016357422\",\n        },\n{\n            'v': 0.0,\n            'f': \"0.0\",\n        }],\n [{\n            'v': 413,\n            'f': \"413\",\n        },\n\"WBC.AX\",\n\"2021-08-19 00:00:00\",\n{\n            'v': 25.889999389648438,\n            'f': \"25.889999389648438\",\n        },\n{\n            'v': 4807719,\n            'f': \"4807719\",\n        },\n{\n            'v': 25.81999969482422,\n            'f': \"25.81999969482422\",\n        },\n{\n            'v': 25.739999771118164,\n            'f': \"25.739999771118164\",\n        },\n{\n            'v': 25.670000076293945,\n            'f': \"25.670000076293945\",\n        },\n{\n            'v': 25.152240753173828,\n            'f': \"25.152240753173828\",\n        },\n{\n            'v': 0.0,\n            'f': \"0.0\",\n        }],\n [{\n            'v': 414,\n            'f': \"414\",\n        },\n\"WBC.AX\",\n\"2021-08-20 00:00:00\",\n{\n            'v': 25.959999084472656,\n            'f': \"25.959999084472656\",\n        },\n{\n            'v': 5884950,\n            'f': \"5884950\",\n        },\n{\n            'v': 25.760000228881836,\n            'f': \"25.760000228881836\",\n        },\n{\n            'v': 25.829999923706055,\n            'f': \"25.829999923706055\",\n        },\n{\n            'v': 25.68000030517578,\n            'f': \"25.68000030517578\",\n        },\n{\n            'v': 25.093791961669922,\n            'f': \"25.093791961669922\",\n        },\n{\n            'v': 0.0,\n            'f': \"0.0\",\n        }],\n [{\n            'v': 415,\n            'f': \"415\",\n        },\n\"WBC.AX\",\n\"2021-08-23 00:00:00\",\n{\n            'v': 25.84000015258789,\n            'f': \"25.84000015258789\",\n        },\n{\n            'v': 3608218,\n            'f': \"3608218\",\n        },\n{\n            'v': 25.780000686645508,\n            'f': \"25.780000686645508\",\n        },\n{\n            'v': 25.809999465942383,\n            'f': \"25.809999465942383\",\n        },\n{\n            'v': 25.65999984741211,\n            'f': \"25.65999984741211\",\n        },\n{\n            'v': 25.1132755279541,\n            'f': \"25.1132755279541\",\n        },\n{\n            'v': 0.0,\n            'f': \"0.0\",\n        }],\n [{\n            'v': 416,\n            'f': \"416\",\n        },\n\"WBC.AX\",\n\"2021-08-24 00:00:00\",\n{\n            'v': 25.959999084472656,\n            'f': \"25.959999084472656\",\n        },\n{\n            'v': 4079721,\n            'f': \"4079721\",\n        },\n{\n            'v': 25.90999984741211,\n            'f': \"25.90999984741211\",\n        },\n{\n            'v': 25.81999969482422,\n            'f': \"25.81999969482422\",\n        },\n{\n            'v': 25.770000457763672,\n            'f': \"25.770000457763672\",\n        },\n{\n            'v': 25.239912033081055,\n            'f': \"25.239912033081055\",\n        },\n{\n            'v': 0.0,\n            'f': \"0.0\",\n        }],\n [{\n            'v': 417,\n            'f': \"417\",\n        },\n\"WBC.AX\",\n\"2021-08-25 00:00:00\",\n{\n            'v': 26.149999618530273,\n            'f': \"26.149999618530273\",\n        },\n{\n            'v': 4652252,\n            'f': \"4652252\",\n        },\n{\n            'v': 26.149999618530273,\n            'f': \"26.149999618530273\",\n        },\n{\n            'v': 25.90999984741211,\n            'f': \"25.90999984741211\",\n        },\n{\n            'v': 25.850000381469727,\n            'f': \"25.850000381469727\",\n        },\n{\n            'v': 25.473705291748047,\n            'f': \"25.473705291748047\",\n        },\n{\n            'v': 0.0,\n            'f': \"0.0\",\n        }],\n [{\n            'v': 418,\n            'f': \"418\",\n        },\n\"WBC.AX\",\n\"2021-08-26 00:00:00\",\n{\n            'v': 26.1299991607666,\n            'f': \"26.1299991607666\",\n        },\n{\n            'v': 3215792,\n            'f': \"3215792\",\n        },\n{\n            'v': 26.010000228881836,\n            'f': \"26.010000228881836\",\n        },\n{\n            'v': 26.1299991607666,\n            'f': \"26.1299991607666\",\n        },\n{\n            'v': 25.920000076293945,\n            'f': \"25.920000076293945\",\n        },\n{\n            'v': 25.33732795715332,\n            'f': \"25.33732795715332\",\n        },\n{\n            'v': 0.0,\n            'f': \"0.0\",\n        }],\n [{\n            'v': 419,\n            'f': \"419\",\n        },\n\"WBC.AX\",\n\"2021-08-27 00:00:00\",\n{\n            'v': 26.0,\n            'f': \"26.0\",\n        },\n{\n            'v': 3041982,\n            'f': \"3041982\",\n        },\n{\n            'v': 25.989999771118164,\n            'f': \"25.989999771118164\",\n        },\n{\n            'v': 25.860000610351562,\n            'f': \"25.860000610351562\",\n        },\n{\n            'v': 25.834999084472656,\n            'f': \"25.834999084472656\",\n        },\n{\n            'v': 25.31784439086914,\n            'f': \"25.31784439086914\",\n        },\n{\n            'v': 0.0,\n            'f': \"0.0\",\n        }],\n [{\n            'v': 420,\n            'f': \"420\",\n        },\n\"WBC.AX\",\n\"2021-08-30 00:00:00\",\n{\n            'v': 26.0,\n            'f': \"26.0\",\n        },\n{\n            'v': 3870481,\n            'f': \"3870481\",\n        },\n{\n            'v': 25.799999237060547,\n            'f': \"25.799999237060547\",\n        },\n{\n            'v': 25.989999771118164,\n            'f': \"25.989999771118164\",\n        },\n{\n            'v': 25.65999984741211,\n            'f': \"25.65999984741211\",\n        },\n{\n            'v': 25.13275718688965,\n            'f': \"25.13275718688965\",\n        },\n{\n            'v': 0.0,\n            'f': \"0.0\",\n        }],\n [{\n            'v': 421,\n            'f': \"421\",\n        },\n\"WBC.AX\",\n\"2021-08-31 00:00:00\",\n{\n            'v': 25.899999618530273,\n            'f': \"25.899999618530273\",\n        },\n{\n            'v': 7187581,\n            'f': \"7187581\",\n        },\n{\n            'v': 25.81999969482422,\n            'f': \"25.81999969482422\",\n        },\n{\n            'v': 25.719999313354492,\n            'f': \"25.719999313354492\",\n        },\n{\n            'v': 25.600000381469727,\n            'f': \"25.600000381469727\",\n        },\n{\n            'v': 25.152240753173828,\n            'f': \"25.152240753173828\",\n        },\n{\n            'v': 0.0,\n            'f': \"0.0\",\n        }],\n [{\n            'v': 422,\n            'f': \"422\",\n        },\n\"WBC.AX\",\n\"2021-09-01 00:00:00\",\n{\n            'v': 26.110000610351562,\n            'f': \"26.110000610351562\",\n        },\n{\n            'v': 5362603,\n            'f': \"5362603\",\n        },\n{\n            'v': 26.110000610351562,\n            'f': \"26.110000610351562\",\n        },\n{\n            'v': 25.6299991607666,\n            'f': \"25.6299991607666\",\n        },\n{\n            'v': 25.6299991607666,\n            'f': \"25.6299991607666\",\n        },\n{\n            'v': 25.434741973876953,\n            'f': \"25.434741973876953\",\n        },\n{\n            'v': 0.0,\n            'f': \"0.0\",\n        }],\n [{\n            'v': 423,\n            'f': \"423\",\n        },\n\"WBC.AX\",\n\"2021-09-02 00:00:00\",\n{\n            'v': 26.219999313354492,\n            'f': \"26.219999313354492\",\n        },\n{\n            'v': 4608420,\n            'f': \"4608420\",\n        },\n{\n            'v': 26.030000686645508,\n            'f': \"26.030000686645508\",\n        },\n{\n            'v': 26.1299991607666,\n            'f': \"26.1299991607666\",\n        },\n{\n            'v': 25.915000915527344,\n            'f': \"25.915000915527344\",\n        },\n{\n            'v': 25.356809616088867,\n            'f': \"25.356809616088867\",\n        },\n{\n            'v': 0.0,\n            'f': \"0.0\",\n        }],\n [{\n            'v': 424,\n            'f': \"424\",\n        },\n\"WBC.AX\",\n\"2021-09-03 00:00:00\",\n{\n            'v': 26.094999313354492,\n            'f': \"26.094999313354492\",\n        },\n{\n            'v': 3221700,\n            'f': \"3221700\",\n        },\n{\n            'v': 26.020000457763672,\n            'f': \"26.020000457763672\",\n        },\n{\n            'v': 26.049999237060547,\n            'f': \"26.049999237060547\",\n        },\n{\n            'v': 25.899999618530273,\n            'f': \"25.899999618530273\",\n        },\n{\n            'v': 25.347068786621094,\n            'f': \"25.347068786621094\",\n        },\n{\n            'v': 0.0,\n            'f': \"0.0\",\n        }],\n [{\n            'v': 425,\n            'f': \"425\",\n        },\n\"WBC.AX\",\n\"2021-09-06 00:00:00\",\n{\n            'v': 25.989999771118164,\n            'f': \"25.989999771118164\",\n        },\n{\n            'v': 3889635,\n            'f': \"3889635\",\n        },\n{\n            'v': 25.989999771118164,\n            'f': \"25.989999771118164\",\n        },\n{\n            'v': 25.8799991607666,\n            'f': \"25.8799991607666\",\n        },\n{\n            'v': 25.670000076293945,\n            'f': \"25.670000076293945\",\n        },\n{\n            'v': 25.31784439086914,\n            'f': \"25.31784439086914\",\n        },\n{\n            'v': 0.0,\n            'f': \"0.0\",\n        }],\n [{\n            'v': 426,\n            'f': \"426\",\n        },\n\"WBC.AX\",\n\"2021-09-07 00:00:00\",\n{\n            'v': 26.049999237060547,\n            'f': \"26.049999237060547\",\n        },\n{\n            'v': 3039361,\n            'f': \"3039361\",\n        },\n{\n            'v': 26.030000686645508,\n            'f': \"26.030000686645508\",\n        },\n{\n            'v': 25.90999984741211,\n            'f': \"25.90999984741211\",\n        },\n{\n            'v': 25.809999465942383,\n            'f': \"25.809999465942383\",\n        },\n{\n            'v': 25.356809616088867,\n            'f': \"25.356809616088867\",\n        },\n{\n            'v': 0.0,\n            'f': \"0.0\",\n        }],\n [{\n            'v': 427,\n            'f': \"427\",\n        },\n\"WBC.AX\",\n\"2021-09-08 00:00:00\",\n{\n            'v': 26.139999389648438,\n            'f': \"26.139999389648438\",\n        },\n{\n            'v': 4588043,\n            'f': \"4588043\",\n        },\n{\n            'v': 26.09000015258789,\n            'f': \"26.09000015258789\",\n        },\n{\n            'v': 25.889999389648438,\n            'f': \"25.889999389648438\",\n        },\n{\n            'v': 25.8700008392334,\n            'f': \"25.8700008392334\",\n        },\n{\n            'v': 25.415258407592773,\n            'f': \"25.415258407592773\",\n        },\n{\n            'v': 0.0,\n            'f': \"0.0\",\n        }],\n [{\n            'v': 428,\n            'f': \"428\",\n        },\n\"WBC.AX\",\n\"2021-09-09 00:00:00\",\n{\n            'v': 25.959999084472656,\n            'f': \"25.959999084472656\",\n        },\n{\n            'v': 6285165,\n            'f': \"6285165\",\n        },\n{\n            'v': 25.600000381469727,\n            'f': \"25.600000381469727\",\n        },\n{\n            'v': 25.940000534057617,\n            'f': \"25.940000534057617\",\n        },\n{\n            'v': 25.469999313354492,\n            'f': \"25.469999313354492\",\n        },\n{\n            'v': 24.937931060791016,\n            'f': \"24.937931060791016\",\n        },\n{\n            'v': 0.0,\n            'f': \"0.0\",\n        }],\n [{\n            'v': 429,\n            'f': \"429\",\n        },\n\"WBC.AX\",\n\"2021-09-10 00:00:00\",\n{\n            'v': 25.90999984741211,\n            'f': \"25.90999984741211\",\n        },\n{\n            'v': 3862459,\n            'f': \"3862459\",\n        },\n{\n            'v': 25.649999618530273,\n            'f': \"25.649999618530273\",\n        },\n{\n            'v': 25.860000610351562,\n            'f': \"25.860000610351562\",\n        },\n{\n            'v': 25.56999969482422,\n            'f': \"25.56999969482422\",\n        },\n{\n            'v': 24.986637115478516,\n            'f': \"24.986637115478516\",\n        },\n{\n            'v': 0.0,\n            'f': \"0.0\",\n        }],\n [{\n            'v': 430,\n            'f': \"430\",\n        },\n\"WBC.AX\",\n\"2021-09-13 00:00:00\",\n{\n            'v': 25.709999084472656,\n            'f': \"25.709999084472656\",\n        },\n{\n            'v': 3159366,\n            'f': \"3159366\",\n        },\n{\n            'v': 25.639999389648438,\n            'f': \"25.639999389648438\",\n        },\n{\n            'v': 25.649999618530273,\n            'f': \"25.649999618530273\",\n        },\n{\n            'v': 25.5,\n            'f': \"25.5\",\n        },\n{\n            'v': 24.97689437866211,\n            'f': \"24.97689437866211\",\n        },\n{\n            'v': 0.0,\n            'f': \"0.0\",\n        }],\n [{\n            'v': 431,\n            'f': \"431\",\n        },\n\"WBC.AX\",\n\"2021-09-14 00:00:00\",\n{\n            'v': 25.84000015258789,\n            'f': \"25.84000015258789\",\n        },\n{\n            'v': 5793640,\n            'f': \"5793640\",\n        },\n{\n            'v': 25.719999313354492,\n            'f': \"25.719999313354492\",\n        },\n{\n            'v': 25.700000762939453,\n            'f': \"25.700000762939453\",\n        },\n{\n            'v': 25.479999542236328,\n            'f': \"25.479999542236328\",\n        },\n{\n            'v': 25.054826736450195,\n            'f': \"25.054826736450195\",\n        },\n{\n            'v': 0.0,\n            'f': \"0.0\",\n        }],\n [{\n            'v': 432,\n            'f': \"432\",\n        },\n\"WBC.AX\",\n\"2021-09-15 00:00:00\",\n{\n            'v': 25.899999618530273,\n            'f': \"25.899999618530273\",\n        },\n{\n            'v': 4874131,\n            'f': \"4874131\",\n        },\n{\n            'v': 25.790000915527344,\n            'f': \"25.790000915527344\",\n        },\n{\n            'v': 25.6299991607666,\n            'f': \"25.6299991607666\",\n        },\n{\n            'v': 25.459999084472656,\n            'f': \"25.459999084472656\",\n        },\n{\n            'v': 25.123018264770508,\n            'f': \"25.123018264770508\",\n        },\n{\n            'v': 0.0,\n            'f': \"0.0\",\n        }],\n [{\n            'v': 433,\n            'f': \"433\",\n        },\n\"WBC.AX\",\n\"2021-09-16 00:00:00\",\n{\n            'v': 26.059999465942383,\n            'f': \"26.059999465942383\",\n        },\n{\n            'v': 7311386,\n            'f': \"7311386\",\n        },\n{\n            'v': 26.0,\n            'f': \"26.0\",\n        },\n{\n            'v': 25.700000762939453,\n            'f': \"25.700000762939453\",\n        },\n{\n            'v': 25.700000762939453,\n            'f': \"25.700000762939453\",\n        },\n{\n            'v': 25.327585220336914,\n            'f': \"25.327585220336914\",\n        },\n{\n            'v': 0.0,\n            'f': \"0.0\",\n        }],\n [{\n            'v': 434,\n            'f': \"434\",\n        },\n\"WBC.AX\",\n\"2021-09-17 00:00:00\",\n{\n            'v': 26.020000457763672,\n            'f': \"26.020000457763672\",\n        },\n{\n            'v': 10104216,\n            'f': \"10104216\",\n        },\n{\n            'v': 25.8799991607666,\n            'f': \"25.8799991607666\",\n        },\n{\n            'v': 25.950000762939453,\n            'f': \"25.950000762939453\",\n        },\n{\n            'v': 25.719999313354492,\n            'f': \"25.719999313354492\",\n        },\n{\n            'v': 25.2106876373291,\n            'f': \"25.2106876373291\",\n        },\n{\n            'v': 0.0,\n            'f': \"0.0\",\n        }],\n [{\n            'v': 435,\n            'f': \"435\",\n        },\n\"WBC.AX\",\n\"2021-09-20 00:00:00\",\n{\n            'v': 25.760000228881836,\n            'f': \"25.760000228881836\",\n        },\n{\n            'v': 5516428,\n            'f': \"5516428\",\n        },\n{\n            'v': 25.299999237060547,\n            'f': \"25.299999237060547\",\n        },\n{\n            'v': 25.639999389648438,\n            'f': \"25.639999389648438\",\n        },\n{\n            'v': 25.260000228881836,\n            'f': \"25.260000228881836\",\n        },\n{\n            'v': 24.645689010620117,\n            'f': \"24.645689010620117\",\n        },\n{\n            'v': 0.0,\n            'f': \"0.0\",\n        }],\n [{\n            'v': 436,\n            'f': \"436\",\n        },\n\"WBC.AX\",\n\"2021-09-21 00:00:00\",\n{\n            'v': 25.239999771118164,\n            'f': \"25.239999771118164\",\n        },\n{\n            'v': 5100209,\n            'f': \"5100209\",\n        },\n{\n            'v': 25.190000534057617,\n            'f': \"25.190000534057617\",\n        },\n{\n            'v': 25.0,\n            'f': \"25.0\",\n        },\n{\n            'v': 24.899999618530273,\n            'f': \"24.899999618530273\",\n        },\n{\n            'v': 24.53853416442871,\n            'f': \"24.53853416442871\",\n        },\n{\n            'v': 0.0,\n            'f': \"0.0\",\n        }],\n [{\n            'v': 437,\n            'f': \"437\",\n        },\n\"WBC.AX\",\n\"2021-09-22 00:00:00\",\n{\n            'v': 25.059999465942383,\n            'f': \"25.059999465942383\",\n        },\n{\n            'v': 5924150,\n            'f': \"5924150\",\n        },\n{\n            'v': 24.90999984741211,\n            'f': \"24.90999984741211\",\n        },\n{\n            'v': 24.940000534057617,\n            'f': \"24.940000534057617\",\n        },\n{\n            'v': 24.899999618530273,\n            'f': \"24.899999618530273\",\n        },\n{\n            'v': 24.265775680541992,\n            'f': \"24.265775680541992\",\n        },\n{\n            'v': 0.0,\n            'f': \"0.0\",\n        }],\n [{\n            'v': 438,\n            'f': \"438\",\n        },\n\"WBC.AX\",\n\"2021-09-23 00:00:00\",\n{\n            'v': 25.190000534057617,\n            'f': \"25.190000534057617\",\n        },\n{\n            'v': 5614383,\n            'f': \"5614383\",\n        },\n{\n            'v': 25.06999969482422,\n            'f': \"25.06999969482422\",\n        },\n{\n            'v': 25.1299991607666,\n            'f': \"25.1299991607666\",\n        },\n{\n            'v': 25.030000686645508,\n            'f': \"25.030000686645508\",\n        },\n{\n            'v': 24.4216365814209,\n            'f': \"24.4216365814209\",\n        },\n{\n            'v': 0.0,\n            'f': \"0.0\",\n        }],\n [{\n            'v': 439,\n            'f': \"439\",\n        },\n\"WBC.AX\",\n\"2021-09-24 00:00:00\",\n{\n            'v': 25.299999237060547,\n            'f': \"25.299999237060547\",\n        },\n{\n            'v': 5185619,\n            'f': \"5185619\",\n        },\n{\n            'v': 25.25,\n            'f': \"25.25\",\n        },\n{\n            'v': 25.200000762939453,\n            'f': \"25.200000762939453\",\n        },\n{\n            'v': 25.139999389648438,\n            'f': \"25.139999389648438\",\n        },\n{\n            'v': 24.596982955932617,\n            'f': \"24.596982955932617\",\n        },\n{\n            'v': 0.0,\n            'f': \"0.0\",\n        }],\n [{\n            'v': 440,\n            'f': \"440\",\n        },\n\"WBC.AX\",\n\"2021-09-27 00:00:00\",\n{\n            'v': 25.639999389648438,\n            'f': \"25.639999389648438\",\n        },\n{\n            'v': 5134742,\n            'f': \"5134742\",\n        },\n{\n            'v': 25.459999084472656,\n            'f': \"25.459999084472656\",\n        },\n{\n            'v': 25.389999389648438,\n            'f': \"25.389999389648438\",\n        },\n{\n            'v': 25.3700008392334,\n            'f': \"25.3700008392334\",\n        },\n{\n            'v': 24.801549911499023,\n            'f': \"24.801549911499023\",\n        },\n{\n            'v': 0.0,\n            'f': \"0.0\",\n        }],\n [{\n            'v': 441,\n            'f': \"441\",\n        },\n\"WBC.AX\",\n\"2021-09-28 00:00:00\",\n{\n            'v': 25.6200008392334,\n            'f': \"25.6200008392334\",\n        },\n{\n            'v': 5698793,\n            'f': \"5698793\",\n        },\n{\n            'v': 25.309999465942383,\n            'f': \"25.309999465942383\",\n        },\n{\n            'v': 25.5,\n            'f': \"25.5\",\n        },\n{\n            'v': 25.270000457763672,\n            'f': \"25.270000457763672\",\n        },\n{\n            'v': 24.65542984008789,\n            'f': \"24.65542984008789\",\n        },\n{\n            'v': 0.0,\n            'f': \"0.0\",\n        }],\n [{\n            'v': 442,\n            'f': \"442\",\n        },\n\"WBC.AX\",\n\"2021-09-29 00:00:00\",\n{\n            'v': 25.299999237060547,\n            'f': \"25.299999237060547\",\n        },\n{\n            'v': 5875567,\n            'f': \"5875567\",\n        },\n{\n            'v': 25.170000076293945,\n            'f': \"25.170000076293945\",\n        },\n{\n            'v': 25.139999389648438,\n            'f': \"25.139999389648438\",\n        },\n{\n            'v': 25.0,\n            'f': \"25.0\",\n        },\n{\n            'v': 24.51905059814453,\n            'f': \"24.51905059814453\",\n        },\n{\n            'v': 0.0,\n            'f': \"0.0\",\n        }],\n [{\n            'v': 443,\n            'f': \"443\",\n        },\n\"WBC.AX\",\n\"2021-09-30 00:00:00\",\n{\n            'v': 26.0,\n            'f': \"26.0\",\n        },\n{\n            'v': 10871264,\n            'f': \"10871264\",\n        },\n{\n            'v': 26.0,\n            'f': \"26.0\",\n        },\n{\n            'v': 25.399999618530273,\n            'f': \"25.399999618530273\",\n        },\n{\n            'v': 25.389999389648438,\n            'f': \"25.389999389648438\",\n        },\n{\n            'v': 25.327585220336914,\n            'f': \"25.327585220336914\",\n        },\n{\n            'v': 0.0,\n            'f': \"0.0\",\n        }],\n [{\n            'v': 444,\n            'f': \"444\",\n        },\n\"WBC.AX\",\n\"2021-10-01 00:00:00\",\n{\n            'v': 25.610000610351562,\n            'f': \"25.610000610351562\",\n        },\n{\n            'v': 6978134,\n            'f': \"6978134\",\n        },\n{\n            'v': 25.40999984741211,\n            'f': \"25.40999984741211\",\n        },\n{\n            'v': 25.610000610351562,\n            'f': \"25.610000610351562\",\n        },\n{\n            'v': 25.229999542236328,\n            'f': \"25.229999542236328\",\n        },\n{\n            'v': 24.752843856811523,\n            'f': \"24.752843856811523\",\n        },\n{\n            'v': 0.0,\n            'f': \"0.0\",\n        }],\n [{\n            'v': 445,\n            'f': \"445\",\n        },\n\"WBC.AX\",\n\"2021-10-04 00:00:00\",\n{\n            'v': 26.0,\n            'f': \"26.0\",\n        },\n{\n            'v': 5168696,\n            'f': \"5168696\",\n        },\n{\n            'v': 25.950000762939453,\n            'f': \"25.950000762939453\",\n        },\n{\n            'v': 25.829999923706055,\n            'f': \"25.829999923706055\",\n        },\n{\n            'v': 25.700000762939453,\n            'f': \"25.700000762939453\",\n        },\n{\n            'v': 25.278879165649414,\n            'f': \"25.278879165649414\",\n        },\n{\n            'v': 0.0,\n            'f': \"0.0\",\n        }],\n [{\n            'v': 446,\n            'f': \"446\",\n        },\n\"WBC.AX\",\n\"2021-10-05 00:00:00\",\n{\n            'v': 25.969999313354492,\n            'f': \"25.969999313354492\",\n        },\n{\n            'v': 7490355,\n            'f': \"7490355\",\n        },\n{\n            'v': 25.809999465942383,\n            'f': \"25.809999465942383\",\n        },\n{\n            'v': 25.8799991607666,\n            'f': \"25.8799991607666\",\n        },\n{\n            'v': 25.56999969482422,\n            'f': \"25.56999969482422\",\n        },\n{\n            'v': 25.142498016357422,\n            'f': \"25.142498016357422\",\n        },\n{\n            'v': 0.0,\n            'f': \"0.0\",\n        }],\n [{\n            'v': 447,\n            'f': \"447\",\n        },\n\"WBC.AX\",\n\"2021-10-06 00:00:00\",\n{\n            'v': 25.920000076293945,\n            'f': \"25.920000076293945\",\n        },\n{\n            'v': 5269343,\n            'f': \"5269343\",\n        },\n{\n            'v': 25.649999618530273,\n            'f': \"25.649999618530273\",\n        },\n{\n            'v': 25.860000610351562,\n            'f': \"25.860000610351562\",\n        },\n{\n            'v': 25.469999313354492,\n            'f': \"25.469999313354492\",\n        },\n{\n            'v': 24.986637115478516,\n            'f': \"24.986637115478516\",\n        },\n{\n            'v': 0.0,\n            'f': \"0.0\",\n        }],\n [{\n            'v': 448,\n            'f': \"448\",\n        },\n\"WBC.AX\",\n\"2021-10-07 00:00:00\",\n{\n            'v': 26.06999969482422,\n            'f': \"26.06999969482422\",\n        },\n{\n            'v': 6901915,\n            'f': \"6901915\",\n        },\n{\n            'v': 26.010000228881836,\n            'f': \"26.010000228881836\",\n        },\n{\n            'v': 25.809999465942383,\n            'f': \"25.809999465942383\",\n        },\n{\n            'v': 25.670000076293945,\n            'f': \"25.670000076293945\",\n        },\n{\n            'v': 25.33732795715332,\n            'f': \"25.33732795715332\",\n        },\n{\n            'v': 0.0,\n            'f': \"0.0\",\n        }],\n [{\n            'v': 449,\n            'f': \"449\",\n        },\n\"WBC.AX\",\n\"2021-10-08 00:00:00\",\n{\n            'v': 26.09000015258789,\n            'f': \"26.09000015258789\",\n        },\n{\n            'v': 7412866,\n            'f': \"7412866\",\n        },\n{\n            'v': 25.959999084472656,\n            'f': \"25.959999084472656\",\n        },\n{\n            'v': 26.079999923706055,\n            'f': \"26.079999923706055\",\n        },\n{\n            'v': 25.719999313354492,\n            'f': \"25.719999313354492\",\n        },\n{\n            'v': 25.288619995117188,\n            'f': \"25.288619995117188\",\n        },\n{\n            'v': 0.0,\n            'f': \"0.0\",\n        }],\n [{\n            'v': 450,\n            'f': \"450\",\n        },\n\"WBC.AX\",\n\"2021-10-11 00:00:00\",\n{\n            'v': 26.09000015258789,\n            'f': \"26.09000015258789\",\n        },\n{\n            'v': 6860005,\n            'f': \"6860005\",\n        },\n{\n            'v': 26.059999465942383,\n            'f': \"26.059999465942383\",\n        },\n{\n            'v': 25.790000915527344,\n            'f': \"25.790000915527344\",\n        },\n{\n            'v': 25.75,\n            'f': \"25.75\",\n        },\n{\n            'v': 25.38603401184082,\n            'f': \"25.38603401184082\",\n        },\n{\n            'v': 0.0,\n            'f': \"0.0\",\n        }],\n [{\n            'v': 451,\n            'f': \"451\",\n        },\n\"WBC.AX\",\n\"2021-10-12 00:00:00\",\n{\n            'v': 25.989999771118164,\n            'f': \"25.989999771118164\",\n        },\n{\n            'v': 7888013,\n            'f': \"7888013\",\n        },\n{\n            'v': 25.6299991607666,\n            'f': \"25.6299991607666\",\n        },\n{\n            'v': 25.799999237060547,\n            'f': \"25.799999237060547\",\n        },\n{\n            'v': 25.440000534057617,\n            'f': \"25.440000534057617\",\n        },\n{\n            'v': 24.967153549194336,\n            'f': \"24.967153549194336\",\n        },\n{\n            'v': 0.0,\n            'f': \"0.0\",\n        }],\n [{\n            'v': 452,\n            'f': \"452\",\n        },\n\"WBC.AX\",\n\"2021-10-13 00:00:00\",\n{\n            'v': 25.549999237060547,\n            'f': \"25.549999237060547\",\n        },\n{\n            'v': 5960351,\n            'f': \"5960351\",\n        },\n{\n            'v': 25.299999237060547,\n            'f': \"25.299999237060547\",\n        },\n{\n            'v': 25.549999237060547,\n            'f': \"25.549999237060547\",\n        },\n{\n            'v': 25.200000762939453,\n            'f': \"25.200000762939453\",\n        },\n{\n            'v': 24.645689010620117,\n            'f': \"24.645689010620117\",\n        },\n{\n            'v': 0.0,\n            'f': \"0.0\",\n        }],\n [{\n            'v': 453,\n            'f': \"453\",\n        },\n\"WBC.AX\",\n\"2021-10-14 00:00:00\",\n{\n            'v': 25.559999465942383,\n            'f': \"25.559999465942383\",\n        },\n{\n            'v': 4714356,\n            'f': \"4714356\",\n        },\n{\n            'v': 25.270000457763672,\n            'f': \"25.270000457763672\",\n        },\n{\n            'v': 25.299999237060547,\n            'f': \"25.299999237060547\",\n        },\n{\n            'v': 25.270000457763672,\n            'f': \"25.270000457763672\",\n        },\n{\n            'v': 24.616464614868164,\n            'f': \"24.616464614868164\",\n        },\n{\n            'v': 0.0,\n            'f': \"0.0\",\n        }],\n [{\n            'v': 454,\n            'f': \"454\",\n        },\n\"WBC.AX\",\n\"2021-10-15 00:00:00\",\n{\n            'v': 25.510000228881836,\n            'f': \"25.510000228881836\",\n        },\n{\n            'v': 3710101,\n            'f': \"3710101\",\n        },\n{\n            'v': 25.389999389648438,\n            'f': \"25.389999389648438\",\n        },\n{\n            'v': 25.389999389648438,\n            'f': \"25.389999389648438\",\n        },\n{\n            'v': 25.25,\n            'f': \"25.25\",\n        },\n{\n            'v': 24.733360290527344,\n            'f': \"24.733360290527344\",\n        },\n{\n            'v': 0.0,\n            'f': \"0.0\",\n        }],\n [{\n            'v': 455,\n            'f': \"455\",\n        },\n\"WBC.AX\",\n\"2021-10-18 00:00:00\",\n{\n            'v': 25.729999542236328,\n            'f': \"25.729999542236328\",\n        },\n{\n            'v': 3315029,\n            'f': \"3315029\",\n        },\n{\n            'v': 25.579999923706055,\n            'f': \"25.579999923706055\",\n        },\n{\n            'v': 25.600000381469727,\n            'f': \"25.600000381469727\",\n        },\n{\n            'v': 25.510000228881836,\n            'f': \"25.510000228881836\",\n        },\n{\n            'v': 24.918447494506836,\n            'f': \"24.918447494506836\",\n        },\n{\n            'v': 0.0,\n            'f': \"0.0\",\n        }],\n [{\n            'v': 456,\n            'f': \"456\",\n        },\n\"WBC.AX\",\n\"2021-10-19 00:00:00\",\n{\n            'v': 25.670000076293945,\n            'f': \"25.670000076293945\",\n        },\n{\n            'v': 3498064,\n            'f': \"3498064\",\n        },\n{\n            'v': 25.479999542236328,\n            'f': \"25.479999542236328\",\n        },\n{\n            'v': 25.540000915527344,\n            'f': \"25.540000915527344\",\n        },\n{\n            'v': 25.479999542236328,\n            'f': \"25.479999542236328\",\n        },\n{\n            'v': 24.821033477783203,\n            'f': \"24.821033477783203\",\n        },\n{\n            'v': 0.0,\n            'f': \"0.0\",\n        }],\n [{\n            'v': 457,\n            'f': \"457\",\n        },\n\"WBC.AX\",\n\"2021-10-20 00:00:00\",\n{\n            'v': 25.799999237060547,\n            'f': \"25.799999237060547\",\n        },\n{\n            'v': 5466887,\n            'f': \"5466887\",\n        },\n{\n            'v': 25.68000030517578,\n            'f': \"25.68000030517578\",\n        },\n{\n            'v': 25.56999969482422,\n            'f': \"25.56999969482422\",\n        },\n{\n            'v': 25.530000686645508,\n            'f': \"25.530000686645508\",\n        },\n{\n            'v': 25.01586151123047,\n            'f': \"25.01586151123047\",\n        },\n{\n            'v': 0.0,\n            'f': \"0.0\",\n        }],\n [{\n            'v': 458,\n            'f': \"458\",\n        },\n\"WBC.AX\",\n\"2021-10-21 00:00:00\",\n{\n            'v': 25.8799991607666,\n            'f': \"25.8799991607666\",\n        },\n{\n            'v': 6495075,\n            'f': \"6495075\",\n        },\n{\n            'v': 25.829999923706055,\n            'f': \"25.829999923706055\",\n        },\n{\n            'v': 25.770000457763672,\n            'f': \"25.770000457763672\",\n        },\n{\n            'v': 25.670000076293945,\n            'f': \"25.670000076293945\",\n        },\n{\n            'v': 25.1619815826416,\n            'f': \"25.1619815826416\",\n        },\n{\n            'v': 0.0,\n            'f': \"0.0\",\n        }],\n [{\n            'v': 459,\n            'f': \"459\",\n        },\n\"WBC.AX\",\n\"2021-10-22 00:00:00\",\n{\n            'v': 25.770000457763672,\n            'f': \"25.770000457763672\",\n        },\n{\n            'v': 4546300,\n            'f': \"4546300\",\n        },\n{\n            'v': 25.739999771118164,\n            'f': \"25.739999771118164\",\n        },\n{\n            'v': 25.709999084472656,\n            'f': \"25.709999084472656\",\n        },\n{\n            'v': 25.559999465942383,\n            'f': \"25.559999465942383\",\n        },\n{\n            'v': 25.074310302734375,\n            'f': \"25.074310302734375\",\n        },\n{\n            'v': 0.0,\n            'f': \"0.0\",\n        }],\n [{\n            'v': 460,\n            'f': \"460\",\n        },\n\"WBC.AX\",\n\"2021-10-25 00:00:00\",\n{\n            'v': 25.899999618530273,\n            'f': \"25.899999618530273\",\n        },\n{\n            'v': 3166667,\n            'f': \"3166667\",\n        },\n{\n            'v': 25.709999084472656,\n            'f': \"25.709999084472656\",\n        },\n{\n            'v': 25.809999465942383,\n            'f': \"25.809999465942383\",\n        },\n{\n            'v': 25.670000076293945,\n            'f': \"25.670000076293945\",\n        },\n{\n            'v': 25.04508399963379,\n            'f': \"25.04508399963379\",\n        },\n{\n            'v': 0.0,\n            'f': \"0.0\",\n        }],\n [{\n            'v': 461,\n            'f': \"461\",\n        },\n\"WBC.AX\",\n\"2021-10-26 00:00:00\",\n{\n            'v': 25.90999984741211,\n            'f': \"25.90999984741211\",\n        },\n{\n            'v': 2900146,\n            'f': \"2900146\",\n        },\n{\n            'v': 25.790000915527344,\n            'f': \"25.790000915527344\",\n        },\n{\n            'v': 25.780000686645508,\n            'f': \"25.780000686645508\",\n        },\n{\n            'v': 25.739999771118164,\n            'f': \"25.739999771118164\",\n        },\n{\n            'v': 25.123018264770508,\n            'f': \"25.123018264770508\",\n        },\n{\n            'v': 0.0,\n            'f': \"0.0\",\n        }],\n [{\n            'v': 462,\n            'f': \"462\",\n        },\n\"WBC.AX\",\n\"2021-10-27 00:00:00\",\n{\n            'v': 26.190000534057617,\n            'f': \"26.190000534057617\",\n        },\n{\n            'v': 5443851,\n            'f': \"5443851\",\n        },\n{\n            'v': 25.950000762939453,\n            'f': \"25.950000762939453\",\n        },\n{\n            'v': 25.899999618530273,\n            'f': \"25.899999618530273\",\n        },\n{\n            'v': 25.809999465942383,\n            'f': \"25.809999465942383\",\n        },\n{\n            'v': 25.278879165649414,\n            'f': \"25.278879165649414\",\n        },\n{\n            'v': 0.0,\n            'f': \"0.0\",\n        }],\n [{\n            'v': 463,\n            'f': \"463\",\n        },\n\"WBC.AX\",\n\"2021-10-28 00:00:00\",\n{\n            'v': 26.25,\n            'f': \"26.25\",\n        },\n{\n            'v': 6313561,\n            'f': \"6313561\",\n        },\n{\n            'v': 26.229999542236328,\n            'f': \"26.229999542236328\",\n        },\n{\n            'v': 25.989999771118164,\n            'f': \"25.989999771118164\",\n        },\n{\n            'v': 25.959999084472656,\n            'f': \"25.959999084472656\",\n        },\n{\n            'v': 25.551637649536133,\n            'f': \"25.551637649536133\",\n        },\n{\n            'v': 0.0,\n            'f': \"0.0\",\n        }],\n [{\n            'v': 464,\n            'f': \"464\",\n        },\n\"WBC.AX\",\n\"2021-10-29 00:00:00\",\n{\n            'v': 26.440000534057617,\n            'f': \"26.440000534057617\",\n        },\n{\n            'v': 7936427,\n            'f': \"7936427\",\n        },\n{\n            'v': 25.670000076293945,\n            'f': \"25.670000076293945\",\n        },\n{\n            'v': 26.34000015258789,\n            'f': \"26.34000015258789\",\n        },\n{\n            'v': 25.670000076293945,\n            'f': \"25.670000076293945\",\n        },\n{\n            'v': 25.006120681762695,\n            'f': \"25.006120681762695\",\n        },\n{\n            'v': 0.0,\n            'f': \"0.0\",\n        }],\n [{\n            'v': 465,\n            'f': \"465\",\n        },\n\"WBC.AX\",\n\"2021-11-01 00:00:00\",\n{\n            'v': 24.700000762939453,\n            'f': \"24.700000762939453\",\n        },\n{\n            'v': 36262379,\n            'f': \"36262379\",\n        },\n{\n            'v': 23.780000686645508,\n            'f': \"23.780000686645508\",\n        },\n{\n            'v': 24.5,\n            'f': \"24.5\",\n        },\n{\n            'v': 23.780000686645508,\n            'f': \"23.780000686645508\",\n        },\n{\n            'v': 23.165000915527344,\n            'f': \"23.165000915527344\",\n        },\n{\n            'v': 0.0,\n            'f': \"0.0\",\n        }],\n [{\n            'v': 466,\n            'f': \"466\",\n        },\n\"WBC.AX\",\n\"2021-11-02 00:00:00\",\n{\n            'v': 23.950000762939453,\n            'f': \"23.950000762939453\",\n        },\n{\n            'v': 21163708,\n            'f': \"21163708\",\n        },\n{\n            'v': 23.1299991607666,\n            'f': \"23.1299991607666\",\n        },\n{\n            'v': 23.950000762939453,\n            'f': \"23.950000762939453\",\n        },\n{\n            'v': 23.0,\n            'f': \"23.0\",\n        },\n{\n            'v': 22.531808853149414,\n            'f': \"22.531808853149414\",\n        },\n{\n            'v': 0.0,\n            'f': \"0.0\",\n        }],\n [{\n            'v': 467,\n            'f': \"467\",\n        },\n\"WBC.AX\",\n\"2021-11-03 00:00:00\",\n{\n            'v': 23.540000915527344,\n            'f': \"23.540000915527344\",\n        },\n{\n            'v': 17407560,\n            'f': \"17407560\",\n        },\n{\n            'v': 23.149999618530273,\n            'f': \"23.149999618530273\",\n        },\n{\n            'v': 23.440000534057617,\n            'f': \"23.440000534057617\",\n        },\n{\n            'v': 23.149999618530273,\n            'f': \"23.149999618530273\",\n        },\n{\n            'v': 22.551292419433594,\n            'f': \"22.551292419433594\",\n        },\n{\n            'v': 0.0,\n            'f': \"0.0\",\n        }],\n [{\n            'v': 468,\n            'f': \"468\",\n        },\n\"WBC.AX\",\n\"2021-11-04 00:00:00\",\n{\n            'v': 23.299999237060547,\n            'f': \"23.299999237060547\",\n        },\n{\n            'v': 12864818,\n            'f': \"12864818\",\n        },\n{\n            'v': 23.200000762939453,\n            'f': \"23.200000762939453\",\n        },\n{\n            'v': 23.219999313354492,\n            'f': \"23.219999313354492\",\n        },\n{\n            'v': 23.079999923706055,\n            'f': \"23.079999923706055\",\n        },\n{\n            'v': 22.600000381469727,\n            'f': \"22.600000381469727\",\n        },\n{\n            'v': 0.0,\n            'f': \"0.0\",\n        }],\n [{\n            'v': 469,\n            'f': \"469\",\n        },\n\"WBC.AX\",\n\"2021-11-05 00:00:00\",\n{\n            'v': 22.709999084472656,\n            'f': \"22.709999084472656\",\n        },\n{\n            'v': 11882536,\n            'f': \"11882536\",\n        },\n{\n            'v': 22.549999237060547,\n            'f': \"22.549999237060547\",\n        },\n{\n            'v': 22.600000381469727,\n            'f': \"22.600000381469727\",\n        },\n{\n            'v': 22.549999237060547,\n            'f': \"22.549999237060547\",\n        },\n{\n            'v': 22.549999237060547,\n            'f': \"22.549999237060547\",\n        },\n{\n            'v': 0.6,\n            'f': \"0.6\",\n        }],\n [{\n            'v': 470,\n            'f': \"470\",\n        },\n\"WBC.AX\",\n\"2021-11-08 00:00:00\",\n{\n            'v': 22.969999313354492,\n            'f': \"22.969999313354492\",\n        },\n{\n            'v': 8243874,\n            'f': \"8243874\",\n        },\n{\n            'v': 22.84000015258789,\n            'f': \"22.84000015258789\",\n        },\n{\n            'v': 22.709999084472656,\n            'f': \"22.709999084472656\",\n        },\n{\n            'v': 22.649999618530273,\n            'f': \"22.649999618530273\",\n        },\n{\n            'v': 22.84000015258789,\n            'f': \"22.84000015258789\",\n        },\n{\n            'v': 0.0,\n            'f': \"0.0\",\n        }],\n [{\n            'v': 471,\n            'f': \"471\",\n        },\n\"WBC.AX\",\n\"2021-11-09 00:00:00\",\n{\n            'v': 22.940000534057617,\n            'f': \"22.940000534057617\",\n        },\n{\n            'v': 9292162,\n            'f': \"9292162\",\n        },\n{\n            'v': 22.520000457763672,\n            'f': \"22.520000457763672\",\n        },\n{\n            'v': 22.829999923706055,\n            'f': \"22.829999923706055\",\n        },\n{\n            'v': 22.520000457763672,\n            'f': \"22.520000457763672\",\n        },\n{\n            'v': 22.520000457763672,\n            'f': \"22.520000457763672\",\n        },\n{\n            'v': 0.0,\n            'f': \"0.0\",\n        }],\n [{\n            'v': 472,\n            'f': \"472\",\n        },\n\"WBC.AX\",\n\"2021-11-10 00:00:00\",\n{\n            'v': 23.020000457763672,\n            'f': \"23.020000457763672\",\n        },\n{\n            'v': 10203425,\n            'f': \"10203425\",\n        },\n{\n            'v': 22.709999084472656,\n            'f': \"22.709999084472656\",\n        },\n{\n            'v': 22.600000381469727,\n            'f': \"22.600000381469727\",\n        },\n{\n            'v': 22.559999465942383,\n            'f': \"22.559999465942383\",\n        },\n{\n            'v': 22.709999084472656,\n            'f': \"22.709999084472656\",\n        },\n{\n            'v': 0.0,\n            'f': \"0.0\",\n        }],\n [{\n            'v': 473,\n            'f': \"473\",\n        },\n\"WBC.AX\",\n\"2021-11-11 00:00:00\",\n{\n            'v': 22.979999542236328,\n            'f': \"22.979999542236328\",\n        },\n{\n            'v': 7779728,\n            'f': \"7779728\",\n        },\n{\n            'v': 22.68000030517578,\n            'f': \"22.68000030517578\",\n        },\n{\n            'v': 22.959999084472656,\n            'f': \"22.959999084472656\",\n        },\n{\n            'v': 22.59000015258789,\n            'f': \"22.59000015258789\",\n        },\n{\n            'v': 22.68000030517578,\n            'f': \"22.68000030517578\",\n        },\n{\n            'v': 0.0,\n            'f': \"0.0\",\n        }],\n [{\n            'v': 474,\n            'f': \"474\",\n        },\n\"WBC.AX\",\n\"2021-11-12 00:00:00\",\n{\n            'v': 22.8799991607666,\n            'f': \"22.8799991607666\",\n        },\n{\n            'v': 7057740,\n            'f': \"7057740\",\n        },\n{\n            'v': 22.690000534057617,\n            'f': \"22.690000534057617\",\n        },\n{\n            'v': 22.81999969482422,\n            'f': \"22.81999969482422\",\n        },\n{\n            'v': 22.690000534057617,\n            'f': \"22.690000534057617\",\n        },\n{\n            'v': 22.690000534057617,\n            'f': \"22.690000534057617\",\n        },\n{\n            'v': 0.0,\n            'f': \"0.0\",\n        }],\n [{\n            'v': 475,\n            'f': \"475\",\n        },\n\"WBC.AX\",\n\"2021-11-15 00:00:00\",\n{\n            'v': 22.90999984741211,\n            'f': \"22.90999984741211\",\n        },\n{\n            'v': 6268187,\n            'f': \"6268187\",\n        },\n{\n            'v': 22.829999923706055,\n            'f': \"22.829999923706055\",\n        },\n{\n            'v': 22.719999313354492,\n            'f': \"22.719999313354492\",\n        },\n{\n            'v': 22.709999084472656,\n            'f': \"22.709999084472656\",\n        },\n{\n            'v': 22.829999923706055,\n            'f': \"22.829999923706055\",\n        },\n{\n            'v': 0.0,\n            'f': \"0.0\",\n        }],\n [{\n            'v': 476,\n            'f': \"476\",\n        },\n\"WBC.AX\",\n\"2021-11-16 00:00:00\",\n{\n            'v': 22.950000762939453,\n            'f': \"22.950000762939453\",\n        },\n{\n            'v': 7676007,\n            'f': \"7676007\",\n        },\n{\n            'v': 22.75,\n            'f': \"22.75\",\n        },\n{\n            'v': 22.81999969482422,\n            'f': \"22.81999969482422\",\n        },\n{\n            'v': 22.719999313354492,\n            'f': \"22.719999313354492\",\n        },\n{\n            'v': 22.75,\n            'f': \"22.75\",\n        },\n{\n            'v': 0.0,\n            'f': \"0.0\",\n        }],\n [{\n            'v': 477,\n            'f': \"477\",\n        },\n\"WBC.AX\",\n\"2021-11-17 00:00:00\",\n{\n            'v': 22.75,\n            'f': \"22.75\",\n        },\n{\n            'v': 15750370,\n            'f': \"15750370\",\n        },\n{\n            'v': 22.3700008392334,\n            'f': \"22.3700008392334\",\n        },\n{\n            'v': 22.75,\n            'f': \"22.75\",\n        },\n{\n            'v': 22.31999969482422,\n            'f': \"22.31999969482422\",\n        },\n{\n            'v': 22.3700008392334,\n            'f': \"22.3700008392334\",\n        },\n{\n            'v': 0.0,\n            'f': \"0.0\",\n        }],\n [{\n            'v': 478,\n            'f': \"478\",\n        },\n\"WBC.AX\",\n\"2021-11-18 00:00:00\",\n{\n            'v': 22.360000610351562,\n            'f': \"22.360000610351562\",\n        },\n{\n            'v': 7812318,\n            'f': \"7812318\",\n        },\n{\n            'v': 22.149999618530273,\n            'f': \"22.149999618530273\",\n        },\n{\n            'v': 22.299999237060547,\n            'f': \"22.299999237060547\",\n        },\n{\n            'v': 22.149999618530273,\n            'f': \"22.149999618530273\",\n        },\n{\n            'v': 22.149999618530273,\n            'f': \"22.149999618530273\",\n        },\n{\n            'v': 0.0,\n            'f': \"0.0\",\n        }],\n [{\n            'v': 479,\n            'f': \"479\",\n        },\n\"WBC.AX\",\n\"2021-11-19 00:00:00\",\n{\n            'v': 22.420000076293945,\n            'f': \"22.420000076293945\",\n        },\n{\n            'v': 7130173,\n            'f': \"7130173\",\n        },\n{\n            'v': 22.139999389648438,\n            'f': \"22.139999389648438\",\n        },\n{\n            'v': 22.209999084472656,\n            'f': \"22.209999084472656\",\n        },\n{\n            'v': 22.06999969482422,\n            'f': \"22.06999969482422\",\n        },\n{\n            'v': 22.139999389648438,\n            'f': \"22.139999389648438\",\n        },\n{\n            'v': 0.0,\n            'f': \"0.0\",\n        }],\n [{\n            'v': 480,\n            'f': \"480\",\n        },\n\"WBC.AX\",\n\"2021-11-22 00:00:00\",\n{\n            'v': 22.100000381469727,\n            'f': \"22.100000381469727\",\n        },\n{\n            'v': 11659056,\n            'f': \"11659056\",\n        },\n{\n            'v': 21.68000030517578,\n            'f': \"21.68000030517578\",\n        },\n{\n            'v': 22.059999465942383,\n            'f': \"22.059999465942383\",\n        },\n{\n            'v': 21.6299991607666,\n            'f': \"21.6299991607666\",\n        },\n{\n            'v': 21.68000030517578,\n            'f': \"21.68000030517578\",\n        },\n{\n            'v': 0.0,\n            'f': \"0.0\",\n        }],\n [{\n            'v': 481,\n            'f': \"481\",\n        },\n\"WBC.AX\",\n\"2021-11-23 00:00:00\",\n{\n            'v': 22.079999923706055,\n            'f': \"22.079999923706055\",\n        },\n{\n            'v': 8913273,\n            'f': \"8913273\",\n        },\n{\n            'v': 21.809999465942383,\n            'f': \"21.809999465942383\",\n        },\n{\n            'v': 22.0,\n            'f': \"22.0\",\n        },\n{\n            'v': 21.780000686645508,\n            'f': \"21.780000686645508\",\n        },\n{\n            'v': 21.809999465942383,\n            'f': \"21.809999465942383\",\n        },\n{\n            'v': 0.0,\n            'f': \"0.0\",\n        }],\n [{\n            'v': 482,\n            'f': \"482\",\n        },\n\"WBC.AX\",\n\"2021-11-24 00:00:00\",\n{\n            'v': 21.969999313354492,\n            'f': \"21.969999313354492\",\n        },\n{\n            'v': 9138671,\n            'f': \"9138671\",\n        },\n{\n            'v': 21.799999237060547,\n            'f': \"21.799999237060547\",\n        },\n{\n            'v': 21.959999084472656,\n            'f': \"21.959999084472656\",\n        },\n{\n            'v': 21.760000228881836,\n            'f': \"21.760000228881836\",\n        },\n{\n            'v': 21.799999237060547,\n            'f': \"21.799999237060547\",\n        },\n{\n            'v': 0.0,\n            'f': \"0.0\",\n        }],\n [{\n            'v': 483,\n            'f': \"483\",\n        },\n\"WBC.AX\",\n\"2021-11-25 00:00:00\",\n{\n            'v': 21.75,\n            'f': \"21.75\",\n        },\n{\n            'v': 5572556,\n            'f': \"5572556\",\n        },\n{\n            'v': 21.6299991607666,\n            'f': \"21.6299991607666\",\n        },\n{\n            'v': 21.729999542236328,\n            'f': \"21.729999542236328\",\n        },\n{\n            'v': 21.610000610351562,\n            'f': \"21.610000610351562\",\n        },\n{\n            'v': 21.6299991607666,\n            'f': \"21.6299991607666\",\n        },\n{\n            'v': 0.0,\n            'f': \"0.0\",\n        }],\n [{\n            'v': 484,\n            'f': \"484\",\n        },\n\"WBC.AX\",\n\"2021-11-26 00:00:00\",\n{\n            'v': 21.729999542236328,\n            'f': \"21.729999542236328\",\n        },\n{\n            'v': 12599479,\n            'f': \"12599479\",\n        },\n{\n            'v': 21.079999923706055,\n            'f': \"21.079999923706055\",\n        },\n{\n            'v': 21.670000076293945,\n            'f': \"21.670000076293945\",\n        },\n{\n            'v': 21.030000686645508,\n            'f': \"21.030000686645508\",\n        },\n{\n            'v': 21.079999923706055,\n            'f': \"21.079999923706055\",\n        },\n{\n            'v': 0.0,\n            'f': \"0.0\",\n        }],\n [{\n            'v': 485,\n            'f': \"485\",\n        },\n\"WBC.AX\",\n\"2021-11-29 00:00:00\",\n{\n            'v': 21.049999237060547,\n            'f': \"21.049999237060547\",\n        },\n{\n            'v': 10422024,\n            'f': \"10422024\",\n        },\n{\n            'v': 20.920000076293945,\n            'f': \"20.920000076293945\",\n        },\n{\n            'v': 20.739999771118164,\n            'f': \"20.739999771118164\",\n        },\n{\n            'v': 20.709999084472656,\n            'f': \"20.709999084472656\",\n        },\n{\n            'v': 20.920000076293945,\n            'f': \"20.920000076293945\",\n        },\n{\n            'v': 0.0,\n            'f': \"0.0\",\n        }],\n [{\n            'v': 486,\n            'f': \"486\",\n        },\n\"WBC.AX\",\n\"2021-11-30 00:00:00\",\n{\n            'v': 21.270000457763672,\n            'f': \"21.270000457763672\",\n        },\n{\n            'v': 19864589,\n            'f': \"19864589\",\n        },\n{\n            'v': 20.520000457763672,\n            'f': \"20.520000457763672\",\n        },\n{\n            'v': 21.149999618530273,\n            'f': \"21.149999618530273\",\n        },\n{\n            'v': 20.520000457763672,\n            'f': \"20.520000457763672\",\n        },\n{\n            'v': 20.520000457763672,\n            'f': \"20.520000457763672\",\n        },\n{\n            'v': 0.0,\n            'f': \"0.0\",\n        }],\n [{\n            'v': 487,\n            'f': \"487\",\n        },\n\"WBC.AX\",\n\"2021-12-01 00:00:00\",\n{\n            'v': 20.700000762939453,\n            'f': \"20.700000762939453\",\n        },\n{\n            'v': 11385217,\n            'f': \"11385217\",\n        },\n{\n            'v': 20.6200008392334,\n            'f': \"20.6200008392334\",\n        },\n{\n            'v': 20.5,\n            'f': \"20.5\",\n        },\n{\n            'v': 20.420000076293945,\n            'f': \"20.420000076293945\",\n        },\n{\n            'v': 20.6200008392334,\n            'f': \"20.6200008392334\",\n        },\n{\n            'v': 0.0,\n            'f': \"0.0\",\n        }],\n [{\n            'v': 488,\n            'f': \"488\",\n        },\n\"WBC.AX\",\n\"2021-12-02 00:00:00\",\n{\n            'v': 20.709999084472656,\n            'f': \"20.709999084472656\",\n        },\n{\n            'v': 12803060,\n            'f': \"12803060\",\n        },\n{\n            'v': 20.459999084472656,\n            'f': \"20.459999084472656\",\n        },\n{\n            'v': 20.5,\n            'f': \"20.5\",\n        },\n{\n            'v': 20.3700008392334,\n            'f': \"20.3700008392334\",\n        },\n{\n            'v': 20.459999084472656,\n            'f': \"20.459999084472656\",\n        },\n{\n            'v': 0.0,\n            'f': \"0.0\",\n        }],\n [{\n            'v': 489,\n            'f': \"489\",\n        },\n\"WBC.AX\",\n\"2021-12-03 00:00:00\",\n{\n            'v': 20.780000686645508,\n            'f': \"20.780000686645508\",\n        },\n{\n            'v': 10581813,\n            'f': \"10581813\",\n        },\n{\n            'v': 20.700000762939453,\n            'f': \"20.700000762939453\",\n        },\n{\n            'v': 20.649999618530273,\n            'f': \"20.649999618530273\",\n        },\n{\n            'v': 20.469999313354492,\n            'f': \"20.469999313354492\",\n        },\n{\n            'v': 20.700000762939453,\n            'f': \"20.700000762939453\",\n        },\n{\n            'v': 0.0,\n            'f': \"0.0\",\n        }],\n [{\n            'v': 490,\n            'f': \"490\",\n        },\n\"WBC.AX\",\n\"2021-12-06 00:00:00\",\n{\n            'v': 20.780000686645508,\n            'f': \"20.780000686645508\",\n        },\n{\n            'v': 6657880,\n            'f': \"6657880\",\n        },\n{\n            'v': 20.719999313354492,\n            'f': \"20.719999313354492\",\n        },\n{\n            'v': 20.709999084472656,\n            'f': \"20.709999084472656\",\n        },\n{\n            'v': 20.549999237060547,\n            'f': \"20.549999237060547\",\n        },\n{\n            'v': 20.719999313354492,\n            'f': \"20.719999313354492\",\n        },\n{\n            'v': 0.0,\n            'f': \"0.0\",\n        }],\n [{\n            'v': 491,\n            'f': \"491\",\n        },\n\"WBC.AX\",\n\"2021-12-07 00:00:00\",\n{\n            'v': 21.049999237060547,\n            'f': \"21.049999237060547\",\n        },\n{\n            'v': 6453719,\n            'f': \"6453719\",\n        },\n{\n            'v': 20.950000762939453,\n            'f': \"20.950000762939453\",\n        },\n{\n            'v': 21.0,\n            'f': \"21.0\",\n        },\n{\n            'v': 20.780000686645508,\n            'f': \"20.780000686645508\",\n        },\n{\n            'v': 20.950000762939453,\n            'f': \"20.950000762939453\",\n        },\n{\n            'v': 0.0,\n            'f': \"0.0\",\n        }],\n [{\n            'v': 492,\n            'f': \"492\",\n        },\n\"WBC.AX\",\n\"2021-12-08 00:00:00\",\n{\n            'v': 21.239999771118164,\n            'f': \"21.239999771118164\",\n        },\n{\n            'v': 8488954,\n            'f': \"8488954\",\n        },\n{\n            'v': 21.06999969482422,\n            'f': \"21.06999969482422\",\n        },\n{\n            'v': 21.100000381469727,\n            'f': \"21.100000381469727\",\n        },\n{\n            'v': 20.860000610351562,\n            'f': \"20.860000610351562\",\n        },\n{\n            'v': 21.06999969482422,\n            'f': \"21.06999969482422\",\n        },\n{\n            'v': 0.0,\n            'f': \"0.0\",\n        }],\n [{\n            'v': 493,\n            'f': \"493\",\n        },\n\"WBC.AX\",\n\"2021-12-09 00:00:00\",\n{\n            'v': 21.18000030517578,\n            'f': \"21.18000030517578\",\n        },\n{\n            'v': 6565445,\n            'f': \"6565445\",\n        },\n{\n            'v': 21.020000457763672,\n            'f': \"21.020000457763672\",\n        },\n{\n            'v': 21.06999969482422,\n            'f': \"21.06999969482422\",\n        },\n{\n            'v': 20.989999771118164,\n            'f': \"20.989999771118164\",\n        },\n{\n            'v': 21.020000457763672,\n            'f': \"21.020000457763672\",\n        },\n{\n            'v': 0.0,\n            'f': \"0.0\",\n        }],\n [{\n            'v': 494,\n            'f': \"494\",\n        },\n\"WBC.AX\",\n\"2021-12-10 00:00:00\",\n{\n            'v': 21.079999923706055,\n            'f': \"21.079999923706055\",\n        },\n{\n            'v': 8105983,\n            'f': \"8105983\",\n        },\n{\n            'v': 20.850000381469727,\n            'f': \"20.850000381469727\",\n        },\n{\n            'v': 21.0,\n            'f': \"21.0\",\n        },\n{\n            'v': 20.799999237060547,\n            'f': \"20.799999237060547\",\n        },\n{\n            'v': 20.850000381469727,\n            'f': \"20.850000381469727\",\n        },\n{\n            'v': 0.0,\n            'f': \"0.0\",\n        }],\n [{\n            'v': 495,\n            'f': \"495\",\n        },\n\"WBC.AX\",\n\"2021-12-13 00:00:00\",\n{\n            'v': 20.979999542236328,\n            'f': \"20.979999542236328\",\n        },\n{\n            'v': 8019729,\n            'f': \"8019729\",\n        },\n{\n            'v': 20.81999969482422,\n            'f': \"20.81999969482422\",\n        },\n{\n            'v': 20.940000534057617,\n            'f': \"20.940000534057617\",\n        },\n{\n            'v': 20.81999969482422,\n            'f': \"20.81999969482422\",\n        },\n{\n            'v': 20.81999969482422,\n            'f': \"20.81999969482422\",\n        },\n{\n            'v': 0.0,\n            'f': \"0.0\",\n        }],\n [{\n            'v': 496,\n            'f': \"496\",\n        },\n\"WBC.AX\",\n\"2021-12-14 00:00:00\",\n{\n            'v': 20.979999542236328,\n            'f': \"20.979999542236328\",\n        },\n{\n            'v': 4769916,\n            'f': \"4769916\",\n        },\n{\n            'v': 20.93000030517578,\n            'f': \"20.93000030517578\",\n        },\n{\n            'v': 20.75,\n            'f': \"20.75\",\n        },\n{\n            'v': 20.729999542236328,\n            'f': \"20.729999542236328\",\n        },\n{\n            'v': 20.93000030517578,\n            'f': \"20.93000030517578\",\n        },\n{\n            'v': 0.0,\n            'f': \"0.0\",\n        }],\n [{\n            'v': 497,\n            'f': \"497\",\n        },\n\"WBC.AX\",\n\"2021-12-15 00:00:00\",\n{\n            'v': 21.139999389648438,\n            'f': \"21.139999389648438\",\n        },\n{\n            'v': 5855415,\n            'f': \"5855415\",\n        },\n{\n            'v': 20.989999771118164,\n            'f': \"20.989999771118164\",\n        },\n{\n            'v': 21.0,\n            'f': \"21.0\",\n        },\n{\n            'v': 20.940000534057617,\n            'f': \"20.940000534057617\",\n        },\n{\n            'v': 20.989999771118164,\n            'f': \"20.989999771118164\",\n        },\n{\n            'v': 0.0,\n            'f': \"0.0\",\n        }],\n [{\n            'v': 498,\n            'f': \"498\",\n        },\n\"WBC.AX\",\n\"2021-12-16 00:00:00\",\n{\n            'v': 21.059999465942383,\n            'f': \"21.059999465942383\",\n        },\n{\n            'v': 12170423,\n            'f': \"12170423\",\n        },\n{\n            'v': 20.959999084472656,\n            'f': \"20.959999084472656\",\n        },\n{\n            'v': 20.940000534057617,\n            'f': \"20.940000534057617\",\n        },\n{\n            'v': 20.764999389648438,\n            'f': \"20.764999389648438\",\n        },\n{\n            'v': 20.959999084472656,\n            'f': \"20.959999084472656\",\n        },\n{\n            'v': 0.0,\n            'f': \"0.0\",\n        }],\n [{\n            'v': 499,\n            'f': \"499\",\n        },\n\"WBC.AX\",\n\"2021-12-17 00:00:00\",\n{\n            'v': 21.360000610351562,\n            'f': \"21.360000610351562\",\n        },\n{\n            'v': 18752577,\n            'f': \"18752577\",\n        },\n{\n            'v': 21.030000686645508,\n            'f': \"21.030000686645508\",\n        },\n{\n            'v': 21.149999618530273,\n            'f': \"21.149999618530273\",\n        },\n{\n            'v': 21.030000686645508,\n            'f': \"21.030000686645508\",\n        },\n{\n            'v': 21.030000686645508,\n            'f': \"21.030000686645508\",\n        },\n{\n            'v': 0.0,\n            'f': \"0.0\",\n        }],\n [{\n            'v': 500,\n            'f': \"500\",\n        },\n\"WBC.AX\",\n\"2021-12-20 00:00:00\",\n{\n            'v': 21.040000915527344,\n            'f': \"21.040000915527344\",\n        },\n{\n            'v': 5516218,\n            'f': \"5516218\",\n        },\n{\n            'v': 21.010000228881836,\n            'f': \"21.010000228881836\",\n        },\n{\n            'v': 20.979999542236328,\n            'f': \"20.979999542236328\",\n        },\n{\n            'v': 20.729999542236328,\n            'f': \"20.729999542236328\",\n        },\n{\n            'v': 21.010000228881836,\n            'f': \"21.010000228881836\",\n        },\n{\n            'v': 0.0,\n            'f': \"0.0\",\n        }],\n [{\n            'v': 501,\n            'f': \"501\",\n        },\n\"WBC.AX\",\n\"2021-12-21 00:00:00\",\n{\n            'v': 21.190000534057617,\n            'f': \"21.190000534057617\",\n        },\n{\n            'v': 4353612,\n            'f': \"4353612\",\n        },\n{\n            'v': 21.049999237060547,\n            'f': \"21.049999237060547\",\n        },\n{\n            'v': 21.049999237060547,\n            'f': \"21.049999237060547\",\n        },\n{\n            'v': 21.0,\n            'f': \"21.0\",\n        },\n{\n            'v': 21.049999237060547,\n            'f': \"21.049999237060547\",\n        },\n{\n            'v': 0.0,\n            'f': \"0.0\",\n        }],\n [{\n            'v': 502,\n            'f': \"502\",\n        },\n\"WBC.AX\",\n\"2021-12-22 00:00:00\",\n{\n            'v': 21.149999618530273,\n            'f': \"21.149999618530273\",\n        },\n{\n            'v': 4944213,\n            'f': \"4944213\",\n        },\n{\n            'v': 21.06999969482422,\n            'f': \"21.06999969482422\",\n        },\n{\n            'v': 21.1299991607666,\n            'f': \"21.1299991607666\",\n        },\n{\n            'v': 20.93000030517578,\n            'f': \"20.93000030517578\",\n        },\n{\n            'v': 21.06999969482422,\n            'f': \"21.06999969482422\",\n        },\n{\n            'v': 0.0,\n            'f': \"0.0\",\n        }],\n [{\n            'v': 503,\n            'f': \"503\",\n        },\n\"WBC.AX\",\n\"2021-12-23 00:00:00\",\n{\n            'v': 21.18000030517578,\n            'f': \"21.18000030517578\",\n        },\n{\n            'v': 4359824,\n            'f': \"4359824\",\n        },\n{\n            'v': 21.18000030517578,\n            'f': \"21.18000030517578\",\n        },\n{\n            'v': 21.1299991607666,\n            'f': \"21.1299991607666\",\n        },\n{\n            'v': 21.040000915527344,\n            'f': \"21.040000915527344\",\n        },\n{\n            'v': 21.18000030517578,\n            'f': \"21.18000030517578\",\n        },\n{\n            'v': 0.0,\n            'f': \"0.0\",\n        }],\n [{\n            'v': 504,\n            'f': \"504\",\n        },\n\"WBC.AX\",\n\"2021-12-24 00:00:00\",\n{\n            'v': 21.450000762939453,\n            'f': \"21.450000762939453\",\n        },\n{\n            'v': 3039364,\n            'f': \"3039364\",\n        },\n{\n            'v': 21.200000762939453,\n            'f': \"21.200000762939453\",\n        },\n{\n            'v': 21.260000228881836,\n            'f': \"21.260000228881836\",\n        },\n{\n            'v': 21.200000762939453,\n            'f': \"21.200000762939453\",\n        },\n{\n            'v': 21.200000762939453,\n            'f': \"21.200000762939453\",\n        },\n{\n            'v': 0.0,\n            'f': \"0.0\",\n        }],\n [{\n            'v': 505,\n            'f': \"505\",\n        },\n\"WBC.AX\",\n\"2021-12-29 00:00:00\",\n{\n            'v': 21.649999618530273,\n            'f': \"21.649999618530273\",\n        },\n{\n            'v': 9676188,\n            'f': \"9676188\",\n        },\n{\n            'v': 21.459999084472656,\n            'f': \"21.459999084472656\",\n        },\n{\n            'v': 21.450000762939453,\n            'f': \"21.450000762939453\",\n        },\n{\n            'v': 21.399999618530273,\n            'f': \"21.399999618530273\",\n        },\n{\n            'v': 21.459999084472656,\n            'f': \"21.459999084472656\",\n        },\n{\n            'v': 0.0,\n            'f': \"0.0\",\n        }],\n [{\n            'v': 506,\n            'f': \"506\",\n        },\n\"WBC.AX\",\n\"2021-12-30 00:00:00\",\n{\n            'v': 21.600000381469727,\n            'f': \"21.600000381469727\",\n        },\n{\n            'v': 4635337,\n            'f': \"4635337\",\n        },\n{\n            'v': 21.5,\n            'f': \"21.5\",\n        },\n{\n            'v': 21.510000228881836,\n            'f': \"21.510000228881836\",\n        },\n{\n            'v': 21.479999542236328,\n            'f': \"21.479999542236328\",\n        },\n{\n            'v': 21.5,\n            'f': \"21.5\",\n        },\n{\n            'v': 0.0,\n            'f': \"0.0\",\n        }],\n [{\n            'v': 507,\n            'f': \"507\",\n        },\n\"WBC.AX\",\n\"2021-12-31 00:00:00\",\n{\n            'v': 21.530000686645508,\n            'f': \"21.530000686645508\",\n        },\n{\n            'v': 3046280,\n            'f': \"3046280\",\n        },\n{\n            'v': 21.350000381469727,\n            'f': \"21.350000381469727\",\n        },\n{\n            'v': 21.5,\n            'f': \"21.5\",\n        },\n{\n            'v': 21.31999969482422,\n            'f': \"21.31999969482422\",\n        },\n{\n            'v': 21.350000381469727,\n            'f': \"21.350000381469727\",\n        },\n{\n            'v': 0.0,\n            'f': \"0.0\",\n        }]],\n        columns: [[\"number\", \"index\"], [\"string\", \"symbol\"], [\"string\", \"date\"], [\"number\", \"high\"], [\"number\", \"volume\"], [\"number\", \"close\"], [\"number\", \"open\"], [\"number\", \"low\"], [\"number\", \"adjclose\"], [\"number\", \"dividends\"]],\n        columnOptions: [{\"width\": \"1px\", \"className\": \"index_column\"}],\n        rowsPerPage: 25,\n        helpUrl: \"https://colab.research.google.com/notebooks/data_table.ipynb\",\n        suppressOutputScrolling: true,\n        minimumWidth: undefined,\n      });\n    ",
            "text/html": [
              "\n",
              "  <div id=\"df-f6570a03-78fd-4014-afe4-33efe55d35f1\">\n",
              "    <div class=\"colab-df-container\">\n",
              "      <div>\n",
              "<style scoped>\n",
              "    .dataframe tbody tr th:only-of-type {\n",
              "        vertical-align: middle;\n",
              "    }\n",
              "\n",
              "    .dataframe tbody tr th {\n",
              "        vertical-align: top;\n",
              "    }\n",
              "\n",
              "    .dataframe thead th {\n",
              "        text-align: right;\n",
              "    }\n",
              "</style>\n",
              "<table border=\"1\" class=\"dataframe\">\n",
              "  <thead>\n",
              "    <tr style=\"text-align: right;\">\n",
              "      <th></th>\n",
              "      <th>symbol</th>\n",
              "      <th>date</th>\n",
              "      <th>high</th>\n",
              "      <th>volume</th>\n",
              "      <th>close</th>\n",
              "      <th>open</th>\n",
              "      <th>low</th>\n",
              "      <th>adjclose</th>\n",
              "      <th>dividends</th>\n",
              "    </tr>\n",
              "  </thead>\n",
              "  <tbody>\n",
              "    <tr>\n",
              "      <th>254</th>\n",
              "      <td>WBC.AX</td>\n",
              "      <td>2021-01-04</td>\n",
              "      <td>19.670000</td>\n",
              "      <td>4044153</td>\n",
              "      <td>19.629999</td>\n",
              "      <td>19.459999</td>\n",
              "      <td>19.424999</td>\n",
              "      <td>18.691944</td>\n",
              "      <td>0.0</td>\n",
              "    </tr>\n",
              "    <tr>\n",
              "      <th>255</th>\n",
              "      <td>WBC.AX</td>\n",
              "      <td>2021-01-05</td>\n",
              "      <td>19.530001</td>\n",
              "      <td>4944351</td>\n",
              "      <td>19.520000</td>\n",
              "      <td>19.469999</td>\n",
              "      <td>19.379999</td>\n",
              "      <td>18.587202</td>\n",
              "      <td>0.0</td>\n",
              "    </tr>\n",
              "    <tr>\n",
              "      <th>256</th>\n",
              "      <td>WBC.AX</td>\n",
              "      <td>2021-01-06</td>\n",
              "      <td>19.500000</td>\n",
              "      <td>7063517</td>\n",
              "      <td>19.370001</td>\n",
              "      <td>19.450001</td>\n",
              "      <td>19.230000</td>\n",
              "      <td>18.444372</td>\n",
              "      <td>0.0</td>\n",
              "    </tr>\n",
              "    <tr>\n",
              "      <th>257</th>\n",
              "      <td>WBC.AX</td>\n",
              "      <td>2021-01-07</td>\n",
              "      <td>20.340000</td>\n",
              "      <td>14348410</td>\n",
              "      <td>19.990000</td>\n",
              "      <td>19.799999</td>\n",
              "      <td>19.780001</td>\n",
              "      <td>19.034742</td>\n",
              "      <td>0.0</td>\n",
              "    </tr>\n",
              "    <tr>\n",
              "      <th>258</th>\n",
              "      <td>WBC.AX</td>\n",
              "      <td>2021-01-08</td>\n",
              "      <td>20.280001</td>\n",
              "      <td>7716248</td>\n",
              "      <td>20.280001</td>\n",
              "      <td>20.110001</td>\n",
              "      <td>20.020000</td>\n",
              "      <td>19.310884</td>\n",
              "      <td>0.0</td>\n",
              "    </tr>\n",
              "    <tr>\n",
              "      <th>...</th>\n",
              "      <td>...</td>\n",
              "      <td>...</td>\n",
              "      <td>...</td>\n",
              "      <td>...</td>\n",
              "      <td>...</td>\n",
              "      <td>...</td>\n",
              "      <td>...</td>\n",
              "      <td>...</td>\n",
              "      <td>...</td>\n",
              "    </tr>\n",
              "    <tr>\n",
              "      <th>503</th>\n",
              "      <td>WBC.AX</td>\n",
              "      <td>2021-12-23</td>\n",
              "      <td>21.180000</td>\n",
              "      <td>4359824</td>\n",
              "      <td>21.180000</td>\n",
              "      <td>21.129999</td>\n",
              "      <td>21.040001</td>\n",
              "      <td>21.180000</td>\n",
              "      <td>0.0</td>\n",
              "    </tr>\n",
              "    <tr>\n",
              "      <th>504</th>\n",
              "      <td>WBC.AX</td>\n",
              "      <td>2021-12-24</td>\n",
              "      <td>21.450001</td>\n",
              "      <td>3039364</td>\n",
              "      <td>21.200001</td>\n",
              "      <td>21.260000</td>\n",
              "      <td>21.200001</td>\n",
              "      <td>21.200001</td>\n",
              "      <td>0.0</td>\n",
              "    </tr>\n",
              "    <tr>\n",
              "      <th>505</th>\n",
              "      <td>WBC.AX</td>\n",
              "      <td>2021-12-29</td>\n",
              "      <td>21.650000</td>\n",
              "      <td>9676188</td>\n",
              "      <td>21.459999</td>\n",
              "      <td>21.450001</td>\n",
              "      <td>21.400000</td>\n",
              "      <td>21.459999</td>\n",
              "      <td>0.0</td>\n",
              "    </tr>\n",
              "    <tr>\n",
              "      <th>506</th>\n",
              "      <td>WBC.AX</td>\n",
              "      <td>2021-12-30</td>\n",
              "      <td>21.600000</td>\n",
              "      <td>4635337</td>\n",
              "      <td>21.500000</td>\n",
              "      <td>21.510000</td>\n",
              "      <td>21.480000</td>\n",
              "      <td>21.500000</td>\n",
              "      <td>0.0</td>\n",
              "    </tr>\n",
              "    <tr>\n",
              "      <th>507</th>\n",
              "      <td>WBC.AX</td>\n",
              "      <td>2021-12-31</td>\n",
              "      <td>21.530001</td>\n",
              "      <td>3046280</td>\n",
              "      <td>21.350000</td>\n",
              "      <td>21.500000</td>\n",
              "      <td>21.320000</td>\n",
              "      <td>21.350000</td>\n",
              "      <td>0.0</td>\n",
              "    </tr>\n",
              "  </tbody>\n",
              "</table>\n",
              "<p>254 rows × 9 columns</p>\n",
              "</div>\n",
              "      <button class=\"colab-df-convert\" onclick=\"convertToInteractive('df-f6570a03-78fd-4014-afe4-33efe55d35f1')\"\n",
              "              title=\"Convert this dataframe to an interactive table.\"\n",
              "              style=\"display:none;\">\n",
              "        \n",
              "  <svg xmlns=\"http://www.w3.org/2000/svg\" height=\"24px\"viewBox=\"0 0 24 24\"\n",
              "       width=\"24px\">\n",
              "    <path d=\"M0 0h24v24H0V0z\" fill=\"none\"/>\n",
              "    <path d=\"M18.56 5.44l.94 2.06.94-2.06 2.06-.94-2.06-.94-.94-2.06-.94 2.06-2.06.94zm-11 1L8.5 8.5l.94-2.06 2.06-.94-2.06-.94L8.5 2.5l-.94 2.06-2.06.94zm10 10l.94 2.06.94-2.06 2.06-.94-2.06-.94-.94-2.06-.94 2.06-2.06.94z\"/><path d=\"M17.41 7.96l-1.37-1.37c-.4-.4-.92-.59-1.43-.59-.52 0-1.04.2-1.43.59L10.3 9.45l-7.72 7.72c-.78.78-.78 2.05 0 2.83L4 21.41c.39.39.9.59 1.41.59.51 0 1.02-.2 1.41-.59l7.78-7.78 2.81-2.81c.8-.78.8-2.07 0-2.86zM5.41 20L4 18.59l7.72-7.72 1.47 1.35L5.41 20z\"/>\n",
              "  </svg>\n",
              "      </button>\n",
              "      \n",
              "  <style>\n",
              "    .colab-df-container {\n",
              "      display:flex;\n",
              "      flex-wrap:wrap;\n",
              "      gap: 12px;\n",
              "    }\n",
              "\n",
              "    .colab-df-convert {\n",
              "      background-color: #E8F0FE;\n",
              "      border: none;\n",
              "      border-radius: 50%;\n",
              "      cursor: pointer;\n",
              "      display: none;\n",
              "      fill: #1967D2;\n",
              "      height: 32px;\n",
              "      padding: 0 0 0 0;\n",
              "      width: 32px;\n",
              "    }\n",
              "\n",
              "    .colab-df-convert:hover {\n",
              "      background-color: #E2EBFA;\n",
              "      box-shadow: 0px 1px 2px rgba(60, 64, 67, 0.3), 0px 1px 3px 1px rgba(60, 64, 67, 0.15);\n",
              "      fill: #174EA6;\n",
              "    }\n",
              "\n",
              "    [theme=dark] .colab-df-convert {\n",
              "      background-color: #3B4455;\n",
              "      fill: #D2E3FC;\n",
              "    }\n",
              "\n",
              "    [theme=dark] .colab-df-convert:hover {\n",
              "      background-color: #434B5C;\n",
              "      box-shadow: 0px 1px 3px 1px rgba(0, 0, 0, 0.15);\n",
              "      filter: drop-shadow(0px 1px 2px rgba(0, 0, 0, 0.3));\n",
              "      fill: #FFFFFF;\n",
              "    }\n",
              "  </style>\n",
              "\n",
              "      <script>\n",
              "        const buttonEl =\n",
              "          document.querySelector('#df-f6570a03-78fd-4014-afe4-33efe55d35f1 button.colab-df-convert');\n",
              "        buttonEl.style.display =\n",
              "          google.colab.kernel.accessAllowed ? 'block' : 'none';\n",
              "\n",
              "        async function convertToInteractive(key) {\n",
              "          const element = document.querySelector('#df-f6570a03-78fd-4014-afe4-33efe55d35f1');\n",
              "          const dataTable =\n",
              "            await google.colab.kernel.invokeFunction('convertToInteractive',\n",
              "                                                     [key], {});\n",
              "          if (!dataTable) return;\n",
              "\n",
              "          const docLinkHtml = 'Like what you see? Visit the ' +\n",
              "            '<a target=\"_blank\" href=https://colab.research.google.com/notebooks/data_table.ipynb>data table notebook</a>'\n",
              "            + ' to learn more about interactive tables.';\n",
              "          element.innerHTML = '';\n",
              "          dataTable['output_type'] = 'display_data';\n",
              "          await google.colab.output.renderOutput(dataTable, element);\n",
              "          const docLink = document.createElement('div');\n",
              "          docLink.innerHTML = docLinkHtml;\n",
              "          element.appendChild(docLink);\n",
              "        }\n",
              "      </script>\n",
              "    </div>\n",
              "  </div>\n",
              "  "
            ],
            "text/plain": [
              "     symbol       date       high  ...        low   adjclose  dividends\n",
              "254  WBC.AX 2021-01-04  19.670000  ...  19.424999  18.691944        0.0\n",
              "255  WBC.AX 2021-01-05  19.530001  ...  19.379999  18.587202        0.0\n",
              "256  WBC.AX 2021-01-06  19.500000  ...  19.230000  18.444372        0.0\n",
              "257  WBC.AX 2021-01-07  20.340000  ...  19.780001  19.034742        0.0\n",
              "258  WBC.AX 2021-01-08  20.280001  ...  20.020000  19.310884        0.0\n",
              "..      ...        ...        ...  ...        ...        ...        ...\n",
              "503  WBC.AX 2021-12-23  21.180000  ...  21.040001  21.180000        0.0\n",
              "504  WBC.AX 2021-12-24  21.450001  ...  21.200001  21.200001        0.0\n",
              "505  WBC.AX 2021-12-29  21.650000  ...  21.400000  21.459999        0.0\n",
              "506  WBC.AX 2021-12-30  21.600000  ...  21.480000  21.500000        0.0\n",
              "507  WBC.AX 2021-12-31  21.530001  ...  21.320000  21.350000        0.0\n",
              "\n",
              "[254 rows x 9 columns]"
            ]
          },
          "execution_count": 58,
          "metadata": {},
          "output_type": "execute_result"
        }
      ],
      "source": [
        "chart_data_df"
      ]
    },
    {
      "cell_type": "code",
      "execution_count": null,
      "metadata": {
        "id": "_ZV3DjsMLLyc"
      },
      "outputs": [],
      "source": [
        "c = alt.Chart(chart_data_df).mark_circle().encode(x='date', y='adjclose')"
      ]
    },
    {
      "cell_type": "code",
      "execution_count": null,
      "metadata": {
        "colab": {
          "base_uri": "https://localhost:8080/",
          "height": 363
        },
        "id": "ZpthoMBnSkRQ",
        "outputId": "1f5aaae2-c04a-49b5-a743-656ef86ab5f4"
      },
      "outputs": [
        {
          "data": {
            "text/html": [
              "\n",
              "<div id=\"altair-viz-870a9c2823a54b86ad80be1d5174d016\"></div>\n",
              "<script type=\"text/javascript\">\n",
              "  (function(spec, embedOpt){\n",
              "    let outputDiv = document.currentScript.previousElementSibling;\n",
              "    if (outputDiv.id !== \"altair-viz-870a9c2823a54b86ad80be1d5174d016\") {\n",
              "      outputDiv = document.getElementById(\"altair-viz-870a9c2823a54b86ad80be1d5174d016\");\n",
              "    }\n",
              "    const paths = {\n",
              "      \"vega\": \"https://cdn.jsdelivr.net/npm//vega@5?noext\",\n",
              "      \"vega-lib\": \"https://cdn.jsdelivr.net/npm//vega-lib?noext\",\n",
              "      \"vega-lite\": \"https://cdn.jsdelivr.net/npm//vega-lite@4.8.1?noext\",\n",
              "      \"vega-embed\": \"https://cdn.jsdelivr.net/npm//vega-embed@6?noext\",\n",
              "    };\n",
              "\n",
              "    function loadScript(lib) {\n",
              "      return new Promise(function(resolve, reject) {\n",
              "        var s = document.createElement('script');\n",
              "        s.src = paths[lib];\n",
              "        s.async = true;\n",
              "        s.onload = () => resolve(paths[lib]);\n",
              "        s.onerror = () => reject(`Error loading script: ${paths[lib]}`);\n",
              "        document.getElementsByTagName(\"head\")[0].appendChild(s);\n",
              "      });\n",
              "    }\n",
              "\n",
              "    function showError(err) {\n",
              "      outputDiv.innerHTML = `<div class=\"error\" style=\"color:red;\">${err}</div>`;\n",
              "      throw err;\n",
              "    }\n",
              "\n",
              "    function displayChart(vegaEmbed) {\n",
              "      vegaEmbed(outputDiv, spec, embedOpt)\n",
              "        .catch(err => showError(`Javascript Error: ${err.message}<br>This usually means there's a typo in your chart specification. See the javascript console for the full traceback.`));\n",
              "    }\n",
              "\n",
              "    if(typeof define === \"function\" && define.amd) {\n",
              "      requirejs.config({paths});\n",
              "      require([\"vega-embed\"], displayChart, err => showError(`Error loading script: ${err.message}`));\n",
              "    } else if (typeof vegaEmbed === \"function\") {\n",
              "      displayChart(vegaEmbed);\n",
              "    } else {\n",
              "      loadScript(\"vega\")\n",
              "        .then(() => loadScript(\"vega-lite\"))\n",
              "        .then(() => loadScript(\"vega-embed\"))\n",
              "        .catch(showError)\n",
              "        .then(() => displayChart(vegaEmbed));\n",
              "    }\n",
              "  })({\"config\": {\"view\": {\"continuousWidth\": 400, \"continuousHeight\": 300}}, \"data\": {\"name\": \"data-8c8740d6c701f2cd8bd07fab784e9d13\"}, \"mark\": \"circle\", \"encoding\": {\"x\": {\"type\": \"temporal\", \"field\": \"date\"}, \"y\": {\"type\": \"quantitative\", \"field\": \"adjclose\"}}, \"$schema\": \"https://vega.github.io/schema/vega-lite/v4.8.1.json\", \"datasets\": {\"data-8c8740d6c701f2cd8bd07fab784e9d13\": [{\"symbol\": \"WBC.AX\", \"date\": \"2021-01-04T00:00:00\", \"high\": 19.670000076293945, \"volume\": 4044153, \"close\": 19.6299991607666, \"open\": 19.459999084472656, \"low\": 19.424999237060547, \"adjclose\": 18.691944122314453, \"dividends\": 0.0}, {\"symbol\": \"WBC.AX\", \"date\": \"2021-01-05T00:00:00\", \"high\": 19.530000686645508, \"volume\": 4944351, \"close\": 19.520000457763672, \"open\": 19.469999313354492, \"low\": 19.3799991607666, \"adjclose\": 18.587202072143555, \"dividends\": 0.0}, {\"symbol\": \"WBC.AX\", \"date\": \"2021-01-06T00:00:00\", \"high\": 19.5, \"volume\": 7063517, \"close\": 19.3700008392334, \"open\": 19.450000762939453, \"low\": 19.229999542236328, \"adjclose\": 18.444372177124023, \"dividends\": 0.0}, {\"symbol\": \"WBC.AX\", \"date\": \"2021-01-07T00:00:00\", \"high\": 20.34000015258789, \"volume\": 14348410, \"close\": 19.989999771118164, \"open\": 19.799999237060547, \"low\": 19.780000686645508, \"adjclose\": 19.03474235534668, \"dividends\": 0.0}, {\"symbol\": \"WBC.AX\", \"date\": \"2021-01-08T00:00:00\", \"high\": 20.280000686645508, \"volume\": 7716248, \"close\": 20.280000686645508, \"open\": 20.110000610351562, \"low\": 20.020000457763672, \"adjclose\": 19.310884475708008, \"dividends\": 0.0}, {\"symbol\": \"WBC.AX\", \"date\": \"2021-01-11T00:00:00\", \"high\": 20.329999923706055, \"volume\": 4513238, \"close\": 20.290000915527344, \"open\": 20.229999542236328, \"low\": 20.200000762939453, \"adjclose\": 19.320405960083008, \"dividends\": 0.0}, {\"symbol\": \"WBC.AX\", \"date\": \"2021-01-12T00:00:00\", \"high\": 20.6299991607666, \"volume\": 8262523, \"close\": 20.489999771118164, \"open\": 20.309999465942383, \"low\": 20.280000686645508, \"adjclose\": 19.510847091674805, \"dividends\": 0.0}, {\"symbol\": \"WBC.AX\", \"date\": \"2021-01-13T00:00:00\", \"high\": 20.68000030517578, \"volume\": 6166289, \"close\": 20.600000381469727, \"open\": 20.420000076293945, \"low\": 20.420000076293945, \"adjclose\": 19.61559295654297, \"dividends\": 0.0}, {\"symbol\": \"WBC.AX\", \"date\": \"2021-01-14T00:00:00\", \"high\": 21.190000534057617, \"volume\": 10347252, \"close\": 21.030000686645508, \"open\": 20.700000762939453, \"low\": 20.68000030517578, \"adjclose\": 20.025043487548828, \"dividends\": 0.0}, {\"symbol\": \"WBC.AX\", \"date\": \"2021-01-15T00:00:00\", \"high\": 21.59000015258789, \"volume\": 9396993, \"close\": 21.350000381469727, \"open\": 21.200000762939453, \"low\": 21.149999618530273, \"adjclose\": 20.32975196838379, \"dividends\": 0.0}, {\"symbol\": \"WBC.AX\", \"date\": \"2021-01-18T00:00:00\", \"high\": 21.3700008392334, \"volume\": 5983851, \"close\": 21.190000534057617, \"open\": 21.360000610351562, \"low\": 21.100000381469727, \"adjclose\": 20.177398681640625, \"dividends\": 0.0}, {\"symbol\": \"WBC.AX\", \"date\": \"2021-01-19T00:00:00\", \"high\": 21.780000686645508, \"volume\": 8246543, \"close\": 21.600000381469727, \"open\": 21.450000762939453, \"low\": 21.40999984741211, \"adjclose\": 20.567806243896484, \"dividends\": 0.0}, {\"symbol\": \"WBC.AX\", \"date\": \"2021-01-20T00:00:00\", \"high\": 21.850000381469727, \"volume\": 5907172, \"close\": 21.579999923706055, \"open\": 21.760000228881836, \"low\": 21.575000762939453, \"adjclose\": 20.54876136779785, \"dividends\": 0.0}, {\"symbol\": \"WBC.AX\", \"date\": \"2021-01-21T00:00:00\", \"high\": 21.940000534057617, \"volume\": 6164314, \"close\": 21.81999969482422, \"open\": 21.850000381469727, \"low\": 21.790000915527344, \"adjclose\": 20.777292251586914, \"dividends\": 0.0}, {\"symbol\": \"WBC.AX\", \"date\": \"2021-01-22T00:00:00\", \"high\": 21.8700008392334, \"volume\": 6984829, \"close\": 21.780000686645508, \"open\": 21.639999389648438, \"low\": 21.639999389648438, \"adjclose\": 20.73920440673828, \"dividends\": 0.0}, {\"symbol\": \"WBC.AX\", \"date\": \"2021-01-25T00:00:00\", \"high\": 21.959999084472656, \"volume\": 3960211, \"close\": 21.790000915527344, \"open\": 21.799999237060547, \"low\": 21.6299991607666, \"adjclose\": 20.74872589111328, \"dividends\": 0.0}, {\"symbol\": \"WBC.AX\", \"date\": \"2021-01-27T00:00:00\", \"high\": 21.969999313354492, \"volume\": 7565067, \"close\": 21.65999984741211, \"open\": 21.850000381469727, \"low\": 21.510000228881836, \"adjclose\": 20.624937057495117, \"dividends\": 0.0}, {\"symbol\": \"WBC.AX\", \"date\": \"2021-01-28T00:00:00\", \"high\": 21.469999313354492, \"volume\": 8389458, \"close\": 21.459999084472656, \"open\": 21.229999542236328, \"low\": 21.020000457763672, \"adjclose\": 20.434494018554688, \"dividends\": 0.0}, {\"symbol\": \"WBC.AX\", \"date\": \"2021-01-29T00:00:00\", \"high\": 21.65999984741211, \"volume\": 8256673, \"close\": 21.1299991607666, \"open\": 21.649999618530273, \"low\": 21.024999618530273, \"adjclose\": 20.120264053344727, \"dividends\": 0.0}, {\"symbol\": \"WBC.AX\", \"date\": \"2021-02-01T00:00:00\", \"high\": 21.31999969482422, \"volume\": 6319097, \"close\": 21.209999084472656, \"open\": 20.799999237060547, \"low\": 20.65999984741211, \"adjclose\": 20.196441650390625, \"dividends\": 0.0}, {\"symbol\": \"WBC.AX\", \"date\": \"2021-02-02T00:00:00\", \"high\": 21.549999237060547, \"volume\": 6367499, \"close\": 21.420000076293945, \"open\": 21.40999984741211, \"low\": 21.309999465942383, \"adjclose\": 20.396406173706055, \"dividends\": 0.0}, {\"symbol\": \"WBC.AX\", \"date\": \"2021-02-03T00:00:00\", \"high\": 21.93000030517578, \"volume\": 7742337, \"close\": 21.75, \"open\": 21.709999084472656, \"low\": 21.6200008392334, \"adjclose\": 20.71063804626465, \"dividends\": 0.0}, {\"symbol\": \"WBC.AX\", \"date\": \"2021-02-04T00:00:00\", \"high\": 21.850000381469727, \"volume\": 4342173, \"close\": 21.709999084472656, \"open\": 21.809999465942383, \"low\": 21.6200008392334, \"adjclose\": 20.672548294067383, \"dividends\": 0.0}, {\"symbol\": \"WBC.AX\", \"date\": \"2021-02-05T00:00:00\", \"high\": 22.209999084472656, \"volume\": 7968872, \"close\": 22.149999618530273, \"open\": 21.969999313354492, \"low\": 21.829999923706055, \"adjclose\": 21.091522216796875, \"dividends\": 0.0}, {\"symbol\": \"WBC.AX\", \"date\": \"2021-02-08T00:00:00\", \"high\": 22.59000015258789, \"volume\": 8064909, \"close\": 22.450000762939453, \"open\": 22.209999084472656, \"low\": 22.190000534057617, \"adjclose\": 21.377185821533203, \"dividends\": 0.0}, {\"symbol\": \"WBC.AX\", \"date\": \"2021-02-09T00:00:00\", \"high\": 22.440000534057617, \"volume\": 4756119, \"close\": 22.170000076293945, \"open\": 22.360000610351562, \"low\": 22.110000610351562, \"adjclose\": 21.110567092895508, \"dividends\": 0.0}, {\"symbol\": \"WBC.AX\", \"date\": \"2021-02-10T00:00:00\", \"high\": 22.450000762939453, \"volume\": 4713107, \"close\": 22.229999542236328, \"open\": 22.299999237060547, \"low\": 22.1200008392334, \"adjclose\": 21.16769790649414, \"dividends\": 0.0}, {\"symbol\": \"WBC.AX\", \"date\": \"2021-02-11T00:00:00\", \"high\": 22.329999923706055, \"volume\": 4218812, \"close\": 22.290000915527344, \"open\": 22.170000076293945, \"low\": 22.079999923706055, \"adjclose\": 21.224834442138672, \"dividends\": 0.0}, {\"symbol\": \"WBC.AX\", \"date\": \"2021-02-12T00:00:00\", \"high\": 22.329999923706055, \"volume\": 4943999, \"close\": 22.139999389648438, \"open\": 22.280000686645508, \"low\": 22.059999465942383, \"adjclose\": 21.082000732421875, \"dividends\": 0.0}, {\"symbol\": \"WBC.AX\", \"date\": \"2021-02-15T00:00:00\", \"high\": 22.559999465942383, \"volume\": 4389653, \"close\": 22.399999618530273, \"open\": 22.350000381469727, \"low\": 22.260000228881836, \"adjclose\": 21.329574584960938, \"dividends\": 0.0}, {\"symbol\": \"WBC.AX\", \"date\": \"2021-02-16T00:00:00\", \"high\": 22.899999618530273, \"volume\": 6448280, \"close\": 22.510000228881836, \"open\": 22.6200008392334, \"low\": 22.459999084472656, \"adjclose\": 21.4343204498291, \"dividends\": 0.0}, {\"symbol\": \"WBC.AX\", \"date\": \"2021-02-17T00:00:00\", \"high\": 23.940000534057617, \"volume\": 14880630, \"close\": 23.540000915527344, \"open\": 23.600000381469727, \"low\": 23.459999084472656, \"adjclose\": 22.41510009765625, \"dividends\": 0.0}, {\"symbol\": \"WBC.AX\", \"date\": \"2021-02-18T00:00:00\", \"high\": 24.479999542236328, \"volume\": 15032032, \"close\": 24.3700008392334, \"open\": 24.059999465942383, \"low\": 23.969999313354492, \"adjclose\": 23.20543670654297, \"dividends\": 0.0}, {\"symbol\": \"WBC.AX\", \"date\": \"2021-02-19T00:00:00\", \"high\": 24.200000762939453, \"volume\": 10418673, \"close\": 24.09000015258789, \"open\": 24.149999618530273, \"low\": 23.899999618530273, \"adjclose\": 22.93881607055664, \"dividends\": 0.0}, {\"symbol\": \"WBC.AX\", \"date\": \"2021-02-22T00:00:00\", \"high\": 24.1200008392334, \"volume\": 7376834, \"close\": 23.719999313354492, \"open\": 24.100000381469727, \"low\": 23.68000030517578, \"adjclose\": 22.586496353149414, \"dividends\": 0.0}, {\"symbol\": \"WBC.AX\", \"date\": \"2021-02-23T00:00:00\", \"high\": 24.18000030517578, \"volume\": 6808998, \"close\": 24.15999984741211, \"open\": 23.709999084472656, \"low\": 23.575000762939453, \"adjclose\": 23.005470275878906, \"dividends\": 0.0}, {\"symbol\": \"WBC.AX\", \"date\": \"2021-02-24T00:00:00\", \"high\": 24.075000762939453, \"volume\": 4595204, \"close\": 24.049999237060547, \"open\": 24.030000686645508, \"low\": 23.899999618530273, \"adjclose\": 22.900728225708008, \"dividends\": 0.0}, {\"symbol\": \"WBC.AX\", \"date\": \"2021-02-25T00:00:00\", \"high\": 24.469999313354492, \"volume\": 6769867, \"close\": 24.360000610351562, \"open\": 24.299999237060547, \"low\": 24.1200008392334, \"adjclose\": 23.195913314819336, \"dividends\": 0.0}, {\"symbol\": \"WBC.AX\", \"date\": \"2021-02-26T00:00:00\", \"high\": 24.200000762939453, \"volume\": 11370199, \"close\": 23.81999969482422, \"open\": 24.18000030517578, \"low\": 23.690000534057617, \"adjclose\": 22.681716918945312, \"dividends\": 0.0}, {\"symbol\": \"WBC.AX\", \"date\": \"2021-03-01T00:00:00\", \"high\": 24.25, \"volume\": 5805483, \"close\": 24.190000534057617, \"open\": 23.8700008392334, \"low\": 23.809999465942383, \"adjclose\": 23.03403663635254, \"dividends\": 0.0}, {\"symbol\": \"WBC.AX\", \"date\": \"2021-03-02T00:00:00\", \"high\": 24.459999084472656, \"volume\": 8680741, \"close\": 24.15999984741211, \"open\": 24.399999618530273, \"low\": 24.079999923706055, \"adjclose\": 23.005470275878906, \"dividends\": 0.0}, {\"symbol\": \"WBC.AX\", \"date\": \"2021-03-03T00:00:00\", \"high\": 24.6200008392334, \"volume\": 6923689, \"close\": 24.530000686645508, \"open\": 24.059999465942383, \"low\": 24.030000686645508, \"adjclose\": 23.357789993286133, \"dividends\": 0.0}, {\"symbol\": \"WBC.AX\", \"date\": \"2021-03-04T00:00:00\", \"high\": 24.8700008392334, \"volume\": 10014282, \"close\": 24.84000015258789, \"open\": 24.799999237060547, \"low\": 24.43000030517578, \"adjclose\": 23.652976989746094, \"dividends\": 0.0}, {\"symbol\": \"WBC.AX\", \"date\": \"2021-03-05T00:00:00\", \"high\": 25.0, \"volume\": 7754868, \"close\": 24.8700008392334, \"open\": 24.81999969482422, \"low\": 24.649999618530273, \"adjclose\": 23.681543350219727, \"dividends\": 0.0}, {\"symbol\": \"WBC.AX\", \"date\": \"2021-03-08T00:00:00\", \"high\": 25.280000686645508, \"volume\": 5403844, \"close\": 24.739999771118164, \"open\": 25.100000381469727, \"low\": 24.700000762939453, \"adjclose\": 23.557754516601562, \"dividends\": 0.0}, {\"symbol\": \"WBC.AX\", \"date\": \"2021-03-09T00:00:00\", \"high\": 25.299999237060547, \"volume\": 6298195, \"close\": 24.920000076293945, \"open\": 25.079999923706055, \"low\": 24.8700008392334, \"adjclose\": 23.72915267944336, \"dividends\": 0.0}, {\"symbol\": \"WBC.AX\", \"date\": \"2021-03-10T00:00:00\", \"high\": 24.969999313354492, \"volume\": 4504867, \"close\": 24.600000381469727, \"open\": 24.829999923706055, \"low\": 24.579999923706055, \"adjclose\": 23.4244441986084, \"dividends\": 0.0}, {\"symbol\": \"WBC.AX\", \"date\": \"2021-03-11T00:00:00\", \"high\": 24.84000015258789, \"volume\": 6216274, \"close\": 24.530000686645508, \"open\": 24.68000030517578, \"low\": 24.329999923706055, \"adjclose\": 23.357789993286133, \"dividends\": 0.0}, {\"symbol\": \"WBC.AX\", \"date\": \"2021-03-12T00:00:00\", \"high\": 24.649999618530273, \"volume\": 4139949, \"close\": 24.450000762939453, \"open\": 24.600000381469727, \"low\": 24.399999618530273, \"adjclose\": 23.281614303588867, \"dividends\": 0.0}, {\"symbol\": \"WBC.AX\", \"date\": \"2021-03-15T00:00:00\", \"high\": 24.729999542236328, \"volume\": 4392730, \"close\": 24.579999923706055, \"open\": 24.540000915527344, \"low\": 24.34000015258789, \"adjclose\": 23.405399322509766, \"dividends\": 0.0}, {\"symbol\": \"WBC.AX\", \"date\": \"2021-03-16T00:00:00\", \"high\": 24.899999618530273, \"volume\": 5819629, \"close\": 24.729999542236328, \"open\": 24.649999618530273, \"low\": 24.459999084472656, \"adjclose\": 23.54823112487793, \"dividends\": 0.0}, {\"symbol\": \"WBC.AX\", \"date\": \"2021-03-17T00:00:00\", \"high\": 24.790000915527344, \"volume\": 4731339, \"close\": 24.670000076293945, \"open\": 24.690000534057617, \"low\": 24.5049991607666, \"adjclose\": 23.491100311279297, \"dividends\": 0.0}, {\"symbol\": \"WBC.AX\", \"date\": \"2021-03-18T00:00:00\", \"high\": 24.649999618530273, \"volume\": 7010572, \"close\": 24.440000534057617, \"open\": 24.440000534057617, \"low\": 24.3799991607666, \"adjclose\": 23.272090911865234, \"dividends\": 0.0}, {\"symbol\": \"WBC.AX\", \"date\": \"2021-03-19T00:00:00\", \"high\": 24.65999984741211, \"volume\": 17722276, \"close\": 24.520000457763672, \"open\": 24.360000610351562, \"low\": 24.329999923706055, \"adjclose\": 23.348268508911133, \"dividends\": 0.0}, {\"symbol\": \"WBC.AX\", \"date\": \"2021-03-22T00:00:00\", \"high\": 24.719999313354492, \"volume\": 4939978, \"close\": 24.65999984741211, \"open\": 24.479999542236328, \"low\": 24.280000686645508, \"adjclose\": 23.481576919555664, \"dividends\": 0.0}, {\"symbol\": \"WBC.AX\", \"date\": \"2021-03-23T00:00:00\", \"high\": 24.610000610351562, \"volume\": 6284485, \"close\": 24.43000030517578, \"open\": 24.489999771118164, \"low\": 24.350000381469727, \"adjclose\": 23.262569427490234, \"dividends\": 0.0}, {\"symbol\": \"WBC.AX\", \"date\": \"2021-03-24T00:00:00\", \"high\": 24.3700008392334, \"volume\": 6310570, \"close\": 24.190000534057617, \"open\": 24.299999237060547, \"low\": 24.059999465942383, \"adjclose\": 23.03403663635254, \"dividends\": 0.0}, {\"symbol\": \"WBC.AX\", \"date\": \"2021-03-25T00:00:00\", \"high\": 24.209999084472656, \"volume\": 5559320, \"close\": 24.1200008392334, \"open\": 24.049999237060547, \"low\": 24.010000228881836, \"adjclose\": 22.967382431030273, \"dividends\": 0.0}, {\"symbol\": \"WBC.AX\", \"date\": \"2021-03-26T00:00:00\", \"high\": 24.440000534057617, \"volume\": 5052780, \"close\": 24.34000015258789, \"open\": 24.170000076293945, \"low\": 24.15999984741211, \"adjclose\": 23.176868438720703, \"dividends\": 0.0}, {\"symbol\": \"WBC.AX\", \"date\": \"2021-03-29T00:00:00\", \"high\": 24.65999984741211, \"volume\": 5313079, \"close\": 24.34000015258789, \"open\": 24.399999618530273, \"low\": 24.229999542236328, \"adjclose\": 23.176868438720703, \"dividends\": 0.0}, {\"symbol\": \"WBC.AX\", \"date\": \"2021-03-30T00:00:00\", \"high\": 24.540000915527344, \"volume\": 6232996, \"close\": 24.360000610351562, \"open\": 24.450000762939453, \"low\": 24.190000534057617, \"adjclose\": 23.195913314819336, \"dividends\": 0.0}, {\"symbol\": \"WBC.AX\", \"date\": \"2021-03-31T00:00:00\", \"high\": 24.780000686645508, \"volume\": 7623677, \"close\": 24.40999984741211, \"open\": 24.450000762939453, \"low\": 24.40999984741211, \"adjclose\": 23.2435245513916, \"dividends\": 0.0}, {\"symbol\": \"WBC.AX\", \"date\": \"2021-04-01T00:00:00\", \"high\": 24.559999465942383, \"volume\": 4197192, \"close\": 24.540000915527344, \"open\": 24.420000076293945, \"low\": 24.260000228881836, \"adjclose\": 23.367313385009766, \"dividends\": 0.0}, {\"symbol\": \"WBC.AX\", \"date\": \"2021-04-06T00:00:00\", \"high\": 24.860000610351562, \"volume\": 4948766, \"close\": 24.700000762939453, \"open\": 24.75, \"low\": 24.610000610351562, \"adjclose\": 23.51966667175293, \"dividends\": 0.0}, {\"symbol\": \"WBC.AX\", \"date\": \"2021-04-07T00:00:00\", \"high\": 24.8700008392334, \"volume\": 4482088, \"close\": 24.84000015258789, \"open\": 24.709999084472656, \"low\": 24.59000015258789, \"adjclose\": 23.652976989746094, \"dividends\": 0.0}, {\"symbol\": \"WBC.AX\", \"date\": \"2021-04-08T00:00:00\", \"high\": 25.3799991607666, \"volume\": 7035601, \"close\": 25.15999984741211, \"open\": 25.170000076293945, \"low\": 24.959999084472656, \"adjclose\": 23.957683563232422, \"dividends\": 0.0}, {\"symbol\": \"WBC.AX\", \"date\": \"2021-04-09T00:00:00\", \"high\": 25.219999313354492, \"volume\": 4031591, \"close\": 25.209999084472656, \"open\": 25.1299991607666, \"low\": 24.940000534057617, \"adjclose\": 24.005294799804688, \"dividends\": 0.0}, {\"symbol\": \"WBC.AX\", \"date\": \"2021-04-12T00:00:00\", \"high\": 25.3799991607666, \"volume\": 3476635, \"close\": 25.299999237060547, \"open\": 25.200000762939453, \"low\": 25.170000076293945, \"adjclose\": 24.090993881225586, \"dividends\": 0.0}, {\"symbol\": \"WBC.AX\", \"date\": \"2021-04-13T00:00:00\", \"high\": 25.360000610351562, \"volume\": 3590515, \"close\": 25.309999465942383, \"open\": 25.239999771118164, \"low\": 25.200000762939453, \"adjclose\": 24.100515365600586, \"dividends\": 0.0}, {\"symbol\": \"WBC.AX\", \"date\": \"2021-04-14T00:00:00\", \"high\": 25.3799991607666, \"volume\": 5226936, \"close\": 25.329999923706055, \"open\": 25.190000534057617, \"low\": 24.969999313354492, \"adjclose\": 24.11956024169922, \"dividends\": 0.0}, {\"symbol\": \"WBC.AX\", \"date\": \"2021-04-15T00:00:00\", \"high\": 25.520000457763672, \"volume\": 5683675, \"close\": 25.5, \"open\": 25.299999237060547, \"low\": 25.1299991607666, \"adjclose\": 24.281436920166016, \"dividends\": 0.0}, {\"symbol\": \"WBC.AX\", \"date\": \"2021-04-16T00:00:00\", \"high\": 25.40999984741211, \"volume\": 5303151, \"close\": 25.31999969482422, \"open\": 25.350000381469727, \"low\": 25.15999984741211, \"adjclose\": 24.110036849975586, \"dividends\": 0.0}, {\"symbol\": \"WBC.AX\", \"date\": \"2021-04-19T00:00:00\", \"high\": 25.489999771118164, \"volume\": 3925295, \"close\": 25.360000610351562, \"open\": 25.440000534057617, \"low\": 25.329999923706055, \"adjclose\": 24.14812660217285, \"dividends\": 0.0}, {\"symbol\": \"WBC.AX\", \"date\": \"2021-04-20T00:00:00\", \"high\": 25.389999389648438, \"volume\": 4271830, \"close\": 25.239999771118164, \"open\": 25.299999237060547, \"low\": 25.219999313354492, \"adjclose\": 24.03386116027832, \"dividends\": 0.0}, {\"symbol\": \"WBC.AX\", \"date\": \"2021-04-21T00:00:00\", \"high\": 25.0, \"volume\": 7806973, \"close\": 24.979999542236328, \"open\": 24.920000076293945, \"low\": 24.6200008392334, \"adjclose\": 23.786285400390625, \"dividends\": 0.0}, {\"symbol\": \"WBC.AX\", \"date\": \"2021-04-22T00:00:00\", \"high\": 25.1299991607666, \"volume\": 5606725, \"close\": 25.110000610351562, \"open\": 25.030000686645508, \"low\": 24.940000534057617, \"adjclose\": 23.91007423400879, \"dividends\": 0.0}, {\"symbol\": \"WBC.AX\", \"date\": \"2021-04-23T00:00:00\", \"high\": 25.139999389648438, \"volume\": 3923382, \"close\": 25.1200008392334, \"open\": 25.030000686645508, \"low\": 24.979999542236328, \"adjclose\": 23.91959571838379, \"dividends\": 0.0}, {\"symbol\": \"WBC.AX\", \"date\": \"2021-04-26T00:00:00\", \"high\": 25.360000610351562, \"volume\": 3952356, \"close\": 25.079999923706055, \"open\": 25.18000030517578, \"low\": 25.079999923706055, \"adjclose\": 23.881507873535156, \"dividends\": 0.0}, {\"symbol\": \"WBC.AX\", \"date\": \"2021-04-27T00:00:00\", \"high\": 25.049999237060547, \"volume\": 4798314, \"close\": 24.989999771118164, \"open\": 25.030000686645508, \"low\": 24.864999771118164, \"adjclose\": 23.795808792114258, \"dividends\": 0.0}, {\"symbol\": \"WBC.AX\", \"date\": \"2021-04-28T00:00:00\", \"high\": 25.329999923706055, \"volume\": 6383563, \"close\": 25.299999237060547, \"open\": 25.15999984741211, \"low\": 25.1200008392334, \"adjclose\": 24.090993881225586, \"dividends\": 0.0}, {\"symbol\": \"WBC.AX\", \"date\": \"2021-04-29T00:00:00\", \"high\": 25.350000381469727, \"volume\": 4948296, \"close\": 25.190000534057617, \"open\": 25.299999237060547, \"low\": 25.149999618530273, \"adjclose\": 23.986251831054688, \"dividends\": 0.0}, {\"symbol\": \"WBC.AX\", \"date\": \"2021-04-30T00:00:00\", \"high\": 25.25, \"volume\": 7878907, \"close\": 24.979999542236328, \"open\": 25.190000534057617, \"low\": 24.959999084472656, \"adjclose\": 23.786285400390625, \"dividends\": 0.0}, {\"symbol\": \"WBC.AX\", \"date\": \"2021-05-03T00:00:00\", \"high\": 26.315000534057617, \"volume\": 16139700, \"close\": 26.229999542236328, \"open\": 25.709999084472656, \"low\": 25.6299991607666, \"adjclose\": 24.976552963256836, \"dividends\": 0.0}, {\"symbol\": \"WBC.AX\", \"date\": \"2021-05-04T00:00:00\", \"high\": 26.399999618530273, \"volume\": 7196366, \"close\": 25.989999771118164, \"open\": 26.3799991607666, \"low\": 25.809999465942383, \"adjclose\": 24.748022079467773, \"dividends\": 0.0}, {\"symbol\": \"WBC.AX\", \"date\": \"2021-05-05T00:00:00\", \"high\": 26.229999542236328, \"volume\": 6367722, \"close\": 25.959999084472656, \"open\": 26.15999984741211, \"low\": 25.899999618530273, \"adjclose\": 24.719453811645508, \"dividends\": 0.0}, {\"symbol\": \"WBC.AX\", \"date\": \"2021-05-06T00:00:00\", \"high\": 26.15999984741211, \"volume\": 7343573, \"close\": 26.020000457763672, \"open\": 26.15999984741211, \"low\": 25.760000228881836, \"adjclose\": 24.776588439941406, \"dividends\": 0.0}, {\"symbol\": \"WBC.AX\", \"date\": \"2021-05-07T00:00:00\", \"high\": 26.229999542236328, \"volume\": 5496310, \"close\": 26.09000015258789, \"open\": 26.0, \"low\": 25.899999618530273, \"adjclose\": 24.843242645263672, \"dividends\": 0.0}, {\"symbol\": \"WBC.AX\", \"date\": \"2021-05-10T00:00:00\", \"high\": 26.43000030517578, \"volume\": 5134497, \"close\": 26.420000076293945, \"open\": 26.149999618530273, \"low\": 26.139999389648438, \"adjclose\": 25.157472610473633, \"dividends\": 0.0}, {\"symbol\": \"WBC.AX\", \"date\": \"2021-05-11T00:00:00\", \"high\": 26.420000076293945, \"volume\": 8110986, \"close\": 26.079999923706055, \"open\": 26.200000762939453, \"low\": 26.040000915527344, \"adjclose\": 24.83371925354004, \"dividends\": 0.0}, {\"symbol\": \"WBC.AX\", \"date\": \"2021-05-12T00:00:00\", \"high\": 25.8700008392334, \"volume\": 9336042, \"close\": 25.770000457763672, \"open\": 25.809999465942383, \"low\": 25.510000228881836, \"adjclose\": 24.538536071777344, \"dividends\": 0.0}, {\"symbol\": \"WBC.AX\", \"date\": \"2021-05-13T00:00:00\", \"high\": 25.229999542236328, \"volume\": 15714303, \"close\": 25.190000534057617, \"open\": 25.209999084472656, \"low\": 25.049999237060547, \"adjclose\": 24.53853416442871, \"dividends\": 0.58}, {\"symbol\": \"WBC.AX\", \"date\": \"2021-05-14T00:00:00\", \"high\": 25.68000030517578, \"volume\": 6227628, \"close\": 25.40999984741211, \"open\": 25.540000915527344, \"low\": 25.389999389648438, \"adjclose\": 24.752843856811523, \"dividends\": 0.0}, {\"symbol\": \"WBC.AX\", \"date\": \"2021-05-17T00:00:00\", \"high\": 25.6200008392334, \"volume\": 4330017, \"close\": 25.329999923706055, \"open\": 25.459999084472656, \"low\": 25.299999237060547, \"adjclose\": 24.67491340637207, \"dividends\": 0.0}, {\"symbol\": \"WBC.AX\", \"date\": \"2021-05-18T00:00:00\", \"high\": 25.530000686645508, \"volume\": 5375597, \"close\": 25.459999084472656, \"open\": 25.350000381469727, \"low\": 25.299999237060547, \"adjclose\": 24.801549911499023, \"dividends\": 0.0}, {\"symbol\": \"WBC.AX\", \"date\": \"2021-05-19T00:00:00\", \"high\": 25.260000228881836, \"volume\": 8323461, \"close\": 25.18000030517578, \"open\": 25.079999923706055, \"low\": 25.040000915527344, \"adjclose\": 24.528793334960938, \"dividends\": 0.0}, {\"symbol\": \"WBC.AX\", \"date\": \"2021-05-20T00:00:00\", \"high\": 25.6200008392334, \"volume\": 6815461, \"close\": 25.520000457763672, \"open\": 25.299999237060547, \"low\": 25.209999084472656, \"adjclose\": 24.860000610351562, \"dividends\": 0.0}, {\"symbol\": \"WBC.AX\", \"date\": \"2021-05-21T00:00:00\", \"high\": 25.75, \"volume\": 6201726, \"close\": 25.649999618530273, \"open\": 25.600000381469727, \"low\": 25.559999465942383, \"adjclose\": 24.986637115478516, \"dividends\": 0.0}, {\"symbol\": \"WBC.AX\", \"date\": \"2021-05-24T00:00:00\", \"high\": 26.040000915527344, \"volume\": 5142624, \"close\": 25.979999542236328, \"open\": 25.75, \"low\": 25.75, \"adjclose\": 25.308101654052734, \"dividends\": 0.0}, {\"symbol\": \"WBC.AX\", \"date\": \"2021-05-25T00:00:00\", \"high\": 26.200000762939453, \"volume\": 4272751, \"close\": 26.200000762939453, \"open\": 26.079999923706055, \"low\": 25.9950008392334, \"adjclose\": 25.52241325378418, \"dividends\": 0.0}, {\"symbol\": \"WBC.AX\", \"date\": \"2021-05-26T00:00:00\", \"high\": 26.3799991607666, \"volume\": 5697789, \"close\": 26.270000457763672, \"open\": 26.200000762939453, \"low\": 26.149999618530273, \"adjclose\": 25.59060287475586, \"dividends\": 0.0}, {\"symbol\": \"WBC.AX\", \"date\": \"2021-05-27T00:00:00\", \"high\": 26.3799991607666, \"volume\": 10776555, \"close\": 26.09000015258789, \"open\": 26.3799991607666, \"low\": 26.09000015258789, \"adjclose\": 25.415258407592773, \"dividends\": 0.0}, {\"symbol\": \"WBC.AX\", \"date\": \"2021-05-28T00:00:00\", \"high\": 26.489999771118164, \"volume\": 6870449, \"close\": 26.459999084472656, \"open\": 26.280000686645508, \"low\": 26.2549991607666, \"adjclose\": 25.77568817138672, \"dividends\": 0.0}, {\"symbol\": \"WBC.AX\", \"date\": \"2021-05-31T00:00:00\", \"high\": 26.549999237060547, \"volume\": 5044864, \"close\": 26.420000076293945, \"open\": 26.469999313354492, \"low\": 26.329999923706055, \"adjclose\": 25.736722946166992, \"dividends\": 0.0}, {\"symbol\": \"WBC.AX\", \"date\": \"2021-06-01T00:00:00\", \"high\": 26.315000534057617, \"volume\": 3536923, \"close\": 26.200000762939453, \"open\": 26.290000915527344, \"low\": 26.110000610351562, \"adjclose\": 25.52241325378418, \"dividends\": 0.0}, {\"symbol\": \"WBC.AX\", \"date\": \"2021-06-02T00:00:00\", \"high\": 26.31999969482422, \"volume\": 4138204, \"close\": 26.219999313354492, \"open\": 26.270000457763672, \"low\": 26.110000610351562, \"adjclose\": 25.541894912719727, \"dividends\": 0.0}, {\"symbol\": \"WBC.AX\", \"date\": \"2021-06-03T00:00:00\", \"high\": 26.559999465942383, \"volume\": 5659744, \"close\": 26.5, \"open\": 26.350000381469727, \"low\": 26.334999084472656, \"adjclose\": 25.814655303955078, \"dividends\": 0.0}, {\"symbol\": \"WBC.AX\", \"date\": \"2021-06-04T00:00:00\", \"high\": 26.8799991607666, \"volume\": 5744699, \"close\": 26.8700008392334, \"open\": 26.600000381469727, \"low\": 26.59000015258789, \"adjclose\": 26.175086975097656, \"dividends\": 0.0}, {\"symbol\": \"WBC.AX\", \"date\": \"2021-06-07T00:00:00\", \"high\": 26.75, \"volume\": 4647935, \"close\": 26.6299991607666, \"open\": 26.690000534057617, \"low\": 26.540000915527344, \"adjclose\": 25.94129180908203, \"dividends\": 0.0}, {\"symbol\": \"WBC.AX\", \"date\": \"2021-06-08T00:00:00\", \"high\": 26.780000686645508, \"volume\": 4068260, \"close\": 26.729999542236328, \"open\": 26.600000381469727, \"low\": 26.600000381469727, \"adjclose\": 26.038705825805664, \"dividends\": 0.0}, {\"symbol\": \"WBC.AX\", \"date\": \"2021-06-09T00:00:00\", \"high\": 26.81999969482422, \"volume\": 5192381, \"close\": 26.549999237060547, \"open\": 26.68000030517578, \"low\": 26.520000457763672, \"adjclose\": 25.863361358642578, \"dividends\": 0.0}, {\"symbol\": \"WBC.AX\", \"date\": \"2021-06-10T00:00:00\", \"high\": 26.690000534057617, \"volume\": 3671786, \"close\": 26.59000015258789, \"open\": 26.600000381469727, \"low\": 26.479999542236328, \"adjclose\": 25.902326583862305, \"dividends\": 0.0}, {\"symbol\": \"WBC.AX\", \"date\": \"2021-06-11T00:00:00\", \"high\": 26.405000686645508, \"volume\": 4231033, \"close\": 26.290000915527344, \"open\": 26.309999465942383, \"low\": 26.18000030517578, \"adjclose\": 25.61008644104004, \"dividends\": 0.0}, {\"symbol\": \"WBC.AX\", \"date\": \"2021-06-15T00:00:00\", \"high\": 26.68000030517578, \"volume\": 5026151, \"close\": 26.549999237060547, \"open\": 26.3799991607666, \"low\": 26.3700008392334, \"adjclose\": 25.863361358642578, \"dividends\": 0.0}, {\"symbol\": \"WBC.AX\", \"date\": \"2021-06-16T00:00:00\", \"high\": 26.729999542236328, \"volume\": 5993712, \"close\": 26.549999237060547, \"open\": 26.700000762939453, \"low\": 26.549999237060547, \"adjclose\": 25.863361358642578, \"dividends\": 0.0}, {\"symbol\": \"WBC.AX\", \"date\": \"2021-06-17T00:00:00\", \"high\": 27.1200008392334, \"volume\": 10341827, \"close\": 26.940000534057617, \"open\": 26.799999237060547, \"low\": 26.719999313354492, \"adjclose\": 26.243274688720703, \"dividends\": 0.0}, {\"symbol\": \"WBC.AX\", \"date\": \"2021-06-18T00:00:00\", \"high\": 26.975000381469727, \"volume\": 13927785, \"close\": 26.8799991607666, \"open\": 26.739999771118164, \"low\": 26.719999313354492, \"adjclose\": 26.184825897216797, \"dividends\": 0.0}, {\"symbol\": \"WBC.AX\", \"date\": \"2021-06-21T00:00:00\", \"high\": 26.399999618530273, \"volume\": 6311087, \"close\": 26.149999618530273, \"open\": 26.399999618530273, \"low\": 26.075000762939453, \"adjclose\": 25.473705291748047, \"dividends\": 0.0}, {\"symbol\": \"WBC.AX\", \"date\": \"2021-06-22T00:00:00\", \"high\": 26.799999237060547, \"volume\": 5969480, \"close\": 26.610000610351562, \"open\": 26.600000381469727, \"low\": 26.520000457763672, \"adjclose\": 25.921810150146484, \"dividends\": 0.0}, {\"symbol\": \"WBC.AX\", \"date\": \"2021-06-23T00:00:00\", \"high\": 26.450000762939453, \"volume\": 6732031, \"close\": 26.079999923706055, \"open\": 26.450000762939453, \"low\": 26.079999923706055, \"adjclose\": 25.405515670776367, \"dividends\": 0.0}, {\"symbol\": \"WBC.AX\", \"date\": \"2021-06-24T00:00:00\", \"high\": 26.040000915527344, \"volume\": 6208873, \"close\": 25.829999923706055, \"open\": 26.010000228881836, \"low\": 25.725000381469727, \"adjclose\": 25.1619815826416, \"dividends\": 0.0}, {\"symbol\": \"WBC.AX\", \"date\": \"2021-06-25T00:00:00\", \"high\": 26.18000030517578, \"volume\": 4701759, \"close\": 25.889999389648438, \"open\": 26.100000381469727, \"low\": 25.860000610351562, \"adjclose\": 25.220430374145508, \"dividends\": 0.0}, {\"symbol\": \"WBC.AX\", \"date\": \"2021-06-28T00:00:00\", \"high\": 25.8700008392334, \"volume\": 4082681, \"close\": 25.81999969482422, \"open\": 25.860000610351562, \"low\": 25.6200008392334, \"adjclose\": 25.152240753173828, \"dividends\": 0.0}, {\"symbol\": \"WBC.AX\", \"date\": \"2021-06-29T00:00:00\", \"high\": 25.889999389648438, \"volume\": 4315422, \"close\": 25.860000610351562, \"open\": 25.649999618530273, \"low\": 25.55500030517578, \"adjclose\": 25.191205978393555, \"dividends\": 0.0}, {\"symbol\": \"WBC.AX\", \"date\": \"2021-06-30T00:00:00\", \"high\": 26.100000381469727, \"volume\": 4755199, \"close\": 25.809999465942383, \"open\": 25.940000534057617, \"low\": 25.809999465942383, \"adjclose\": 25.142498016357422, \"dividends\": 0.0}, {\"symbol\": \"WBC.AX\", \"date\": \"2021-07-01T00:00:00\", \"high\": 25.940000534057617, \"volume\": 3863747, \"close\": 25.649999618530273, \"open\": 25.940000534057617, \"low\": 25.610000610351562, \"adjclose\": 24.986637115478516, \"dividends\": 0.0}, {\"symbol\": \"WBC.AX\", \"date\": \"2021-07-02T00:00:00\", \"high\": 25.90999984741211, \"volume\": 4852047, \"close\": 25.639999389648438, \"open\": 25.799999237060547, \"low\": 25.559999465942383, \"adjclose\": 24.97689437866211, \"dividends\": 0.0}, {\"symbol\": \"WBC.AX\", \"date\": \"2021-07-05T00:00:00\", \"high\": 25.729999542236328, \"volume\": 3965667, \"close\": 25.530000686645508, \"open\": 25.579999923706055, \"low\": 25.479999542236328, \"adjclose\": 24.869741439819336, \"dividends\": 0.0}, {\"symbol\": \"WBC.AX\", \"date\": \"2021-07-06T00:00:00\", \"high\": 25.75, \"volume\": 3784251, \"close\": 25.450000762939453, \"open\": 25.649999618530273, \"low\": 25.450000762939453, \"adjclose\": 24.791810989379883, \"dividends\": 0.0}, {\"symbol\": \"WBC.AX\", \"date\": \"2021-07-07T00:00:00\", \"high\": 25.639999389648438, \"volume\": 3270758, \"close\": 25.600000381469727, \"open\": 25.299999237060547, \"low\": 25.299999237060547, \"adjclose\": 24.937931060791016, \"dividends\": 0.0}, {\"symbol\": \"WBC.AX\", \"date\": \"2021-07-08T00:00:00\", \"high\": 25.729999542236328, \"volume\": 3028023, \"close\": 25.530000686645508, \"open\": 25.600000381469727, \"low\": 25.440000534057617, \"adjclose\": 24.869741439819336, \"dividends\": 0.0}, {\"symbol\": \"WBC.AX\", \"date\": \"2021-07-09T00:00:00\", \"high\": 25.3700008392334, \"volume\": 5603131, \"close\": 25.3700008392334, \"open\": 25.290000915527344, \"low\": 25.170000076293945, \"adjclose\": 24.713878631591797, \"dividends\": 0.0}, {\"symbol\": \"WBC.AX\", \"date\": \"2021-07-12T00:00:00\", \"high\": 25.6299991607666, \"volume\": 3092332, \"close\": 25.520000457763672, \"open\": 25.540000915527344, \"low\": 25.459999084472656, \"adjclose\": 24.860000610351562, \"dividends\": 0.0}, {\"symbol\": \"WBC.AX\", \"date\": \"2021-07-13T00:00:00\", \"high\": 25.760000228881836, \"volume\": 6903250, \"close\": 25.329999923706055, \"open\": 25.700000762939453, \"low\": 25.329999923706055, \"adjclose\": 24.67491340637207, \"dividends\": 0.0}, {\"symbol\": \"WBC.AX\", \"date\": \"2021-07-14T00:00:00\", \"high\": 25.40999984741211, \"volume\": 6256810, \"close\": 25.270000457763672, \"open\": 25.299999237060547, \"low\": 25.170000076293945, \"adjclose\": 24.616464614868164, \"dividends\": 0.0}, {\"symbol\": \"WBC.AX\", \"date\": \"2021-07-15T00:00:00\", \"high\": 25.260000228881836, \"volume\": 6903675, \"close\": 24.989999771118164, \"open\": 25.239999771118164, \"low\": 24.969999313354492, \"adjclose\": 24.343706130981445, \"dividends\": 0.0}, {\"symbol\": \"WBC.AX\", \"date\": \"2021-07-16T00:00:00\", \"high\": 24.950000762939453, \"volume\": 5496313, \"close\": 24.90999984741211, \"open\": 24.889999389648438, \"low\": 24.780000686645508, \"adjclose\": 24.265775680541992, \"dividends\": 0.0}, {\"symbol\": \"WBC.AX\", \"date\": \"2021-07-19T00:00:00\", \"high\": 24.760000228881836, \"volume\": 4841080, \"close\": 24.690000534057617, \"open\": 24.5, \"low\": 24.329999923706055, \"adjclose\": 24.05146598815918, \"dividends\": 0.0}, {\"symbol\": \"WBC.AX\", \"date\": \"2021-07-20T00:00:00\", \"high\": 24.670000076293945, \"volume\": 7344904, \"close\": 24.520000457763672, \"open\": 24.280000686645508, \"low\": 24.1299991607666, \"adjclose\": 23.885862350463867, \"dividends\": 0.0}, {\"symbol\": \"WBC.AX\", \"date\": \"2021-07-21T00:00:00\", \"high\": 24.920000076293945, \"volume\": 5212250, \"close\": 24.760000228881836, \"open\": 24.700000762939453, \"low\": 24.690000534057617, \"adjclose\": 24.11965560913086, \"dividends\": 0.0}, {\"symbol\": \"WBC.AX\", \"date\": \"2021-07-22T00:00:00\", \"high\": 24.93000030517578, \"volume\": 5058349, \"close\": 24.93000030517578, \"open\": 24.829999923706055, \"low\": 24.75, \"adjclose\": 24.28525733947754, \"dividends\": 0.0}, {\"symbol\": \"WBC.AX\", \"date\": \"2021-07-23T00:00:00\", \"high\": 24.81999969482422, \"volume\": 3593670, \"close\": 24.709999084472656, \"open\": 24.600000381469727, \"low\": 24.600000381469727, \"adjclose\": 24.070945739746094, \"dividends\": 0.0}, {\"symbol\": \"WBC.AX\", \"date\": \"2021-07-26T00:00:00\", \"high\": 24.760000228881836, \"volume\": 4340960, \"close\": 24.6200008392334, \"open\": 24.709999084472656, \"low\": 24.530000686645508, \"adjclose\": 23.9832763671875, \"dividends\": 0.0}, {\"symbol\": \"WBC.AX\", \"date\": \"2021-07-27T00:00:00\", \"high\": 24.829999923706055, \"volume\": 4923996, \"close\": 24.790000915527344, \"open\": 24.700000762939453, \"low\": 24.56999969482422, \"adjclose\": 24.148880004882812, \"dividends\": 0.0}, {\"symbol\": \"WBC.AX\", \"date\": \"2021-07-28T00:00:00\", \"high\": 24.829999923706055, \"volume\": 5082416, \"close\": 24.559999465942383, \"open\": 24.790000915527344, \"low\": 24.540000915527344, \"adjclose\": 23.92482566833496, \"dividends\": 0.0}, {\"symbol\": \"WBC.AX\", \"date\": \"2021-07-29T00:00:00\", \"high\": 24.584999084472656, \"volume\": 4118012, \"close\": 24.520000457763672, \"open\": 24.520000457763672, \"low\": 24.450000762939453, \"adjclose\": 23.885862350463867, \"dividends\": 0.0}, {\"symbol\": \"WBC.AX\", \"date\": \"2021-07-30T00:00:00\", \"high\": 24.65999984741211, \"volume\": 4467094, \"close\": 24.520000457763672, \"open\": 24.559999465942383, \"low\": 24.510000228881836, \"adjclose\": 23.885862350463867, \"dividends\": 0.0}, {\"symbol\": \"WBC.AX\", \"date\": \"2021-08-02T00:00:00\", \"high\": 25.100000381469727, \"volume\": 5337687, \"close\": 25.030000686645508, \"open\": 24.649999618530273, \"low\": 24.6299991607666, \"adjclose\": 24.382673263549805, \"dividends\": 0.0}, {\"symbol\": \"WBC.AX\", \"date\": \"2021-08-03T00:00:00\", \"high\": 24.9950008392334, \"volume\": 4714791, \"close\": 24.799999237060547, \"open\": 24.950000762939453, \"low\": 24.700000762939453, \"adjclose\": 24.158618927001953, \"dividends\": 0.0}, {\"symbol\": \"WBC.AX\", \"date\": \"2021-08-04T00:00:00\", \"high\": 24.940000534057617, \"volume\": 4835657, \"close\": 24.84000015258789, \"open\": 24.899999618530273, \"low\": 24.719999313354492, \"adjclose\": 24.197586059570312, \"dividends\": 0.0}, {\"symbol\": \"WBC.AX\", \"date\": \"2021-08-05T00:00:00\", \"high\": 24.959999084472656, \"volume\": 4631332, \"close\": 24.889999389648438, \"open\": 24.899999618530273, \"low\": 24.81999969482422, \"adjclose\": 24.246292114257812, \"dividends\": 0.0}, {\"symbol\": \"WBC.AX\", \"date\": \"2021-08-06T00:00:00\", \"high\": 25.1200008392334, \"volume\": 3993772, \"close\": 25.1200008392334, \"open\": 24.950000762939453, \"low\": 24.920000076293945, \"adjclose\": 24.47034454345703, \"dividends\": 0.0}, {\"symbol\": \"WBC.AX\", \"date\": \"2021-08-09T00:00:00\", \"high\": 25.549999237060547, \"volume\": 4880739, \"close\": 25.360000610351562, \"open\": 25.25, \"low\": 25.25, \"adjclose\": 24.704137802124023, \"dividends\": 0.0}, {\"symbol\": \"WBC.AX\", \"date\": \"2021-08-10T00:00:00\", \"high\": 25.600000381469727, \"volume\": 4393221, \"close\": 25.579999923706055, \"open\": 25.530000686645508, \"low\": 25.399999618530273, \"adjclose\": 24.918447494506836, \"dividends\": 0.0}, {\"symbol\": \"WBC.AX\", \"date\": \"2021-08-11T00:00:00\", \"high\": 25.940000534057617, \"volume\": 6494781, \"close\": 25.770000457763672, \"open\": 25.670000076293945, \"low\": 25.670000076293945, \"adjclose\": 25.103534698486328, \"dividends\": 0.0}, {\"symbol\": \"WBC.AX\", \"date\": \"2021-08-12T00:00:00\", \"high\": 26.06999969482422, \"volume\": 5499418, \"close\": 25.760000228881836, \"open\": 26.0, \"low\": 25.649999618530273, \"adjclose\": 25.093791961669922, \"dividends\": 0.0}, {\"symbol\": \"WBC.AX\", \"date\": \"2021-08-13T00:00:00\", \"high\": 26.190000534057617, \"volume\": 8336416, \"close\": 26.15999984741211, \"open\": 25.850000381469727, \"low\": 25.84000015258789, \"adjclose\": 25.483448028564453, \"dividends\": 0.0}, {\"symbol\": \"WBC.AX\", \"date\": \"2021-08-16T00:00:00\", \"high\": 26.114999771118164, \"volume\": 6592571, \"close\": 25.790000915527344, \"open\": 26.110000610351562, \"low\": 25.790000915527344, \"adjclose\": 25.123018264770508, \"dividends\": 0.0}, {\"symbol\": \"WBC.AX\", \"date\": \"2021-08-17T00:00:00\", \"high\": 25.75, \"volume\": 7196978, \"close\": 25.450000762939453, \"open\": 25.75, \"low\": 25.260000228881836, \"adjclose\": 24.791810989379883, \"dividends\": 0.0}, {\"symbol\": \"WBC.AX\", \"date\": \"2021-08-18T00:00:00\", \"high\": 25.959999084472656, \"volume\": 5800750, \"close\": 25.809999465942383, \"open\": 25.649999618530273, \"low\": 25.489999771118164, \"adjclose\": 25.142498016357422, \"dividends\": 0.0}, {\"symbol\": \"WBC.AX\", \"date\": \"2021-08-19T00:00:00\", \"high\": 25.889999389648438, \"volume\": 4807719, \"close\": 25.81999969482422, \"open\": 25.739999771118164, \"low\": 25.670000076293945, \"adjclose\": 25.152240753173828, \"dividends\": 0.0}, {\"symbol\": \"WBC.AX\", \"date\": \"2021-08-20T00:00:00\", \"high\": 25.959999084472656, \"volume\": 5884950, \"close\": 25.760000228881836, \"open\": 25.829999923706055, \"low\": 25.68000030517578, \"adjclose\": 25.093791961669922, \"dividends\": 0.0}, {\"symbol\": \"WBC.AX\", \"date\": \"2021-08-23T00:00:00\", \"high\": 25.84000015258789, \"volume\": 3608218, \"close\": 25.780000686645508, \"open\": 25.809999465942383, \"low\": 25.65999984741211, \"adjclose\": 25.1132755279541, \"dividends\": 0.0}, {\"symbol\": \"WBC.AX\", \"date\": \"2021-08-24T00:00:00\", \"high\": 25.959999084472656, \"volume\": 4079721, \"close\": 25.90999984741211, \"open\": 25.81999969482422, \"low\": 25.770000457763672, \"adjclose\": 25.239912033081055, \"dividends\": 0.0}, {\"symbol\": \"WBC.AX\", \"date\": \"2021-08-25T00:00:00\", \"high\": 26.149999618530273, \"volume\": 4652252, \"close\": 26.149999618530273, \"open\": 25.90999984741211, \"low\": 25.850000381469727, \"adjclose\": 25.473705291748047, \"dividends\": 0.0}, {\"symbol\": \"WBC.AX\", \"date\": \"2021-08-26T00:00:00\", \"high\": 26.1299991607666, \"volume\": 3215792, \"close\": 26.010000228881836, \"open\": 26.1299991607666, \"low\": 25.920000076293945, \"adjclose\": 25.33732795715332, \"dividends\": 0.0}, {\"symbol\": \"WBC.AX\", \"date\": \"2021-08-27T00:00:00\", \"high\": 26.0, \"volume\": 3041982, \"close\": 25.989999771118164, \"open\": 25.860000610351562, \"low\": 25.834999084472656, \"adjclose\": 25.31784439086914, \"dividends\": 0.0}, {\"symbol\": \"WBC.AX\", \"date\": \"2021-08-30T00:00:00\", \"high\": 26.0, \"volume\": 3870481, \"close\": 25.799999237060547, \"open\": 25.989999771118164, \"low\": 25.65999984741211, \"adjclose\": 25.13275718688965, \"dividends\": 0.0}, {\"symbol\": \"WBC.AX\", \"date\": \"2021-08-31T00:00:00\", \"high\": 25.899999618530273, \"volume\": 7187581, \"close\": 25.81999969482422, \"open\": 25.719999313354492, \"low\": 25.600000381469727, \"adjclose\": 25.152240753173828, \"dividends\": 0.0}, {\"symbol\": \"WBC.AX\", \"date\": \"2021-09-01T00:00:00\", \"high\": 26.110000610351562, \"volume\": 5362603, \"close\": 26.110000610351562, \"open\": 25.6299991607666, \"low\": 25.6299991607666, \"adjclose\": 25.434741973876953, \"dividends\": 0.0}, {\"symbol\": \"WBC.AX\", \"date\": \"2021-09-02T00:00:00\", \"high\": 26.219999313354492, \"volume\": 4608420, \"close\": 26.030000686645508, \"open\": 26.1299991607666, \"low\": 25.915000915527344, \"adjclose\": 25.356809616088867, \"dividends\": 0.0}, {\"symbol\": \"WBC.AX\", \"date\": \"2021-09-03T00:00:00\", \"high\": 26.094999313354492, \"volume\": 3221700, \"close\": 26.020000457763672, \"open\": 26.049999237060547, \"low\": 25.899999618530273, \"adjclose\": 25.347068786621094, \"dividends\": 0.0}, {\"symbol\": \"WBC.AX\", \"date\": \"2021-09-06T00:00:00\", \"high\": 25.989999771118164, \"volume\": 3889635, \"close\": 25.989999771118164, \"open\": 25.8799991607666, \"low\": 25.670000076293945, \"adjclose\": 25.31784439086914, \"dividends\": 0.0}, {\"symbol\": \"WBC.AX\", \"date\": \"2021-09-07T00:00:00\", \"high\": 26.049999237060547, \"volume\": 3039361, \"close\": 26.030000686645508, \"open\": 25.90999984741211, \"low\": 25.809999465942383, \"adjclose\": 25.356809616088867, \"dividends\": 0.0}, {\"symbol\": \"WBC.AX\", \"date\": \"2021-09-08T00:00:00\", \"high\": 26.139999389648438, \"volume\": 4588043, \"close\": 26.09000015258789, \"open\": 25.889999389648438, \"low\": 25.8700008392334, \"adjclose\": 25.415258407592773, \"dividends\": 0.0}, {\"symbol\": \"WBC.AX\", \"date\": \"2021-09-09T00:00:00\", \"high\": 25.959999084472656, \"volume\": 6285165, \"close\": 25.600000381469727, \"open\": 25.940000534057617, \"low\": 25.469999313354492, \"adjclose\": 24.937931060791016, \"dividends\": 0.0}, {\"symbol\": \"WBC.AX\", \"date\": \"2021-09-10T00:00:00\", \"high\": 25.90999984741211, \"volume\": 3862459, \"close\": 25.649999618530273, \"open\": 25.860000610351562, \"low\": 25.56999969482422, \"adjclose\": 24.986637115478516, \"dividends\": 0.0}, {\"symbol\": \"WBC.AX\", \"date\": \"2021-09-13T00:00:00\", \"high\": 25.709999084472656, \"volume\": 3159366, \"close\": 25.639999389648438, \"open\": 25.649999618530273, \"low\": 25.5, \"adjclose\": 24.97689437866211, \"dividends\": 0.0}, {\"symbol\": \"WBC.AX\", \"date\": \"2021-09-14T00:00:00\", \"high\": 25.84000015258789, \"volume\": 5793640, \"close\": 25.719999313354492, \"open\": 25.700000762939453, \"low\": 25.479999542236328, \"adjclose\": 25.054826736450195, \"dividends\": 0.0}, {\"symbol\": \"WBC.AX\", \"date\": \"2021-09-15T00:00:00\", \"high\": 25.899999618530273, \"volume\": 4874131, \"close\": 25.790000915527344, \"open\": 25.6299991607666, \"low\": 25.459999084472656, \"adjclose\": 25.123018264770508, \"dividends\": 0.0}, {\"symbol\": \"WBC.AX\", \"date\": \"2021-09-16T00:00:00\", \"high\": 26.059999465942383, \"volume\": 7311386, \"close\": 26.0, \"open\": 25.700000762939453, \"low\": 25.700000762939453, \"adjclose\": 25.327585220336914, \"dividends\": 0.0}, {\"symbol\": \"WBC.AX\", \"date\": \"2021-09-17T00:00:00\", \"high\": 26.020000457763672, \"volume\": 10104216, \"close\": 25.8799991607666, \"open\": 25.950000762939453, \"low\": 25.719999313354492, \"adjclose\": 25.2106876373291, \"dividends\": 0.0}, {\"symbol\": \"WBC.AX\", \"date\": \"2021-09-20T00:00:00\", \"high\": 25.760000228881836, \"volume\": 5516428, \"close\": 25.299999237060547, \"open\": 25.639999389648438, \"low\": 25.260000228881836, \"adjclose\": 24.645689010620117, \"dividends\": 0.0}, {\"symbol\": \"WBC.AX\", \"date\": \"2021-09-21T00:00:00\", \"high\": 25.239999771118164, \"volume\": 5100209, \"close\": 25.190000534057617, \"open\": 25.0, \"low\": 24.899999618530273, \"adjclose\": 24.53853416442871, \"dividends\": 0.0}, {\"symbol\": \"WBC.AX\", \"date\": \"2021-09-22T00:00:00\", \"high\": 25.059999465942383, \"volume\": 5924150, \"close\": 24.90999984741211, \"open\": 24.940000534057617, \"low\": 24.899999618530273, \"adjclose\": 24.265775680541992, \"dividends\": 0.0}, {\"symbol\": \"WBC.AX\", \"date\": \"2021-09-23T00:00:00\", \"high\": 25.190000534057617, \"volume\": 5614383, \"close\": 25.06999969482422, \"open\": 25.1299991607666, \"low\": 25.030000686645508, \"adjclose\": 24.4216365814209, \"dividends\": 0.0}, {\"symbol\": \"WBC.AX\", \"date\": \"2021-09-24T00:00:00\", \"high\": 25.299999237060547, \"volume\": 5185619, \"close\": 25.25, \"open\": 25.200000762939453, \"low\": 25.139999389648438, \"adjclose\": 24.596982955932617, \"dividends\": 0.0}, {\"symbol\": \"WBC.AX\", \"date\": \"2021-09-27T00:00:00\", \"high\": 25.639999389648438, \"volume\": 5134742, \"close\": 25.459999084472656, \"open\": 25.389999389648438, \"low\": 25.3700008392334, \"adjclose\": 24.801549911499023, \"dividends\": 0.0}, {\"symbol\": \"WBC.AX\", \"date\": \"2021-09-28T00:00:00\", \"high\": 25.6200008392334, \"volume\": 5698793, \"close\": 25.309999465942383, \"open\": 25.5, \"low\": 25.270000457763672, \"adjclose\": 24.65542984008789, \"dividends\": 0.0}, {\"symbol\": \"WBC.AX\", \"date\": \"2021-09-29T00:00:00\", \"high\": 25.299999237060547, \"volume\": 5875567, \"close\": 25.170000076293945, \"open\": 25.139999389648438, \"low\": 25.0, \"adjclose\": 24.51905059814453, \"dividends\": 0.0}, {\"symbol\": \"WBC.AX\", \"date\": \"2021-09-30T00:00:00\", \"high\": 26.0, \"volume\": 10871264, \"close\": 26.0, \"open\": 25.399999618530273, \"low\": 25.389999389648438, \"adjclose\": 25.327585220336914, \"dividends\": 0.0}, {\"symbol\": \"WBC.AX\", \"date\": \"2021-10-01T00:00:00\", \"high\": 25.610000610351562, \"volume\": 6978134, \"close\": 25.40999984741211, \"open\": 25.610000610351562, \"low\": 25.229999542236328, \"adjclose\": 24.752843856811523, \"dividends\": 0.0}, {\"symbol\": \"WBC.AX\", \"date\": \"2021-10-04T00:00:00\", \"high\": 26.0, \"volume\": 5168696, \"close\": 25.950000762939453, \"open\": 25.829999923706055, \"low\": 25.700000762939453, \"adjclose\": 25.278879165649414, \"dividends\": 0.0}, {\"symbol\": \"WBC.AX\", \"date\": \"2021-10-05T00:00:00\", \"high\": 25.969999313354492, \"volume\": 7490355, \"close\": 25.809999465942383, \"open\": 25.8799991607666, \"low\": 25.56999969482422, \"adjclose\": 25.142498016357422, \"dividends\": 0.0}, {\"symbol\": \"WBC.AX\", \"date\": \"2021-10-06T00:00:00\", \"high\": 25.920000076293945, \"volume\": 5269343, \"close\": 25.649999618530273, \"open\": 25.860000610351562, \"low\": 25.469999313354492, \"adjclose\": 24.986637115478516, \"dividends\": 0.0}, {\"symbol\": \"WBC.AX\", \"date\": \"2021-10-07T00:00:00\", \"high\": 26.06999969482422, \"volume\": 6901915, \"close\": 26.010000228881836, \"open\": 25.809999465942383, \"low\": 25.670000076293945, \"adjclose\": 25.33732795715332, \"dividends\": 0.0}, {\"symbol\": \"WBC.AX\", \"date\": \"2021-10-08T00:00:00\", \"high\": 26.09000015258789, \"volume\": 7412866, \"close\": 25.959999084472656, \"open\": 26.079999923706055, \"low\": 25.719999313354492, \"adjclose\": 25.288619995117188, \"dividends\": 0.0}, {\"symbol\": \"WBC.AX\", \"date\": \"2021-10-11T00:00:00\", \"high\": 26.09000015258789, \"volume\": 6860005, \"close\": 26.059999465942383, \"open\": 25.790000915527344, \"low\": 25.75, \"adjclose\": 25.38603401184082, \"dividends\": 0.0}, {\"symbol\": \"WBC.AX\", \"date\": \"2021-10-12T00:00:00\", \"high\": 25.989999771118164, \"volume\": 7888013, \"close\": 25.6299991607666, \"open\": 25.799999237060547, \"low\": 25.440000534057617, \"adjclose\": 24.967153549194336, \"dividends\": 0.0}, {\"symbol\": \"WBC.AX\", \"date\": \"2021-10-13T00:00:00\", \"high\": 25.549999237060547, \"volume\": 5960351, \"close\": 25.299999237060547, \"open\": 25.549999237060547, \"low\": 25.200000762939453, \"adjclose\": 24.645689010620117, \"dividends\": 0.0}, {\"symbol\": \"WBC.AX\", \"date\": \"2021-10-14T00:00:00\", \"high\": 25.559999465942383, \"volume\": 4714356, \"close\": 25.270000457763672, \"open\": 25.299999237060547, \"low\": 25.270000457763672, \"adjclose\": 24.616464614868164, \"dividends\": 0.0}, {\"symbol\": \"WBC.AX\", \"date\": \"2021-10-15T00:00:00\", \"high\": 25.510000228881836, \"volume\": 3710101, \"close\": 25.389999389648438, \"open\": 25.389999389648438, \"low\": 25.25, \"adjclose\": 24.733360290527344, \"dividends\": 0.0}, {\"symbol\": \"WBC.AX\", \"date\": \"2021-10-18T00:00:00\", \"high\": 25.729999542236328, \"volume\": 3315029, \"close\": 25.579999923706055, \"open\": 25.600000381469727, \"low\": 25.510000228881836, \"adjclose\": 24.918447494506836, \"dividends\": 0.0}, {\"symbol\": \"WBC.AX\", \"date\": \"2021-10-19T00:00:00\", \"high\": 25.670000076293945, \"volume\": 3498064, \"close\": 25.479999542236328, \"open\": 25.540000915527344, \"low\": 25.479999542236328, \"adjclose\": 24.821033477783203, \"dividends\": 0.0}, {\"symbol\": \"WBC.AX\", \"date\": \"2021-10-20T00:00:00\", \"high\": 25.799999237060547, \"volume\": 5466887, \"close\": 25.68000030517578, \"open\": 25.56999969482422, \"low\": 25.530000686645508, \"adjclose\": 25.01586151123047, \"dividends\": 0.0}, {\"symbol\": \"WBC.AX\", \"date\": \"2021-10-21T00:00:00\", \"high\": 25.8799991607666, \"volume\": 6495075, \"close\": 25.829999923706055, \"open\": 25.770000457763672, \"low\": 25.670000076293945, \"adjclose\": 25.1619815826416, \"dividends\": 0.0}, {\"symbol\": \"WBC.AX\", \"date\": \"2021-10-22T00:00:00\", \"high\": 25.770000457763672, \"volume\": 4546300, \"close\": 25.739999771118164, \"open\": 25.709999084472656, \"low\": 25.559999465942383, \"adjclose\": 25.074310302734375, \"dividends\": 0.0}, {\"symbol\": \"WBC.AX\", \"date\": \"2021-10-25T00:00:00\", \"high\": 25.899999618530273, \"volume\": 3166667, \"close\": 25.709999084472656, \"open\": 25.809999465942383, \"low\": 25.670000076293945, \"adjclose\": 25.04508399963379, \"dividends\": 0.0}, {\"symbol\": \"WBC.AX\", \"date\": \"2021-10-26T00:00:00\", \"high\": 25.90999984741211, \"volume\": 2900146, \"close\": 25.790000915527344, \"open\": 25.780000686645508, \"low\": 25.739999771118164, \"adjclose\": 25.123018264770508, \"dividends\": 0.0}, {\"symbol\": \"WBC.AX\", \"date\": \"2021-10-27T00:00:00\", \"high\": 26.190000534057617, \"volume\": 5443851, \"close\": 25.950000762939453, \"open\": 25.899999618530273, \"low\": 25.809999465942383, \"adjclose\": 25.278879165649414, \"dividends\": 0.0}, {\"symbol\": \"WBC.AX\", \"date\": \"2021-10-28T00:00:00\", \"high\": 26.25, \"volume\": 6313561, \"close\": 26.229999542236328, \"open\": 25.989999771118164, \"low\": 25.959999084472656, \"adjclose\": 25.551637649536133, \"dividends\": 0.0}, {\"symbol\": \"WBC.AX\", \"date\": \"2021-10-29T00:00:00\", \"high\": 26.440000534057617, \"volume\": 7936427, \"close\": 25.670000076293945, \"open\": 26.34000015258789, \"low\": 25.670000076293945, \"adjclose\": 25.006120681762695, \"dividends\": 0.0}, {\"symbol\": \"WBC.AX\", \"date\": \"2021-11-01T00:00:00\", \"high\": 24.700000762939453, \"volume\": 36262379, \"close\": 23.780000686645508, \"open\": 24.5, \"low\": 23.780000686645508, \"adjclose\": 23.165000915527344, \"dividends\": 0.0}, {\"symbol\": \"WBC.AX\", \"date\": \"2021-11-02T00:00:00\", \"high\": 23.950000762939453, \"volume\": 21163708, \"close\": 23.1299991607666, \"open\": 23.950000762939453, \"low\": 23.0, \"adjclose\": 22.531808853149414, \"dividends\": 0.0}, {\"symbol\": \"WBC.AX\", \"date\": \"2021-11-03T00:00:00\", \"high\": 23.540000915527344, \"volume\": 17407560, \"close\": 23.149999618530273, \"open\": 23.440000534057617, \"low\": 23.149999618530273, \"adjclose\": 22.551292419433594, \"dividends\": 0.0}, {\"symbol\": \"WBC.AX\", \"date\": \"2021-11-04T00:00:00\", \"high\": 23.299999237060547, \"volume\": 12864818, \"close\": 23.200000762939453, \"open\": 23.219999313354492, \"low\": 23.079999923706055, \"adjclose\": 22.600000381469727, \"dividends\": 0.0}, {\"symbol\": \"WBC.AX\", \"date\": \"2021-11-05T00:00:00\", \"high\": 22.709999084472656, \"volume\": 11882536, \"close\": 22.549999237060547, \"open\": 22.600000381469727, \"low\": 22.549999237060547, \"adjclose\": 22.549999237060547, \"dividends\": 0.6}, {\"symbol\": \"WBC.AX\", \"date\": \"2021-11-08T00:00:00\", \"high\": 22.969999313354492, \"volume\": 8243874, \"close\": 22.84000015258789, \"open\": 22.709999084472656, \"low\": 22.649999618530273, \"adjclose\": 22.84000015258789, \"dividends\": 0.0}, {\"symbol\": \"WBC.AX\", \"date\": \"2021-11-09T00:00:00\", \"high\": 22.940000534057617, \"volume\": 9292162, \"close\": 22.520000457763672, \"open\": 22.829999923706055, \"low\": 22.520000457763672, \"adjclose\": 22.520000457763672, \"dividends\": 0.0}, {\"symbol\": \"WBC.AX\", \"date\": \"2021-11-10T00:00:00\", \"high\": 23.020000457763672, \"volume\": 10203425, \"close\": 22.709999084472656, \"open\": 22.600000381469727, \"low\": 22.559999465942383, \"adjclose\": 22.709999084472656, \"dividends\": 0.0}, {\"symbol\": \"WBC.AX\", \"date\": \"2021-11-11T00:00:00\", \"high\": 22.979999542236328, \"volume\": 7779728, \"close\": 22.68000030517578, \"open\": 22.959999084472656, \"low\": 22.59000015258789, \"adjclose\": 22.68000030517578, \"dividends\": 0.0}, {\"symbol\": \"WBC.AX\", \"date\": \"2021-11-12T00:00:00\", \"high\": 22.8799991607666, \"volume\": 7057740, \"close\": 22.690000534057617, \"open\": 22.81999969482422, \"low\": 22.690000534057617, \"adjclose\": 22.690000534057617, \"dividends\": 0.0}, {\"symbol\": \"WBC.AX\", \"date\": \"2021-11-15T00:00:00\", \"high\": 22.90999984741211, \"volume\": 6268187, \"close\": 22.829999923706055, \"open\": 22.719999313354492, \"low\": 22.709999084472656, \"adjclose\": 22.829999923706055, \"dividends\": 0.0}, {\"symbol\": \"WBC.AX\", \"date\": \"2021-11-16T00:00:00\", \"high\": 22.950000762939453, \"volume\": 7676007, \"close\": 22.75, \"open\": 22.81999969482422, \"low\": 22.719999313354492, \"adjclose\": 22.75, \"dividends\": 0.0}, {\"symbol\": \"WBC.AX\", \"date\": \"2021-11-17T00:00:00\", \"high\": 22.75, \"volume\": 15750370, \"close\": 22.3700008392334, \"open\": 22.75, \"low\": 22.31999969482422, \"adjclose\": 22.3700008392334, \"dividends\": 0.0}, {\"symbol\": \"WBC.AX\", \"date\": \"2021-11-18T00:00:00\", \"high\": 22.360000610351562, \"volume\": 7812318, \"close\": 22.149999618530273, \"open\": 22.299999237060547, \"low\": 22.149999618530273, \"adjclose\": 22.149999618530273, \"dividends\": 0.0}, {\"symbol\": \"WBC.AX\", \"date\": \"2021-11-19T00:00:00\", \"high\": 22.420000076293945, \"volume\": 7130173, \"close\": 22.139999389648438, \"open\": 22.209999084472656, \"low\": 22.06999969482422, \"adjclose\": 22.139999389648438, \"dividends\": 0.0}, {\"symbol\": \"WBC.AX\", \"date\": \"2021-11-22T00:00:00\", \"high\": 22.100000381469727, \"volume\": 11659056, \"close\": 21.68000030517578, \"open\": 22.059999465942383, \"low\": 21.6299991607666, \"adjclose\": 21.68000030517578, \"dividends\": 0.0}, {\"symbol\": \"WBC.AX\", \"date\": \"2021-11-23T00:00:00\", \"high\": 22.079999923706055, \"volume\": 8913273, \"close\": 21.809999465942383, \"open\": 22.0, \"low\": 21.780000686645508, \"adjclose\": 21.809999465942383, \"dividends\": 0.0}, {\"symbol\": \"WBC.AX\", \"date\": \"2021-11-24T00:00:00\", \"high\": 21.969999313354492, \"volume\": 9138671, \"close\": 21.799999237060547, \"open\": 21.959999084472656, \"low\": 21.760000228881836, \"adjclose\": 21.799999237060547, \"dividends\": 0.0}, {\"symbol\": \"WBC.AX\", \"date\": \"2021-11-25T00:00:00\", \"high\": 21.75, \"volume\": 5572556, \"close\": 21.6299991607666, \"open\": 21.729999542236328, \"low\": 21.610000610351562, \"adjclose\": 21.6299991607666, \"dividends\": 0.0}, {\"symbol\": \"WBC.AX\", \"date\": \"2021-11-26T00:00:00\", \"high\": 21.729999542236328, \"volume\": 12599479, \"close\": 21.079999923706055, \"open\": 21.670000076293945, \"low\": 21.030000686645508, \"adjclose\": 21.079999923706055, \"dividends\": 0.0}, {\"symbol\": \"WBC.AX\", \"date\": \"2021-11-29T00:00:00\", \"high\": 21.049999237060547, \"volume\": 10422024, \"close\": 20.920000076293945, \"open\": 20.739999771118164, \"low\": 20.709999084472656, \"adjclose\": 20.920000076293945, \"dividends\": 0.0}, {\"symbol\": \"WBC.AX\", \"date\": \"2021-11-30T00:00:00\", \"high\": 21.270000457763672, \"volume\": 19864589, \"close\": 20.520000457763672, \"open\": 21.149999618530273, \"low\": 20.520000457763672, \"adjclose\": 20.520000457763672, \"dividends\": 0.0}, {\"symbol\": \"WBC.AX\", \"date\": \"2021-12-01T00:00:00\", \"high\": 20.700000762939453, \"volume\": 11385217, \"close\": 20.6200008392334, \"open\": 20.5, \"low\": 20.420000076293945, \"adjclose\": 20.6200008392334, \"dividends\": 0.0}, {\"symbol\": \"WBC.AX\", \"date\": \"2021-12-02T00:00:00\", \"high\": 20.709999084472656, \"volume\": 12803060, \"close\": 20.459999084472656, \"open\": 20.5, \"low\": 20.3700008392334, \"adjclose\": 20.459999084472656, \"dividends\": 0.0}, {\"symbol\": \"WBC.AX\", \"date\": \"2021-12-03T00:00:00\", \"high\": 20.780000686645508, \"volume\": 10581813, \"close\": 20.700000762939453, \"open\": 20.649999618530273, \"low\": 20.469999313354492, \"adjclose\": 20.700000762939453, \"dividends\": 0.0}, {\"symbol\": \"WBC.AX\", \"date\": \"2021-12-06T00:00:00\", \"high\": 20.780000686645508, \"volume\": 6657880, \"close\": 20.719999313354492, \"open\": 20.709999084472656, \"low\": 20.549999237060547, \"adjclose\": 20.719999313354492, \"dividends\": 0.0}, {\"symbol\": \"WBC.AX\", \"date\": \"2021-12-07T00:00:00\", \"high\": 21.049999237060547, \"volume\": 6453719, \"close\": 20.950000762939453, \"open\": 21.0, \"low\": 20.780000686645508, \"adjclose\": 20.950000762939453, \"dividends\": 0.0}, {\"symbol\": \"WBC.AX\", \"date\": \"2021-12-08T00:00:00\", \"high\": 21.239999771118164, \"volume\": 8488954, \"close\": 21.06999969482422, \"open\": 21.100000381469727, \"low\": 20.860000610351562, \"adjclose\": 21.06999969482422, \"dividends\": 0.0}, {\"symbol\": \"WBC.AX\", \"date\": \"2021-12-09T00:00:00\", \"high\": 21.18000030517578, \"volume\": 6565445, \"close\": 21.020000457763672, \"open\": 21.06999969482422, \"low\": 20.989999771118164, \"adjclose\": 21.020000457763672, \"dividends\": 0.0}, {\"symbol\": \"WBC.AX\", \"date\": \"2021-12-10T00:00:00\", \"high\": 21.079999923706055, \"volume\": 8105983, \"close\": 20.850000381469727, \"open\": 21.0, \"low\": 20.799999237060547, \"adjclose\": 20.850000381469727, \"dividends\": 0.0}, {\"symbol\": \"WBC.AX\", \"date\": \"2021-12-13T00:00:00\", \"high\": 20.979999542236328, \"volume\": 8019729, \"close\": 20.81999969482422, \"open\": 20.940000534057617, \"low\": 20.81999969482422, \"adjclose\": 20.81999969482422, \"dividends\": 0.0}, {\"symbol\": \"WBC.AX\", \"date\": \"2021-12-14T00:00:00\", \"high\": 20.979999542236328, \"volume\": 4769916, \"close\": 20.93000030517578, \"open\": 20.75, \"low\": 20.729999542236328, \"adjclose\": 20.93000030517578, \"dividends\": 0.0}, {\"symbol\": \"WBC.AX\", \"date\": \"2021-12-15T00:00:00\", \"high\": 21.139999389648438, \"volume\": 5855415, \"close\": 20.989999771118164, \"open\": 21.0, \"low\": 20.940000534057617, \"adjclose\": 20.989999771118164, \"dividends\": 0.0}, {\"symbol\": \"WBC.AX\", \"date\": \"2021-12-16T00:00:00\", \"high\": 21.059999465942383, \"volume\": 12170423, \"close\": 20.959999084472656, \"open\": 20.940000534057617, \"low\": 20.764999389648438, \"adjclose\": 20.959999084472656, \"dividends\": 0.0}, {\"symbol\": \"WBC.AX\", \"date\": \"2021-12-17T00:00:00\", \"high\": 21.360000610351562, \"volume\": 18752577, \"close\": 21.030000686645508, \"open\": 21.149999618530273, \"low\": 21.030000686645508, \"adjclose\": 21.030000686645508, \"dividends\": 0.0}, {\"symbol\": \"WBC.AX\", \"date\": \"2021-12-20T00:00:00\", \"high\": 21.040000915527344, \"volume\": 5516218, \"close\": 21.010000228881836, \"open\": 20.979999542236328, \"low\": 20.729999542236328, \"adjclose\": 21.010000228881836, \"dividends\": 0.0}, {\"symbol\": \"WBC.AX\", \"date\": \"2021-12-21T00:00:00\", \"high\": 21.190000534057617, \"volume\": 4353612, \"close\": 21.049999237060547, \"open\": 21.049999237060547, \"low\": 21.0, \"adjclose\": 21.049999237060547, \"dividends\": 0.0}, {\"symbol\": \"WBC.AX\", \"date\": \"2021-12-22T00:00:00\", \"high\": 21.149999618530273, \"volume\": 4944213, \"close\": 21.06999969482422, \"open\": 21.1299991607666, \"low\": 20.93000030517578, \"adjclose\": 21.06999969482422, \"dividends\": 0.0}, {\"symbol\": \"WBC.AX\", \"date\": \"2021-12-23T00:00:00\", \"high\": 21.18000030517578, \"volume\": 4359824, \"close\": 21.18000030517578, \"open\": 21.1299991607666, \"low\": 21.040000915527344, \"adjclose\": 21.18000030517578, \"dividends\": 0.0}, {\"symbol\": \"WBC.AX\", \"date\": \"2021-12-24T00:00:00\", \"high\": 21.450000762939453, \"volume\": 3039364, \"close\": 21.200000762939453, \"open\": 21.260000228881836, \"low\": 21.200000762939453, \"adjclose\": 21.200000762939453, \"dividends\": 0.0}, {\"symbol\": \"WBC.AX\", \"date\": \"2021-12-29T00:00:00\", \"high\": 21.649999618530273, \"volume\": 9676188, \"close\": 21.459999084472656, \"open\": 21.450000762939453, \"low\": 21.399999618530273, \"adjclose\": 21.459999084472656, \"dividends\": 0.0}, {\"symbol\": \"WBC.AX\", \"date\": \"2021-12-30T00:00:00\", \"high\": 21.600000381469727, \"volume\": 4635337, \"close\": 21.5, \"open\": 21.510000228881836, \"low\": 21.479999542236328, \"adjclose\": 21.5, \"dividends\": 0.0}, {\"symbol\": \"WBC.AX\", \"date\": \"2021-12-31T00:00:00\", \"high\": 21.530000686645508, \"volume\": 3046280, \"close\": 21.350000381469727, \"open\": 21.5, \"low\": 21.31999969482422, \"adjclose\": 21.350000381469727, \"dividends\": 0.0}]}}, {\"mode\": \"vega-lite\"});\n",
              "</script>"
            ],
            "text/plain": [
              "alt.Chart(...)"
            ]
          },
          "execution_count": 60,
          "metadata": {},
          "output_type": "execute_result"
        }
      ],
      "source": [
        "c"
      ]
    },
    {
      "cell_type": "code",
      "execution_count": null,
      "metadata": {
        "colab": {
          "base_uri": "https://localhost:8080/",
          "height": 363
        },
        "id": "4A6x-XT2W7KH",
        "outputId": "acfcfe1c-339c-47eb-cc8e-aeb654c50611"
      },
      "outputs": [
        {
          "data": {
            "text/html": [
              "\n",
              "<div id=\"altair-viz-42f17204b7b849d9a0dd1cef921d870a\"></div>\n",
              "<script type=\"text/javascript\">\n",
              "  (function(spec, embedOpt){\n",
              "    let outputDiv = document.currentScript.previousElementSibling;\n",
              "    if (outputDiv.id !== \"altair-viz-42f17204b7b849d9a0dd1cef921d870a\") {\n",
              "      outputDiv = document.getElementById(\"altair-viz-42f17204b7b849d9a0dd1cef921d870a\");\n",
              "    }\n",
              "    const paths = {\n",
              "      \"vega\": \"https://cdn.jsdelivr.net/npm//vega@5?noext\",\n",
              "      \"vega-lib\": \"https://cdn.jsdelivr.net/npm//vega-lib?noext\",\n",
              "      \"vega-lite\": \"https://cdn.jsdelivr.net/npm//vega-lite@4.8.1?noext\",\n",
              "      \"vega-embed\": \"https://cdn.jsdelivr.net/npm//vega-embed@6?noext\",\n",
              "    };\n",
              "\n",
              "    function loadScript(lib) {\n",
              "      return new Promise(function(resolve, reject) {\n",
              "        var s = document.createElement('script');\n",
              "        s.src = paths[lib];\n",
              "        s.async = true;\n",
              "        s.onload = () => resolve(paths[lib]);\n",
              "        s.onerror = () => reject(`Error loading script: ${paths[lib]}`);\n",
              "        document.getElementsByTagName(\"head\")[0].appendChild(s);\n",
              "      });\n",
              "    }\n",
              "\n",
              "    function showError(err) {\n",
              "      outputDiv.innerHTML = `<div class=\"error\" style=\"color:red;\">${err}</div>`;\n",
              "      throw err;\n",
              "    }\n",
              "\n",
              "    function displayChart(vegaEmbed) {\n",
              "      vegaEmbed(outputDiv, spec, embedOpt)\n",
              "        .catch(err => showError(`Javascript Error: ${err.message}<br>This usually means there's a typo in your chart specification. See the javascript console for the full traceback.`));\n",
              "    }\n",
              "\n",
              "    if(typeof define === \"function\" && define.amd) {\n",
              "      requirejs.config({paths});\n",
              "      require([\"vega-embed\"], displayChart, err => showError(`Error loading script: ${err.message}`));\n",
              "    } else if (typeof vegaEmbed === \"function\") {\n",
              "      displayChart(vegaEmbed);\n",
              "    } else {\n",
              "      loadScript(\"vega\")\n",
              "        .then(() => loadScript(\"vega-lite\"))\n",
              "        .then(() => loadScript(\"vega-embed\"))\n",
              "        .catch(showError)\n",
              "        .then(() => displayChart(vegaEmbed));\n",
              "    }\n",
              "  })({\"config\": {\"view\": {\"continuousWidth\": 400, \"continuousHeight\": 300}}, \"data\": {\"name\": \"data-8c8740d6c701f2cd8bd07fab784e9d13\"}, \"mark\": \"circle\", \"encoding\": {\"x\": {\"type\": \"temporal\", \"field\": \"date\"}, \"y\": {\"type\": \"quantitative\", \"field\": \"adjclose\"}}, \"$schema\": \"https://vega.github.io/schema/vega-lite/v4.8.1.json\", \"datasets\": {\"data-8c8740d6c701f2cd8bd07fab784e9d13\": [{\"symbol\": \"WBC.AX\", \"date\": \"2021-01-04T00:00:00\", \"high\": 19.670000076293945, \"volume\": 4044153, \"close\": 19.6299991607666, \"open\": 19.459999084472656, \"low\": 19.424999237060547, \"adjclose\": 18.691944122314453, \"dividends\": 0.0}, {\"symbol\": \"WBC.AX\", \"date\": \"2021-01-05T00:00:00\", \"high\": 19.530000686645508, \"volume\": 4944351, \"close\": 19.520000457763672, \"open\": 19.469999313354492, \"low\": 19.3799991607666, \"adjclose\": 18.587202072143555, \"dividends\": 0.0}, {\"symbol\": \"WBC.AX\", \"date\": \"2021-01-06T00:00:00\", \"high\": 19.5, \"volume\": 7063517, \"close\": 19.3700008392334, \"open\": 19.450000762939453, \"low\": 19.229999542236328, \"adjclose\": 18.444372177124023, \"dividends\": 0.0}, {\"symbol\": \"WBC.AX\", \"date\": \"2021-01-07T00:00:00\", \"high\": 20.34000015258789, \"volume\": 14348410, \"close\": 19.989999771118164, \"open\": 19.799999237060547, \"low\": 19.780000686645508, \"adjclose\": 19.03474235534668, \"dividends\": 0.0}, {\"symbol\": \"WBC.AX\", \"date\": \"2021-01-08T00:00:00\", \"high\": 20.280000686645508, \"volume\": 7716248, \"close\": 20.280000686645508, \"open\": 20.110000610351562, \"low\": 20.020000457763672, \"adjclose\": 19.310884475708008, \"dividends\": 0.0}, {\"symbol\": \"WBC.AX\", \"date\": \"2021-01-11T00:00:00\", \"high\": 20.329999923706055, \"volume\": 4513238, \"close\": 20.290000915527344, \"open\": 20.229999542236328, \"low\": 20.200000762939453, \"adjclose\": 19.320405960083008, \"dividends\": 0.0}, {\"symbol\": \"WBC.AX\", \"date\": \"2021-01-12T00:00:00\", \"high\": 20.6299991607666, \"volume\": 8262523, \"close\": 20.489999771118164, \"open\": 20.309999465942383, \"low\": 20.280000686645508, \"adjclose\": 19.510847091674805, \"dividends\": 0.0}, {\"symbol\": \"WBC.AX\", \"date\": \"2021-01-13T00:00:00\", \"high\": 20.68000030517578, \"volume\": 6166289, \"close\": 20.600000381469727, \"open\": 20.420000076293945, \"low\": 20.420000076293945, \"adjclose\": 19.61559295654297, \"dividends\": 0.0}, {\"symbol\": \"WBC.AX\", \"date\": \"2021-01-14T00:00:00\", \"high\": 21.190000534057617, \"volume\": 10347252, \"close\": 21.030000686645508, \"open\": 20.700000762939453, \"low\": 20.68000030517578, \"adjclose\": 20.025043487548828, \"dividends\": 0.0}, {\"symbol\": \"WBC.AX\", \"date\": \"2021-01-15T00:00:00\", \"high\": 21.59000015258789, \"volume\": 9396993, \"close\": 21.350000381469727, \"open\": 21.200000762939453, \"low\": 21.149999618530273, \"adjclose\": 20.32975196838379, \"dividends\": 0.0}, {\"symbol\": \"WBC.AX\", \"date\": \"2021-01-18T00:00:00\", \"high\": 21.3700008392334, \"volume\": 5983851, \"close\": 21.190000534057617, \"open\": 21.360000610351562, \"low\": 21.100000381469727, \"adjclose\": 20.177398681640625, \"dividends\": 0.0}, {\"symbol\": \"WBC.AX\", \"date\": \"2021-01-19T00:00:00\", \"high\": 21.780000686645508, \"volume\": 8246543, \"close\": 21.600000381469727, \"open\": 21.450000762939453, \"low\": 21.40999984741211, \"adjclose\": 20.567806243896484, \"dividends\": 0.0}, {\"symbol\": \"WBC.AX\", \"date\": \"2021-01-20T00:00:00\", \"high\": 21.850000381469727, \"volume\": 5907172, \"close\": 21.579999923706055, \"open\": 21.760000228881836, \"low\": 21.575000762939453, \"adjclose\": 20.54876136779785, \"dividends\": 0.0}, {\"symbol\": \"WBC.AX\", \"date\": \"2021-01-21T00:00:00\", \"high\": 21.940000534057617, \"volume\": 6164314, \"close\": 21.81999969482422, \"open\": 21.850000381469727, \"low\": 21.790000915527344, \"adjclose\": 20.777292251586914, \"dividends\": 0.0}, {\"symbol\": \"WBC.AX\", \"date\": \"2021-01-22T00:00:00\", \"high\": 21.8700008392334, \"volume\": 6984829, \"close\": 21.780000686645508, \"open\": 21.639999389648438, \"low\": 21.639999389648438, \"adjclose\": 20.73920440673828, \"dividends\": 0.0}, {\"symbol\": \"WBC.AX\", \"date\": \"2021-01-25T00:00:00\", \"high\": 21.959999084472656, \"volume\": 3960211, \"close\": 21.790000915527344, \"open\": 21.799999237060547, \"low\": 21.6299991607666, \"adjclose\": 20.74872589111328, \"dividends\": 0.0}, {\"symbol\": \"WBC.AX\", \"date\": \"2021-01-27T00:00:00\", \"high\": 21.969999313354492, \"volume\": 7565067, \"close\": 21.65999984741211, \"open\": 21.850000381469727, \"low\": 21.510000228881836, \"adjclose\": 20.624937057495117, \"dividends\": 0.0}, {\"symbol\": \"WBC.AX\", \"date\": \"2021-01-28T00:00:00\", \"high\": 21.469999313354492, \"volume\": 8389458, \"close\": 21.459999084472656, \"open\": 21.229999542236328, \"low\": 21.020000457763672, \"adjclose\": 20.434494018554688, \"dividends\": 0.0}, {\"symbol\": \"WBC.AX\", \"date\": \"2021-01-29T00:00:00\", \"high\": 21.65999984741211, \"volume\": 8256673, \"close\": 21.1299991607666, \"open\": 21.649999618530273, \"low\": 21.024999618530273, \"adjclose\": 20.120264053344727, \"dividends\": 0.0}, {\"symbol\": \"WBC.AX\", \"date\": \"2021-02-01T00:00:00\", \"high\": 21.31999969482422, \"volume\": 6319097, \"close\": 21.209999084472656, \"open\": 20.799999237060547, \"low\": 20.65999984741211, \"adjclose\": 20.196441650390625, \"dividends\": 0.0}, {\"symbol\": \"WBC.AX\", \"date\": \"2021-02-02T00:00:00\", \"high\": 21.549999237060547, \"volume\": 6367499, \"close\": 21.420000076293945, \"open\": 21.40999984741211, \"low\": 21.309999465942383, \"adjclose\": 20.396406173706055, \"dividends\": 0.0}, {\"symbol\": \"WBC.AX\", \"date\": \"2021-02-03T00:00:00\", \"high\": 21.93000030517578, \"volume\": 7742337, \"close\": 21.75, \"open\": 21.709999084472656, \"low\": 21.6200008392334, \"adjclose\": 20.71063804626465, \"dividends\": 0.0}, {\"symbol\": \"WBC.AX\", \"date\": \"2021-02-04T00:00:00\", \"high\": 21.850000381469727, \"volume\": 4342173, \"close\": 21.709999084472656, \"open\": 21.809999465942383, \"low\": 21.6200008392334, \"adjclose\": 20.672548294067383, \"dividends\": 0.0}, {\"symbol\": \"WBC.AX\", \"date\": \"2021-02-05T00:00:00\", \"high\": 22.209999084472656, \"volume\": 7968872, \"close\": 22.149999618530273, \"open\": 21.969999313354492, \"low\": 21.829999923706055, \"adjclose\": 21.091522216796875, \"dividends\": 0.0}, {\"symbol\": \"WBC.AX\", \"date\": \"2021-02-08T00:00:00\", \"high\": 22.59000015258789, \"volume\": 8064909, \"close\": 22.450000762939453, \"open\": 22.209999084472656, \"low\": 22.190000534057617, \"adjclose\": 21.377185821533203, \"dividends\": 0.0}, {\"symbol\": \"WBC.AX\", \"date\": \"2021-02-09T00:00:00\", \"high\": 22.440000534057617, \"volume\": 4756119, \"close\": 22.170000076293945, \"open\": 22.360000610351562, \"low\": 22.110000610351562, \"adjclose\": 21.110567092895508, \"dividends\": 0.0}, {\"symbol\": \"WBC.AX\", \"date\": \"2021-02-10T00:00:00\", \"high\": 22.450000762939453, \"volume\": 4713107, \"close\": 22.229999542236328, \"open\": 22.299999237060547, \"low\": 22.1200008392334, \"adjclose\": 21.16769790649414, \"dividends\": 0.0}, {\"symbol\": \"WBC.AX\", \"date\": \"2021-02-11T00:00:00\", \"high\": 22.329999923706055, \"volume\": 4218812, \"close\": 22.290000915527344, \"open\": 22.170000076293945, \"low\": 22.079999923706055, \"adjclose\": 21.224834442138672, \"dividends\": 0.0}, {\"symbol\": \"WBC.AX\", \"date\": \"2021-02-12T00:00:00\", \"high\": 22.329999923706055, \"volume\": 4943999, \"close\": 22.139999389648438, \"open\": 22.280000686645508, \"low\": 22.059999465942383, \"adjclose\": 21.082000732421875, \"dividends\": 0.0}, {\"symbol\": \"WBC.AX\", \"date\": \"2021-02-15T00:00:00\", \"high\": 22.559999465942383, \"volume\": 4389653, \"close\": 22.399999618530273, \"open\": 22.350000381469727, \"low\": 22.260000228881836, \"adjclose\": 21.329574584960938, \"dividends\": 0.0}, {\"symbol\": \"WBC.AX\", \"date\": \"2021-02-16T00:00:00\", \"high\": 22.899999618530273, \"volume\": 6448280, \"close\": 22.510000228881836, \"open\": 22.6200008392334, \"low\": 22.459999084472656, \"adjclose\": 21.4343204498291, \"dividends\": 0.0}, {\"symbol\": \"WBC.AX\", \"date\": \"2021-02-17T00:00:00\", \"high\": 23.940000534057617, \"volume\": 14880630, \"close\": 23.540000915527344, \"open\": 23.600000381469727, \"low\": 23.459999084472656, \"adjclose\": 22.41510009765625, \"dividends\": 0.0}, {\"symbol\": \"WBC.AX\", \"date\": \"2021-02-18T00:00:00\", \"high\": 24.479999542236328, \"volume\": 15032032, \"close\": 24.3700008392334, \"open\": 24.059999465942383, \"low\": 23.969999313354492, \"adjclose\": 23.20543670654297, \"dividends\": 0.0}, {\"symbol\": \"WBC.AX\", \"date\": \"2021-02-19T00:00:00\", \"high\": 24.200000762939453, \"volume\": 10418673, \"close\": 24.09000015258789, \"open\": 24.149999618530273, \"low\": 23.899999618530273, \"adjclose\": 22.93881607055664, \"dividends\": 0.0}, {\"symbol\": \"WBC.AX\", \"date\": \"2021-02-22T00:00:00\", \"high\": 24.1200008392334, \"volume\": 7376834, \"close\": 23.719999313354492, \"open\": 24.100000381469727, \"low\": 23.68000030517578, \"adjclose\": 22.586496353149414, \"dividends\": 0.0}, {\"symbol\": \"WBC.AX\", \"date\": \"2021-02-23T00:00:00\", \"high\": 24.18000030517578, \"volume\": 6808998, \"close\": 24.15999984741211, \"open\": 23.709999084472656, \"low\": 23.575000762939453, \"adjclose\": 23.005470275878906, \"dividends\": 0.0}, {\"symbol\": \"WBC.AX\", \"date\": \"2021-02-24T00:00:00\", \"high\": 24.075000762939453, \"volume\": 4595204, \"close\": 24.049999237060547, \"open\": 24.030000686645508, \"low\": 23.899999618530273, \"adjclose\": 22.900728225708008, \"dividends\": 0.0}, {\"symbol\": \"WBC.AX\", \"date\": \"2021-02-25T00:00:00\", \"high\": 24.469999313354492, \"volume\": 6769867, \"close\": 24.360000610351562, \"open\": 24.299999237060547, \"low\": 24.1200008392334, \"adjclose\": 23.195913314819336, \"dividends\": 0.0}, {\"symbol\": \"WBC.AX\", \"date\": \"2021-02-26T00:00:00\", \"high\": 24.200000762939453, \"volume\": 11370199, \"close\": 23.81999969482422, \"open\": 24.18000030517578, \"low\": 23.690000534057617, \"adjclose\": 22.681716918945312, \"dividends\": 0.0}, {\"symbol\": \"WBC.AX\", \"date\": \"2021-03-01T00:00:00\", \"high\": 24.25, \"volume\": 5805483, \"close\": 24.190000534057617, \"open\": 23.8700008392334, \"low\": 23.809999465942383, \"adjclose\": 23.03403663635254, \"dividends\": 0.0}, {\"symbol\": \"WBC.AX\", \"date\": \"2021-03-02T00:00:00\", \"high\": 24.459999084472656, \"volume\": 8680741, \"close\": 24.15999984741211, \"open\": 24.399999618530273, \"low\": 24.079999923706055, \"adjclose\": 23.005470275878906, \"dividends\": 0.0}, {\"symbol\": \"WBC.AX\", \"date\": \"2021-03-03T00:00:00\", \"high\": 24.6200008392334, \"volume\": 6923689, \"close\": 24.530000686645508, \"open\": 24.059999465942383, \"low\": 24.030000686645508, \"adjclose\": 23.357789993286133, \"dividends\": 0.0}, {\"symbol\": \"WBC.AX\", \"date\": \"2021-03-04T00:00:00\", \"high\": 24.8700008392334, \"volume\": 10014282, \"close\": 24.84000015258789, \"open\": 24.799999237060547, \"low\": 24.43000030517578, \"adjclose\": 23.652976989746094, \"dividends\": 0.0}, {\"symbol\": \"WBC.AX\", \"date\": \"2021-03-05T00:00:00\", \"high\": 25.0, \"volume\": 7754868, \"close\": 24.8700008392334, \"open\": 24.81999969482422, \"low\": 24.649999618530273, \"adjclose\": 23.681543350219727, \"dividends\": 0.0}, {\"symbol\": \"WBC.AX\", \"date\": \"2021-03-08T00:00:00\", \"high\": 25.280000686645508, \"volume\": 5403844, \"close\": 24.739999771118164, \"open\": 25.100000381469727, \"low\": 24.700000762939453, \"adjclose\": 23.557754516601562, \"dividends\": 0.0}, {\"symbol\": \"WBC.AX\", \"date\": \"2021-03-09T00:00:00\", \"high\": 25.299999237060547, \"volume\": 6298195, \"close\": 24.920000076293945, \"open\": 25.079999923706055, \"low\": 24.8700008392334, \"adjclose\": 23.72915267944336, \"dividends\": 0.0}, {\"symbol\": \"WBC.AX\", \"date\": \"2021-03-10T00:00:00\", \"high\": 24.969999313354492, \"volume\": 4504867, \"close\": 24.600000381469727, \"open\": 24.829999923706055, \"low\": 24.579999923706055, \"adjclose\": 23.4244441986084, \"dividends\": 0.0}, {\"symbol\": \"WBC.AX\", \"date\": \"2021-03-11T00:00:00\", \"high\": 24.84000015258789, \"volume\": 6216274, \"close\": 24.530000686645508, \"open\": 24.68000030517578, \"low\": 24.329999923706055, \"adjclose\": 23.357789993286133, \"dividends\": 0.0}, {\"symbol\": \"WBC.AX\", \"date\": \"2021-03-12T00:00:00\", \"high\": 24.649999618530273, \"volume\": 4139949, \"close\": 24.450000762939453, \"open\": 24.600000381469727, \"low\": 24.399999618530273, \"adjclose\": 23.281614303588867, \"dividends\": 0.0}, {\"symbol\": \"WBC.AX\", \"date\": \"2021-03-15T00:00:00\", \"high\": 24.729999542236328, \"volume\": 4392730, \"close\": 24.579999923706055, \"open\": 24.540000915527344, \"low\": 24.34000015258789, \"adjclose\": 23.405399322509766, \"dividends\": 0.0}, {\"symbol\": \"WBC.AX\", \"date\": \"2021-03-16T00:00:00\", \"high\": 24.899999618530273, \"volume\": 5819629, \"close\": 24.729999542236328, \"open\": 24.649999618530273, \"low\": 24.459999084472656, \"adjclose\": 23.54823112487793, \"dividends\": 0.0}, {\"symbol\": \"WBC.AX\", \"date\": \"2021-03-17T00:00:00\", \"high\": 24.790000915527344, \"volume\": 4731339, \"close\": 24.670000076293945, \"open\": 24.690000534057617, \"low\": 24.5049991607666, \"adjclose\": 23.491100311279297, \"dividends\": 0.0}, {\"symbol\": \"WBC.AX\", \"date\": \"2021-03-18T00:00:00\", \"high\": 24.649999618530273, \"volume\": 7010572, \"close\": 24.440000534057617, \"open\": 24.440000534057617, \"low\": 24.3799991607666, \"adjclose\": 23.272090911865234, \"dividends\": 0.0}, {\"symbol\": \"WBC.AX\", \"date\": \"2021-03-19T00:00:00\", \"high\": 24.65999984741211, \"volume\": 17722276, \"close\": 24.520000457763672, \"open\": 24.360000610351562, \"low\": 24.329999923706055, \"adjclose\": 23.348268508911133, \"dividends\": 0.0}, {\"symbol\": \"WBC.AX\", \"date\": \"2021-03-22T00:00:00\", \"high\": 24.719999313354492, \"volume\": 4939978, \"close\": 24.65999984741211, \"open\": 24.479999542236328, \"low\": 24.280000686645508, \"adjclose\": 23.481576919555664, \"dividends\": 0.0}, {\"symbol\": \"WBC.AX\", \"date\": \"2021-03-23T00:00:00\", \"high\": 24.610000610351562, \"volume\": 6284485, \"close\": 24.43000030517578, \"open\": 24.489999771118164, \"low\": 24.350000381469727, \"adjclose\": 23.262569427490234, \"dividends\": 0.0}, {\"symbol\": \"WBC.AX\", \"date\": \"2021-03-24T00:00:00\", \"high\": 24.3700008392334, \"volume\": 6310570, \"close\": 24.190000534057617, \"open\": 24.299999237060547, \"low\": 24.059999465942383, \"adjclose\": 23.03403663635254, \"dividends\": 0.0}, {\"symbol\": \"WBC.AX\", \"date\": \"2021-03-25T00:00:00\", \"high\": 24.209999084472656, \"volume\": 5559320, \"close\": 24.1200008392334, \"open\": 24.049999237060547, \"low\": 24.010000228881836, \"adjclose\": 22.967382431030273, \"dividends\": 0.0}, {\"symbol\": \"WBC.AX\", \"date\": \"2021-03-26T00:00:00\", \"high\": 24.440000534057617, \"volume\": 5052780, \"close\": 24.34000015258789, \"open\": 24.170000076293945, \"low\": 24.15999984741211, \"adjclose\": 23.176868438720703, \"dividends\": 0.0}, {\"symbol\": \"WBC.AX\", \"date\": \"2021-03-29T00:00:00\", \"high\": 24.65999984741211, \"volume\": 5313079, \"close\": 24.34000015258789, \"open\": 24.399999618530273, \"low\": 24.229999542236328, \"adjclose\": 23.176868438720703, \"dividends\": 0.0}, {\"symbol\": \"WBC.AX\", \"date\": \"2021-03-30T00:00:00\", \"high\": 24.540000915527344, \"volume\": 6232996, \"close\": 24.360000610351562, \"open\": 24.450000762939453, \"low\": 24.190000534057617, \"adjclose\": 23.195913314819336, \"dividends\": 0.0}, {\"symbol\": \"WBC.AX\", \"date\": \"2021-03-31T00:00:00\", \"high\": 24.780000686645508, \"volume\": 7623677, \"close\": 24.40999984741211, \"open\": 24.450000762939453, \"low\": 24.40999984741211, \"adjclose\": 23.2435245513916, \"dividends\": 0.0}, {\"symbol\": \"WBC.AX\", \"date\": \"2021-04-01T00:00:00\", \"high\": 24.559999465942383, \"volume\": 4197192, \"close\": 24.540000915527344, \"open\": 24.420000076293945, \"low\": 24.260000228881836, \"adjclose\": 23.367313385009766, \"dividends\": 0.0}, {\"symbol\": \"WBC.AX\", \"date\": \"2021-04-06T00:00:00\", \"high\": 24.860000610351562, \"volume\": 4948766, \"close\": 24.700000762939453, \"open\": 24.75, \"low\": 24.610000610351562, \"adjclose\": 23.51966667175293, \"dividends\": 0.0}, {\"symbol\": \"WBC.AX\", \"date\": \"2021-04-07T00:00:00\", \"high\": 24.8700008392334, \"volume\": 4482088, \"close\": 24.84000015258789, \"open\": 24.709999084472656, \"low\": 24.59000015258789, \"adjclose\": 23.652976989746094, \"dividends\": 0.0}, {\"symbol\": \"WBC.AX\", \"date\": \"2021-04-08T00:00:00\", \"high\": 25.3799991607666, \"volume\": 7035601, \"close\": 25.15999984741211, \"open\": 25.170000076293945, \"low\": 24.959999084472656, \"adjclose\": 23.957683563232422, \"dividends\": 0.0}, {\"symbol\": \"WBC.AX\", \"date\": \"2021-04-09T00:00:00\", \"high\": 25.219999313354492, \"volume\": 4031591, \"close\": 25.209999084472656, \"open\": 25.1299991607666, \"low\": 24.940000534057617, \"adjclose\": 24.005294799804688, \"dividends\": 0.0}, {\"symbol\": \"WBC.AX\", \"date\": \"2021-04-12T00:00:00\", \"high\": 25.3799991607666, \"volume\": 3476635, \"close\": 25.299999237060547, \"open\": 25.200000762939453, \"low\": 25.170000076293945, \"adjclose\": 24.090993881225586, \"dividends\": 0.0}, {\"symbol\": \"WBC.AX\", \"date\": \"2021-04-13T00:00:00\", \"high\": 25.360000610351562, \"volume\": 3590515, \"close\": 25.309999465942383, \"open\": 25.239999771118164, \"low\": 25.200000762939453, \"adjclose\": 24.100515365600586, \"dividends\": 0.0}, {\"symbol\": \"WBC.AX\", \"date\": \"2021-04-14T00:00:00\", \"high\": 25.3799991607666, \"volume\": 5226936, \"close\": 25.329999923706055, \"open\": 25.190000534057617, \"low\": 24.969999313354492, \"adjclose\": 24.11956024169922, \"dividends\": 0.0}, {\"symbol\": \"WBC.AX\", \"date\": \"2021-04-15T00:00:00\", \"high\": 25.520000457763672, \"volume\": 5683675, \"close\": 25.5, \"open\": 25.299999237060547, \"low\": 25.1299991607666, \"adjclose\": 24.281436920166016, \"dividends\": 0.0}, {\"symbol\": \"WBC.AX\", \"date\": \"2021-04-16T00:00:00\", \"high\": 25.40999984741211, \"volume\": 5303151, \"close\": 25.31999969482422, \"open\": 25.350000381469727, \"low\": 25.15999984741211, \"adjclose\": 24.110036849975586, \"dividends\": 0.0}, {\"symbol\": \"WBC.AX\", \"date\": \"2021-04-19T00:00:00\", \"high\": 25.489999771118164, \"volume\": 3925295, \"close\": 25.360000610351562, \"open\": 25.440000534057617, \"low\": 25.329999923706055, \"adjclose\": 24.14812660217285, \"dividends\": 0.0}, {\"symbol\": \"WBC.AX\", \"date\": \"2021-04-20T00:00:00\", \"high\": 25.389999389648438, \"volume\": 4271830, \"close\": 25.239999771118164, \"open\": 25.299999237060547, \"low\": 25.219999313354492, \"adjclose\": 24.03386116027832, \"dividends\": 0.0}, {\"symbol\": \"WBC.AX\", \"date\": \"2021-04-21T00:00:00\", \"high\": 25.0, \"volume\": 7806973, \"close\": 24.979999542236328, \"open\": 24.920000076293945, \"low\": 24.6200008392334, \"adjclose\": 23.786285400390625, \"dividends\": 0.0}, {\"symbol\": \"WBC.AX\", \"date\": \"2021-04-22T00:00:00\", \"high\": 25.1299991607666, \"volume\": 5606725, \"close\": 25.110000610351562, \"open\": 25.030000686645508, \"low\": 24.940000534057617, \"adjclose\": 23.91007423400879, \"dividends\": 0.0}, {\"symbol\": \"WBC.AX\", \"date\": \"2021-04-23T00:00:00\", \"high\": 25.139999389648438, \"volume\": 3923382, \"close\": 25.1200008392334, \"open\": 25.030000686645508, \"low\": 24.979999542236328, \"adjclose\": 23.91959571838379, \"dividends\": 0.0}, {\"symbol\": \"WBC.AX\", \"date\": \"2021-04-26T00:00:00\", \"high\": 25.360000610351562, \"volume\": 3952356, \"close\": 25.079999923706055, \"open\": 25.18000030517578, \"low\": 25.079999923706055, \"adjclose\": 23.881507873535156, \"dividends\": 0.0}, {\"symbol\": \"WBC.AX\", \"date\": \"2021-04-27T00:00:00\", \"high\": 25.049999237060547, \"volume\": 4798314, \"close\": 24.989999771118164, \"open\": 25.030000686645508, \"low\": 24.864999771118164, \"adjclose\": 23.795808792114258, \"dividends\": 0.0}, {\"symbol\": \"WBC.AX\", \"date\": \"2021-04-28T00:00:00\", \"high\": 25.329999923706055, \"volume\": 6383563, \"close\": 25.299999237060547, \"open\": 25.15999984741211, \"low\": 25.1200008392334, \"adjclose\": 24.090993881225586, \"dividends\": 0.0}, {\"symbol\": \"WBC.AX\", \"date\": \"2021-04-29T00:00:00\", \"high\": 25.350000381469727, \"volume\": 4948296, \"close\": 25.190000534057617, \"open\": 25.299999237060547, \"low\": 25.149999618530273, \"adjclose\": 23.986251831054688, \"dividends\": 0.0}, {\"symbol\": \"WBC.AX\", \"date\": \"2021-04-30T00:00:00\", \"high\": 25.25, \"volume\": 7878907, \"close\": 24.979999542236328, \"open\": 25.190000534057617, \"low\": 24.959999084472656, \"adjclose\": 23.786285400390625, \"dividends\": 0.0}, {\"symbol\": \"WBC.AX\", \"date\": \"2021-05-03T00:00:00\", \"high\": 26.315000534057617, \"volume\": 16139700, \"close\": 26.229999542236328, \"open\": 25.709999084472656, \"low\": 25.6299991607666, \"adjclose\": 24.976552963256836, \"dividends\": 0.0}, {\"symbol\": \"WBC.AX\", \"date\": \"2021-05-04T00:00:00\", \"high\": 26.399999618530273, \"volume\": 7196366, \"close\": 25.989999771118164, \"open\": 26.3799991607666, \"low\": 25.809999465942383, \"adjclose\": 24.748022079467773, \"dividends\": 0.0}, {\"symbol\": \"WBC.AX\", \"date\": \"2021-05-05T00:00:00\", \"high\": 26.229999542236328, \"volume\": 6367722, \"close\": 25.959999084472656, \"open\": 26.15999984741211, \"low\": 25.899999618530273, \"adjclose\": 24.719453811645508, \"dividends\": 0.0}, {\"symbol\": \"WBC.AX\", \"date\": \"2021-05-06T00:00:00\", \"high\": 26.15999984741211, \"volume\": 7343573, \"close\": 26.020000457763672, \"open\": 26.15999984741211, \"low\": 25.760000228881836, \"adjclose\": 24.776588439941406, \"dividends\": 0.0}, {\"symbol\": \"WBC.AX\", \"date\": \"2021-05-07T00:00:00\", \"high\": 26.229999542236328, \"volume\": 5496310, \"close\": 26.09000015258789, \"open\": 26.0, \"low\": 25.899999618530273, \"adjclose\": 24.843242645263672, \"dividends\": 0.0}, {\"symbol\": \"WBC.AX\", \"date\": \"2021-05-10T00:00:00\", \"high\": 26.43000030517578, \"volume\": 5134497, \"close\": 26.420000076293945, \"open\": 26.149999618530273, \"low\": 26.139999389648438, \"adjclose\": 25.157472610473633, \"dividends\": 0.0}, {\"symbol\": \"WBC.AX\", \"date\": \"2021-05-11T00:00:00\", \"high\": 26.420000076293945, \"volume\": 8110986, \"close\": 26.079999923706055, \"open\": 26.200000762939453, \"low\": 26.040000915527344, \"adjclose\": 24.83371925354004, \"dividends\": 0.0}, {\"symbol\": \"WBC.AX\", \"date\": \"2021-05-12T00:00:00\", \"high\": 25.8700008392334, \"volume\": 9336042, \"close\": 25.770000457763672, \"open\": 25.809999465942383, \"low\": 25.510000228881836, \"adjclose\": 24.538536071777344, \"dividends\": 0.0}, {\"symbol\": \"WBC.AX\", \"date\": \"2021-05-13T00:00:00\", \"high\": 25.229999542236328, \"volume\": 15714303, \"close\": 25.190000534057617, \"open\": 25.209999084472656, \"low\": 25.049999237060547, \"adjclose\": 24.53853416442871, \"dividends\": 0.58}, {\"symbol\": \"WBC.AX\", \"date\": \"2021-05-14T00:00:00\", \"high\": 25.68000030517578, \"volume\": 6227628, \"close\": 25.40999984741211, \"open\": 25.540000915527344, \"low\": 25.389999389648438, \"adjclose\": 24.752843856811523, \"dividends\": 0.0}, {\"symbol\": \"WBC.AX\", \"date\": \"2021-05-17T00:00:00\", \"high\": 25.6200008392334, \"volume\": 4330017, \"close\": 25.329999923706055, \"open\": 25.459999084472656, \"low\": 25.299999237060547, \"adjclose\": 24.67491340637207, \"dividends\": 0.0}, {\"symbol\": \"WBC.AX\", \"date\": \"2021-05-18T00:00:00\", \"high\": 25.530000686645508, \"volume\": 5375597, \"close\": 25.459999084472656, \"open\": 25.350000381469727, \"low\": 25.299999237060547, \"adjclose\": 24.801549911499023, \"dividends\": 0.0}, {\"symbol\": \"WBC.AX\", \"date\": \"2021-05-19T00:00:00\", \"high\": 25.260000228881836, \"volume\": 8323461, \"close\": 25.18000030517578, \"open\": 25.079999923706055, \"low\": 25.040000915527344, \"adjclose\": 24.528793334960938, \"dividends\": 0.0}, {\"symbol\": \"WBC.AX\", \"date\": \"2021-05-20T00:00:00\", \"high\": 25.6200008392334, \"volume\": 6815461, \"close\": 25.520000457763672, \"open\": 25.299999237060547, \"low\": 25.209999084472656, \"adjclose\": 24.860000610351562, \"dividends\": 0.0}, {\"symbol\": \"WBC.AX\", \"date\": \"2021-05-21T00:00:00\", \"high\": 25.75, \"volume\": 6201726, \"close\": 25.649999618530273, \"open\": 25.600000381469727, \"low\": 25.559999465942383, \"adjclose\": 24.986637115478516, \"dividends\": 0.0}, {\"symbol\": \"WBC.AX\", \"date\": \"2021-05-24T00:00:00\", \"high\": 26.040000915527344, \"volume\": 5142624, \"close\": 25.979999542236328, \"open\": 25.75, \"low\": 25.75, \"adjclose\": 25.308101654052734, \"dividends\": 0.0}, {\"symbol\": \"WBC.AX\", \"date\": \"2021-05-25T00:00:00\", \"high\": 26.200000762939453, \"volume\": 4272751, \"close\": 26.200000762939453, \"open\": 26.079999923706055, \"low\": 25.9950008392334, \"adjclose\": 25.52241325378418, \"dividends\": 0.0}, {\"symbol\": \"WBC.AX\", \"date\": \"2021-05-26T00:00:00\", \"high\": 26.3799991607666, \"volume\": 5697789, \"close\": 26.270000457763672, \"open\": 26.200000762939453, \"low\": 26.149999618530273, \"adjclose\": 25.59060287475586, \"dividends\": 0.0}, {\"symbol\": \"WBC.AX\", \"date\": \"2021-05-27T00:00:00\", \"high\": 26.3799991607666, \"volume\": 10776555, \"close\": 26.09000015258789, \"open\": 26.3799991607666, \"low\": 26.09000015258789, \"adjclose\": 25.415258407592773, \"dividends\": 0.0}, {\"symbol\": \"WBC.AX\", \"date\": \"2021-05-28T00:00:00\", \"high\": 26.489999771118164, \"volume\": 6870449, \"close\": 26.459999084472656, \"open\": 26.280000686645508, \"low\": 26.2549991607666, \"adjclose\": 25.77568817138672, \"dividends\": 0.0}, {\"symbol\": \"WBC.AX\", \"date\": \"2021-05-31T00:00:00\", \"high\": 26.549999237060547, \"volume\": 5044864, \"close\": 26.420000076293945, \"open\": 26.469999313354492, \"low\": 26.329999923706055, \"adjclose\": 25.736722946166992, \"dividends\": 0.0}, {\"symbol\": \"WBC.AX\", \"date\": \"2021-06-01T00:00:00\", \"high\": 26.315000534057617, \"volume\": 3536923, \"close\": 26.200000762939453, \"open\": 26.290000915527344, \"low\": 26.110000610351562, \"adjclose\": 25.52241325378418, \"dividends\": 0.0}, {\"symbol\": \"WBC.AX\", \"date\": \"2021-06-02T00:00:00\", \"high\": 26.31999969482422, \"volume\": 4138204, \"close\": 26.219999313354492, \"open\": 26.270000457763672, \"low\": 26.110000610351562, \"adjclose\": 25.541894912719727, \"dividends\": 0.0}, {\"symbol\": \"WBC.AX\", \"date\": \"2021-06-03T00:00:00\", \"high\": 26.559999465942383, \"volume\": 5659744, \"close\": 26.5, \"open\": 26.350000381469727, \"low\": 26.334999084472656, \"adjclose\": 25.814655303955078, \"dividends\": 0.0}, {\"symbol\": \"WBC.AX\", \"date\": \"2021-06-04T00:00:00\", \"high\": 26.8799991607666, \"volume\": 5744699, \"close\": 26.8700008392334, \"open\": 26.600000381469727, \"low\": 26.59000015258789, \"adjclose\": 26.175086975097656, \"dividends\": 0.0}, {\"symbol\": \"WBC.AX\", \"date\": \"2021-06-07T00:00:00\", \"high\": 26.75, \"volume\": 4647935, \"close\": 26.6299991607666, \"open\": 26.690000534057617, \"low\": 26.540000915527344, \"adjclose\": 25.94129180908203, \"dividends\": 0.0}, {\"symbol\": \"WBC.AX\", \"date\": \"2021-06-08T00:00:00\", \"high\": 26.780000686645508, \"volume\": 4068260, \"close\": 26.729999542236328, \"open\": 26.600000381469727, \"low\": 26.600000381469727, \"adjclose\": 26.038705825805664, \"dividends\": 0.0}, {\"symbol\": \"WBC.AX\", \"date\": \"2021-06-09T00:00:00\", \"high\": 26.81999969482422, \"volume\": 5192381, \"close\": 26.549999237060547, \"open\": 26.68000030517578, \"low\": 26.520000457763672, \"adjclose\": 25.863361358642578, \"dividends\": 0.0}, {\"symbol\": \"WBC.AX\", \"date\": \"2021-06-10T00:00:00\", \"high\": 26.690000534057617, \"volume\": 3671786, \"close\": 26.59000015258789, \"open\": 26.600000381469727, \"low\": 26.479999542236328, \"adjclose\": 25.902326583862305, \"dividends\": 0.0}, {\"symbol\": \"WBC.AX\", \"date\": \"2021-06-11T00:00:00\", \"high\": 26.405000686645508, \"volume\": 4231033, \"close\": 26.290000915527344, \"open\": 26.309999465942383, \"low\": 26.18000030517578, \"adjclose\": 25.61008644104004, \"dividends\": 0.0}, {\"symbol\": \"WBC.AX\", \"date\": \"2021-06-15T00:00:00\", \"high\": 26.68000030517578, \"volume\": 5026151, \"close\": 26.549999237060547, \"open\": 26.3799991607666, \"low\": 26.3700008392334, \"adjclose\": 25.863361358642578, \"dividends\": 0.0}, {\"symbol\": \"WBC.AX\", \"date\": \"2021-06-16T00:00:00\", \"high\": 26.729999542236328, \"volume\": 5993712, \"close\": 26.549999237060547, \"open\": 26.700000762939453, \"low\": 26.549999237060547, \"adjclose\": 25.863361358642578, \"dividends\": 0.0}, {\"symbol\": \"WBC.AX\", \"date\": \"2021-06-17T00:00:00\", \"high\": 27.1200008392334, \"volume\": 10341827, \"close\": 26.940000534057617, \"open\": 26.799999237060547, \"low\": 26.719999313354492, \"adjclose\": 26.243274688720703, \"dividends\": 0.0}, {\"symbol\": \"WBC.AX\", \"date\": \"2021-06-18T00:00:00\", \"high\": 26.975000381469727, \"volume\": 13927785, \"close\": 26.8799991607666, \"open\": 26.739999771118164, \"low\": 26.719999313354492, \"adjclose\": 26.184825897216797, \"dividends\": 0.0}, {\"symbol\": \"WBC.AX\", \"date\": \"2021-06-21T00:00:00\", \"high\": 26.399999618530273, \"volume\": 6311087, \"close\": 26.149999618530273, \"open\": 26.399999618530273, \"low\": 26.075000762939453, \"adjclose\": 25.473705291748047, \"dividends\": 0.0}, {\"symbol\": \"WBC.AX\", \"date\": \"2021-06-22T00:00:00\", \"high\": 26.799999237060547, \"volume\": 5969480, \"close\": 26.610000610351562, \"open\": 26.600000381469727, \"low\": 26.520000457763672, \"adjclose\": 25.921810150146484, \"dividends\": 0.0}, {\"symbol\": \"WBC.AX\", \"date\": \"2021-06-23T00:00:00\", \"high\": 26.450000762939453, \"volume\": 6732031, \"close\": 26.079999923706055, \"open\": 26.450000762939453, \"low\": 26.079999923706055, \"adjclose\": 25.405515670776367, \"dividends\": 0.0}, {\"symbol\": \"WBC.AX\", \"date\": \"2021-06-24T00:00:00\", \"high\": 26.040000915527344, \"volume\": 6208873, \"close\": 25.829999923706055, \"open\": 26.010000228881836, \"low\": 25.725000381469727, \"adjclose\": 25.1619815826416, \"dividends\": 0.0}, {\"symbol\": \"WBC.AX\", \"date\": \"2021-06-25T00:00:00\", \"high\": 26.18000030517578, \"volume\": 4701759, \"close\": 25.889999389648438, \"open\": 26.100000381469727, \"low\": 25.860000610351562, \"adjclose\": 25.220430374145508, \"dividends\": 0.0}, {\"symbol\": \"WBC.AX\", \"date\": \"2021-06-28T00:00:00\", \"high\": 25.8700008392334, \"volume\": 4082681, \"close\": 25.81999969482422, \"open\": 25.860000610351562, \"low\": 25.6200008392334, \"adjclose\": 25.152240753173828, \"dividends\": 0.0}, {\"symbol\": \"WBC.AX\", \"date\": \"2021-06-29T00:00:00\", \"high\": 25.889999389648438, \"volume\": 4315422, \"close\": 25.860000610351562, \"open\": 25.649999618530273, \"low\": 25.55500030517578, \"adjclose\": 25.191205978393555, \"dividends\": 0.0}, {\"symbol\": \"WBC.AX\", \"date\": \"2021-06-30T00:00:00\", \"high\": 26.100000381469727, \"volume\": 4755199, \"close\": 25.809999465942383, \"open\": 25.940000534057617, \"low\": 25.809999465942383, \"adjclose\": 25.142498016357422, \"dividends\": 0.0}, {\"symbol\": \"WBC.AX\", \"date\": \"2021-07-01T00:00:00\", \"high\": 25.940000534057617, \"volume\": 3863747, \"close\": 25.649999618530273, \"open\": 25.940000534057617, \"low\": 25.610000610351562, \"adjclose\": 24.986637115478516, \"dividends\": 0.0}, {\"symbol\": \"WBC.AX\", \"date\": \"2021-07-02T00:00:00\", \"high\": 25.90999984741211, \"volume\": 4852047, \"close\": 25.639999389648438, \"open\": 25.799999237060547, \"low\": 25.559999465942383, \"adjclose\": 24.97689437866211, \"dividends\": 0.0}, {\"symbol\": \"WBC.AX\", \"date\": \"2021-07-05T00:00:00\", \"high\": 25.729999542236328, \"volume\": 3965667, \"close\": 25.530000686645508, \"open\": 25.579999923706055, \"low\": 25.479999542236328, \"adjclose\": 24.869741439819336, \"dividends\": 0.0}, {\"symbol\": \"WBC.AX\", \"date\": \"2021-07-06T00:00:00\", \"high\": 25.75, \"volume\": 3784251, \"close\": 25.450000762939453, \"open\": 25.649999618530273, \"low\": 25.450000762939453, \"adjclose\": 24.791810989379883, \"dividends\": 0.0}, {\"symbol\": \"WBC.AX\", \"date\": \"2021-07-07T00:00:00\", \"high\": 25.639999389648438, \"volume\": 3270758, \"close\": 25.600000381469727, \"open\": 25.299999237060547, \"low\": 25.299999237060547, \"adjclose\": 24.937931060791016, \"dividends\": 0.0}, {\"symbol\": \"WBC.AX\", \"date\": \"2021-07-08T00:00:00\", \"high\": 25.729999542236328, \"volume\": 3028023, \"close\": 25.530000686645508, \"open\": 25.600000381469727, \"low\": 25.440000534057617, \"adjclose\": 24.869741439819336, \"dividends\": 0.0}, {\"symbol\": \"WBC.AX\", \"date\": \"2021-07-09T00:00:00\", \"high\": 25.3700008392334, \"volume\": 5603131, \"close\": 25.3700008392334, \"open\": 25.290000915527344, \"low\": 25.170000076293945, \"adjclose\": 24.713878631591797, \"dividends\": 0.0}, {\"symbol\": \"WBC.AX\", \"date\": \"2021-07-12T00:00:00\", \"high\": 25.6299991607666, \"volume\": 3092332, \"close\": 25.520000457763672, \"open\": 25.540000915527344, \"low\": 25.459999084472656, \"adjclose\": 24.860000610351562, \"dividends\": 0.0}, {\"symbol\": \"WBC.AX\", \"date\": \"2021-07-13T00:00:00\", \"high\": 25.760000228881836, \"volume\": 6903250, \"close\": 25.329999923706055, \"open\": 25.700000762939453, \"low\": 25.329999923706055, \"adjclose\": 24.67491340637207, \"dividends\": 0.0}, {\"symbol\": \"WBC.AX\", \"date\": \"2021-07-14T00:00:00\", \"high\": 25.40999984741211, \"volume\": 6256810, \"close\": 25.270000457763672, \"open\": 25.299999237060547, \"low\": 25.170000076293945, \"adjclose\": 24.616464614868164, \"dividends\": 0.0}, {\"symbol\": \"WBC.AX\", \"date\": \"2021-07-15T00:00:00\", \"high\": 25.260000228881836, \"volume\": 6903675, \"close\": 24.989999771118164, \"open\": 25.239999771118164, \"low\": 24.969999313354492, \"adjclose\": 24.343706130981445, \"dividends\": 0.0}, {\"symbol\": \"WBC.AX\", \"date\": \"2021-07-16T00:00:00\", \"high\": 24.950000762939453, \"volume\": 5496313, \"close\": 24.90999984741211, \"open\": 24.889999389648438, \"low\": 24.780000686645508, \"adjclose\": 24.265775680541992, \"dividends\": 0.0}, {\"symbol\": \"WBC.AX\", \"date\": \"2021-07-19T00:00:00\", \"high\": 24.760000228881836, \"volume\": 4841080, \"close\": 24.690000534057617, \"open\": 24.5, \"low\": 24.329999923706055, \"adjclose\": 24.05146598815918, \"dividends\": 0.0}, {\"symbol\": \"WBC.AX\", \"date\": \"2021-07-20T00:00:00\", \"high\": 24.670000076293945, \"volume\": 7344904, \"close\": 24.520000457763672, \"open\": 24.280000686645508, \"low\": 24.1299991607666, \"adjclose\": 23.885862350463867, \"dividends\": 0.0}, {\"symbol\": \"WBC.AX\", \"date\": \"2021-07-21T00:00:00\", \"high\": 24.920000076293945, \"volume\": 5212250, \"close\": 24.760000228881836, \"open\": 24.700000762939453, \"low\": 24.690000534057617, \"adjclose\": 24.11965560913086, \"dividends\": 0.0}, {\"symbol\": \"WBC.AX\", \"date\": \"2021-07-22T00:00:00\", \"high\": 24.93000030517578, \"volume\": 5058349, \"close\": 24.93000030517578, \"open\": 24.829999923706055, \"low\": 24.75, \"adjclose\": 24.28525733947754, \"dividends\": 0.0}, {\"symbol\": \"WBC.AX\", \"date\": \"2021-07-23T00:00:00\", \"high\": 24.81999969482422, \"volume\": 3593670, \"close\": 24.709999084472656, \"open\": 24.600000381469727, \"low\": 24.600000381469727, \"adjclose\": 24.070945739746094, \"dividends\": 0.0}, {\"symbol\": \"WBC.AX\", \"date\": \"2021-07-26T00:00:00\", \"high\": 24.760000228881836, \"volume\": 4340960, \"close\": 24.6200008392334, \"open\": 24.709999084472656, \"low\": 24.530000686645508, \"adjclose\": 23.9832763671875, \"dividends\": 0.0}, {\"symbol\": \"WBC.AX\", \"date\": \"2021-07-27T00:00:00\", \"high\": 24.829999923706055, \"volume\": 4923996, \"close\": 24.790000915527344, \"open\": 24.700000762939453, \"low\": 24.56999969482422, \"adjclose\": 24.148880004882812, \"dividends\": 0.0}, {\"symbol\": \"WBC.AX\", \"date\": \"2021-07-28T00:00:00\", \"high\": 24.829999923706055, \"volume\": 5082416, \"close\": 24.559999465942383, \"open\": 24.790000915527344, \"low\": 24.540000915527344, \"adjclose\": 23.92482566833496, \"dividends\": 0.0}, {\"symbol\": \"WBC.AX\", \"date\": \"2021-07-29T00:00:00\", \"high\": 24.584999084472656, \"volume\": 4118012, \"close\": 24.520000457763672, \"open\": 24.520000457763672, \"low\": 24.450000762939453, \"adjclose\": 23.885862350463867, \"dividends\": 0.0}, {\"symbol\": \"WBC.AX\", \"date\": \"2021-07-30T00:00:00\", \"high\": 24.65999984741211, \"volume\": 4467094, \"close\": 24.520000457763672, \"open\": 24.559999465942383, \"low\": 24.510000228881836, \"adjclose\": 23.885862350463867, \"dividends\": 0.0}, {\"symbol\": \"WBC.AX\", \"date\": \"2021-08-02T00:00:00\", \"high\": 25.100000381469727, \"volume\": 5337687, \"close\": 25.030000686645508, \"open\": 24.649999618530273, \"low\": 24.6299991607666, \"adjclose\": 24.382673263549805, \"dividends\": 0.0}, {\"symbol\": \"WBC.AX\", \"date\": \"2021-08-03T00:00:00\", \"high\": 24.9950008392334, \"volume\": 4714791, \"close\": 24.799999237060547, \"open\": 24.950000762939453, \"low\": 24.700000762939453, \"adjclose\": 24.158618927001953, \"dividends\": 0.0}, {\"symbol\": \"WBC.AX\", \"date\": \"2021-08-04T00:00:00\", \"high\": 24.940000534057617, \"volume\": 4835657, \"close\": 24.84000015258789, \"open\": 24.899999618530273, \"low\": 24.719999313354492, \"adjclose\": 24.197586059570312, \"dividends\": 0.0}, {\"symbol\": \"WBC.AX\", \"date\": \"2021-08-05T00:00:00\", \"high\": 24.959999084472656, \"volume\": 4631332, \"close\": 24.889999389648438, \"open\": 24.899999618530273, \"low\": 24.81999969482422, \"adjclose\": 24.246292114257812, \"dividends\": 0.0}, {\"symbol\": \"WBC.AX\", \"date\": \"2021-08-06T00:00:00\", \"high\": 25.1200008392334, \"volume\": 3993772, \"close\": 25.1200008392334, \"open\": 24.950000762939453, \"low\": 24.920000076293945, \"adjclose\": 24.47034454345703, \"dividends\": 0.0}, {\"symbol\": \"WBC.AX\", \"date\": \"2021-08-09T00:00:00\", \"high\": 25.549999237060547, \"volume\": 4880739, \"close\": 25.360000610351562, \"open\": 25.25, \"low\": 25.25, \"adjclose\": 24.704137802124023, \"dividends\": 0.0}, {\"symbol\": \"WBC.AX\", \"date\": \"2021-08-10T00:00:00\", \"high\": 25.600000381469727, \"volume\": 4393221, \"close\": 25.579999923706055, \"open\": 25.530000686645508, \"low\": 25.399999618530273, \"adjclose\": 24.918447494506836, \"dividends\": 0.0}, {\"symbol\": \"WBC.AX\", \"date\": \"2021-08-11T00:00:00\", \"high\": 25.940000534057617, \"volume\": 6494781, \"close\": 25.770000457763672, \"open\": 25.670000076293945, \"low\": 25.670000076293945, \"adjclose\": 25.103534698486328, \"dividends\": 0.0}, {\"symbol\": \"WBC.AX\", \"date\": \"2021-08-12T00:00:00\", \"high\": 26.06999969482422, \"volume\": 5499418, \"close\": 25.760000228881836, \"open\": 26.0, \"low\": 25.649999618530273, \"adjclose\": 25.093791961669922, \"dividends\": 0.0}, {\"symbol\": \"WBC.AX\", \"date\": \"2021-08-13T00:00:00\", \"high\": 26.190000534057617, \"volume\": 8336416, \"close\": 26.15999984741211, \"open\": 25.850000381469727, \"low\": 25.84000015258789, \"adjclose\": 25.483448028564453, \"dividends\": 0.0}, {\"symbol\": \"WBC.AX\", \"date\": \"2021-08-16T00:00:00\", \"high\": 26.114999771118164, \"volume\": 6592571, \"close\": 25.790000915527344, \"open\": 26.110000610351562, \"low\": 25.790000915527344, \"adjclose\": 25.123018264770508, \"dividends\": 0.0}, {\"symbol\": \"WBC.AX\", \"date\": \"2021-08-17T00:00:00\", \"high\": 25.75, \"volume\": 7196978, \"close\": 25.450000762939453, \"open\": 25.75, \"low\": 25.260000228881836, \"adjclose\": 24.791810989379883, \"dividends\": 0.0}, {\"symbol\": \"WBC.AX\", \"date\": \"2021-08-18T00:00:00\", \"high\": 25.959999084472656, \"volume\": 5800750, \"close\": 25.809999465942383, \"open\": 25.649999618530273, \"low\": 25.489999771118164, \"adjclose\": 25.142498016357422, \"dividends\": 0.0}, {\"symbol\": \"WBC.AX\", \"date\": \"2021-08-19T00:00:00\", \"high\": 25.889999389648438, \"volume\": 4807719, \"close\": 25.81999969482422, \"open\": 25.739999771118164, \"low\": 25.670000076293945, \"adjclose\": 25.152240753173828, \"dividends\": 0.0}, {\"symbol\": \"WBC.AX\", \"date\": \"2021-08-20T00:00:00\", \"high\": 25.959999084472656, \"volume\": 5884950, \"close\": 25.760000228881836, \"open\": 25.829999923706055, \"low\": 25.68000030517578, \"adjclose\": 25.093791961669922, \"dividends\": 0.0}, {\"symbol\": \"WBC.AX\", \"date\": \"2021-08-23T00:00:00\", \"high\": 25.84000015258789, \"volume\": 3608218, \"close\": 25.780000686645508, \"open\": 25.809999465942383, \"low\": 25.65999984741211, \"adjclose\": 25.1132755279541, \"dividends\": 0.0}, {\"symbol\": \"WBC.AX\", \"date\": \"2021-08-24T00:00:00\", \"high\": 25.959999084472656, \"volume\": 4079721, \"close\": 25.90999984741211, \"open\": 25.81999969482422, \"low\": 25.770000457763672, \"adjclose\": 25.239912033081055, \"dividends\": 0.0}, {\"symbol\": \"WBC.AX\", \"date\": \"2021-08-25T00:00:00\", \"high\": 26.149999618530273, \"volume\": 4652252, \"close\": 26.149999618530273, \"open\": 25.90999984741211, \"low\": 25.850000381469727, \"adjclose\": 25.473705291748047, \"dividends\": 0.0}, {\"symbol\": \"WBC.AX\", \"date\": \"2021-08-26T00:00:00\", \"high\": 26.1299991607666, \"volume\": 3215792, \"close\": 26.010000228881836, \"open\": 26.1299991607666, \"low\": 25.920000076293945, \"adjclose\": 25.33732795715332, \"dividends\": 0.0}, {\"symbol\": \"WBC.AX\", \"date\": \"2021-08-27T00:00:00\", \"high\": 26.0, \"volume\": 3041982, \"close\": 25.989999771118164, \"open\": 25.860000610351562, \"low\": 25.834999084472656, \"adjclose\": 25.31784439086914, \"dividends\": 0.0}, {\"symbol\": \"WBC.AX\", \"date\": \"2021-08-30T00:00:00\", \"high\": 26.0, \"volume\": 3870481, \"close\": 25.799999237060547, \"open\": 25.989999771118164, \"low\": 25.65999984741211, \"adjclose\": 25.13275718688965, \"dividends\": 0.0}, {\"symbol\": \"WBC.AX\", \"date\": \"2021-08-31T00:00:00\", \"high\": 25.899999618530273, \"volume\": 7187581, \"close\": 25.81999969482422, \"open\": 25.719999313354492, \"low\": 25.600000381469727, \"adjclose\": 25.152240753173828, \"dividends\": 0.0}, {\"symbol\": \"WBC.AX\", \"date\": \"2021-09-01T00:00:00\", \"high\": 26.110000610351562, \"volume\": 5362603, \"close\": 26.110000610351562, \"open\": 25.6299991607666, \"low\": 25.6299991607666, \"adjclose\": 25.434741973876953, \"dividends\": 0.0}, {\"symbol\": \"WBC.AX\", \"date\": \"2021-09-02T00:00:00\", \"high\": 26.219999313354492, \"volume\": 4608420, \"close\": 26.030000686645508, \"open\": 26.1299991607666, \"low\": 25.915000915527344, \"adjclose\": 25.356809616088867, \"dividends\": 0.0}, {\"symbol\": \"WBC.AX\", \"date\": \"2021-09-03T00:00:00\", \"high\": 26.094999313354492, \"volume\": 3221700, \"close\": 26.020000457763672, \"open\": 26.049999237060547, \"low\": 25.899999618530273, \"adjclose\": 25.347068786621094, \"dividends\": 0.0}, {\"symbol\": \"WBC.AX\", \"date\": \"2021-09-06T00:00:00\", \"high\": 25.989999771118164, \"volume\": 3889635, \"close\": 25.989999771118164, \"open\": 25.8799991607666, \"low\": 25.670000076293945, \"adjclose\": 25.31784439086914, \"dividends\": 0.0}, {\"symbol\": \"WBC.AX\", \"date\": \"2021-09-07T00:00:00\", \"high\": 26.049999237060547, \"volume\": 3039361, \"close\": 26.030000686645508, \"open\": 25.90999984741211, \"low\": 25.809999465942383, \"adjclose\": 25.356809616088867, \"dividends\": 0.0}, {\"symbol\": \"WBC.AX\", \"date\": \"2021-09-08T00:00:00\", \"high\": 26.139999389648438, \"volume\": 4588043, \"close\": 26.09000015258789, \"open\": 25.889999389648438, \"low\": 25.8700008392334, \"adjclose\": 25.415258407592773, \"dividends\": 0.0}, {\"symbol\": \"WBC.AX\", \"date\": \"2021-09-09T00:00:00\", \"high\": 25.959999084472656, \"volume\": 6285165, \"close\": 25.600000381469727, \"open\": 25.940000534057617, \"low\": 25.469999313354492, \"adjclose\": 24.937931060791016, \"dividends\": 0.0}, {\"symbol\": \"WBC.AX\", \"date\": \"2021-09-10T00:00:00\", \"high\": 25.90999984741211, \"volume\": 3862459, \"close\": 25.649999618530273, \"open\": 25.860000610351562, \"low\": 25.56999969482422, \"adjclose\": 24.986637115478516, \"dividends\": 0.0}, {\"symbol\": \"WBC.AX\", \"date\": \"2021-09-13T00:00:00\", \"high\": 25.709999084472656, \"volume\": 3159366, \"close\": 25.639999389648438, \"open\": 25.649999618530273, \"low\": 25.5, \"adjclose\": 24.97689437866211, \"dividends\": 0.0}, {\"symbol\": \"WBC.AX\", \"date\": \"2021-09-14T00:00:00\", \"high\": 25.84000015258789, \"volume\": 5793640, \"close\": 25.719999313354492, \"open\": 25.700000762939453, \"low\": 25.479999542236328, \"adjclose\": 25.054826736450195, \"dividends\": 0.0}, {\"symbol\": \"WBC.AX\", \"date\": \"2021-09-15T00:00:00\", \"high\": 25.899999618530273, \"volume\": 4874131, \"close\": 25.790000915527344, \"open\": 25.6299991607666, \"low\": 25.459999084472656, \"adjclose\": 25.123018264770508, \"dividends\": 0.0}, {\"symbol\": \"WBC.AX\", \"date\": \"2021-09-16T00:00:00\", \"high\": 26.059999465942383, \"volume\": 7311386, \"close\": 26.0, \"open\": 25.700000762939453, \"low\": 25.700000762939453, \"adjclose\": 25.327585220336914, \"dividends\": 0.0}, {\"symbol\": \"WBC.AX\", \"date\": \"2021-09-17T00:00:00\", \"high\": 26.020000457763672, \"volume\": 10104216, \"close\": 25.8799991607666, \"open\": 25.950000762939453, \"low\": 25.719999313354492, \"adjclose\": 25.2106876373291, \"dividends\": 0.0}, {\"symbol\": \"WBC.AX\", \"date\": \"2021-09-20T00:00:00\", \"high\": 25.760000228881836, \"volume\": 5516428, \"close\": 25.299999237060547, \"open\": 25.639999389648438, \"low\": 25.260000228881836, \"adjclose\": 24.645689010620117, \"dividends\": 0.0}, {\"symbol\": \"WBC.AX\", \"date\": \"2021-09-21T00:00:00\", \"high\": 25.239999771118164, \"volume\": 5100209, \"close\": 25.190000534057617, \"open\": 25.0, \"low\": 24.899999618530273, \"adjclose\": 24.53853416442871, \"dividends\": 0.0}, {\"symbol\": \"WBC.AX\", \"date\": \"2021-09-22T00:00:00\", \"high\": 25.059999465942383, \"volume\": 5924150, \"close\": 24.90999984741211, \"open\": 24.940000534057617, \"low\": 24.899999618530273, \"adjclose\": 24.265775680541992, \"dividends\": 0.0}, {\"symbol\": \"WBC.AX\", \"date\": \"2021-09-23T00:00:00\", \"high\": 25.190000534057617, \"volume\": 5614383, \"close\": 25.06999969482422, \"open\": 25.1299991607666, \"low\": 25.030000686645508, \"adjclose\": 24.4216365814209, \"dividends\": 0.0}, {\"symbol\": \"WBC.AX\", \"date\": \"2021-09-24T00:00:00\", \"high\": 25.299999237060547, \"volume\": 5185619, \"close\": 25.25, \"open\": 25.200000762939453, \"low\": 25.139999389648438, \"adjclose\": 24.596982955932617, \"dividends\": 0.0}, {\"symbol\": \"WBC.AX\", \"date\": \"2021-09-27T00:00:00\", \"high\": 25.639999389648438, \"volume\": 5134742, \"close\": 25.459999084472656, \"open\": 25.389999389648438, \"low\": 25.3700008392334, \"adjclose\": 24.801549911499023, \"dividends\": 0.0}, {\"symbol\": \"WBC.AX\", \"date\": \"2021-09-28T00:00:00\", \"high\": 25.6200008392334, \"volume\": 5698793, \"close\": 25.309999465942383, \"open\": 25.5, \"low\": 25.270000457763672, \"adjclose\": 24.65542984008789, \"dividends\": 0.0}, {\"symbol\": \"WBC.AX\", \"date\": \"2021-09-29T00:00:00\", \"high\": 25.299999237060547, \"volume\": 5875567, \"close\": 25.170000076293945, \"open\": 25.139999389648438, \"low\": 25.0, \"adjclose\": 24.51905059814453, \"dividends\": 0.0}, {\"symbol\": \"WBC.AX\", \"date\": \"2021-09-30T00:00:00\", \"high\": 26.0, \"volume\": 10871264, \"close\": 26.0, \"open\": 25.399999618530273, \"low\": 25.389999389648438, \"adjclose\": 25.327585220336914, \"dividends\": 0.0}, {\"symbol\": \"WBC.AX\", \"date\": \"2021-10-01T00:00:00\", \"high\": 25.610000610351562, \"volume\": 6978134, \"close\": 25.40999984741211, \"open\": 25.610000610351562, \"low\": 25.229999542236328, \"adjclose\": 24.752843856811523, \"dividends\": 0.0}, {\"symbol\": \"WBC.AX\", \"date\": \"2021-10-04T00:00:00\", \"high\": 26.0, \"volume\": 5168696, \"close\": 25.950000762939453, \"open\": 25.829999923706055, \"low\": 25.700000762939453, \"adjclose\": 25.278879165649414, \"dividends\": 0.0}, {\"symbol\": \"WBC.AX\", \"date\": \"2021-10-05T00:00:00\", \"high\": 25.969999313354492, \"volume\": 7490355, \"close\": 25.809999465942383, \"open\": 25.8799991607666, \"low\": 25.56999969482422, \"adjclose\": 25.142498016357422, \"dividends\": 0.0}, {\"symbol\": \"WBC.AX\", \"date\": \"2021-10-06T00:00:00\", \"high\": 25.920000076293945, \"volume\": 5269343, \"close\": 25.649999618530273, \"open\": 25.860000610351562, \"low\": 25.469999313354492, \"adjclose\": 24.986637115478516, \"dividends\": 0.0}, {\"symbol\": \"WBC.AX\", \"date\": \"2021-10-07T00:00:00\", \"high\": 26.06999969482422, \"volume\": 6901915, \"close\": 26.010000228881836, \"open\": 25.809999465942383, \"low\": 25.670000076293945, \"adjclose\": 25.33732795715332, \"dividends\": 0.0}, {\"symbol\": \"WBC.AX\", \"date\": \"2021-10-08T00:00:00\", \"high\": 26.09000015258789, \"volume\": 7412866, \"close\": 25.959999084472656, \"open\": 26.079999923706055, \"low\": 25.719999313354492, \"adjclose\": 25.288619995117188, \"dividends\": 0.0}, {\"symbol\": \"WBC.AX\", \"date\": \"2021-10-11T00:00:00\", \"high\": 26.09000015258789, \"volume\": 6860005, \"close\": 26.059999465942383, \"open\": 25.790000915527344, \"low\": 25.75, \"adjclose\": 25.38603401184082, \"dividends\": 0.0}, {\"symbol\": \"WBC.AX\", \"date\": \"2021-10-12T00:00:00\", \"high\": 25.989999771118164, \"volume\": 7888013, \"close\": 25.6299991607666, \"open\": 25.799999237060547, \"low\": 25.440000534057617, \"adjclose\": 24.967153549194336, \"dividends\": 0.0}, {\"symbol\": \"WBC.AX\", \"date\": \"2021-10-13T00:00:00\", \"high\": 25.549999237060547, \"volume\": 5960351, \"close\": 25.299999237060547, \"open\": 25.549999237060547, \"low\": 25.200000762939453, \"adjclose\": 24.645689010620117, \"dividends\": 0.0}, {\"symbol\": \"WBC.AX\", \"date\": \"2021-10-14T00:00:00\", \"high\": 25.559999465942383, \"volume\": 4714356, \"close\": 25.270000457763672, \"open\": 25.299999237060547, \"low\": 25.270000457763672, \"adjclose\": 24.616464614868164, \"dividends\": 0.0}, {\"symbol\": \"WBC.AX\", \"date\": \"2021-10-15T00:00:00\", \"high\": 25.510000228881836, \"volume\": 3710101, \"close\": 25.389999389648438, \"open\": 25.389999389648438, \"low\": 25.25, \"adjclose\": 24.733360290527344, \"dividends\": 0.0}, {\"symbol\": \"WBC.AX\", \"date\": \"2021-10-18T00:00:00\", \"high\": 25.729999542236328, \"volume\": 3315029, \"close\": 25.579999923706055, \"open\": 25.600000381469727, \"low\": 25.510000228881836, \"adjclose\": 24.918447494506836, \"dividends\": 0.0}, {\"symbol\": \"WBC.AX\", \"date\": \"2021-10-19T00:00:00\", \"high\": 25.670000076293945, \"volume\": 3498064, \"close\": 25.479999542236328, \"open\": 25.540000915527344, \"low\": 25.479999542236328, \"adjclose\": 24.821033477783203, \"dividends\": 0.0}, {\"symbol\": \"WBC.AX\", \"date\": \"2021-10-20T00:00:00\", \"high\": 25.799999237060547, \"volume\": 5466887, \"close\": 25.68000030517578, \"open\": 25.56999969482422, \"low\": 25.530000686645508, \"adjclose\": 25.01586151123047, \"dividends\": 0.0}, {\"symbol\": \"WBC.AX\", \"date\": \"2021-10-21T00:00:00\", \"high\": 25.8799991607666, \"volume\": 6495075, \"close\": 25.829999923706055, \"open\": 25.770000457763672, \"low\": 25.670000076293945, \"adjclose\": 25.1619815826416, \"dividends\": 0.0}, {\"symbol\": \"WBC.AX\", \"date\": \"2021-10-22T00:00:00\", \"high\": 25.770000457763672, \"volume\": 4546300, \"close\": 25.739999771118164, \"open\": 25.709999084472656, \"low\": 25.559999465942383, \"adjclose\": 25.074310302734375, \"dividends\": 0.0}, {\"symbol\": \"WBC.AX\", \"date\": \"2021-10-25T00:00:00\", \"high\": 25.899999618530273, \"volume\": 3166667, \"close\": 25.709999084472656, \"open\": 25.809999465942383, \"low\": 25.670000076293945, \"adjclose\": 25.04508399963379, \"dividends\": 0.0}, {\"symbol\": \"WBC.AX\", \"date\": \"2021-10-26T00:00:00\", \"high\": 25.90999984741211, \"volume\": 2900146, \"close\": 25.790000915527344, \"open\": 25.780000686645508, \"low\": 25.739999771118164, \"adjclose\": 25.123018264770508, \"dividends\": 0.0}, {\"symbol\": \"WBC.AX\", \"date\": \"2021-10-27T00:00:00\", \"high\": 26.190000534057617, \"volume\": 5443851, \"close\": 25.950000762939453, \"open\": 25.899999618530273, \"low\": 25.809999465942383, \"adjclose\": 25.278879165649414, \"dividends\": 0.0}, {\"symbol\": \"WBC.AX\", \"date\": \"2021-10-28T00:00:00\", \"high\": 26.25, \"volume\": 6313561, \"close\": 26.229999542236328, \"open\": 25.989999771118164, \"low\": 25.959999084472656, \"adjclose\": 25.551637649536133, \"dividends\": 0.0}, {\"symbol\": \"WBC.AX\", \"date\": \"2021-10-29T00:00:00\", \"high\": 26.440000534057617, \"volume\": 7936427, \"close\": 25.670000076293945, \"open\": 26.34000015258789, \"low\": 25.670000076293945, \"adjclose\": 25.006120681762695, \"dividends\": 0.0}, {\"symbol\": \"WBC.AX\", \"date\": \"2021-11-01T00:00:00\", \"high\": 24.700000762939453, \"volume\": 36262379, \"close\": 23.780000686645508, \"open\": 24.5, \"low\": 23.780000686645508, \"adjclose\": 23.165000915527344, \"dividends\": 0.0}, {\"symbol\": \"WBC.AX\", \"date\": \"2021-11-02T00:00:00\", \"high\": 23.950000762939453, \"volume\": 21163708, \"close\": 23.1299991607666, \"open\": 23.950000762939453, \"low\": 23.0, \"adjclose\": 22.531808853149414, \"dividends\": 0.0}, {\"symbol\": \"WBC.AX\", \"date\": \"2021-11-03T00:00:00\", \"high\": 23.540000915527344, \"volume\": 17407560, \"close\": 23.149999618530273, \"open\": 23.440000534057617, \"low\": 23.149999618530273, \"adjclose\": 22.551292419433594, \"dividends\": 0.0}, {\"symbol\": \"WBC.AX\", \"date\": \"2021-11-04T00:00:00\", \"high\": 23.299999237060547, \"volume\": 12864818, \"close\": 23.200000762939453, \"open\": 23.219999313354492, \"low\": 23.079999923706055, \"adjclose\": 22.600000381469727, \"dividends\": 0.0}, {\"symbol\": \"WBC.AX\", \"date\": \"2021-11-05T00:00:00\", \"high\": 22.709999084472656, \"volume\": 11882536, \"close\": 22.549999237060547, \"open\": 22.600000381469727, \"low\": 22.549999237060547, \"adjclose\": 22.549999237060547, \"dividends\": 0.6}, {\"symbol\": \"WBC.AX\", \"date\": \"2021-11-08T00:00:00\", \"high\": 22.969999313354492, \"volume\": 8243874, \"close\": 22.84000015258789, \"open\": 22.709999084472656, \"low\": 22.649999618530273, \"adjclose\": 22.84000015258789, \"dividends\": 0.0}, {\"symbol\": \"WBC.AX\", \"date\": \"2021-11-09T00:00:00\", \"high\": 22.940000534057617, \"volume\": 9292162, \"close\": 22.520000457763672, \"open\": 22.829999923706055, \"low\": 22.520000457763672, \"adjclose\": 22.520000457763672, \"dividends\": 0.0}, {\"symbol\": \"WBC.AX\", \"date\": \"2021-11-10T00:00:00\", \"high\": 23.020000457763672, \"volume\": 10203425, \"close\": 22.709999084472656, \"open\": 22.600000381469727, \"low\": 22.559999465942383, \"adjclose\": 22.709999084472656, \"dividends\": 0.0}, {\"symbol\": \"WBC.AX\", \"date\": \"2021-11-11T00:00:00\", \"high\": 22.979999542236328, \"volume\": 7779728, \"close\": 22.68000030517578, \"open\": 22.959999084472656, \"low\": 22.59000015258789, \"adjclose\": 22.68000030517578, \"dividends\": 0.0}, {\"symbol\": \"WBC.AX\", \"date\": \"2021-11-12T00:00:00\", \"high\": 22.8799991607666, \"volume\": 7057740, \"close\": 22.690000534057617, \"open\": 22.81999969482422, \"low\": 22.690000534057617, \"adjclose\": 22.690000534057617, \"dividends\": 0.0}, {\"symbol\": \"WBC.AX\", \"date\": \"2021-11-15T00:00:00\", \"high\": 22.90999984741211, \"volume\": 6268187, \"close\": 22.829999923706055, \"open\": 22.719999313354492, \"low\": 22.709999084472656, \"adjclose\": 22.829999923706055, \"dividends\": 0.0}, {\"symbol\": \"WBC.AX\", \"date\": \"2021-11-16T00:00:00\", \"high\": 22.950000762939453, \"volume\": 7676007, \"close\": 22.75, \"open\": 22.81999969482422, \"low\": 22.719999313354492, \"adjclose\": 22.75, \"dividends\": 0.0}, {\"symbol\": \"WBC.AX\", \"date\": \"2021-11-17T00:00:00\", \"high\": 22.75, \"volume\": 15750370, \"close\": 22.3700008392334, \"open\": 22.75, \"low\": 22.31999969482422, \"adjclose\": 22.3700008392334, \"dividends\": 0.0}, {\"symbol\": \"WBC.AX\", \"date\": \"2021-11-18T00:00:00\", \"high\": 22.360000610351562, \"volume\": 7812318, \"close\": 22.149999618530273, \"open\": 22.299999237060547, \"low\": 22.149999618530273, \"adjclose\": 22.149999618530273, \"dividends\": 0.0}, {\"symbol\": \"WBC.AX\", \"date\": \"2021-11-19T00:00:00\", \"high\": 22.420000076293945, \"volume\": 7130173, \"close\": 22.139999389648438, \"open\": 22.209999084472656, \"low\": 22.06999969482422, \"adjclose\": 22.139999389648438, \"dividends\": 0.0}, {\"symbol\": \"WBC.AX\", \"date\": \"2021-11-22T00:00:00\", \"high\": 22.100000381469727, \"volume\": 11659056, \"close\": 21.68000030517578, \"open\": 22.059999465942383, \"low\": 21.6299991607666, \"adjclose\": 21.68000030517578, \"dividends\": 0.0}, {\"symbol\": \"WBC.AX\", \"date\": \"2021-11-23T00:00:00\", \"high\": 22.079999923706055, \"volume\": 8913273, \"close\": 21.809999465942383, \"open\": 22.0, \"low\": 21.780000686645508, \"adjclose\": 21.809999465942383, \"dividends\": 0.0}, {\"symbol\": \"WBC.AX\", \"date\": \"2021-11-24T00:00:00\", \"high\": 21.969999313354492, \"volume\": 9138671, \"close\": 21.799999237060547, \"open\": 21.959999084472656, \"low\": 21.760000228881836, \"adjclose\": 21.799999237060547, \"dividends\": 0.0}, {\"symbol\": \"WBC.AX\", \"date\": \"2021-11-25T00:00:00\", \"high\": 21.75, \"volume\": 5572556, \"close\": 21.6299991607666, \"open\": 21.729999542236328, \"low\": 21.610000610351562, \"adjclose\": 21.6299991607666, \"dividends\": 0.0}, {\"symbol\": \"WBC.AX\", \"date\": \"2021-11-26T00:00:00\", \"high\": 21.729999542236328, \"volume\": 12599479, \"close\": 21.079999923706055, \"open\": 21.670000076293945, \"low\": 21.030000686645508, \"adjclose\": 21.079999923706055, \"dividends\": 0.0}, {\"symbol\": \"WBC.AX\", \"date\": \"2021-11-29T00:00:00\", \"high\": 21.049999237060547, \"volume\": 10422024, \"close\": 20.920000076293945, \"open\": 20.739999771118164, \"low\": 20.709999084472656, \"adjclose\": 20.920000076293945, \"dividends\": 0.0}, {\"symbol\": \"WBC.AX\", \"date\": \"2021-11-30T00:00:00\", \"high\": 21.270000457763672, \"volume\": 19864589, \"close\": 20.520000457763672, \"open\": 21.149999618530273, \"low\": 20.520000457763672, \"adjclose\": 20.520000457763672, \"dividends\": 0.0}, {\"symbol\": \"WBC.AX\", \"date\": \"2021-12-01T00:00:00\", \"high\": 20.700000762939453, \"volume\": 11385217, \"close\": 20.6200008392334, \"open\": 20.5, \"low\": 20.420000076293945, \"adjclose\": 20.6200008392334, \"dividends\": 0.0}, {\"symbol\": \"WBC.AX\", \"date\": \"2021-12-02T00:00:00\", \"high\": 20.709999084472656, \"volume\": 12803060, \"close\": 20.459999084472656, \"open\": 20.5, \"low\": 20.3700008392334, \"adjclose\": 20.459999084472656, \"dividends\": 0.0}, {\"symbol\": \"WBC.AX\", \"date\": \"2021-12-03T00:00:00\", \"high\": 20.780000686645508, \"volume\": 10581813, \"close\": 20.700000762939453, \"open\": 20.649999618530273, \"low\": 20.469999313354492, \"adjclose\": 20.700000762939453, \"dividends\": 0.0}, {\"symbol\": \"WBC.AX\", \"date\": \"2021-12-06T00:00:00\", \"high\": 20.780000686645508, \"volume\": 6657880, \"close\": 20.719999313354492, \"open\": 20.709999084472656, \"low\": 20.549999237060547, \"adjclose\": 20.719999313354492, \"dividends\": 0.0}, {\"symbol\": \"WBC.AX\", \"date\": \"2021-12-07T00:00:00\", \"high\": 21.049999237060547, \"volume\": 6453719, \"close\": 20.950000762939453, \"open\": 21.0, \"low\": 20.780000686645508, \"adjclose\": 20.950000762939453, \"dividends\": 0.0}, {\"symbol\": \"WBC.AX\", \"date\": \"2021-12-08T00:00:00\", \"high\": 21.239999771118164, \"volume\": 8488954, \"close\": 21.06999969482422, \"open\": 21.100000381469727, \"low\": 20.860000610351562, \"adjclose\": 21.06999969482422, \"dividends\": 0.0}, {\"symbol\": \"WBC.AX\", \"date\": \"2021-12-09T00:00:00\", \"high\": 21.18000030517578, \"volume\": 6565445, \"close\": 21.020000457763672, \"open\": 21.06999969482422, \"low\": 20.989999771118164, \"adjclose\": 21.020000457763672, \"dividends\": 0.0}, {\"symbol\": \"WBC.AX\", \"date\": \"2021-12-10T00:00:00\", \"high\": 21.079999923706055, \"volume\": 8105983, \"close\": 20.850000381469727, \"open\": 21.0, \"low\": 20.799999237060547, \"adjclose\": 20.850000381469727, \"dividends\": 0.0}, {\"symbol\": \"WBC.AX\", \"date\": \"2021-12-13T00:00:00\", \"high\": 20.979999542236328, \"volume\": 8019729, \"close\": 20.81999969482422, \"open\": 20.940000534057617, \"low\": 20.81999969482422, \"adjclose\": 20.81999969482422, \"dividends\": 0.0}, {\"symbol\": \"WBC.AX\", \"date\": \"2021-12-14T00:00:00\", \"high\": 20.979999542236328, \"volume\": 4769916, \"close\": 20.93000030517578, \"open\": 20.75, \"low\": 20.729999542236328, \"adjclose\": 20.93000030517578, \"dividends\": 0.0}, {\"symbol\": \"WBC.AX\", \"date\": \"2021-12-15T00:00:00\", \"high\": 21.139999389648438, \"volume\": 5855415, \"close\": 20.989999771118164, \"open\": 21.0, \"low\": 20.940000534057617, \"adjclose\": 20.989999771118164, \"dividends\": 0.0}, {\"symbol\": \"WBC.AX\", \"date\": \"2021-12-16T00:00:00\", \"high\": 21.059999465942383, \"volume\": 12170423, \"close\": 20.959999084472656, \"open\": 20.940000534057617, \"low\": 20.764999389648438, \"adjclose\": 20.959999084472656, \"dividends\": 0.0}, {\"symbol\": \"WBC.AX\", \"date\": \"2021-12-17T00:00:00\", \"high\": 21.360000610351562, \"volume\": 18752577, \"close\": 21.030000686645508, \"open\": 21.149999618530273, \"low\": 21.030000686645508, \"adjclose\": 21.030000686645508, \"dividends\": 0.0}, {\"symbol\": \"WBC.AX\", \"date\": \"2021-12-20T00:00:00\", \"high\": 21.040000915527344, \"volume\": 5516218, \"close\": 21.010000228881836, \"open\": 20.979999542236328, \"low\": 20.729999542236328, \"adjclose\": 21.010000228881836, \"dividends\": 0.0}, {\"symbol\": \"WBC.AX\", \"date\": \"2021-12-21T00:00:00\", \"high\": 21.190000534057617, \"volume\": 4353612, \"close\": 21.049999237060547, \"open\": 21.049999237060547, \"low\": 21.0, \"adjclose\": 21.049999237060547, \"dividends\": 0.0}, {\"symbol\": \"WBC.AX\", \"date\": \"2021-12-22T00:00:00\", \"high\": 21.149999618530273, \"volume\": 4944213, \"close\": 21.06999969482422, \"open\": 21.1299991607666, \"low\": 20.93000030517578, \"adjclose\": 21.06999969482422, \"dividends\": 0.0}, {\"symbol\": \"WBC.AX\", \"date\": \"2021-12-23T00:00:00\", \"high\": 21.18000030517578, \"volume\": 4359824, \"close\": 21.18000030517578, \"open\": 21.1299991607666, \"low\": 21.040000915527344, \"adjclose\": 21.18000030517578, \"dividends\": 0.0}, {\"symbol\": \"WBC.AX\", \"date\": \"2021-12-24T00:00:00\", \"high\": 21.450000762939453, \"volume\": 3039364, \"close\": 21.200000762939453, \"open\": 21.260000228881836, \"low\": 21.200000762939453, \"adjclose\": 21.200000762939453, \"dividends\": 0.0}, {\"symbol\": \"WBC.AX\", \"date\": \"2021-12-29T00:00:00\", \"high\": 21.649999618530273, \"volume\": 9676188, \"close\": 21.459999084472656, \"open\": 21.450000762939453, \"low\": 21.399999618530273, \"adjclose\": 21.459999084472656, \"dividends\": 0.0}, {\"symbol\": \"WBC.AX\", \"date\": \"2021-12-30T00:00:00\", \"high\": 21.600000381469727, \"volume\": 4635337, \"close\": 21.5, \"open\": 21.510000228881836, \"low\": 21.479999542236328, \"adjclose\": 21.5, \"dividends\": 0.0}, {\"symbol\": \"WBC.AX\", \"date\": \"2021-12-31T00:00:00\", \"high\": 21.530000686645508, \"volume\": 3046280, \"close\": 21.350000381469727, \"open\": 21.5, \"low\": 21.31999969482422, \"adjclose\": 21.350000381469727, \"dividends\": 0.0}]}}, {\"mode\": \"vega-lite\"});\n",
              "</script>"
            ],
            "text/plain": [
              "alt.Chart(...)"
            ]
          },
          "execution_count": 61,
          "metadata": {},
          "output_type": "execute_result"
        }
      ],
      "source": [
        "c"
      ]
    },
    {
      "cell_type": "code",
      "execution_count": null,
      "metadata": {
        "id": "KuMW0vI5i-Qo"
      },
      "outputs": [],
      "source": []
    },
    {
      "cell_type": "code",
      "execution_count": null,
      "metadata": {
        "id": "4OaTkv8NkSZ2"
      },
      "outputs": [],
      "source": [
        "# Open\tHigh\tLow\tClose\tVolume"
      ]
    },
    {
      "cell_type": "code",
      "execution_count": null,
      "metadata": {
        "id": "0WpHLPOYkVza"
      },
      "outputs": [],
      "source": [
        "chart_data_df.set_index('date', inplace=True)"
      ]
    },
    {
      "cell_type": "code",
      "execution_count": null,
      "metadata": {
        "colab": {
          "base_uri": "https://localhost:8080/",
          "height": 197
        },
        "id": "R3OS1MyzkyK1",
        "outputId": "dcf13e93-cb55-4ef0-a2dd-962f3e4f5905"
      },
      "outputs": [
        {
          "data": {
            "application/vnd.google.colaboratory.module+javascript": "\n      import \"https://ssl.gstatic.com/colaboratory/data_table/a6224c040fa35dcf/data_table.js\";\n\n      window.createDataTable({\n        data: [[\"2021-01-04 00:00:00\",\n\"WBC.AX\",\n{\n            'v': 19.670000076293945,\n            'f': \"19.670000076293945\",\n        },\n{\n            'v': 4044153,\n            'f': \"4044153\",\n        },\n{\n            'v': 19.6299991607666,\n            'f': \"19.6299991607666\",\n        },\n{\n            'v': 19.459999084472656,\n            'f': \"19.459999084472656\",\n        },\n{\n            'v': 19.424999237060547,\n            'f': \"19.424999237060547\",\n        },\n{\n            'v': 18.691944122314453,\n            'f': \"18.691944122314453\",\n        },\n{\n            'v': 0.0,\n            'f': \"0.0\",\n        }],\n [\"2021-01-05 00:00:00\",\n\"WBC.AX\",\n{\n            'v': 19.530000686645508,\n            'f': \"19.530000686645508\",\n        },\n{\n            'v': 4944351,\n            'f': \"4944351\",\n        },\n{\n            'v': 19.520000457763672,\n            'f': \"19.520000457763672\",\n        },\n{\n            'v': 19.469999313354492,\n            'f': \"19.469999313354492\",\n        },\n{\n            'v': 19.3799991607666,\n            'f': \"19.3799991607666\",\n        },\n{\n            'v': 18.587202072143555,\n            'f': \"18.587202072143555\",\n        },\n{\n            'v': 0.0,\n            'f': \"0.0\",\n        }],\n [\"2021-01-06 00:00:00\",\n\"WBC.AX\",\n{\n            'v': 19.5,\n            'f': \"19.5\",\n        },\n{\n            'v': 7063517,\n            'f': \"7063517\",\n        },\n{\n            'v': 19.3700008392334,\n            'f': \"19.3700008392334\",\n        },\n{\n            'v': 19.450000762939453,\n            'f': \"19.450000762939453\",\n        },\n{\n            'v': 19.229999542236328,\n            'f': \"19.229999542236328\",\n        },\n{\n            'v': 18.444372177124023,\n            'f': \"18.444372177124023\",\n        },\n{\n            'v': 0.0,\n            'f': \"0.0\",\n        }],\n [\"2021-01-07 00:00:00\",\n\"WBC.AX\",\n{\n            'v': 20.34000015258789,\n            'f': \"20.34000015258789\",\n        },\n{\n            'v': 14348410,\n            'f': \"14348410\",\n        },\n{\n            'v': 19.989999771118164,\n            'f': \"19.989999771118164\",\n        },\n{\n            'v': 19.799999237060547,\n            'f': \"19.799999237060547\",\n        },\n{\n            'v': 19.780000686645508,\n            'f': \"19.780000686645508\",\n        },\n{\n            'v': 19.03474235534668,\n            'f': \"19.03474235534668\",\n        },\n{\n            'v': 0.0,\n            'f': \"0.0\",\n        }],\n [\"2021-01-08 00:00:00\",\n\"WBC.AX\",\n{\n            'v': 20.280000686645508,\n            'f': \"20.280000686645508\",\n        },\n{\n            'v': 7716248,\n            'f': \"7716248\",\n        },\n{\n            'v': 20.280000686645508,\n            'f': \"20.280000686645508\",\n        },\n{\n            'v': 20.110000610351562,\n            'f': \"20.110000610351562\",\n        },\n{\n            'v': 20.020000457763672,\n            'f': \"20.020000457763672\",\n        },\n{\n            'v': 19.310884475708008,\n            'f': \"19.310884475708008\",\n        },\n{\n            'v': 0.0,\n            'f': \"0.0\",\n        }]],\n        columns: [[\"string\", \"date\"], [\"string\", \"symbol\"], [\"number\", \"high\"], [\"number\", \"volume\"], [\"number\", \"close\"], [\"number\", \"open\"], [\"number\", \"low\"], [\"number\", \"adjclose\"], [\"number\", \"dividends\"]],\n        columnOptions: [{\"width\": \"1px\", \"className\": \"index_column\"}],\n        rowsPerPage: 25,\n        helpUrl: \"https://colab.research.google.com/notebooks/data_table.ipynb\",\n        suppressOutputScrolling: true,\n        minimumWidth: undefined,\n      });\n    ",
            "text/html": [
              "\n",
              "  <div id=\"df-0cf4fddc-758c-44d3-b006-35262dcbe1a1\">\n",
              "    <div class=\"colab-df-container\">\n",
              "      <div>\n",
              "<style scoped>\n",
              "    .dataframe tbody tr th:only-of-type {\n",
              "        vertical-align: middle;\n",
              "    }\n",
              "\n",
              "    .dataframe tbody tr th {\n",
              "        vertical-align: top;\n",
              "    }\n",
              "\n",
              "    .dataframe thead th {\n",
              "        text-align: right;\n",
              "    }\n",
              "</style>\n",
              "<table border=\"1\" class=\"dataframe\">\n",
              "  <thead>\n",
              "    <tr style=\"text-align: right;\">\n",
              "      <th></th>\n",
              "      <th>symbol</th>\n",
              "      <th>high</th>\n",
              "      <th>volume</th>\n",
              "      <th>close</th>\n",
              "      <th>open</th>\n",
              "      <th>low</th>\n",
              "      <th>adjclose</th>\n",
              "      <th>dividends</th>\n",
              "    </tr>\n",
              "    <tr>\n",
              "      <th>date</th>\n",
              "      <th></th>\n",
              "      <th></th>\n",
              "      <th></th>\n",
              "      <th></th>\n",
              "      <th></th>\n",
              "      <th></th>\n",
              "      <th></th>\n",
              "      <th></th>\n",
              "    </tr>\n",
              "  </thead>\n",
              "  <tbody>\n",
              "    <tr>\n",
              "      <th>2021-01-04</th>\n",
              "      <td>WBC.AX</td>\n",
              "      <td>19.670000</td>\n",
              "      <td>4044153</td>\n",
              "      <td>19.629999</td>\n",
              "      <td>19.459999</td>\n",
              "      <td>19.424999</td>\n",
              "      <td>18.691944</td>\n",
              "      <td>0.0</td>\n",
              "    </tr>\n",
              "    <tr>\n",
              "      <th>2021-01-05</th>\n",
              "      <td>WBC.AX</td>\n",
              "      <td>19.530001</td>\n",
              "      <td>4944351</td>\n",
              "      <td>19.520000</td>\n",
              "      <td>19.469999</td>\n",
              "      <td>19.379999</td>\n",
              "      <td>18.587202</td>\n",
              "      <td>0.0</td>\n",
              "    </tr>\n",
              "    <tr>\n",
              "      <th>2021-01-06</th>\n",
              "      <td>WBC.AX</td>\n",
              "      <td>19.500000</td>\n",
              "      <td>7063517</td>\n",
              "      <td>19.370001</td>\n",
              "      <td>19.450001</td>\n",
              "      <td>19.230000</td>\n",
              "      <td>18.444372</td>\n",
              "      <td>0.0</td>\n",
              "    </tr>\n",
              "    <tr>\n",
              "      <th>2021-01-07</th>\n",
              "      <td>WBC.AX</td>\n",
              "      <td>20.340000</td>\n",
              "      <td>14348410</td>\n",
              "      <td>19.990000</td>\n",
              "      <td>19.799999</td>\n",
              "      <td>19.780001</td>\n",
              "      <td>19.034742</td>\n",
              "      <td>0.0</td>\n",
              "    </tr>\n",
              "    <tr>\n",
              "      <th>2021-01-08</th>\n",
              "      <td>WBC.AX</td>\n",
              "      <td>20.280001</td>\n",
              "      <td>7716248</td>\n",
              "      <td>20.280001</td>\n",
              "      <td>20.110001</td>\n",
              "      <td>20.020000</td>\n",
              "      <td>19.310884</td>\n",
              "      <td>0.0</td>\n",
              "    </tr>\n",
              "  </tbody>\n",
              "</table>\n",
              "</div>\n",
              "      <button class=\"colab-df-convert\" onclick=\"convertToInteractive('df-0cf4fddc-758c-44d3-b006-35262dcbe1a1')\"\n",
              "              title=\"Convert this dataframe to an interactive table.\"\n",
              "              style=\"display:none;\">\n",
              "        \n",
              "  <svg xmlns=\"http://www.w3.org/2000/svg\" height=\"24px\"viewBox=\"0 0 24 24\"\n",
              "       width=\"24px\">\n",
              "    <path d=\"M0 0h24v24H0V0z\" fill=\"none\"/>\n",
              "    <path d=\"M18.56 5.44l.94 2.06.94-2.06 2.06-.94-2.06-.94-.94-2.06-.94 2.06-2.06.94zm-11 1L8.5 8.5l.94-2.06 2.06-.94-2.06-.94L8.5 2.5l-.94 2.06-2.06.94zm10 10l.94 2.06.94-2.06 2.06-.94-2.06-.94-.94-2.06-.94 2.06-2.06.94z\"/><path d=\"M17.41 7.96l-1.37-1.37c-.4-.4-.92-.59-1.43-.59-.52 0-1.04.2-1.43.59L10.3 9.45l-7.72 7.72c-.78.78-.78 2.05 0 2.83L4 21.41c.39.39.9.59 1.41.59.51 0 1.02-.2 1.41-.59l7.78-7.78 2.81-2.81c.8-.78.8-2.07 0-2.86zM5.41 20L4 18.59l7.72-7.72 1.47 1.35L5.41 20z\"/>\n",
              "  </svg>\n",
              "      </button>\n",
              "      \n",
              "  <style>\n",
              "    .colab-df-container {\n",
              "      display:flex;\n",
              "      flex-wrap:wrap;\n",
              "      gap: 12px;\n",
              "    }\n",
              "\n",
              "    .colab-df-convert {\n",
              "      background-color: #E8F0FE;\n",
              "      border: none;\n",
              "      border-radius: 50%;\n",
              "      cursor: pointer;\n",
              "      display: none;\n",
              "      fill: #1967D2;\n",
              "      height: 32px;\n",
              "      padding: 0 0 0 0;\n",
              "      width: 32px;\n",
              "    }\n",
              "\n",
              "    .colab-df-convert:hover {\n",
              "      background-color: #E2EBFA;\n",
              "      box-shadow: 0px 1px 2px rgba(60, 64, 67, 0.3), 0px 1px 3px 1px rgba(60, 64, 67, 0.15);\n",
              "      fill: #174EA6;\n",
              "    }\n",
              "\n",
              "    [theme=dark] .colab-df-convert {\n",
              "      background-color: #3B4455;\n",
              "      fill: #D2E3FC;\n",
              "    }\n",
              "\n",
              "    [theme=dark] .colab-df-convert:hover {\n",
              "      background-color: #434B5C;\n",
              "      box-shadow: 0px 1px 3px 1px rgba(0, 0, 0, 0.15);\n",
              "      filter: drop-shadow(0px 1px 2px rgba(0, 0, 0, 0.3));\n",
              "      fill: #FFFFFF;\n",
              "    }\n",
              "  </style>\n",
              "\n",
              "      <script>\n",
              "        const buttonEl =\n",
              "          document.querySelector('#df-0cf4fddc-758c-44d3-b006-35262dcbe1a1 button.colab-df-convert');\n",
              "        buttonEl.style.display =\n",
              "          google.colab.kernel.accessAllowed ? 'block' : 'none';\n",
              "\n",
              "        async function convertToInteractive(key) {\n",
              "          const element = document.querySelector('#df-0cf4fddc-758c-44d3-b006-35262dcbe1a1');\n",
              "          const dataTable =\n",
              "            await google.colab.kernel.invokeFunction('convertToInteractive',\n",
              "                                                     [key], {});\n",
              "          if (!dataTable) return;\n",
              "\n",
              "          const docLinkHtml = 'Like what you see? Visit the ' +\n",
              "            '<a target=\"_blank\" href=https://colab.research.google.com/notebooks/data_table.ipynb>data table notebook</a>'\n",
              "            + ' to learn more about interactive tables.';\n",
              "          element.innerHTML = '';\n",
              "          dataTable['output_type'] = 'display_data';\n",
              "          await google.colab.output.renderOutput(dataTable, element);\n",
              "          const docLink = document.createElement('div');\n",
              "          docLink.innerHTML = docLinkHtml;\n",
              "          element.appendChild(docLink);\n",
              "        }\n",
              "      </script>\n",
              "    </div>\n",
              "  </div>\n",
              "  "
            ],
            "text/plain": [
              "            symbol       high    volume  ...        low   adjclose  dividends\n",
              "date                                     ...                                 \n",
              "2021-01-04  WBC.AX  19.670000   4044153  ...  19.424999  18.691944        0.0\n",
              "2021-01-05  WBC.AX  19.530001   4944351  ...  19.379999  18.587202        0.0\n",
              "2021-01-06  WBC.AX  19.500000   7063517  ...  19.230000  18.444372        0.0\n",
              "2021-01-07  WBC.AX  20.340000  14348410  ...  19.780001  19.034742        0.0\n",
              "2021-01-08  WBC.AX  20.280001   7716248  ...  20.020000  19.310884        0.0\n",
              "\n",
              "[5 rows x 8 columns]"
            ]
          },
          "execution_count": 64,
          "metadata": {},
          "output_type": "execute_result"
        }
      ],
      "source": [
        "chart_data_df.head()"
      ]
    },
    {
      "cell_type": "code",
      "execution_count": null,
      "metadata": {
        "colab": {
          "base_uri": "https://localhost:8080/",
          "height": 523
        },
        "id": "2Fs8YuDylFoh",
        "outputId": "f4b8c1b5-c58f-453a-9bfe-f2c95bd4fab1"
      },
      "outputs": [
        {
          "data": {
            "image/png": "[encoded data removed]",
            "text/plain": [
              "<Figure size 800x575 with 4 Axes>"
            ]
          },
          "metadata": {},
          "output_type": "display_data"
        }
      ],
      "source": [
        "mpf.plot(chart_data_df, type='line', volume=True, show_nontrading=True, datetime_format='%d-%b-%Y')"
      ]
    },
    {
      "cell_type": "code",
      "execution_count": null,
      "metadata": {
        "id": "LQoLJ1pxoocd"
      },
      "outputs": [],
      "source": []
    },
    {
      "cell_type": "code",
      "execution_count": null,
      "metadata": {
        "id": "snFmFIgjn7sI"
      },
      "outputs": [],
      "source": []
    }
  ],
  "metadata": {
    "colab": {
      "authorship_tag": "ABX9TyP96LtHbiLjF2GYVWKlaSJV",
      "collapsed_sections": [],
      "include_colab_link": true,
      "mount_file_id": "1OtqjqCJWWHf8uhHlyZiD6o6TQI_z3lSn",
      "name": "ASX_SharePriceViewer.ipynb",
      "provenance": []
    },
    "kernelspec": {
      "display_name": "Python 3.9.12 ('.venv': venv)",
      "language": "python",
      "name": "python3"
    },
    "language_info": {
      "codemirror_mode": {
        "name": "ipython",
        "version": 3
      },
      "file_extension": ".py",
      "mimetype": "text/x-python",
      "name": "python",
      "nbconvert_exporter": "python",
      "pygments_lexer": "ipython3",
      "version": "3.9.12"
    },
    "vscode": {
      "interpreter": {
        "hash": "c06b2615d68dcf253562619b30951ab4aa787b184aa9bb5599a714720e4adb31"
      }
    }
  },
  "nbformat": 4,
  "nbformat_minor": 0
}
